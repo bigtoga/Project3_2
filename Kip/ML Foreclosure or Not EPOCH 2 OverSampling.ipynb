{
 "cells": [
  {
   "cell_type": "markdown",
   "metadata": {},
   "source": [
    "# ML Foreclosure Binary Classification - EPOCH 2 data\n",
    "\n",
    "    target = zeroBalCode (set to object dtype) \n",
    "    Binary classification sets zeroBalCode to either \"0\" or \"1\" for the 7 possible outcomes\n",
    "    \n",
    "    \"0\" = \"Loan Success\"\n",
    "        * 01 = Prepaid or Matured\n",
    "\n",
    "    \"1\" =  \"Loan Failure\" - Most likely loss of money (but not necessarily) one of below conditions:\n",
    "        * 02 = Third Party Sale\n",
    "        * 03 = Short Sale\n",
    "        * 06 = Repurchased\n",
    "        * 09 = Deed-in-Lieu,REO\n",
    "        * 15 = Note Sale\n",
    "        * 16 = Reperforming Loan Sale"
   ]
  },
  {
   "cell_type": "code",
   "execution_count": 1,
   "metadata": {
    "_cell_guid": "79c7e3d0-c299-4dcb-8224-4455121ee9b0",
    "_kg_hide-output": true,
    "_uuid": "d629ff2d2480ee46fbb7e2d37f6b5fab8052498a"
   },
   "outputs": [
    {
     "name": "stderr",
     "output_type": "stream",
     "text": [
      "Using TensorFlow backend.\n"
     ]
    }
   ],
   "source": [
    "import pandas as pd\n",
    "import numpy as np\n",
    "import matplotlib.pyplot as plt\n",
    "#!pip install pycaret\n",
    "from imblearn.over_sampling import RandomOverSampler\n",
    "from pycaret.classification import *\n",
    "#from pycaret.regression import *"
   ]
  },
  {
   "cell_type": "markdown",
   "metadata": {},
   "source": [
    "# Importing the data - only use *.ML.csv files!!!\n",
    "If you have *.MLReady.csv then [click here](#MLReady)"
   ]
  },
  {
   "cell_type": "code",
   "execution_count": 32,
   "metadata": {
    "scrolled": true
   },
   "outputs": [
    {
     "data": {
      "text/html": [
       "<div>\n",
       "<style scoped>\n",
       "    .dataframe tbody tr th:only-of-type {\n",
       "        vertical-align: middle;\n",
       "    }\n",
       "\n",
       "    .dataframe tbody tr th {\n",
       "        vertical-align: top;\n",
       "    }\n",
       "\n",
       "    .dataframe thead th {\n",
       "        text-align: right;\n",
       "    }\n",
       "</style>\n",
       "<table border=\"1\" class=\"dataframe\">\n",
       "  <thead>\n",
       "    <tr style=\"text-align: right;\">\n",
       "      <th></th>\n",
       "      <th>Unnamed: 0</th>\n",
       "      <th>Unnamed: 0.1</th>\n",
       "      <th>id</th>\n",
       "      <th>origChannel</th>\n",
       "      <th>origIntRate</th>\n",
       "      <th>origUPB</th>\n",
       "      <th>origDate</th>\n",
       "      <th>firstPmtDate</th>\n",
       "      <th>origLTV</th>\n",
       "      <th>numBorrowers</th>\n",
       "      <th>...</th>\n",
       "      <th>fmacRateMin</th>\n",
       "      <th>fmacRateAvg</th>\n",
       "      <th>fmacRateVolatility</th>\n",
       "      <th>fredRate</th>\n",
       "      <th>rateDiffAbove</th>\n",
       "      <th>rateDiffBelow</th>\n",
       "      <th>rateDiffAvg</th>\n",
       "      <th>rateDiffAbovePct</th>\n",
       "      <th>rateDiffBelowPct</th>\n",
       "      <th>rateDiffAvgPct</th>\n",
       "    </tr>\n",
       "  </thead>\n",
       "  <tbody>\n",
       "    <tr>\n",
       "      <th>0</th>\n",
       "      <td>1133339</td>\n",
       "      <td>1133339</td>\n",
       "      <td>100209956357</td>\n",
       "      <td>2</td>\n",
       "      <td>5.125</td>\n",
       "      <td>348000</td>\n",
       "      <td>2009-02-01</td>\n",
       "      <td>2009-04-01</td>\n",
       "      <td>87.0</td>\n",
       "      <td>1.0</td>\n",
       "      <td>...</td>\n",
       "      <td>5.04</td>\n",
       "      <td>5.13</td>\n",
       "      <td>0.041667</td>\n",
       "      <td>2.87</td>\n",
       "      <td>-0.125</td>\n",
       "      <td>-0.085</td>\n",
       "      <td>-0.005</td>\n",
       "      <td>-0.023810</td>\n",
       "      <td>-0.016865</td>\n",
       "      <td>-0.000975</td>\n",
       "    </tr>\n",
       "    <tr>\n",
       "      <th>1</th>\n",
       "      <td>1133340</td>\n",
       "      <td>1133340</td>\n",
       "      <td>100392775700</td>\n",
       "      <td>3</td>\n",
       "      <td>4.625</td>\n",
       "      <td>195000</td>\n",
       "      <td>2009-02-01</td>\n",
       "      <td>2009-04-01</td>\n",
       "      <td>52.0</td>\n",
       "      <td>2.0</td>\n",
       "      <td>...</td>\n",
       "      <td>5.04</td>\n",
       "      <td>5.13</td>\n",
       "      <td>0.041667</td>\n",
       "      <td>2.87</td>\n",
       "      <td>-0.625</td>\n",
       "      <td>0.415</td>\n",
       "      <td>-0.505</td>\n",
       "      <td>-0.119048</td>\n",
       "      <td>0.082341</td>\n",
       "      <td>-0.098441</td>\n",
       "    </tr>\n",
       "    <tr>\n",
       "      <th>2</th>\n",
       "      <td>1133341</td>\n",
       "      <td>1133341</td>\n",
       "      <td>100621428854</td>\n",
       "      <td>2</td>\n",
       "      <td>4.875</td>\n",
       "      <td>342000</td>\n",
       "      <td>2009-02-01</td>\n",
       "      <td>2009-04-01</td>\n",
       "      <td>80.0</td>\n",
       "      <td>1.0</td>\n",
       "      <td>...</td>\n",
       "      <td>5.04</td>\n",
       "      <td>5.13</td>\n",
       "      <td>0.041667</td>\n",
       "      <td>2.87</td>\n",
       "      <td>-0.375</td>\n",
       "      <td>0.165</td>\n",
       "      <td>-0.255</td>\n",
       "      <td>-0.071429</td>\n",
       "      <td>0.032738</td>\n",
       "      <td>-0.049708</td>\n",
       "    </tr>\n",
       "    <tr>\n",
       "      <th>3</th>\n",
       "      <td>1133342</td>\n",
       "      <td>1133342</td>\n",
       "      <td>100720959726</td>\n",
       "      <td>1</td>\n",
       "      <td>5.375</td>\n",
       "      <td>93000</td>\n",
       "      <td>2009-02-01</td>\n",
       "      <td>2009-05-01</td>\n",
       "      <td>70.0</td>\n",
       "      <td>1.0</td>\n",
       "      <td>...</td>\n",
       "      <td>5.04</td>\n",
       "      <td>5.13</td>\n",
       "      <td>0.041667</td>\n",
       "      <td>2.87</td>\n",
       "      <td>0.125</td>\n",
       "      <td>-0.335</td>\n",
       "      <td>0.245</td>\n",
       "      <td>0.023810</td>\n",
       "      <td>-0.066468</td>\n",
       "      <td>0.047758</td>\n",
       "    </tr>\n",
       "    <tr>\n",
       "      <th>4</th>\n",
       "      <td>1133343</td>\n",
       "      <td>1133343</td>\n",
       "      <td>100783704799</td>\n",
       "      <td>1</td>\n",
       "      <td>4.875</td>\n",
       "      <td>182000</td>\n",
       "      <td>2009-02-01</td>\n",
       "      <td>2009-04-01</td>\n",
       "      <td>76.0</td>\n",
       "      <td>2.0</td>\n",
       "      <td>...</td>\n",
       "      <td>5.04</td>\n",
       "      <td>5.13</td>\n",
       "      <td>0.041667</td>\n",
       "      <td>2.87</td>\n",
       "      <td>-0.375</td>\n",
       "      <td>0.165</td>\n",
       "      <td>-0.255</td>\n",
       "      <td>-0.071429</td>\n",
       "      <td>0.032738</td>\n",
       "      <td>-0.049708</td>\n",
       "    </tr>\n",
       "  </tbody>\n",
       "</table>\n",
       "<p>5 rows × 60 columns</p>\n",
       "</div>"
      ],
      "text/plain": [
       "   Unnamed: 0  Unnamed: 0.1            id  origChannel  origIntRate  origUPB  \\\n",
       "0     1133339       1133339  100209956357            2        5.125   348000   \n",
       "1     1133340       1133340  100392775700            3        4.625   195000   \n",
       "2     1133341       1133341  100621428854            2        4.875   342000   \n",
       "3     1133342       1133342  100720959726            1        5.375    93000   \n",
       "4     1133343       1133343  100783704799            1        4.875   182000   \n",
       "\n",
       "     origDate firstPmtDate  origLTV  numBorrowers  ...  fmacRateMin  \\\n",
       "0  2009-02-01   2009-04-01     87.0           1.0  ...         5.04   \n",
       "1  2009-02-01   2009-04-01     52.0           2.0  ...         5.04   \n",
       "2  2009-02-01   2009-04-01     80.0           1.0  ...         5.04   \n",
       "3  2009-02-01   2009-05-01     70.0           1.0  ...         5.04   \n",
       "4  2009-02-01   2009-04-01     76.0           2.0  ...         5.04   \n",
       "\n",
       "   fmacRateAvg  fmacRateVolatility  fredRate  rateDiffAbove  rateDiffBelow  \\\n",
       "0         5.13            0.041667      2.87         -0.125         -0.085   \n",
       "1         5.13            0.041667      2.87         -0.625          0.415   \n",
       "2         5.13            0.041667      2.87         -0.375          0.165   \n",
       "3         5.13            0.041667      2.87          0.125         -0.335   \n",
       "4         5.13            0.041667      2.87         -0.375          0.165   \n",
       "\n",
       "   rateDiffAvg  rateDiffAbovePct  rateDiffBelowPct  rateDiffAvgPct  \n",
       "0       -0.005         -0.023810         -0.016865       -0.000975  \n",
       "1       -0.505         -0.119048          0.082341       -0.098441  \n",
       "2       -0.255         -0.071429          0.032738       -0.049708  \n",
       "3        0.245          0.023810         -0.066468        0.047758  \n",
       "4       -0.255         -0.071429          0.032738       -0.049708  \n",
       "\n",
       "[5 rows x 60 columns]"
      ]
     },
     "execution_count": 32,
     "metadata": {},
     "output_type": "execute_result"
    }
   ],
   "source": [
    "df=pd.read_csv(\"D:\\FM_Acq_Perf_FMAC_EPOCH2_ML.csv\")\n",
    "df.head()"
   ]
  },
  {
   "cell_type": "code",
   "execution_count": 33,
   "metadata": {},
   "outputs": [
    {
     "name": "stdout",
     "output_type": "stream",
     "text": [
      "<class 'pandas.core.frame.DataFrame'>\n",
      "RangeIndex: 119696 entries, 0 to 119695\n",
      "Data columns (total 60 columns):\n",
      "Unnamed: 0                    119696 non-null int64\n",
      "Unnamed: 0.1                  119696 non-null int64\n",
      "id                            119696 non-null int64\n",
      "origChannel                   119696 non-null int64\n",
      "origIntRate                   119696 non-null float64\n",
      "origUPB                       119696 non-null int64\n",
      "origDate                      119696 non-null object\n",
      "firstPmtDate                  119696 non-null object\n",
      "origLTV                       119696 non-null float64\n",
      "numBorrowers                  119696 non-null float64\n",
      "origDebtIncRatio              119696 non-null float64\n",
      "borrCreditScore               119696 non-null float64\n",
      "loanPurp                      119696 non-null int64\n",
      "zipCode                       119696 non-null int64\n",
      "pMIperct                      119696 non-null float64\n",
      "mortInsType                   119696 non-null float64\n",
      "bestCreditScore               119696 non-null float64\n",
      "worstCreditScore              119696 non-null float64\n",
      "avgCreditScore                119696 non-null float64\n",
      "bankNumber                    119696 non-null int64\n",
      "stateNumber                   119696 non-null int64\n",
      "rptPeriod                     119696 non-null object\n",
      "currIntRate                   119696 non-null float64\n",
      "currUPB                       119688 non-null float64\n",
      "loanAge                       119696 non-null int64\n",
      "monMatur                      119696 non-null float64\n",
      "mSA                           119696 non-null int64\n",
      "zeroBalCode                   119696 non-null float64\n",
      "zeroBalDate                   119696 non-null object\n",
      "lastPdInstDate                14004 non-null object\n",
      "forecloDate                   12695 non-null object\n",
      "dispDate                      13162 non-null object\n",
      "forecloCost                   13063 non-null float64\n",
      "propRepCost                   9985 non-null float64\n",
      "recovCosts                    6571 non-null float64\n",
      "miscCost                      11487 non-null float64\n",
      "holdTaxCost                   11086 non-null float64\n",
      "saleProceed                   12944 non-null float64\n",
      "credEnhProceed                1990 non-null float64\n",
      "repurchProceed                707 non-null float64\n",
      "otherForecloProceed           6709 non-null float64\n",
      "nonIntUPB                     1292 non-null float64\n",
      "prinForgivBal                 2 non-null float64\n",
      "repurchMakeWholeProceedFlg    119696 non-null int64\n",
      "forecloPrinWriteOffAmnt       1 non-null float64\n",
      "servActivIndicator            0 non-null float64\n",
      "deliqGood                     119696 non-null int64\n",
      "deliqBad                      119696 non-null int64\n",
      "deliqMax                      119696 non-null float64\n",
      "fmacRateMax                   119696 non-null float64\n",
      "fmacRateMin                   119696 non-null float64\n",
      "fmacRateAvg                   119696 non-null float64\n",
      "fmacRateVolatility            119696 non-null float64\n",
      "fredRate                      119696 non-null float64\n",
      "rateDiffAbove                 119696 non-null float64\n",
      "rateDiffBelow                 119696 non-null float64\n",
      "rateDiffAvg                   119696 non-null float64\n",
      "rateDiffAbovePct              119696 non-null float64\n",
      "rateDiffBelowPct              119696 non-null float64\n",
      "rateDiffAvgPct                119696 non-null float64\n",
      "dtypes: float64(39), int64(14), object(7)\n",
      "memory usage: 54.8+ MB\n"
     ]
    }
   ],
   "source": [
    "df.info()"
   ]
  },
  {
   "cell_type": "markdown",
   "metadata": {},
   "source": [
    "## Remove columns not involved in 'Foreclosure or Not' query"
   ]
  },
  {
   "cell_type": "code",
   "execution_count": 34,
   "metadata": {},
   "outputs": [],
   "source": [
    "df.drop(['Unnamed: 0','Unnamed: 0.1','id','firstPmtDate','rptPeriod','currIntRate','currUPB','loanAge','monMatur',\\\n",
    "         'zeroBalDate','lastPdInstDate','forecloDate','dispDate','forecloCost','propRepCost','recovCosts',\\\n",
    "         'miscCost','holdTaxCost','saleProceed','credEnhProceed','repurchProceed','otherForecloProceed',\\\n",
    "         'nonIntUPB','prinForgivBal','repurchMakeWholeProceedFlg','forecloPrinWriteOffAmnt','servActivIndicator',\\\n",
    "         'deliqGood','deliqBad','deliqMax'],1,inplace=True)"
   ]
  },
  {
   "cell_type": "code",
   "execution_count": 35,
   "metadata": {},
   "outputs": [
    {
     "name": "stdout",
     "output_type": "stream",
     "text": [
      "<class 'pandas.core.frame.DataFrame'>\n",
      "RangeIndex: 119696 entries, 0 to 119695\n",
      "Data columns (total 30 columns):\n",
      "origChannel           119696 non-null int64\n",
      "origIntRate           119696 non-null float64\n",
      "origUPB               119696 non-null int64\n",
      "origDate              119696 non-null object\n",
      "origLTV               119696 non-null float64\n",
      "numBorrowers          119696 non-null float64\n",
      "origDebtIncRatio      119696 non-null float64\n",
      "borrCreditScore       119696 non-null float64\n",
      "loanPurp              119696 non-null int64\n",
      "zipCode               119696 non-null int64\n",
      "pMIperct              119696 non-null float64\n",
      "mortInsType           119696 non-null float64\n",
      "bestCreditScore       119696 non-null float64\n",
      "worstCreditScore      119696 non-null float64\n",
      "avgCreditScore        119696 non-null float64\n",
      "bankNumber            119696 non-null int64\n",
      "stateNumber           119696 non-null int64\n",
      "mSA                   119696 non-null int64\n",
      "zeroBalCode           119696 non-null float64\n",
      "fmacRateMax           119696 non-null float64\n",
      "fmacRateMin           119696 non-null float64\n",
      "fmacRateAvg           119696 non-null float64\n",
      "fmacRateVolatility    119696 non-null float64\n",
      "fredRate              119696 non-null float64\n",
      "rateDiffAbove         119696 non-null float64\n",
      "rateDiffBelow         119696 non-null float64\n",
      "rateDiffAvg           119696 non-null float64\n",
      "rateDiffAbovePct      119696 non-null float64\n",
      "rateDiffBelowPct      119696 non-null float64\n",
      "rateDiffAvgPct        119696 non-null float64\n",
      "dtypes: float64(22), int64(7), object(1)\n",
      "memory usage: 27.4+ MB\n"
     ]
    }
   ],
   "source": [
    "df.info()"
   ]
  },
  {
   "cell_type": "markdown",
   "metadata": {},
   "source": [
    "## Engineer originDate into Date features"
   ]
  },
  {
   "cell_type": "code",
   "execution_count": 36,
   "metadata": {},
   "outputs": [],
   "source": [
    "df['origDate'] = pd.to_datetime(df['origDate'])"
   ]
  },
  {
   "cell_type": "code",
   "execution_count": 37,
   "metadata": {},
   "outputs": [],
   "source": [
    "df['origYear'] = df['origDate'].dt.year\n",
    "df['origMonth'] = df['origDate'].dt.month"
   ]
  },
  {
   "cell_type": "code",
   "execution_count": 38,
   "metadata": {},
   "outputs": [],
   "source": [
    "df.drop(['origDate'],1,inplace=True)"
   ]
  },
  {
   "cell_type": "code",
   "execution_count": 39,
   "metadata": {
    "scrolled": true
   },
   "outputs": [
    {
     "data": {
      "text/html": [
       "<div>\n",
       "<style scoped>\n",
       "    .dataframe tbody tr th:only-of-type {\n",
       "        vertical-align: middle;\n",
       "    }\n",
       "\n",
       "    .dataframe tbody tr th {\n",
       "        vertical-align: top;\n",
       "    }\n",
       "\n",
       "    .dataframe thead th {\n",
       "        text-align: right;\n",
       "    }\n",
       "</style>\n",
       "<table border=\"1\" class=\"dataframe\">\n",
       "  <thead>\n",
       "    <tr style=\"text-align: right;\">\n",
       "      <th></th>\n",
       "      <th>origYear</th>\n",
       "      <th>origMonth</th>\n",
       "    </tr>\n",
       "  </thead>\n",
       "  <tbody>\n",
       "    <tr>\n",
       "      <th>0</th>\n",
       "      <td>2009</td>\n",
       "      <td>2</td>\n",
       "    </tr>\n",
       "    <tr>\n",
       "      <th>1</th>\n",
       "      <td>2009</td>\n",
       "      <td>2</td>\n",
       "    </tr>\n",
       "    <tr>\n",
       "      <th>2</th>\n",
       "      <td>2009</td>\n",
       "      <td>2</td>\n",
       "    </tr>\n",
       "    <tr>\n",
       "      <th>3</th>\n",
       "      <td>2009</td>\n",
       "      <td>2</td>\n",
       "    </tr>\n",
       "    <tr>\n",
       "      <th>4</th>\n",
       "      <td>2009</td>\n",
       "      <td>2</td>\n",
       "    </tr>\n",
       "  </tbody>\n",
       "</table>\n",
       "</div>"
      ],
      "text/plain": [
       "   origYear  origMonth\n",
       "0      2009          2\n",
       "1      2009          2\n",
       "2      2009          2\n",
       "3      2009          2\n",
       "4      2009          2"
      ]
     },
     "execution_count": 39,
     "metadata": {},
     "output_type": "execute_result"
    }
   ],
   "source": [
    "df[['origYear','origMonth']].head()"
   ]
  },
  {
   "cell_type": "markdown",
   "metadata": {},
   "source": [
    "# Turn zero Balance Code Into binary \"0\" GOOD and \"1\" BAD"
   ]
  },
  {
   "cell_type": "code",
   "execution_count": 40,
   "metadata": {},
   "outputs": [
    {
     "data": {
      "text/plain": [
       "array([ 9.,  1.,  3., 16.,  6.,  2., 15.])"
      ]
     },
     "execution_count": 40,
     "metadata": {},
     "output_type": "execute_result"
    }
   ],
   "source": [
    "df.zeroBalCode.unique()"
   ]
  },
  {
   "cell_type": "code",
   "execution_count": 41,
   "metadata": {},
   "outputs": [],
   "source": [
    "df['zeroBalCode'] = df.zeroBalCode.replace(1,0)\n",
    "df['zeroBalCode'] = df.zeroBalCode.replace([9,3,16,6,2,15],1)"
   ]
  },
  {
   "cell_type": "code",
   "execution_count": 42,
   "metadata": {},
   "outputs": [
    {
     "data": {
      "text/plain": [
       "array([1., 0.])"
      ]
     },
     "execution_count": 42,
     "metadata": {},
     "output_type": "execute_result"
    }
   ],
   "source": [
    "df.zeroBalCode.unique()"
   ]
  },
  {
   "cell_type": "code",
   "execution_count": 43,
   "metadata": {},
   "outputs": [
    {
     "data": {
      "text/plain": [
       "0.0    103388\n",
       "1.0     16308\n",
       "Name: zeroBalCode, dtype: int64"
      ]
     },
     "execution_count": 43,
     "metadata": {},
     "output_type": "execute_result"
    }
   ],
   "source": [
    "df.zeroBalCode.value_counts()"
   ]
  },
  {
   "cell_type": "code",
   "execution_count": 44,
   "metadata": {},
   "outputs": [
    {
     "name": "stdout",
     "output_type": "stream",
     "text": [
      "We have 6.34% Foreclosures in our dataset\n"
     ]
    }
   ],
   "source": [
    "good = df.zeroBalCode.value_counts()[0]\n",
    "bad = df.zeroBalCode.value_counts()[1]\n",
    "perct_bad = round(good/bad,2)\n",
    "print(f'We have {perct_bad}% Foreclosures in our dataset')"
   ]
  },
  {
   "cell_type": "code",
   "execution_count": 45,
   "metadata": {
    "scrolled": false
   },
   "outputs": [],
   "source": [
    "#Checking datatypes of individual feature\n",
    "#df.info()"
   ]
  },
  {
   "cell_type": "markdown",
   "metadata": {},
   "source": [
    "# Review values for dates and slice (if needed) the timeframe you want"
   ]
  },
  {
   "cell_type": "code",
   "execution_count": 46,
   "metadata": {},
   "outputs": [
    {
     "data": {
      "text/plain": [
       "array([2009, 2010, 2011, 2012, 2013], dtype=int64)"
      ]
     },
     "execution_count": 46,
     "metadata": {},
     "output_type": "execute_result"
    }
   ],
   "source": [
    "df.origYear.unique()"
   ]
  },
  {
   "cell_type": "code",
   "execution_count": 47,
   "metadata": {},
   "outputs": [
    {
     "data": {
      "text/plain": [
       "array([ 2,  3,  5,  4,  6,  7,  8,  9, 10, 11, 12,  1], dtype=int64)"
      ]
     },
     "execution_count": 47,
     "metadata": {},
     "output_type": "execute_result"
    }
   ],
   "source": [
    "df['origMonth'].unique()"
   ]
  },
  {
   "cell_type": "markdown",
   "metadata": {},
   "source": [
    "# Coerce the column dtype (int in this case)"
   ]
  },
  {
   "cell_type": "code",
   "execution_count": 48,
   "metadata": {},
   "outputs": [],
   "source": [
    "df = df.astype({'origLTV':'int','numBorrowers':'int','origDebtIncRatio':'int',\\\n",
    "               'borrCreditScore':'int','mortInsType':'int','bestCreditScore':'int',\\\n",
    "               'worstCreditScore':'int','avgCreditScore':'int','zeroBalCode':'int'})\n",
    "#,'zeroBalCode':'int'"
   ]
  },
  {
   "cell_type": "code",
   "execution_count": 49,
   "metadata": {},
   "outputs": [
    {
     "name": "stdout",
     "output_type": "stream",
     "text": [
      "<class 'pandas.core.frame.DataFrame'>\n",
      "RangeIndex: 119696 entries, 0 to 119695\n",
      "Data columns (total 31 columns):\n",
      "origChannel           119696 non-null int64\n",
      "origIntRate           119696 non-null float64\n",
      "origUPB               119696 non-null int64\n",
      "origLTV               119696 non-null int32\n",
      "numBorrowers          119696 non-null int32\n",
      "origDebtIncRatio      119696 non-null int32\n",
      "borrCreditScore       119696 non-null int32\n",
      "loanPurp              119696 non-null int64\n",
      "zipCode               119696 non-null int64\n",
      "pMIperct              119696 non-null float64\n",
      "mortInsType           119696 non-null int32\n",
      "bestCreditScore       119696 non-null int32\n",
      "worstCreditScore      119696 non-null int32\n",
      "avgCreditScore        119696 non-null int32\n",
      "bankNumber            119696 non-null int64\n",
      "stateNumber           119696 non-null int64\n",
      "mSA                   119696 non-null int64\n",
      "zeroBalCode           119696 non-null int32\n",
      "fmacRateMax           119696 non-null float64\n",
      "fmacRateMin           119696 non-null float64\n",
      "fmacRateAvg           119696 non-null float64\n",
      "fmacRateVolatility    119696 non-null float64\n",
      "fredRate              119696 non-null float64\n",
      "rateDiffAbove         119696 non-null float64\n",
      "rateDiffBelow         119696 non-null float64\n",
      "rateDiffAvg           119696 non-null float64\n",
      "rateDiffAbovePct      119696 non-null float64\n",
      "rateDiffBelowPct      119696 non-null float64\n",
      "rateDiffAvgPct        119696 non-null float64\n",
      "origYear              119696 non-null int64\n",
      "origMonth             119696 non-null int64\n",
      "dtypes: float64(13), int32(9), int64(9)\n",
      "memory usage: 24.2 MB\n"
     ]
    }
   ],
   "source": [
    "df.info()"
   ]
  },
  {
   "cell_type": "markdown",
   "metadata": {},
   "source": [
    "<a id='MLReady'></a>"
   ]
  },
  {
   "cell_type": "markdown",
   "metadata": {},
   "source": [
    "<a id='MLReady'></a>\n",
    "## *MLReady.csv file loading point\n",
    "uncomment one of the boxes below"
   ]
  },
  {
   "cell_type": "code",
   "execution_count": 50,
   "metadata": {},
   "outputs": [],
   "source": [
    "#df.to_csv('D:\\FM_FULL_EPOCH2_MLReady.csv')"
   ]
  },
  {
   "cell_type": "code",
   "execution_count": 51,
   "metadata": {},
   "outputs": [],
   "source": [
    "#df = pd.read_csv('D:\\FM_FULL_EPOCH2_MLReady.csv')"
   ]
  },
  {
   "cell_type": "markdown",
   "metadata": {},
   "source": [
    "# Oversampling (Since we are starting with only 6.3% of our predicted class)"
   ]
  },
  {
   "cell_type": "code",
   "execution_count": 52,
   "metadata": {},
   "outputs": [
    {
     "name": "stdout",
     "output_type": "stream",
     "text": [
      "There are currently 30 features and 119696 rows\n",
      "<class 'pandas.core.frame.DataFrame'>\n"
     ]
    }
   ],
   "source": [
    "# First, let's split our data into X and y:\n",
    "X = df.loc[:, df.columns != 'zeroBalCode']\n",
    "y = df['zeroBalCode']\n",
    "\n",
    "rows, cols = X.shape\n",
    "print(f'There are currently {cols} features and {rows} rows')\n",
    "print(type(X))"
   ]
  },
  {
   "cell_type": "code",
   "execution_count": 53,
   "metadata": {},
   "outputs": [],
   "source": [
    "# https://imbalanced-learn.readthedocs.io/en/stable/auto_examples/over-sampling/plot_comparison_over_sampling.html#sphx-glr-auto-examples-over-sampling-plot-comparison-over-sampling-py\n",
    "# sampling_strategy='minority'\n",
    "# sampling_strategy=0.5\n",
    "ros = RandomOverSampler(sampling_strategy='minority')\n",
    "X_res, y_res = ros.fit_resample(X, y)"
   ]
  },
  {
   "cell_type": "code",
   "execution_count": 54,
   "metadata": {},
   "outputs": [
    {
     "name": "stdout",
     "output_type": "stream",
     "text": [
      "#############################################\n",
      "Before oversampling: \"Closed\" crushes \"Default\" and causes issues:\n",
      "0    103388\n",
      "1     16308\n",
      "Name: zeroBalCode, dtype: int64\n",
      "\n",
      "Before oversampling: \"Closed\" and \"Default\" are equal\n",
      "1    103388\n",
      "0    103388\n",
      "Name: zeroBalCode, dtype: int64\n"
     ]
    }
   ],
   "source": [
    "print('#############################################')\n",
    "print('Before oversampling: \"Closed\" crushes \"Default\" and causes issues:')\n",
    "print(y.value_counts())\n",
    "print('')\n",
    "print('Before oversampling: \"Closed\" and \"Default\" are equal')\n",
    "print(y_res.value_counts())"
   ]
  },
  {
   "cell_type": "markdown",
   "metadata": {},
   "source": [
    "## Recombine X_res, y_res so PyCaret can deal with one dataframe input"
   ]
  },
  {
   "cell_type": "code",
   "execution_count": 55,
   "metadata": {},
   "outputs": [
    {
     "data": {
      "text/plain": [
       "(206776,)"
      ]
     },
     "execution_count": 55,
     "metadata": {},
     "output_type": "execute_result"
    }
   ],
   "source": [
    "y_res.shape"
   ]
  },
  {
   "cell_type": "code",
   "execution_count": 56,
   "metadata": {},
   "outputs": [],
   "source": [
    "df = X_res.copy()"
   ]
  },
  {
   "cell_type": "code",
   "execution_count": 57,
   "metadata": {},
   "outputs": [],
   "source": [
    "df['zeroBalCode'] = y_res"
   ]
  },
  {
   "cell_type": "code",
   "execution_count": 58,
   "metadata": {},
   "outputs": [
    {
     "data": {
      "text/plain": [
       "(206776, 31)"
      ]
     },
     "execution_count": 58,
     "metadata": {},
     "output_type": "execute_result"
    }
   ],
   "source": [
    "df.shape"
   ]
  },
  {
   "cell_type": "markdown",
   "metadata": {},
   "source": [
    "# Review metrics last time before run (to have record of starting values)"
   ]
  },
  {
   "cell_type": "code",
   "execution_count": 59,
   "metadata": {},
   "outputs": [
    {
     "name": "stdout",
     "output_type": "stream",
     "text": [
      "<class 'pandas.core.frame.DataFrame'>\n",
      "RangeIndex: 206776 entries, 0 to 206775\n",
      "Data columns (total 31 columns):\n",
      "origChannel           206776 non-null int64\n",
      "origIntRate           206776 non-null float64\n",
      "origUPB               206776 non-null int64\n",
      "origLTV               206776 non-null int32\n",
      "numBorrowers          206776 non-null int32\n",
      "origDebtIncRatio      206776 non-null int32\n",
      "borrCreditScore       206776 non-null int32\n",
      "loanPurp              206776 non-null int64\n",
      "zipCode               206776 non-null int64\n",
      "pMIperct              206776 non-null float64\n",
      "mortInsType           206776 non-null int32\n",
      "bestCreditScore       206776 non-null int32\n",
      "worstCreditScore      206776 non-null int32\n",
      "avgCreditScore        206776 non-null int32\n",
      "bankNumber            206776 non-null int64\n",
      "stateNumber           206776 non-null int64\n",
      "mSA                   206776 non-null int64\n",
      "fmacRateMax           206776 non-null float64\n",
      "fmacRateMin           206776 non-null float64\n",
      "fmacRateAvg           206776 non-null float64\n",
      "fmacRateVolatility    206776 non-null float64\n",
      "fredRate              206776 non-null float64\n",
      "rateDiffAbove         206776 non-null float64\n",
      "rateDiffBelow         206776 non-null float64\n",
      "rateDiffAvg           206776 non-null float64\n",
      "rateDiffAbovePct      206776 non-null float64\n",
      "rateDiffBelowPct      206776 non-null float64\n",
      "rateDiffAvgPct        206776 non-null float64\n",
      "origYear              206776 non-null int64\n",
      "origMonth             206776 non-null int64\n",
      "zeroBalCode           206776 non-null int32\n",
      "dtypes: float64(13), int32(9), int64(9)\n",
      "memory usage: 41.8 MB\n"
     ]
    }
   ],
   "source": [
    "df.info()"
   ]
  },
  {
   "cell_type": "code",
   "execution_count": 60,
   "metadata": {},
   "outputs": [
    {
     "data": {
      "text/html": [
       "<div>\n",
       "<style scoped>\n",
       "    .dataframe tbody tr th:only-of-type {\n",
       "        vertical-align: middle;\n",
       "    }\n",
       "\n",
       "    .dataframe tbody tr th {\n",
       "        vertical-align: top;\n",
       "    }\n",
       "\n",
       "    .dataframe thead th {\n",
       "        text-align: right;\n",
       "    }\n",
       "</style>\n",
       "<table border=\"1\" class=\"dataframe\">\n",
       "  <thead>\n",
       "    <tr style=\"text-align: right;\">\n",
       "      <th></th>\n",
       "      <th>origChannel</th>\n",
       "      <th>origIntRate</th>\n",
       "      <th>origUPB</th>\n",
       "      <th>origLTV</th>\n",
       "      <th>numBorrowers</th>\n",
       "      <th>origDebtIncRatio</th>\n",
       "      <th>borrCreditScore</th>\n",
       "      <th>loanPurp</th>\n",
       "      <th>zipCode</th>\n",
       "      <th>pMIperct</th>\n",
       "      <th>...</th>\n",
       "      <th>fredRate</th>\n",
       "      <th>rateDiffAbove</th>\n",
       "      <th>rateDiffBelow</th>\n",
       "      <th>rateDiffAvg</th>\n",
       "      <th>rateDiffAbovePct</th>\n",
       "      <th>rateDiffBelowPct</th>\n",
       "      <th>rateDiffAvgPct</th>\n",
       "      <th>origYear</th>\n",
       "      <th>origMonth</th>\n",
       "      <th>zeroBalCode</th>\n",
       "    </tr>\n",
       "  </thead>\n",
       "  <tbody>\n",
       "    <tr>\n",
       "      <th>0</th>\n",
       "      <td>2</td>\n",
       "      <td>5.125</td>\n",
       "      <td>348000</td>\n",
       "      <td>87</td>\n",
       "      <td>1</td>\n",
       "      <td>50</td>\n",
       "      <td>689</td>\n",
       "      <td>2</td>\n",
       "      <td>51</td>\n",
       "      <td>25.0</td>\n",
       "      <td>...</td>\n",
       "      <td>2.87</td>\n",
       "      <td>-0.125</td>\n",
       "      <td>-0.085</td>\n",
       "      <td>-0.005</td>\n",
       "      <td>-0.023810</td>\n",
       "      <td>-0.016865</td>\n",
       "      <td>-0.000975</td>\n",
       "      <td>2009</td>\n",
       "      <td>2</td>\n",
       "      <td>1</td>\n",
       "    </tr>\n",
       "    <tr>\n",
       "      <th>1</th>\n",
       "      <td>3</td>\n",
       "      <td>4.625</td>\n",
       "      <td>195000</td>\n",
       "      <td>52</td>\n",
       "      <td>2</td>\n",
       "      <td>54</td>\n",
       "      <td>703</td>\n",
       "      <td>1</td>\n",
       "      <td>82</td>\n",
       "      <td>0.0</td>\n",
       "      <td>...</td>\n",
       "      <td>2.87</td>\n",
       "      <td>-0.625</td>\n",
       "      <td>0.415</td>\n",
       "      <td>-0.505</td>\n",
       "      <td>-0.119048</td>\n",
       "      <td>0.082341</td>\n",
       "      <td>-0.098441</td>\n",
       "      <td>2009</td>\n",
       "      <td>2</td>\n",
       "      <td>0</td>\n",
       "    </tr>\n",
       "    <tr>\n",
       "      <th>2</th>\n",
       "      <td>2</td>\n",
       "      <td>4.875</td>\n",
       "      <td>342000</td>\n",
       "      <td>80</td>\n",
       "      <td>1</td>\n",
       "      <td>54</td>\n",
       "      <td>746</td>\n",
       "      <td>1</td>\n",
       "      <td>981</td>\n",
       "      <td>0.0</td>\n",
       "      <td>...</td>\n",
       "      <td>2.87</td>\n",
       "      <td>-0.375</td>\n",
       "      <td>0.165</td>\n",
       "      <td>-0.255</td>\n",
       "      <td>-0.071429</td>\n",
       "      <td>0.032738</td>\n",
       "      <td>-0.049708</td>\n",
       "      <td>2009</td>\n",
       "      <td>2</td>\n",
       "      <td>0</td>\n",
       "    </tr>\n",
       "    <tr>\n",
       "      <th>3</th>\n",
       "      <td>1</td>\n",
       "      <td>5.375</td>\n",
       "      <td>93000</td>\n",
       "      <td>70</td>\n",
       "      <td>1</td>\n",
       "      <td>50</td>\n",
       "      <td>780</td>\n",
       "      <td>1</td>\n",
       "      <td>496</td>\n",
       "      <td>0.0</td>\n",
       "      <td>...</td>\n",
       "      <td>2.87</td>\n",
       "      <td>0.125</td>\n",
       "      <td>-0.335</td>\n",
       "      <td>0.245</td>\n",
       "      <td>0.023810</td>\n",
       "      <td>-0.066468</td>\n",
       "      <td>0.047758</td>\n",
       "      <td>2009</td>\n",
       "      <td>2</td>\n",
       "      <td>1</td>\n",
       "    </tr>\n",
       "    <tr>\n",
       "      <th>4</th>\n",
       "      <td>1</td>\n",
       "      <td>4.875</td>\n",
       "      <td>182000</td>\n",
       "      <td>76</td>\n",
       "      <td>2</td>\n",
       "      <td>22</td>\n",
       "      <td>802</td>\n",
       "      <td>1</td>\n",
       "      <td>18</td>\n",
       "      <td>0.0</td>\n",
       "      <td>...</td>\n",
       "      <td>2.87</td>\n",
       "      <td>-0.375</td>\n",
       "      <td>0.165</td>\n",
       "      <td>-0.255</td>\n",
       "      <td>-0.071429</td>\n",
       "      <td>0.032738</td>\n",
       "      <td>-0.049708</td>\n",
       "      <td>2009</td>\n",
       "      <td>2</td>\n",
       "      <td>0</td>\n",
       "    </tr>\n",
       "  </tbody>\n",
       "</table>\n",
       "<p>5 rows × 31 columns</p>\n",
       "</div>"
      ],
      "text/plain": [
       "   origChannel  origIntRate  origUPB  origLTV  numBorrowers  origDebtIncRatio  \\\n",
       "0            2        5.125   348000       87             1                50   \n",
       "1            3        4.625   195000       52             2                54   \n",
       "2            2        4.875   342000       80             1                54   \n",
       "3            1        5.375    93000       70             1                50   \n",
       "4            1        4.875   182000       76             2                22   \n",
       "\n",
       "   borrCreditScore  loanPurp  zipCode  pMIperct  ...  fredRate  rateDiffAbove  \\\n",
       "0              689         2       51      25.0  ...      2.87         -0.125   \n",
       "1              703         1       82       0.0  ...      2.87         -0.625   \n",
       "2              746         1      981       0.0  ...      2.87         -0.375   \n",
       "3              780         1      496       0.0  ...      2.87          0.125   \n",
       "4              802         1       18       0.0  ...      2.87         -0.375   \n",
       "\n",
       "   rateDiffBelow  rateDiffAvg  rateDiffAbovePct  rateDiffBelowPct  \\\n",
       "0         -0.085       -0.005         -0.023810         -0.016865   \n",
       "1          0.415       -0.505         -0.119048          0.082341   \n",
       "2          0.165       -0.255         -0.071429          0.032738   \n",
       "3         -0.335        0.245          0.023810         -0.066468   \n",
       "4          0.165       -0.255         -0.071429          0.032738   \n",
       "\n",
       "   rateDiffAvgPct  origYear  origMonth  zeroBalCode  \n",
       "0       -0.000975      2009          2            1  \n",
       "1       -0.098441      2009          2            0  \n",
       "2       -0.049708      2009          2            0  \n",
       "3        0.047758      2009          2            1  \n",
       "4       -0.049708      2009          2            0  \n",
       "\n",
       "[5 rows x 31 columns]"
      ]
     },
     "execution_count": 60,
     "metadata": {},
     "output_type": "execute_result"
    }
   ],
   "source": [
    "df.head()"
   ]
  },
  {
   "cell_type": "markdown",
   "metadata": {},
   "source": [
    "# Pycaret - Setup with categorical definition"
   ]
  },
  {
   "cell_type": "markdown",
   "metadata": {},
   "source": [
    "### Use setup file from Scott & Justin"
   ]
  },
  {
   "cell_type": "code",
   "execution_count": 61,
   "metadata": {},
   "outputs": [
    {
     "name": "stdout",
     "output_type": "stream",
     "text": [
      " \n",
      "Setup Succesfully Completed!\n"
     ]
    },
    {
     "data": {
      "text/html": [
       "<style  type=\"text/css\" >\n",
       "    #T_7c7c4492_9d95_11ea_8560_309c234564f5row15_col1 {\n",
       "            background-color:  lightgreen;\n",
       "        }    #T_7c7c4492_9d95_11ea_8560_309c234564f5row22_col1 {\n",
       "            background-color:  lightgreen;\n",
       "        }    #T_7c7c4492_9d95_11ea_8560_309c234564f5row25_col1 {\n",
       "            background-color:  lightgreen;\n",
       "        }    #T_7c7c4492_9d95_11ea_8560_309c234564f5row26_col1 {\n",
       "            background-color:  lightgreen;\n",
       "        }    #T_7c7c4492_9d95_11ea_8560_309c234564f5row37_col1 {\n",
       "            background-color:  lightgreen;\n",
       "        }</style><table id=\"T_7c7c4492_9d95_11ea_8560_309c234564f5\" ><thead>    <tr>        <th class=\"blank level0\" ></th>        <th class=\"col_heading level0 col0\" >Description</th>        <th class=\"col_heading level0 col1\" >Value</th>    </tr></thead><tbody>\n",
       "                <tr>\n",
       "                        <th id=\"T_7c7c4492_9d95_11ea_8560_309c234564f5level0_row0\" class=\"row_heading level0 row0\" >0</th>\n",
       "                        <td id=\"T_7c7c4492_9d95_11ea_8560_309c234564f5row0_col0\" class=\"data row0 col0\" >session_id</td>\n",
       "                        <td id=\"T_7c7c4492_9d95_11ea_8560_309c234564f5row0_col1\" class=\"data row0 col1\" >883</td>\n",
       "            </tr>\n",
       "            <tr>\n",
       "                        <th id=\"T_7c7c4492_9d95_11ea_8560_309c234564f5level0_row1\" class=\"row_heading level0 row1\" >1</th>\n",
       "                        <td id=\"T_7c7c4492_9d95_11ea_8560_309c234564f5row1_col0\" class=\"data row1 col0\" >Target Type</td>\n",
       "                        <td id=\"T_7c7c4492_9d95_11ea_8560_309c234564f5row1_col1\" class=\"data row1 col1\" >Binary</td>\n",
       "            </tr>\n",
       "            <tr>\n",
       "                        <th id=\"T_7c7c4492_9d95_11ea_8560_309c234564f5level0_row2\" class=\"row_heading level0 row2\" >2</th>\n",
       "                        <td id=\"T_7c7c4492_9d95_11ea_8560_309c234564f5row2_col0\" class=\"data row2 col0\" >Label Encoded</td>\n",
       "                        <td id=\"T_7c7c4492_9d95_11ea_8560_309c234564f5row2_col1\" class=\"data row2 col1\" >None</td>\n",
       "            </tr>\n",
       "            <tr>\n",
       "                        <th id=\"T_7c7c4492_9d95_11ea_8560_309c234564f5level0_row3\" class=\"row_heading level0 row3\" >3</th>\n",
       "                        <td id=\"T_7c7c4492_9d95_11ea_8560_309c234564f5row3_col0\" class=\"data row3 col0\" >Original Data</td>\n",
       "                        <td id=\"T_7c7c4492_9d95_11ea_8560_309c234564f5row3_col1\" class=\"data row3 col1\" >(206776, 31)</td>\n",
       "            </tr>\n",
       "            <tr>\n",
       "                        <th id=\"T_7c7c4492_9d95_11ea_8560_309c234564f5level0_row4\" class=\"row_heading level0 row4\" >4</th>\n",
       "                        <td id=\"T_7c7c4492_9d95_11ea_8560_309c234564f5row4_col0\" class=\"data row4 col0\" >Missing Values </td>\n",
       "                        <td id=\"T_7c7c4492_9d95_11ea_8560_309c234564f5row4_col1\" class=\"data row4 col1\" >False</td>\n",
       "            </tr>\n",
       "            <tr>\n",
       "                        <th id=\"T_7c7c4492_9d95_11ea_8560_309c234564f5level0_row5\" class=\"row_heading level0 row5\" >5</th>\n",
       "                        <td id=\"T_7c7c4492_9d95_11ea_8560_309c234564f5row5_col0\" class=\"data row5 col0\" >Numeric Features </td>\n",
       "                        <td id=\"T_7c7c4492_9d95_11ea_8560_309c234564f5row5_col1\" class=\"data row5 col1\" >21</td>\n",
       "            </tr>\n",
       "            <tr>\n",
       "                        <th id=\"T_7c7c4492_9d95_11ea_8560_309c234564f5level0_row6\" class=\"row_heading level0 row6\" >6</th>\n",
       "                        <td id=\"T_7c7c4492_9d95_11ea_8560_309c234564f5row6_col0\" class=\"data row6 col0\" >Categorical Features </td>\n",
       "                        <td id=\"T_7c7c4492_9d95_11ea_8560_309c234564f5row6_col1\" class=\"data row6 col1\" >9</td>\n",
       "            </tr>\n",
       "            <tr>\n",
       "                        <th id=\"T_7c7c4492_9d95_11ea_8560_309c234564f5level0_row7\" class=\"row_heading level0 row7\" >7</th>\n",
       "                        <td id=\"T_7c7c4492_9d95_11ea_8560_309c234564f5row7_col0\" class=\"data row7 col0\" >Ordinal Features </td>\n",
       "                        <td id=\"T_7c7c4492_9d95_11ea_8560_309c234564f5row7_col1\" class=\"data row7 col1\" >False</td>\n",
       "            </tr>\n",
       "            <tr>\n",
       "                        <th id=\"T_7c7c4492_9d95_11ea_8560_309c234564f5level0_row8\" class=\"row_heading level0 row8\" >8</th>\n",
       "                        <td id=\"T_7c7c4492_9d95_11ea_8560_309c234564f5row8_col0\" class=\"data row8 col0\" >High Cardinality Features </td>\n",
       "                        <td id=\"T_7c7c4492_9d95_11ea_8560_309c234564f5row8_col1\" class=\"data row8 col1\" >False</td>\n",
       "            </tr>\n",
       "            <tr>\n",
       "                        <th id=\"T_7c7c4492_9d95_11ea_8560_309c234564f5level0_row9\" class=\"row_heading level0 row9\" >9</th>\n",
       "                        <td id=\"T_7c7c4492_9d95_11ea_8560_309c234564f5row9_col0\" class=\"data row9 col0\" >High Cardinality Method </td>\n",
       "                        <td id=\"T_7c7c4492_9d95_11ea_8560_309c234564f5row9_col1\" class=\"data row9 col1\" >None</td>\n",
       "            </tr>\n",
       "            <tr>\n",
       "                        <th id=\"T_7c7c4492_9d95_11ea_8560_309c234564f5level0_row10\" class=\"row_heading level0 row10\" >10</th>\n",
       "                        <td id=\"T_7c7c4492_9d95_11ea_8560_309c234564f5row10_col0\" class=\"data row10 col0\" >Sampled Data</td>\n",
       "                        <td id=\"T_7c7c4492_9d95_11ea_8560_309c234564f5row10_col1\" class=\"data row10 col1\" >(137505, 31)</td>\n",
       "            </tr>\n",
       "            <tr>\n",
       "                        <th id=\"T_7c7c4492_9d95_11ea_8560_309c234564f5level0_row11\" class=\"row_heading level0 row11\" >11</th>\n",
       "                        <td id=\"T_7c7c4492_9d95_11ea_8560_309c234564f5row11_col0\" class=\"data row11 col0\" >Transformed Train Set</td>\n",
       "                        <td id=\"T_7c7c4492_9d95_11ea_8560_309c234564f5row11_col1\" class=\"data row11 col1\" >(96253, 1240)</td>\n",
       "            </tr>\n",
       "            <tr>\n",
       "                        <th id=\"T_7c7c4492_9d95_11ea_8560_309c234564f5level0_row12\" class=\"row_heading level0 row12\" >12</th>\n",
       "                        <td id=\"T_7c7c4492_9d95_11ea_8560_309c234564f5row12_col0\" class=\"data row12 col0\" >Transformed Test Set</td>\n",
       "                        <td id=\"T_7c7c4492_9d95_11ea_8560_309c234564f5row12_col1\" class=\"data row12 col1\" >(41252, 1240)</td>\n",
       "            </tr>\n",
       "            <tr>\n",
       "                        <th id=\"T_7c7c4492_9d95_11ea_8560_309c234564f5level0_row13\" class=\"row_heading level0 row13\" >13</th>\n",
       "                        <td id=\"T_7c7c4492_9d95_11ea_8560_309c234564f5row13_col0\" class=\"data row13 col0\" >Numeric Imputer </td>\n",
       "                        <td id=\"T_7c7c4492_9d95_11ea_8560_309c234564f5row13_col1\" class=\"data row13 col1\" >mean</td>\n",
       "            </tr>\n",
       "            <tr>\n",
       "                        <th id=\"T_7c7c4492_9d95_11ea_8560_309c234564f5level0_row14\" class=\"row_heading level0 row14\" >14</th>\n",
       "                        <td id=\"T_7c7c4492_9d95_11ea_8560_309c234564f5row14_col0\" class=\"data row14 col0\" >Categorical Imputer </td>\n",
       "                        <td id=\"T_7c7c4492_9d95_11ea_8560_309c234564f5row14_col1\" class=\"data row14 col1\" >constant</td>\n",
       "            </tr>\n",
       "            <tr>\n",
       "                        <th id=\"T_7c7c4492_9d95_11ea_8560_309c234564f5level0_row15\" class=\"row_heading level0 row15\" >15</th>\n",
       "                        <td id=\"T_7c7c4492_9d95_11ea_8560_309c234564f5row15_col0\" class=\"data row15 col0\" >Normalize </td>\n",
       "                        <td id=\"T_7c7c4492_9d95_11ea_8560_309c234564f5row15_col1\" class=\"data row15 col1\" >True</td>\n",
       "            </tr>\n",
       "            <tr>\n",
       "                        <th id=\"T_7c7c4492_9d95_11ea_8560_309c234564f5level0_row16\" class=\"row_heading level0 row16\" >16</th>\n",
       "                        <td id=\"T_7c7c4492_9d95_11ea_8560_309c234564f5row16_col0\" class=\"data row16 col0\" >Normalize Method </td>\n",
       "                        <td id=\"T_7c7c4492_9d95_11ea_8560_309c234564f5row16_col1\" class=\"data row16 col1\" >zscore</td>\n",
       "            </tr>\n",
       "            <tr>\n",
       "                        <th id=\"T_7c7c4492_9d95_11ea_8560_309c234564f5level0_row17\" class=\"row_heading level0 row17\" >17</th>\n",
       "                        <td id=\"T_7c7c4492_9d95_11ea_8560_309c234564f5row17_col0\" class=\"data row17 col0\" >Transformation </td>\n",
       "                        <td id=\"T_7c7c4492_9d95_11ea_8560_309c234564f5row17_col1\" class=\"data row17 col1\" >False</td>\n",
       "            </tr>\n",
       "            <tr>\n",
       "                        <th id=\"T_7c7c4492_9d95_11ea_8560_309c234564f5level0_row18\" class=\"row_heading level0 row18\" >18</th>\n",
       "                        <td id=\"T_7c7c4492_9d95_11ea_8560_309c234564f5row18_col0\" class=\"data row18 col0\" >Transformation Method </td>\n",
       "                        <td id=\"T_7c7c4492_9d95_11ea_8560_309c234564f5row18_col1\" class=\"data row18 col1\" >None</td>\n",
       "            </tr>\n",
       "            <tr>\n",
       "                        <th id=\"T_7c7c4492_9d95_11ea_8560_309c234564f5level0_row19\" class=\"row_heading level0 row19\" >19</th>\n",
       "                        <td id=\"T_7c7c4492_9d95_11ea_8560_309c234564f5row19_col0\" class=\"data row19 col0\" >PCA </td>\n",
       "                        <td id=\"T_7c7c4492_9d95_11ea_8560_309c234564f5row19_col1\" class=\"data row19 col1\" >False</td>\n",
       "            </tr>\n",
       "            <tr>\n",
       "                        <th id=\"T_7c7c4492_9d95_11ea_8560_309c234564f5level0_row20\" class=\"row_heading level0 row20\" >20</th>\n",
       "                        <td id=\"T_7c7c4492_9d95_11ea_8560_309c234564f5row20_col0\" class=\"data row20 col0\" >PCA Method </td>\n",
       "                        <td id=\"T_7c7c4492_9d95_11ea_8560_309c234564f5row20_col1\" class=\"data row20 col1\" >None</td>\n",
       "            </tr>\n",
       "            <tr>\n",
       "                        <th id=\"T_7c7c4492_9d95_11ea_8560_309c234564f5level0_row21\" class=\"row_heading level0 row21\" >21</th>\n",
       "                        <td id=\"T_7c7c4492_9d95_11ea_8560_309c234564f5row21_col0\" class=\"data row21 col0\" >PCA Components </td>\n",
       "                        <td id=\"T_7c7c4492_9d95_11ea_8560_309c234564f5row21_col1\" class=\"data row21 col1\" >None</td>\n",
       "            </tr>\n",
       "            <tr>\n",
       "                        <th id=\"T_7c7c4492_9d95_11ea_8560_309c234564f5level0_row22\" class=\"row_heading level0 row22\" >22</th>\n",
       "                        <td id=\"T_7c7c4492_9d95_11ea_8560_309c234564f5row22_col0\" class=\"data row22 col0\" >Ignore Low Variance </td>\n",
       "                        <td id=\"T_7c7c4492_9d95_11ea_8560_309c234564f5row22_col1\" class=\"data row22 col1\" >True</td>\n",
       "            </tr>\n",
       "            <tr>\n",
       "                        <th id=\"T_7c7c4492_9d95_11ea_8560_309c234564f5level0_row23\" class=\"row_heading level0 row23\" >23</th>\n",
       "                        <td id=\"T_7c7c4492_9d95_11ea_8560_309c234564f5row23_col0\" class=\"data row23 col0\" >Combine Rare Levels </td>\n",
       "                        <td id=\"T_7c7c4492_9d95_11ea_8560_309c234564f5row23_col1\" class=\"data row23 col1\" >False</td>\n",
       "            </tr>\n",
       "            <tr>\n",
       "                        <th id=\"T_7c7c4492_9d95_11ea_8560_309c234564f5level0_row24\" class=\"row_heading level0 row24\" >24</th>\n",
       "                        <td id=\"T_7c7c4492_9d95_11ea_8560_309c234564f5row24_col0\" class=\"data row24 col0\" >Rare Level Threshold </td>\n",
       "                        <td id=\"T_7c7c4492_9d95_11ea_8560_309c234564f5row24_col1\" class=\"data row24 col1\" >None</td>\n",
       "            </tr>\n",
       "            <tr>\n",
       "                        <th id=\"T_7c7c4492_9d95_11ea_8560_309c234564f5level0_row25\" class=\"row_heading level0 row25\" >25</th>\n",
       "                        <td id=\"T_7c7c4492_9d95_11ea_8560_309c234564f5row25_col0\" class=\"data row25 col0\" >Numeric Binning </td>\n",
       "                        <td id=\"T_7c7c4492_9d95_11ea_8560_309c234564f5row25_col1\" class=\"data row25 col1\" >True</td>\n",
       "            </tr>\n",
       "            <tr>\n",
       "                        <th id=\"T_7c7c4492_9d95_11ea_8560_309c234564f5level0_row26\" class=\"row_heading level0 row26\" >26</th>\n",
       "                        <td id=\"T_7c7c4492_9d95_11ea_8560_309c234564f5row26_col0\" class=\"data row26 col0\" >Remove Outliers </td>\n",
       "                        <td id=\"T_7c7c4492_9d95_11ea_8560_309c234564f5row26_col1\" class=\"data row26 col1\" >True</td>\n",
       "            </tr>\n",
       "            <tr>\n",
       "                        <th id=\"T_7c7c4492_9d95_11ea_8560_309c234564f5level0_row27\" class=\"row_heading level0 row27\" >27</th>\n",
       "                        <td id=\"T_7c7c4492_9d95_11ea_8560_309c234564f5row27_col0\" class=\"data row27 col0\" >Outliers Threshold </td>\n",
       "                        <td id=\"T_7c7c4492_9d95_11ea_8560_309c234564f5row27_col1\" class=\"data row27 col1\" >0.05</td>\n",
       "            </tr>\n",
       "            <tr>\n",
       "                        <th id=\"T_7c7c4492_9d95_11ea_8560_309c234564f5level0_row28\" class=\"row_heading level0 row28\" >28</th>\n",
       "                        <td id=\"T_7c7c4492_9d95_11ea_8560_309c234564f5row28_col0\" class=\"data row28 col0\" >Remove Multicollinearity </td>\n",
       "                        <td id=\"T_7c7c4492_9d95_11ea_8560_309c234564f5row28_col1\" class=\"data row28 col1\" >False</td>\n",
       "            </tr>\n",
       "            <tr>\n",
       "                        <th id=\"T_7c7c4492_9d95_11ea_8560_309c234564f5level0_row29\" class=\"row_heading level0 row29\" >29</th>\n",
       "                        <td id=\"T_7c7c4492_9d95_11ea_8560_309c234564f5row29_col0\" class=\"data row29 col0\" >Multicollinearity Threshold </td>\n",
       "                        <td id=\"T_7c7c4492_9d95_11ea_8560_309c234564f5row29_col1\" class=\"data row29 col1\" >None</td>\n",
       "            </tr>\n",
       "            <tr>\n",
       "                        <th id=\"T_7c7c4492_9d95_11ea_8560_309c234564f5level0_row30\" class=\"row_heading level0 row30\" >30</th>\n",
       "                        <td id=\"T_7c7c4492_9d95_11ea_8560_309c234564f5row30_col0\" class=\"data row30 col0\" >Clustering </td>\n",
       "                        <td id=\"T_7c7c4492_9d95_11ea_8560_309c234564f5row30_col1\" class=\"data row30 col1\" >False</td>\n",
       "            </tr>\n",
       "            <tr>\n",
       "                        <th id=\"T_7c7c4492_9d95_11ea_8560_309c234564f5level0_row31\" class=\"row_heading level0 row31\" >31</th>\n",
       "                        <td id=\"T_7c7c4492_9d95_11ea_8560_309c234564f5row31_col0\" class=\"data row31 col0\" >Clustering Iteration </td>\n",
       "                        <td id=\"T_7c7c4492_9d95_11ea_8560_309c234564f5row31_col1\" class=\"data row31 col1\" >None</td>\n",
       "            </tr>\n",
       "            <tr>\n",
       "                        <th id=\"T_7c7c4492_9d95_11ea_8560_309c234564f5level0_row32\" class=\"row_heading level0 row32\" >32</th>\n",
       "                        <td id=\"T_7c7c4492_9d95_11ea_8560_309c234564f5row32_col0\" class=\"data row32 col0\" >Polynomial Features </td>\n",
       "                        <td id=\"T_7c7c4492_9d95_11ea_8560_309c234564f5row32_col1\" class=\"data row32 col1\" >False</td>\n",
       "            </tr>\n",
       "            <tr>\n",
       "                        <th id=\"T_7c7c4492_9d95_11ea_8560_309c234564f5level0_row33\" class=\"row_heading level0 row33\" >33</th>\n",
       "                        <td id=\"T_7c7c4492_9d95_11ea_8560_309c234564f5row33_col0\" class=\"data row33 col0\" >Polynomial Degree </td>\n",
       "                        <td id=\"T_7c7c4492_9d95_11ea_8560_309c234564f5row33_col1\" class=\"data row33 col1\" >None</td>\n",
       "            </tr>\n",
       "            <tr>\n",
       "                        <th id=\"T_7c7c4492_9d95_11ea_8560_309c234564f5level0_row34\" class=\"row_heading level0 row34\" >34</th>\n",
       "                        <td id=\"T_7c7c4492_9d95_11ea_8560_309c234564f5row34_col0\" class=\"data row34 col0\" >Trignometry Features </td>\n",
       "                        <td id=\"T_7c7c4492_9d95_11ea_8560_309c234564f5row34_col1\" class=\"data row34 col1\" >False</td>\n",
       "            </tr>\n",
       "            <tr>\n",
       "                        <th id=\"T_7c7c4492_9d95_11ea_8560_309c234564f5level0_row35\" class=\"row_heading level0 row35\" >35</th>\n",
       "                        <td id=\"T_7c7c4492_9d95_11ea_8560_309c234564f5row35_col0\" class=\"data row35 col0\" >Polynomial Threshold </td>\n",
       "                        <td id=\"T_7c7c4492_9d95_11ea_8560_309c234564f5row35_col1\" class=\"data row35 col1\" >None</td>\n",
       "            </tr>\n",
       "            <tr>\n",
       "                        <th id=\"T_7c7c4492_9d95_11ea_8560_309c234564f5level0_row36\" class=\"row_heading level0 row36\" >36</th>\n",
       "                        <td id=\"T_7c7c4492_9d95_11ea_8560_309c234564f5row36_col0\" class=\"data row36 col0\" >Group Features </td>\n",
       "                        <td id=\"T_7c7c4492_9d95_11ea_8560_309c234564f5row36_col1\" class=\"data row36 col1\" >False</td>\n",
       "            </tr>\n",
       "            <tr>\n",
       "                        <th id=\"T_7c7c4492_9d95_11ea_8560_309c234564f5level0_row37\" class=\"row_heading level0 row37\" >37</th>\n",
       "                        <td id=\"T_7c7c4492_9d95_11ea_8560_309c234564f5row37_col0\" class=\"data row37 col0\" >Feature Selection </td>\n",
       "                        <td id=\"T_7c7c4492_9d95_11ea_8560_309c234564f5row37_col1\" class=\"data row37 col1\" >True</td>\n",
       "            </tr>\n",
       "            <tr>\n",
       "                        <th id=\"T_7c7c4492_9d95_11ea_8560_309c234564f5level0_row38\" class=\"row_heading level0 row38\" >38</th>\n",
       "                        <td id=\"T_7c7c4492_9d95_11ea_8560_309c234564f5row38_col0\" class=\"data row38 col0\" >Features Selection Threshold </td>\n",
       "                        <td id=\"T_7c7c4492_9d95_11ea_8560_309c234564f5row38_col1\" class=\"data row38 col1\" >0.8</td>\n",
       "            </tr>\n",
       "            <tr>\n",
       "                        <th id=\"T_7c7c4492_9d95_11ea_8560_309c234564f5level0_row39\" class=\"row_heading level0 row39\" >39</th>\n",
       "                        <td id=\"T_7c7c4492_9d95_11ea_8560_309c234564f5row39_col0\" class=\"data row39 col0\" >Feature Interaction </td>\n",
       "                        <td id=\"T_7c7c4492_9d95_11ea_8560_309c234564f5row39_col1\" class=\"data row39 col1\" >False</td>\n",
       "            </tr>\n",
       "            <tr>\n",
       "                        <th id=\"T_7c7c4492_9d95_11ea_8560_309c234564f5level0_row40\" class=\"row_heading level0 row40\" >40</th>\n",
       "                        <td id=\"T_7c7c4492_9d95_11ea_8560_309c234564f5row40_col0\" class=\"data row40 col0\" >Feature Ratio </td>\n",
       "                        <td id=\"T_7c7c4492_9d95_11ea_8560_309c234564f5row40_col1\" class=\"data row40 col1\" >False</td>\n",
       "            </tr>\n",
       "            <tr>\n",
       "                        <th id=\"T_7c7c4492_9d95_11ea_8560_309c234564f5level0_row41\" class=\"row_heading level0 row41\" >41</th>\n",
       "                        <td id=\"T_7c7c4492_9d95_11ea_8560_309c234564f5row41_col0\" class=\"data row41 col0\" >Interaction Threshold </td>\n",
       "                        <td id=\"T_7c7c4492_9d95_11ea_8560_309c234564f5row41_col1\" class=\"data row41 col1\" >None</td>\n",
       "            </tr>\n",
       "    </tbody></table>"
      ],
      "text/plain": [
       "<pandas.io.formats.style.Styler at 0x230ba9817f0>"
      ]
     },
     "metadata": {},
     "output_type": "display_data"
    }
   ],
   "source": [
    "model_setup = setup(\n",
    "    df\n",
    "    , target = 'zeroBalCode' # PyCaret will list this as \"Label\"\n",
    "    , pca = False \n",
    "    , ignore_low_variance = True # Variance is calculated using the ratio of unique values to the number of samples, and the ratio of the most common value to the frequency of the second most common value.\n",
    "    , normalize = True\n",
    "    , ignore_features = None\n",
    "    , handle_unknown_categorical = True\n",
    "    , remove_outliers = True # outliers from the training data are removed using PCA linear dimensionality reduction using the Singular Value Decomposition technique.\n",
    "    , bin_numeric_features = [\n",
    "            'origIntRate'\n",
    "            , 'origUPB'\n",
    "            , 'origLTV'\n",
    "            , 'origDebtIncRatio'\n",
    "            , 'bestCreditScore'\n",
    "            , 'avgCreditScore'\n",
    "            , 'worstCreditScore'\n",
    "        ] # Set to True to bin numerics using K Means\n",
    "    , feature_selection = True\n",
    "    , silent = True\n",
    "    , profile = False\n",
    "    , categorical_features = [\n",
    "            'origChannel'\n",
    "            , 'numBorrowers'\n",
    "            , 'loanPurp'\n",
    "            , 'zipCode'\n",
    "            , 'bankNumber'\n",
    "            , 'stateNumber'\n",
    "            , 'origYear'\n",
    "            , 'origMonth'\n",
    "            , 'mSA'\n",
    "        ]\n",
    "        , numeric_features = [\n",
    "            'origIntRate'\n",
    "            , 'origUPB'\n",
    "            , 'origLTV'\n",
    "            , 'pMIperct'\n",
    "            , 'origDebtIncRatio'\n",
    "            , 'bestCreditScore'\n",
    "            , 'avgCreditScore'\n",
    "            , 'worstCreditScore'\n",
    "            , 'rateDiffAbove'\n",
    "            , 'rateDiffBelow'\n",
    "            , 'rateDiffAvg'\n",
    "            , 'rateDiffAbovePct'\n",
    "            , 'rateDiffBelowPct'\n",
    "            , 'rateDiffAvgPct'\n",
    "        ]\n",
    ")"
   ]
  },
  {
   "cell_type": "markdown",
   "metadata": {},
   "source": [
    "## Compare Models with no blacklist exclusions"
   ]
  },
  {
   "cell_type": "code",
   "execution_count": 62,
   "metadata": {
    "scrolled": false
   },
   "outputs": [
    {
     "data": {
      "text/html": [
       "<style  type=\"text/css\" >\n",
       "    #T_6fb6eb28_9db7_11ea_b0ae_309c234564f5 th {\n",
       "          text-align: left;\n",
       "    }    #T_6fb6eb28_9db7_11ea_b0ae_309c234564f5row0_col0 {\n",
       "            text-align:  left;\n",
       "        }    #T_6fb6eb28_9db7_11ea_b0ae_309c234564f5row0_col1 {\n",
       "            background-color:  yellow;\n",
       "            text-align:  left;\n",
       "        }    #T_6fb6eb28_9db7_11ea_b0ae_309c234564f5row0_col2 {\n",
       "            background-color:  yellow;\n",
       "            text-align:  left;\n",
       "        }    #T_6fb6eb28_9db7_11ea_b0ae_309c234564f5row0_col3 {\n",
       "            : ;\n",
       "            text-align:  left;\n",
       "        }    #T_6fb6eb28_9db7_11ea_b0ae_309c234564f5row0_col4 {\n",
       "            background-color:  yellow;\n",
       "            text-align:  left;\n",
       "        }    #T_6fb6eb28_9db7_11ea_b0ae_309c234564f5row0_col5 {\n",
       "            background-color:  yellow;\n",
       "            text-align:  left;\n",
       "        }    #T_6fb6eb28_9db7_11ea_b0ae_309c234564f5row0_col6 {\n",
       "            background-color:  yellow;\n",
       "            text-align:  left;\n",
       "        }    #T_6fb6eb28_9db7_11ea_b0ae_309c234564f5row1_col0 {\n",
       "            text-align:  left;\n",
       "        }    #T_6fb6eb28_9db7_11ea_b0ae_309c234564f5row1_col1 {\n",
       "            : ;\n",
       "            text-align:  left;\n",
       "        }    #T_6fb6eb28_9db7_11ea_b0ae_309c234564f5row1_col2 {\n",
       "            : ;\n",
       "            text-align:  left;\n",
       "        }    #T_6fb6eb28_9db7_11ea_b0ae_309c234564f5row1_col3 {\n",
       "            : ;\n",
       "            text-align:  left;\n",
       "        }    #T_6fb6eb28_9db7_11ea_b0ae_309c234564f5row1_col4 {\n",
       "            : ;\n",
       "            text-align:  left;\n",
       "        }    #T_6fb6eb28_9db7_11ea_b0ae_309c234564f5row1_col5 {\n",
       "            : ;\n",
       "            text-align:  left;\n",
       "        }    #T_6fb6eb28_9db7_11ea_b0ae_309c234564f5row1_col6 {\n",
       "            : ;\n",
       "            text-align:  left;\n",
       "        }    #T_6fb6eb28_9db7_11ea_b0ae_309c234564f5row2_col0 {\n",
       "            text-align:  left;\n",
       "        }    #T_6fb6eb28_9db7_11ea_b0ae_309c234564f5row2_col1 {\n",
       "            : ;\n",
       "            text-align:  left;\n",
       "        }    #T_6fb6eb28_9db7_11ea_b0ae_309c234564f5row2_col2 {\n",
       "            : ;\n",
       "            text-align:  left;\n",
       "        }    #T_6fb6eb28_9db7_11ea_b0ae_309c234564f5row2_col3 {\n",
       "            background-color:  yellow;\n",
       "            text-align:  left;\n",
       "        }    #T_6fb6eb28_9db7_11ea_b0ae_309c234564f5row2_col4 {\n",
       "            : ;\n",
       "            text-align:  left;\n",
       "        }    #T_6fb6eb28_9db7_11ea_b0ae_309c234564f5row2_col5 {\n",
       "            : ;\n",
       "            text-align:  left;\n",
       "        }    #T_6fb6eb28_9db7_11ea_b0ae_309c234564f5row2_col6 {\n",
       "            : ;\n",
       "            text-align:  left;\n",
       "        }    #T_6fb6eb28_9db7_11ea_b0ae_309c234564f5row3_col0 {\n",
       "            text-align:  left;\n",
       "        }    #T_6fb6eb28_9db7_11ea_b0ae_309c234564f5row3_col1 {\n",
       "            : ;\n",
       "            text-align:  left;\n",
       "        }    #T_6fb6eb28_9db7_11ea_b0ae_309c234564f5row3_col2 {\n",
       "            : ;\n",
       "            text-align:  left;\n",
       "        }    #T_6fb6eb28_9db7_11ea_b0ae_309c234564f5row3_col3 {\n",
       "            : ;\n",
       "            text-align:  left;\n",
       "        }    #T_6fb6eb28_9db7_11ea_b0ae_309c234564f5row3_col4 {\n",
       "            : ;\n",
       "            text-align:  left;\n",
       "        }    #T_6fb6eb28_9db7_11ea_b0ae_309c234564f5row3_col5 {\n",
       "            : ;\n",
       "            text-align:  left;\n",
       "        }    #T_6fb6eb28_9db7_11ea_b0ae_309c234564f5row3_col6 {\n",
       "            : ;\n",
       "            text-align:  left;\n",
       "        }    #T_6fb6eb28_9db7_11ea_b0ae_309c234564f5row4_col0 {\n",
       "            text-align:  left;\n",
       "        }    #T_6fb6eb28_9db7_11ea_b0ae_309c234564f5row4_col1 {\n",
       "            : ;\n",
       "            text-align:  left;\n",
       "        }    #T_6fb6eb28_9db7_11ea_b0ae_309c234564f5row4_col2 {\n",
       "            : ;\n",
       "            text-align:  left;\n",
       "        }    #T_6fb6eb28_9db7_11ea_b0ae_309c234564f5row4_col3 {\n",
       "            : ;\n",
       "            text-align:  left;\n",
       "        }    #T_6fb6eb28_9db7_11ea_b0ae_309c234564f5row4_col4 {\n",
       "            : ;\n",
       "            text-align:  left;\n",
       "        }    #T_6fb6eb28_9db7_11ea_b0ae_309c234564f5row4_col5 {\n",
       "            : ;\n",
       "            text-align:  left;\n",
       "        }    #T_6fb6eb28_9db7_11ea_b0ae_309c234564f5row4_col6 {\n",
       "            : ;\n",
       "            text-align:  left;\n",
       "        }    #T_6fb6eb28_9db7_11ea_b0ae_309c234564f5row5_col0 {\n",
       "            text-align:  left;\n",
       "        }    #T_6fb6eb28_9db7_11ea_b0ae_309c234564f5row5_col1 {\n",
       "            : ;\n",
       "            text-align:  left;\n",
       "        }    #T_6fb6eb28_9db7_11ea_b0ae_309c234564f5row5_col2 {\n",
       "            : ;\n",
       "            text-align:  left;\n",
       "        }    #T_6fb6eb28_9db7_11ea_b0ae_309c234564f5row5_col3 {\n",
       "            : ;\n",
       "            text-align:  left;\n",
       "        }    #T_6fb6eb28_9db7_11ea_b0ae_309c234564f5row5_col4 {\n",
       "            : ;\n",
       "            text-align:  left;\n",
       "        }    #T_6fb6eb28_9db7_11ea_b0ae_309c234564f5row5_col5 {\n",
       "            : ;\n",
       "            text-align:  left;\n",
       "        }    #T_6fb6eb28_9db7_11ea_b0ae_309c234564f5row5_col6 {\n",
       "            : ;\n",
       "            text-align:  left;\n",
       "        }    #T_6fb6eb28_9db7_11ea_b0ae_309c234564f5row6_col0 {\n",
       "            text-align:  left;\n",
       "        }    #T_6fb6eb28_9db7_11ea_b0ae_309c234564f5row6_col1 {\n",
       "            : ;\n",
       "            text-align:  left;\n",
       "        }    #T_6fb6eb28_9db7_11ea_b0ae_309c234564f5row6_col2 {\n",
       "            : ;\n",
       "            text-align:  left;\n",
       "        }    #T_6fb6eb28_9db7_11ea_b0ae_309c234564f5row6_col3 {\n",
       "            : ;\n",
       "            text-align:  left;\n",
       "        }    #T_6fb6eb28_9db7_11ea_b0ae_309c234564f5row6_col4 {\n",
       "            : ;\n",
       "            text-align:  left;\n",
       "        }    #T_6fb6eb28_9db7_11ea_b0ae_309c234564f5row6_col5 {\n",
       "            : ;\n",
       "            text-align:  left;\n",
       "        }    #T_6fb6eb28_9db7_11ea_b0ae_309c234564f5row6_col6 {\n",
       "            : ;\n",
       "            text-align:  left;\n",
       "        }    #T_6fb6eb28_9db7_11ea_b0ae_309c234564f5row7_col0 {\n",
       "            text-align:  left;\n",
       "        }    #T_6fb6eb28_9db7_11ea_b0ae_309c234564f5row7_col1 {\n",
       "            : ;\n",
       "            text-align:  left;\n",
       "        }    #T_6fb6eb28_9db7_11ea_b0ae_309c234564f5row7_col2 {\n",
       "            : ;\n",
       "            text-align:  left;\n",
       "        }    #T_6fb6eb28_9db7_11ea_b0ae_309c234564f5row7_col3 {\n",
       "            : ;\n",
       "            text-align:  left;\n",
       "        }    #T_6fb6eb28_9db7_11ea_b0ae_309c234564f5row7_col4 {\n",
       "            : ;\n",
       "            text-align:  left;\n",
       "        }    #T_6fb6eb28_9db7_11ea_b0ae_309c234564f5row7_col5 {\n",
       "            : ;\n",
       "            text-align:  left;\n",
       "        }    #T_6fb6eb28_9db7_11ea_b0ae_309c234564f5row7_col6 {\n",
       "            : ;\n",
       "            text-align:  left;\n",
       "        }    #T_6fb6eb28_9db7_11ea_b0ae_309c234564f5row8_col0 {\n",
       "            text-align:  left;\n",
       "        }    #T_6fb6eb28_9db7_11ea_b0ae_309c234564f5row8_col1 {\n",
       "            : ;\n",
       "            text-align:  left;\n",
       "        }    #T_6fb6eb28_9db7_11ea_b0ae_309c234564f5row8_col2 {\n",
       "            : ;\n",
       "            text-align:  left;\n",
       "        }    #T_6fb6eb28_9db7_11ea_b0ae_309c234564f5row8_col3 {\n",
       "            : ;\n",
       "            text-align:  left;\n",
       "        }    #T_6fb6eb28_9db7_11ea_b0ae_309c234564f5row8_col4 {\n",
       "            : ;\n",
       "            text-align:  left;\n",
       "        }    #T_6fb6eb28_9db7_11ea_b0ae_309c234564f5row8_col5 {\n",
       "            : ;\n",
       "            text-align:  left;\n",
       "        }    #T_6fb6eb28_9db7_11ea_b0ae_309c234564f5row8_col6 {\n",
       "            : ;\n",
       "            text-align:  left;\n",
       "        }    #T_6fb6eb28_9db7_11ea_b0ae_309c234564f5row9_col0 {\n",
       "            text-align:  left;\n",
       "        }    #T_6fb6eb28_9db7_11ea_b0ae_309c234564f5row9_col1 {\n",
       "            : ;\n",
       "            text-align:  left;\n",
       "        }    #T_6fb6eb28_9db7_11ea_b0ae_309c234564f5row9_col2 {\n",
       "            : ;\n",
       "            text-align:  left;\n",
       "        }    #T_6fb6eb28_9db7_11ea_b0ae_309c234564f5row9_col3 {\n",
       "            : ;\n",
       "            text-align:  left;\n",
       "        }    #T_6fb6eb28_9db7_11ea_b0ae_309c234564f5row9_col4 {\n",
       "            : ;\n",
       "            text-align:  left;\n",
       "        }    #T_6fb6eb28_9db7_11ea_b0ae_309c234564f5row9_col5 {\n",
       "            : ;\n",
       "            text-align:  left;\n",
       "        }    #T_6fb6eb28_9db7_11ea_b0ae_309c234564f5row9_col6 {\n",
       "            : ;\n",
       "            text-align:  left;\n",
       "        }    #T_6fb6eb28_9db7_11ea_b0ae_309c234564f5row10_col0 {\n",
       "            text-align:  left;\n",
       "        }    #T_6fb6eb28_9db7_11ea_b0ae_309c234564f5row10_col1 {\n",
       "            : ;\n",
       "            text-align:  left;\n",
       "        }    #T_6fb6eb28_9db7_11ea_b0ae_309c234564f5row10_col2 {\n",
       "            : ;\n",
       "            text-align:  left;\n",
       "        }    #T_6fb6eb28_9db7_11ea_b0ae_309c234564f5row10_col3 {\n",
       "            : ;\n",
       "            text-align:  left;\n",
       "        }    #T_6fb6eb28_9db7_11ea_b0ae_309c234564f5row10_col4 {\n",
       "            : ;\n",
       "            text-align:  left;\n",
       "        }    #T_6fb6eb28_9db7_11ea_b0ae_309c234564f5row10_col5 {\n",
       "            : ;\n",
       "            text-align:  left;\n",
       "        }    #T_6fb6eb28_9db7_11ea_b0ae_309c234564f5row10_col6 {\n",
       "            : ;\n",
       "            text-align:  left;\n",
       "        }    #T_6fb6eb28_9db7_11ea_b0ae_309c234564f5row11_col0 {\n",
       "            text-align:  left;\n",
       "        }    #T_6fb6eb28_9db7_11ea_b0ae_309c234564f5row11_col1 {\n",
       "            : ;\n",
       "            text-align:  left;\n",
       "        }    #T_6fb6eb28_9db7_11ea_b0ae_309c234564f5row11_col2 {\n",
       "            : ;\n",
       "            text-align:  left;\n",
       "        }    #T_6fb6eb28_9db7_11ea_b0ae_309c234564f5row11_col3 {\n",
       "            : ;\n",
       "            text-align:  left;\n",
       "        }    #T_6fb6eb28_9db7_11ea_b0ae_309c234564f5row11_col4 {\n",
       "            : ;\n",
       "            text-align:  left;\n",
       "        }    #T_6fb6eb28_9db7_11ea_b0ae_309c234564f5row11_col5 {\n",
       "            : ;\n",
       "            text-align:  left;\n",
       "        }    #T_6fb6eb28_9db7_11ea_b0ae_309c234564f5row11_col6 {\n",
       "            : ;\n",
       "            text-align:  left;\n",
       "        }    #T_6fb6eb28_9db7_11ea_b0ae_309c234564f5row12_col0 {\n",
       "            text-align:  left;\n",
       "        }    #T_6fb6eb28_9db7_11ea_b0ae_309c234564f5row12_col1 {\n",
       "            : ;\n",
       "            text-align:  left;\n",
       "        }    #T_6fb6eb28_9db7_11ea_b0ae_309c234564f5row12_col2 {\n",
       "            : ;\n",
       "            text-align:  left;\n",
       "        }    #T_6fb6eb28_9db7_11ea_b0ae_309c234564f5row12_col3 {\n",
       "            : ;\n",
       "            text-align:  left;\n",
       "        }    #T_6fb6eb28_9db7_11ea_b0ae_309c234564f5row12_col4 {\n",
       "            : ;\n",
       "            text-align:  left;\n",
       "        }    #T_6fb6eb28_9db7_11ea_b0ae_309c234564f5row12_col5 {\n",
       "            : ;\n",
       "            text-align:  left;\n",
       "        }    #T_6fb6eb28_9db7_11ea_b0ae_309c234564f5row12_col6 {\n",
       "            : ;\n",
       "            text-align:  left;\n",
       "        }    #T_6fb6eb28_9db7_11ea_b0ae_309c234564f5row13_col0 {\n",
       "            text-align:  left;\n",
       "        }    #T_6fb6eb28_9db7_11ea_b0ae_309c234564f5row13_col1 {\n",
       "            : ;\n",
       "            text-align:  left;\n",
       "        }    #T_6fb6eb28_9db7_11ea_b0ae_309c234564f5row13_col2 {\n",
       "            : ;\n",
       "            text-align:  left;\n",
       "        }    #T_6fb6eb28_9db7_11ea_b0ae_309c234564f5row13_col3 {\n",
       "            : ;\n",
       "            text-align:  left;\n",
       "        }    #T_6fb6eb28_9db7_11ea_b0ae_309c234564f5row13_col4 {\n",
       "            : ;\n",
       "            text-align:  left;\n",
       "        }    #T_6fb6eb28_9db7_11ea_b0ae_309c234564f5row13_col5 {\n",
       "            : ;\n",
       "            text-align:  left;\n",
       "        }    #T_6fb6eb28_9db7_11ea_b0ae_309c234564f5row13_col6 {\n",
       "            : ;\n",
       "            text-align:  left;\n",
       "        }    #T_6fb6eb28_9db7_11ea_b0ae_309c234564f5row14_col0 {\n",
       "            text-align:  left;\n",
       "        }    #T_6fb6eb28_9db7_11ea_b0ae_309c234564f5row14_col1 {\n",
       "            : ;\n",
       "            text-align:  left;\n",
       "        }    #T_6fb6eb28_9db7_11ea_b0ae_309c234564f5row14_col2 {\n",
       "            : ;\n",
       "            text-align:  left;\n",
       "        }    #T_6fb6eb28_9db7_11ea_b0ae_309c234564f5row14_col3 {\n",
       "            : ;\n",
       "            text-align:  left;\n",
       "        }    #T_6fb6eb28_9db7_11ea_b0ae_309c234564f5row14_col4 {\n",
       "            : ;\n",
       "            text-align:  left;\n",
       "        }    #T_6fb6eb28_9db7_11ea_b0ae_309c234564f5row14_col5 {\n",
       "            : ;\n",
       "            text-align:  left;\n",
       "        }    #T_6fb6eb28_9db7_11ea_b0ae_309c234564f5row14_col6 {\n",
       "            : ;\n",
       "            text-align:  left;\n",
       "        }</style><table id=\"T_6fb6eb28_9db7_11ea_b0ae_309c234564f5\" ><thead>    <tr>        <th class=\"blank level0\" ></th>        <th class=\"col_heading level0 col0\" >Model</th>        <th class=\"col_heading level0 col1\" >Accuracy</th>        <th class=\"col_heading level0 col2\" >AUC</th>        <th class=\"col_heading level0 col3\" >Recall</th>        <th class=\"col_heading level0 col4\" >Prec.</th>        <th class=\"col_heading level0 col5\" >F1</th>        <th class=\"col_heading level0 col6\" >Kappa</th>    </tr></thead><tbody>\n",
       "                <tr>\n",
       "                        <th id=\"T_6fb6eb28_9db7_11ea_b0ae_309c234564f5level0_row0\" class=\"row_heading level0 row0\" >0</th>\n",
       "                        <td id=\"T_6fb6eb28_9db7_11ea_b0ae_309c234564f5row0_col0\" class=\"data row0 col0\" >Extra Trees Classifier</td>\n",
       "                        <td id=\"T_6fb6eb28_9db7_11ea_b0ae_309c234564f5row0_col1\" class=\"data row0 col1\" >0.9489</td>\n",
       "                        <td id=\"T_6fb6eb28_9db7_11ea_b0ae_309c234564f5row0_col2\" class=\"data row0 col2\" >0.987</td>\n",
       "                        <td id=\"T_6fb6eb28_9db7_11ea_b0ae_309c234564f5row0_col3\" class=\"data row0 col3\" >0.9545</td>\n",
       "                        <td id=\"T_6fb6eb28_9db7_11ea_b0ae_309c234564f5row0_col4\" class=\"data row0 col4\" >0.9438</td>\n",
       "                        <td id=\"T_6fb6eb28_9db7_11ea_b0ae_309c234564f5row0_col5\" class=\"data row0 col5\" >0.9491</td>\n",
       "                        <td id=\"T_6fb6eb28_9db7_11ea_b0ae_309c234564f5row0_col6\" class=\"data row0 col6\" >0.8978</td>\n",
       "            </tr>\n",
       "            <tr>\n",
       "                        <th id=\"T_6fb6eb28_9db7_11ea_b0ae_309c234564f5level0_row1\" class=\"row_heading level0 row1\" >1</th>\n",
       "                        <td id=\"T_6fb6eb28_9db7_11ea_b0ae_309c234564f5row1_col0\" class=\"data row1 col0\" >Random Forest Classifier</td>\n",
       "                        <td id=\"T_6fb6eb28_9db7_11ea_b0ae_309c234564f5row1_col1\" class=\"data row1 col1\" >0.9191</td>\n",
       "                        <td id=\"T_6fb6eb28_9db7_11ea_b0ae_309c234564f5row1_col2\" class=\"data row1 col2\" >0.9761</td>\n",
       "                        <td id=\"T_6fb6eb28_9db7_11ea_b0ae_309c234564f5row1_col3\" class=\"data row1 col3\" >0.9503</td>\n",
       "                        <td id=\"T_6fb6eb28_9db7_11ea_b0ae_309c234564f5row1_col4\" class=\"data row1 col4\" >0.8943</td>\n",
       "                        <td id=\"T_6fb6eb28_9db7_11ea_b0ae_309c234564f5row1_col5\" class=\"data row1 col5\" >0.9214</td>\n",
       "                        <td id=\"T_6fb6eb28_9db7_11ea_b0ae_309c234564f5row1_col6\" class=\"data row1 col6\" >0.8382</td>\n",
       "            </tr>\n",
       "            <tr>\n",
       "                        <th id=\"T_6fb6eb28_9db7_11ea_b0ae_309c234564f5level0_row2\" class=\"row_heading level0 row2\" >2</th>\n",
       "                        <td id=\"T_6fb6eb28_9db7_11ea_b0ae_309c234564f5row2_col0\" class=\"data row2 col0\" >Decision Tree Classifier</td>\n",
       "                        <td id=\"T_6fb6eb28_9db7_11ea_b0ae_309c234564f5row2_col1\" class=\"data row2 col1\" >0.8732</td>\n",
       "                        <td id=\"T_6fb6eb28_9db7_11ea_b0ae_309c234564f5row2_col2\" class=\"data row2 col2\" >0.8734</td>\n",
       "                        <td id=\"T_6fb6eb28_9db7_11ea_b0ae_309c234564f5row2_col3\" class=\"data row2 col3\" >0.9666</td>\n",
       "                        <td id=\"T_6fb6eb28_9db7_11ea_b0ae_309c234564f5row2_col4\" class=\"data row2 col4\" >0.8142</td>\n",
       "                        <td id=\"T_6fb6eb28_9db7_11ea_b0ae_309c234564f5row2_col5\" class=\"data row2 col5\" >0.8839</td>\n",
       "                        <td id=\"T_6fb6eb28_9db7_11ea_b0ae_309c234564f5row2_col6\" class=\"data row2 col6\" >0.7465</td>\n",
       "            </tr>\n",
       "            <tr>\n",
       "                        <th id=\"T_6fb6eb28_9db7_11ea_b0ae_309c234564f5level0_row3\" class=\"row_heading level0 row3\" >3</th>\n",
       "                        <td id=\"T_6fb6eb28_9db7_11ea_b0ae_309c234564f5row3_col0\" class=\"data row3 col0\" >CatBoost Classifier</td>\n",
       "                        <td id=\"T_6fb6eb28_9db7_11ea_b0ae_309c234564f5row3_col1\" class=\"data row3 col1\" >0.766</td>\n",
       "                        <td id=\"T_6fb6eb28_9db7_11ea_b0ae_309c234564f5row3_col2\" class=\"data row3 col2\" >0.8431</td>\n",
       "                        <td id=\"T_6fb6eb28_9db7_11ea_b0ae_309c234564f5row3_col3\" class=\"data row3 col3\" >0.8216</td>\n",
       "                        <td id=\"T_6fb6eb28_9db7_11ea_b0ae_309c234564f5row3_col4\" class=\"data row3 col4\" >0.7389</td>\n",
       "                        <td id=\"T_6fb6eb28_9db7_11ea_b0ae_309c234564f5row3_col5\" class=\"data row3 col5\" >0.778</td>\n",
       "                        <td id=\"T_6fb6eb28_9db7_11ea_b0ae_309c234564f5row3_col6\" class=\"data row3 col6\" >0.5321</td>\n",
       "            </tr>\n",
       "            <tr>\n",
       "                        <th id=\"T_6fb6eb28_9db7_11ea_b0ae_309c234564f5level0_row4\" class=\"row_heading level0 row4\" >4</th>\n",
       "                        <td id=\"T_6fb6eb28_9db7_11ea_b0ae_309c234564f5row4_col0\" class=\"data row4 col0\" >Light Gradient Boosting Machine</td>\n",
       "                        <td id=\"T_6fb6eb28_9db7_11ea_b0ae_309c234564f5row4_col1\" class=\"data row4 col1\" >0.742</td>\n",
       "                        <td id=\"T_6fb6eb28_9db7_11ea_b0ae_309c234564f5row4_col2\" class=\"data row4 col2\" >0.8183</td>\n",
       "                        <td id=\"T_6fb6eb28_9db7_11ea_b0ae_309c234564f5row4_col3\" class=\"data row4 col3\" >0.8012</td>\n",
       "                        <td id=\"T_6fb6eb28_9db7_11ea_b0ae_309c234564f5row4_col4\" class=\"data row4 col4\" >0.7158</td>\n",
       "                        <td id=\"T_6fb6eb28_9db7_11ea_b0ae_309c234564f5row4_col5\" class=\"data row4 col5\" >0.7561</td>\n",
       "                        <td id=\"T_6fb6eb28_9db7_11ea_b0ae_309c234564f5row4_col6\" class=\"data row4 col6\" >0.484</td>\n",
       "            </tr>\n",
       "            <tr>\n",
       "                        <th id=\"T_6fb6eb28_9db7_11ea_b0ae_309c234564f5level0_row5\" class=\"row_heading level0 row5\" >5</th>\n",
       "                        <td id=\"T_6fb6eb28_9db7_11ea_b0ae_309c234564f5row5_col0\" class=\"data row5 col0\" >Ridge Classifier</td>\n",
       "                        <td id=\"T_6fb6eb28_9db7_11ea_b0ae_309c234564f5row5_col1\" class=\"data row5 col1\" >0.7343</td>\n",
       "                        <td id=\"T_6fb6eb28_9db7_11ea_b0ae_309c234564f5row5_col2\" class=\"data row5 col2\" >0</td>\n",
       "                        <td id=\"T_6fb6eb28_9db7_11ea_b0ae_309c234564f5row5_col3\" class=\"data row5 col3\" >0.7766</td>\n",
       "                        <td id=\"T_6fb6eb28_9db7_11ea_b0ae_309c234564f5row5_col4\" class=\"data row5 col4\" >0.7154</td>\n",
       "                        <td id=\"T_6fb6eb28_9db7_11ea_b0ae_309c234564f5row5_col5\" class=\"data row5 col5\" >0.7448</td>\n",
       "                        <td id=\"T_6fb6eb28_9db7_11ea_b0ae_309c234564f5row5_col6\" class=\"data row5 col6\" >0.4687</td>\n",
       "            </tr>\n",
       "            <tr>\n",
       "                        <th id=\"T_6fb6eb28_9db7_11ea_b0ae_309c234564f5level0_row6\" class=\"row_heading level0 row6\" >6</th>\n",
       "                        <td id=\"T_6fb6eb28_9db7_11ea_b0ae_309c234564f5row6_col0\" class=\"data row6 col0\" >Linear Discriminant Analysis</td>\n",
       "                        <td id=\"T_6fb6eb28_9db7_11ea_b0ae_309c234564f5row6_col1\" class=\"data row6 col1\" >0.7343</td>\n",
       "                        <td id=\"T_6fb6eb28_9db7_11ea_b0ae_309c234564f5row6_col2\" class=\"data row6 col2\" >0.8062</td>\n",
       "                        <td id=\"T_6fb6eb28_9db7_11ea_b0ae_309c234564f5row6_col3\" class=\"data row6 col3\" >0.7764</td>\n",
       "                        <td id=\"T_6fb6eb28_9db7_11ea_b0ae_309c234564f5row6_col4\" class=\"data row6 col4\" >0.7155</td>\n",
       "                        <td id=\"T_6fb6eb28_9db7_11ea_b0ae_309c234564f5row6_col5\" class=\"data row6 col5\" >0.7447</td>\n",
       "                        <td id=\"T_6fb6eb28_9db7_11ea_b0ae_309c234564f5row6_col6\" class=\"data row6 col6\" >0.4686</td>\n",
       "            </tr>\n",
       "            <tr>\n",
       "                        <th id=\"T_6fb6eb28_9db7_11ea_b0ae_309c234564f5level0_row7\" class=\"row_heading level0 row7\" >7</th>\n",
       "                        <td id=\"T_6fb6eb28_9db7_11ea_b0ae_309c234564f5row7_col0\" class=\"data row7 col0\" >Logistic Regression</td>\n",
       "                        <td id=\"T_6fb6eb28_9db7_11ea_b0ae_309c234564f5row7_col1\" class=\"data row7 col1\" >0.734</td>\n",
       "                        <td id=\"T_6fb6eb28_9db7_11ea_b0ae_309c234564f5row7_col2\" class=\"data row7 col2\" >0.8066</td>\n",
       "                        <td id=\"T_6fb6eb28_9db7_11ea_b0ae_309c234564f5row7_col3\" class=\"data row7 col3\" >0.7703</td>\n",
       "                        <td id=\"T_6fb6eb28_9db7_11ea_b0ae_309c234564f5row7_col4\" class=\"data row7 col4\" >0.7175</td>\n",
       "                        <td id=\"T_6fb6eb28_9db7_11ea_b0ae_309c234564f5row7_col5\" class=\"data row7 col5\" >0.743</td>\n",
       "                        <td id=\"T_6fb6eb28_9db7_11ea_b0ae_309c234564f5row7_col6\" class=\"data row7 col6\" >0.468</td>\n",
       "            </tr>\n",
       "            <tr>\n",
       "                        <th id=\"T_6fb6eb28_9db7_11ea_b0ae_309c234564f5level0_row8\" class=\"row_heading level0 row8\" >8</th>\n",
       "                        <td id=\"T_6fb6eb28_9db7_11ea_b0ae_309c234564f5row8_col0\" class=\"data row8 col0\" >SVM - Linear Kernel</td>\n",
       "                        <td id=\"T_6fb6eb28_9db7_11ea_b0ae_309c234564f5row8_col1\" class=\"data row8 col1\" >0.732</td>\n",
       "                        <td id=\"T_6fb6eb28_9db7_11ea_b0ae_309c234564f5row8_col2\" class=\"data row8 col2\" >0</td>\n",
       "                        <td id=\"T_6fb6eb28_9db7_11ea_b0ae_309c234564f5row8_col3\" class=\"data row8 col3\" >0.785</td>\n",
       "                        <td id=\"T_6fb6eb28_9db7_11ea_b0ae_309c234564f5row8_col4\" class=\"data row8 col4\" >0.7096</td>\n",
       "                        <td id=\"T_6fb6eb28_9db7_11ea_b0ae_309c234564f5row8_col5\" class=\"data row8 col5\" >0.745</td>\n",
       "                        <td id=\"T_6fb6eb28_9db7_11ea_b0ae_309c234564f5row8_col6\" class=\"data row8 col6\" >0.4641</td>\n",
       "            </tr>\n",
       "            <tr>\n",
       "                        <th id=\"T_6fb6eb28_9db7_11ea_b0ae_309c234564f5level0_row9\" class=\"row_heading level0 row9\" >9</th>\n",
       "                        <td id=\"T_6fb6eb28_9db7_11ea_b0ae_309c234564f5row9_col0\" class=\"data row9 col0\" >K Neighbors Classifier</td>\n",
       "                        <td id=\"T_6fb6eb28_9db7_11ea_b0ae_309c234564f5row9_col1\" class=\"data row9 col1\" >0.7255</td>\n",
       "                        <td id=\"T_6fb6eb28_9db7_11ea_b0ae_309c234564f5row9_col2\" class=\"data row9 col2\" >0.8019</td>\n",
       "                        <td id=\"T_6fb6eb28_9db7_11ea_b0ae_309c234564f5row9_col3\" class=\"data row9 col3\" >0.8496</td>\n",
       "                        <td id=\"T_6fb6eb28_9db7_11ea_b0ae_309c234564f5row9_col4\" class=\"data row9 col4\" >0.6802</td>\n",
       "                        <td id=\"T_6fb6eb28_9db7_11ea_b0ae_309c234564f5row9_col5\" class=\"data row9 col5\" >0.7555</td>\n",
       "                        <td id=\"T_6fb6eb28_9db7_11ea_b0ae_309c234564f5row9_col6\" class=\"data row9 col6\" >0.4512</td>\n",
       "            </tr>\n",
       "            <tr>\n",
       "                        <th id=\"T_6fb6eb28_9db7_11ea_b0ae_309c234564f5level0_row10\" class=\"row_heading level0 row10\" >10</th>\n",
       "                        <td id=\"T_6fb6eb28_9db7_11ea_b0ae_309c234564f5row10_col0\" class=\"data row10 col0\" >Extreme Gradient Boosting</td>\n",
       "                        <td id=\"T_6fb6eb28_9db7_11ea_b0ae_309c234564f5row10_col1\" class=\"data row10 col1\" >0.7165</td>\n",
       "                        <td id=\"T_6fb6eb28_9db7_11ea_b0ae_309c234564f5row10_col2\" class=\"data row10 col2\" >0.7862</td>\n",
       "                        <td id=\"T_6fb6eb28_9db7_11ea_b0ae_309c234564f5row10_col3\" class=\"data row10 col3\" >0.763</td>\n",
       "                        <td id=\"T_6fb6eb28_9db7_11ea_b0ae_309c234564f5row10_col4\" class=\"data row10 col4\" >0.6976</td>\n",
       "                        <td id=\"T_6fb6eb28_9db7_11ea_b0ae_309c234564f5row10_col5\" class=\"data row10 col5\" >0.7288</td>\n",
       "                        <td id=\"T_6fb6eb28_9db7_11ea_b0ae_309c234564f5row10_col6\" class=\"data row10 col6\" >0.4332</td>\n",
       "            </tr>\n",
       "            <tr>\n",
       "                        <th id=\"T_6fb6eb28_9db7_11ea_b0ae_309c234564f5level0_row11\" class=\"row_heading level0 row11\" >11</th>\n",
       "                        <td id=\"T_6fb6eb28_9db7_11ea_b0ae_309c234564f5row11_col0\" class=\"data row11 col0\" >Gradient Boosting Classifier</td>\n",
       "                        <td id=\"T_6fb6eb28_9db7_11ea_b0ae_309c234564f5row11_col1\" class=\"data row11 col1\" >0.7159</td>\n",
       "                        <td id=\"T_6fb6eb28_9db7_11ea_b0ae_309c234564f5row11_col2\" class=\"data row11 col2\" >0.7867</td>\n",
       "                        <td id=\"T_6fb6eb28_9db7_11ea_b0ae_309c234564f5row11_col3\" class=\"data row11 col3\" >0.7561</td>\n",
       "                        <td id=\"T_6fb6eb28_9db7_11ea_b0ae_309c234564f5row11_col4\" class=\"data row11 col4\" >0.6992</td>\n",
       "                        <td id=\"T_6fb6eb28_9db7_11ea_b0ae_309c234564f5row11_col5\" class=\"data row11 col5\" >0.7265</td>\n",
       "                        <td id=\"T_6fb6eb28_9db7_11ea_b0ae_309c234564f5row11_col6\" class=\"data row11 col6\" >0.4318</td>\n",
       "            </tr>\n",
       "            <tr>\n",
       "                        <th id=\"T_6fb6eb28_9db7_11ea_b0ae_309c234564f5level0_row12\" class=\"row_heading level0 row12\" >12</th>\n",
       "                        <td id=\"T_6fb6eb28_9db7_11ea_b0ae_309c234564f5row12_col0\" class=\"data row12 col0\" >Ada Boost Classifier</td>\n",
       "                        <td id=\"T_6fb6eb28_9db7_11ea_b0ae_309c234564f5row12_col1\" class=\"data row12 col1\" >0.7079</td>\n",
       "                        <td id=\"T_6fb6eb28_9db7_11ea_b0ae_309c234564f5row12_col2\" class=\"data row12 col2\" >0.7789</td>\n",
       "                        <td id=\"T_6fb6eb28_9db7_11ea_b0ae_309c234564f5row12_col3\" class=\"data row12 col3\" >0.745</td>\n",
       "                        <td id=\"T_6fb6eb28_9db7_11ea_b0ae_309c234564f5row12_col4\" class=\"data row12 col4\" >0.6929</td>\n",
       "                        <td id=\"T_6fb6eb28_9db7_11ea_b0ae_309c234564f5row12_col5\" class=\"data row12 col5\" >0.718</td>\n",
       "                        <td id=\"T_6fb6eb28_9db7_11ea_b0ae_309c234564f5row12_col6\" class=\"data row12 col6\" >0.4158</td>\n",
       "            </tr>\n",
       "            <tr>\n",
       "                        <th id=\"T_6fb6eb28_9db7_11ea_b0ae_309c234564f5level0_row13\" class=\"row_heading level0 row13\" >13</th>\n",
       "                        <td id=\"T_6fb6eb28_9db7_11ea_b0ae_309c234564f5row13_col0\" class=\"data row13 col0\" >Naive Bayes</td>\n",
       "                        <td id=\"T_6fb6eb28_9db7_11ea_b0ae_309c234564f5row13_col1\" class=\"data row13 col1\" >0.6707</td>\n",
       "                        <td id=\"T_6fb6eb28_9db7_11ea_b0ae_309c234564f5row13_col2\" class=\"data row13 col2\" >0.6958</td>\n",
       "                        <td id=\"T_6fb6eb28_9db7_11ea_b0ae_309c234564f5row13_col3\" class=\"data row13 col3\" >0.7955</td>\n",
       "                        <td id=\"T_6fb6eb28_9db7_11ea_b0ae_309c234564f5row13_col4\" class=\"data row13 col4\" >0.6361</td>\n",
       "                        <td id=\"T_6fb6eb28_9db7_11ea_b0ae_309c234564f5row13_col5\" class=\"data row13 col5\" >0.7069</td>\n",
       "                        <td id=\"T_6fb6eb28_9db7_11ea_b0ae_309c234564f5row13_col6\" class=\"data row13 col6\" >0.3416</td>\n",
       "            </tr>\n",
       "            <tr>\n",
       "                        <th id=\"T_6fb6eb28_9db7_11ea_b0ae_309c234564f5level0_row14\" class=\"row_heading level0 row14\" >14</th>\n",
       "                        <td id=\"T_6fb6eb28_9db7_11ea_b0ae_309c234564f5row14_col0\" class=\"data row14 col0\" >Quadratic Discriminant Analysis</td>\n",
       "                        <td id=\"T_6fb6eb28_9db7_11ea_b0ae_309c234564f5row14_col1\" class=\"data row14 col1\" >0.5941</td>\n",
       "                        <td id=\"T_6fb6eb28_9db7_11ea_b0ae_309c234564f5row14_col2\" class=\"data row14 col2\" >0.5993</td>\n",
       "                        <td id=\"T_6fb6eb28_9db7_11ea_b0ae_309c234564f5row14_col3\" class=\"data row14 col3\" >0.9415</td>\n",
       "                        <td id=\"T_6fb6eb28_9db7_11ea_b0ae_309c234564f5row14_col4\" class=\"data row14 col4\" >0.5553</td>\n",
       "                        <td id=\"T_6fb6eb28_9db7_11ea_b0ae_309c234564f5row14_col5\" class=\"data row14 col5\" >0.6983</td>\n",
       "                        <td id=\"T_6fb6eb28_9db7_11ea_b0ae_309c234564f5row14_col6\" class=\"data row14 col6\" >0.1892</td>\n",
       "            </tr>\n",
       "    </tbody></table>"
      ],
      "text/plain": [
       "<pandas.io.formats.style.Styler at 0x230b7273d68>"
      ]
     },
     "execution_count": 62,
     "metadata": {},
     "output_type": "execute_result"
    }
   ],
   "source": [
    "model_results=compare_models() #blacklist = ['tr','ransac'],'lar','par','huber','llar','lasso','en','ridge','omp','br','svm'])\n",
    "model_results"
   ]
  },
  {
   "cell_type": "markdown",
   "metadata": {},
   "source": [
    "## Create models "
   ]
  },
  {
   "cell_type": "markdown",
   "metadata": {},
   "source": [
    "#### Extra Trees Classifier"
   ]
  },
  {
   "cell_type": "code",
   "execution_count": 73,
   "metadata": {
    "scrolled": true
   },
   "outputs": [
    {
     "data": {
      "text/html": [
       "<div>\n",
       "<style scoped>\n",
       "    .dataframe tbody tr th:only-of-type {\n",
       "        vertical-align: middle;\n",
       "    }\n",
       "\n",
       "    .dataframe tbody tr th {\n",
       "        vertical-align: top;\n",
       "    }\n",
       "\n",
       "    .dataframe thead th {\n",
       "        text-align: right;\n",
       "    }\n",
       "</style>\n",
       "<table border=\"1\" class=\"dataframe\">\n",
       "  <thead>\n",
       "    <tr style=\"text-align: right;\">\n",
       "      <th></th>\n",
       "      <th>Accuracy</th>\n",
       "      <th>AUC</th>\n",
       "      <th>Recall</th>\n",
       "      <th>Prec.</th>\n",
       "      <th>F1</th>\n",
       "      <th>Kappa</th>\n",
       "    </tr>\n",
       "  </thead>\n",
       "  <tbody>\n",
       "    <tr>\n",
       "      <th>0</th>\n",
       "      <td>0.9523</td>\n",
       "      <td>0.9887</td>\n",
       "      <td>0.9569</td>\n",
       "      <td>0.9480</td>\n",
       "      <td>0.9525</td>\n",
       "      <td>0.9046</td>\n",
       "    </tr>\n",
       "    <tr>\n",
       "      <th>1</th>\n",
       "      <td>0.9514</td>\n",
       "      <td>0.9887</td>\n",
       "      <td>0.9600</td>\n",
       "      <td>0.9435</td>\n",
       "      <td>0.9517</td>\n",
       "      <td>0.9028</td>\n",
       "    </tr>\n",
       "    <tr>\n",
       "      <th>2</th>\n",
       "      <td>0.9496</td>\n",
       "      <td>0.9863</td>\n",
       "      <td>0.9534</td>\n",
       "      <td>0.9461</td>\n",
       "      <td>0.9497</td>\n",
       "      <td>0.8992</td>\n",
       "    </tr>\n",
       "    <tr>\n",
       "      <th>3</th>\n",
       "      <td>0.9490</td>\n",
       "      <td>0.9864</td>\n",
       "      <td>0.9515</td>\n",
       "      <td>0.9466</td>\n",
       "      <td>0.9490</td>\n",
       "      <td>0.8980</td>\n",
       "    </tr>\n",
       "    <tr>\n",
       "      <th>4</th>\n",
       "      <td>0.9479</td>\n",
       "      <td>0.9869</td>\n",
       "      <td>0.9498</td>\n",
       "      <td>0.9461</td>\n",
       "      <td>0.9480</td>\n",
       "      <td>0.8959</td>\n",
       "    </tr>\n",
       "    <tr>\n",
       "      <th>5</th>\n",
       "      <td>0.9452</td>\n",
       "      <td>0.9843</td>\n",
       "      <td>0.9500</td>\n",
       "      <td>0.9408</td>\n",
       "      <td>0.9454</td>\n",
       "      <td>0.8905</td>\n",
       "    </tr>\n",
       "    <tr>\n",
       "      <th>6</th>\n",
       "      <td>0.9470</td>\n",
       "      <td>0.9858</td>\n",
       "      <td>0.9559</td>\n",
       "      <td>0.9391</td>\n",
       "      <td>0.9474</td>\n",
       "      <td>0.8940</td>\n",
       "    </tr>\n",
       "    <tr>\n",
       "      <th>7</th>\n",
       "      <td>0.9476</td>\n",
       "      <td>0.9866</td>\n",
       "      <td>0.9540</td>\n",
       "      <td>0.9419</td>\n",
       "      <td>0.9479</td>\n",
       "      <td>0.8953</td>\n",
       "    </tr>\n",
       "    <tr>\n",
       "      <th>8</th>\n",
       "      <td>0.9525</td>\n",
       "      <td>0.9876</td>\n",
       "      <td>0.9565</td>\n",
       "      <td>0.9488</td>\n",
       "      <td>0.9526</td>\n",
       "      <td>0.9050</td>\n",
       "    </tr>\n",
       "    <tr>\n",
       "      <th>9</th>\n",
       "      <td>0.9462</td>\n",
       "      <td>0.9881</td>\n",
       "      <td>0.9565</td>\n",
       "      <td>0.9370</td>\n",
       "      <td>0.9467</td>\n",
       "      <td>0.8924</td>\n",
       "    </tr>\n",
       "    <tr>\n",
       "      <th>Mean</th>\n",
       "      <td>0.9489</td>\n",
       "      <td>0.9870</td>\n",
       "      <td>0.9545</td>\n",
       "      <td>0.9438</td>\n",
       "      <td>0.9491</td>\n",
       "      <td>0.8978</td>\n",
       "    </tr>\n",
       "    <tr>\n",
       "      <th>SD</th>\n",
       "      <td>0.0024</td>\n",
       "      <td>0.0013</td>\n",
       "      <td>0.0031</td>\n",
       "      <td>0.0038</td>\n",
       "      <td>0.0024</td>\n",
       "      <td>0.0048</td>\n",
       "    </tr>\n",
       "  </tbody>\n",
       "</table>\n",
       "</div>"
      ],
      "text/plain": [
       "      Accuracy     AUC  Recall   Prec.      F1   Kappa\n",
       "0       0.9523  0.9887  0.9569  0.9480  0.9525  0.9046\n",
       "1       0.9514  0.9887  0.9600  0.9435  0.9517  0.9028\n",
       "2       0.9496  0.9863  0.9534  0.9461  0.9497  0.8992\n",
       "3       0.9490  0.9864  0.9515  0.9466  0.9490  0.8980\n",
       "4       0.9479  0.9869  0.9498  0.9461  0.9480  0.8959\n",
       "5       0.9452  0.9843  0.9500  0.9408  0.9454  0.8905\n",
       "6       0.9470  0.9858  0.9559  0.9391  0.9474  0.8940\n",
       "7       0.9476  0.9866  0.9540  0.9419  0.9479  0.8953\n",
       "8       0.9525  0.9876  0.9565  0.9488  0.9526  0.9050\n",
       "9       0.9462  0.9881  0.9565  0.9370  0.9467  0.8924\n",
       "Mean    0.9489  0.9870  0.9545  0.9438  0.9491  0.8978\n",
       "SD      0.0024  0.0013  0.0031  0.0038  0.0024  0.0048"
      ]
     },
     "metadata": {},
     "output_type": "display_data"
    }
   ],
   "source": [
    "et = create_model('et', fold=10)"
   ]
  },
  {
   "cell_type": "markdown",
   "metadata": {},
   "source": [
    "#### CatBoost"
   ]
  },
  {
   "cell_type": "code",
   "execution_count": 64,
   "metadata": {},
   "outputs": [],
   "source": [
    "#catboost =create_model('catboost', fold = 10)"
   ]
  },
  {
   "cell_type": "markdown",
   "metadata": {},
   "source": [
    "#### XGBoost"
   ]
  },
  {
   "cell_type": "code",
   "execution_count": 65,
   "metadata": {},
   "outputs": [],
   "source": [
    "#xgboost = create_model('xgboost', fold = 10)"
   ]
  },
  {
   "cell_type": "markdown",
   "metadata": {},
   "source": [
    "## Tune Models"
   ]
  },
  {
   "cell_type": "markdown",
   "metadata": {},
   "source": [
    "#### CatBoost"
   ]
  },
  {
   "cell_type": "code",
   "execution_count": 66,
   "metadata": {},
   "outputs": [],
   "source": [
    "#tuned_catboost = tune_model('catboost') # from fold=50"
   ]
  },
  {
   "cell_type": "markdown",
   "metadata": {},
   "source": [
    "### CatBoost had mixed improvements / declines \n",
    "#### Improved:  Accuracy    Precision\n",
    "#### Declined: AUC   Recall    F1   Kappa\n",
    "                    Accuracy\t AUC\t Recall\t Prec.\t  F1\t    Kappa\n",
    "    Untuned:  Mean\t0.8661\t0.7938\t0.0730\t0.5686\t0.1293\t0.1014\n",
    "    Tuned:    Mean\t0.8653\t0.7916\t0.0385\t0.5872\t0.0723\t0.0564"
   ]
  },
  {
   "cell_type": "markdown",
   "metadata": {},
   "source": [
    "#### Light GBM"
   ]
  },
  {
   "cell_type": "code",
   "execution_count": 67,
   "metadata": {},
   "outputs": [],
   "source": [
    "#tuned_lightgbm = tune_model('lightgbm')"
   ]
  },
  {
   "cell_type": "markdown",
   "metadata": {},
   "source": [
    "### LightGBM had mixed improvements / declines \n",
    "#### Improved:  Accuracy    Precision\n",
    "#### Declined: AUC   Recall    F1   Kappa\n",
    "                    Accuracy\t AUC\t Recall\t Prec.\t  F1\t    Kappa\n",
    "    Untuned:  Mean\t0.8661\t0.7938\t0.0730\t0.5686\t0.1293\t0.1014\n",
    "    Tuned:    Mean\t0.8663\t0.7918\t0.0691\t0.5780\t0.1234\t0.0972"
   ]
  },
  {
   "cell_type": "markdown",
   "metadata": {},
   "source": [
    "#### XGBoost"
   ]
  },
  {
   "cell_type": "code",
   "execution_count": 68,
   "metadata": {},
   "outputs": [],
   "source": [
    "#tuned_xgboost = tune_model('xgboost')"
   ]
  },
  {
   "cell_type": "markdown",
   "metadata": {},
   "source": [
    "Didn't tune xgboost since it takes about 5 hours and I don't see a big benefit tuning the above models"
   ]
  },
  {
   "cell_type": "markdown",
   "metadata": {},
   "source": [
    "## Ensemble models"
   ]
  },
  {
   "cell_type": "markdown",
   "metadata": {},
   "source": [
    "#### CatBoost Bagging"
   ]
  },
  {
   "cell_type": "code",
   "execution_count": 69,
   "metadata": {},
   "outputs": [],
   "source": [
    "#catboost_bagged = ensemble_model(catboost)"
   ]
  },
  {
   "cell_type": "markdown",
   "metadata": {},
   "source": [
    "### CatBoost had great improvements with Ensemble Bagging\n",
    "#### Improved:  Accuracy   AUC   Recall   F1   Kappa\n",
    "#### Declined:   Precision    \n",
    "                    Accuracy\t AUC\t Recall\t Prec.\t  F1\t    Kappa\n",
    "    Untuned:  Mean\t0.8661\t0.7938\t0.0730\t0.5686\t0.1293\t0.1014\n",
    "    Bagging:  Mean\t0.8664\t0.7972\t0.0837\t0.5637\t0.1456\t0.1145"
   ]
  },
  {
   "cell_type": "code",
   "execution_count": 70,
   "metadata": {},
   "outputs": [],
   "source": [
    "#catboost_boosted = ensemble_model(catboost)"
   ]
  },
  {
   "cell_type": "markdown",
   "metadata": {},
   "source": [
    "## Stack 3 chosen Models (Can't blend catboost)"
   ]
  },
  {
   "cell_type": "code",
   "execution_count": 71,
   "metadata": {},
   "outputs": [],
   "source": [
    "#stacker = stack_models(estimator_list = [catboost, lightgbm], meta_model = xgboost)"
   ]
  },
  {
   "cell_type": "markdown",
   "metadata": {},
   "source": [
    "#### First blend 'non-tuned' models"
   ]
  },
  {
   "cell_type": "code",
   "execution_count": 72,
   "metadata": {},
   "outputs": [],
   "source": [
    "#calibrated_lightgbm = calibrate_model(lightgbm)"
   ]
  },
  {
   "cell_type": "markdown",
   "metadata": {},
   "source": [
    "## Evaluate Models"
   ]
  },
  {
   "cell_type": "markdown",
   "metadata": {},
   "source": [
    "# Extra Trees Classifier ('et') Analysis"
   ]
  },
  {
   "cell_type": "markdown",
   "metadata": {},
   "source": [
    "## Plot Model for Extra Trees Classifier ('et')"
   ]
  },
  {
   "cell_type": "code",
   "execution_count": 74,
   "metadata": {},
   "outputs": [
    {
     "data": {
      "image/png": "[encoded data removed]",
      "text/plain": [
       "<Figure size 576x396 with 1 Axes>"
      ]
     },
     "metadata": {},
     "output_type": "display_data"
    }
   ],
   "source": [
    "plot_model(et) # AUC"
   ]
  },
  {
   "cell_type": "code",
   "execution_count": 75,
   "metadata": {
    "scrolled": false
   },
   "outputs": [
    {
     "data": {
      "image/png": "[encoded data removed]",
      "text/plain": [
       "<Figure size 576x396 with 1 Axes>"
      ]
     },
     "metadata": {},
     "output_type": "display_data"
    }
   ],
   "source": [
    "plot_model(et, plot='threshold')"
   ]
  },
  {
   "cell_type": "code",
   "execution_count": 76,
   "metadata": {
    "scrolled": false
   },
   "outputs": [
    {
     "data": {
      "image/png": "[encoded data removed]",
      "text/plain": [
       "<Figure size 576x396 with 1 Axes>"
      ]
     },
     "metadata": {},
     "output_type": "display_data"
    }
   ],
   "source": [
    "plot_model(et, plot='pr')"
   ]
  },
  {
   "cell_type": "code",
   "execution_count": 77,
   "metadata": {
    "scrolled": false
   },
   "outputs": [
    {
     "data": {
      "image/png": "[encoded data removed]",
      "text/plain": [
       "<Figure size 576x396 with 1 Axes>"
      ]
     },
     "metadata": {},
     "output_type": "display_data"
    }
   ],
   "source": [
    "plot_model(et, plot='confusion_matrix')"
   ]
  },
  {
   "cell_type": "code",
   "execution_count": 78,
   "metadata": {
    "scrolled": false
   },
   "outputs": [
    {
     "data": {
      "image/png": "[encoded data removed]",
      "text/plain": [
       "<Figure size 576x396 with 1 Axes>"
      ]
     },
     "metadata": {},
     "output_type": "display_data"
    }
   ],
   "source": [
    "plot_model(et, plot='error')"
   ]
  },
  {
   "cell_type": "code",
   "execution_count": 79,
   "metadata": {
    "scrolled": false
   },
   "outputs": [
    {
     "data": {
      "image/png": "[encoded data removed]",
      "text/plain": [
       "<Figure size 576x396 with 2 Axes>"
      ]
     },
     "metadata": {},
     "output_type": "display_data"
    }
   ],
   "source": [
    "plot_model(et, plot='class_report')"
   ]
  },
  {
   "cell_type": "code",
   "execution_count": 80,
   "metadata": {
    "scrolled": false
   },
   "outputs": [
    {
     "data": {
      "image/png": "[encoded data removed]",
      "text/plain": [
       "<Figure size 576x396 with 1 Axes>"
      ]
     },
     "metadata": {},
     "output_type": "display_data"
    }
   ],
   "source": [
    "plot_model(et, plot='boundary')"
   ]
  },
  {
   "cell_type": "code",
   "execution_count": 81,
   "metadata": {
    "scrolled": true
   },
   "outputs": [],
   "source": [
    "#plot_model(et, plot='rfe')"
   ]
  },
  {
   "cell_type": "code",
   "execution_count": 82,
   "metadata": {
    "scrolled": false
   },
   "outputs": [
    {
     "data": {
      "image/png": "[encoded data removed]",
      "text/plain": [
       "<Figure size 576x396 with 1 Axes>"
      ]
     },
     "metadata": {},
     "output_type": "display_data"
    }
   ],
   "source": [
    "plot_model(et, plot='learning')"
   ]
  },
  {
   "cell_type": "code",
   "execution_count": null,
   "metadata": {},
   "outputs": [
    {
     "data": {
      "application/vnd.jupyter.widget-view+json": {
       "model_id": "34841fb3e0fb49c3bcf246eda4cc96f7",
       "version_major": 2,
       "version_minor": 0
      },
      "text/plain": [
       "IntProgress(value=0, description='Processing: ', max=5)"
      ]
     },
     "metadata": {},
     "output_type": "display_data"
    }
   ],
   "source": [
    "plot_model(et, plot='manifold')"
   ]
  },
  {
   "cell_type": "code",
   "execution_count": null,
   "metadata": {
    "scrolled": true
   },
   "outputs": [],
   "source": [
    "plot_model(et, plot='calibration')"
   ]
  },
  {
   "cell_type": "code",
   "execution_count": null,
   "metadata": {},
   "outputs": [],
   "source": [
    "plot_model(et, plot='vc')"
   ]
  },
  {
   "cell_type": "code",
   "execution_count": null,
   "metadata": {
    "scrolled": false
   },
   "outputs": [],
   "source": [
    "plot_model(et, plot='dimension')"
   ]
  },
  {
   "cell_type": "code",
   "execution_count": null,
   "metadata": {
    "scrolled": true
   },
   "outputs": [],
   "source": [
    "plot_model(et, plot = 'feature')"
   ]
  },
  {
   "cell_type": "code",
   "execution_count": null,
   "metadata": {
    "scrolled": true
   },
   "outputs": [],
   "source": [
    "plot_model(et, plot = 'parameter')"
   ]
  },
  {
   "cell_type": "markdown",
   "metadata": {},
   "source": [
    "# Interpret Models"
   ]
  },
  {
   "cell_type": "markdown",
   "metadata": {},
   "source": [
    "## Extra Trees Classifier Correlation Plots"
   ]
  },
  {
   "cell_type": "code",
   "execution_count": null,
   "metadata": {
    "scrolled": false
   },
   "outputs": [],
   "source": [
    "interpret_model(et, plot = 'summary')"
   ]
  },
  {
   "cell_type": "code",
   "execution_count": null,
   "metadata": {
    "scrolled": true
   },
   "outputs": [],
   "source": [
    "interpret_model(et, plot='correlation', feature='state_Number_4.0')"
   ]
  },
  {
   "cell_type": "code",
   "execution_count": null,
   "metadata": {},
   "outputs": [],
   "source": [
    "interpret_model(et, plot='correlation', feature='mSA')"
   ]
  },
  {
   "cell_type": "code",
   "execution_count": null,
   "metadata": {},
   "outputs": [],
   "source": [
    "interpret_model(et, plot='correlation', feature='avgCreditScore')"
   ]
  },
  {
   "cell_type": "code",
   "execution_count": null,
   "metadata": {},
   "outputs": [],
   "source": [
    "interpret_model(et, plot='correlation', feature='bestCreditScore')"
   ]
  },
  {
   "cell_type": "code",
   "execution_count": null,
   "metadata": {},
   "outputs": [],
   "source": [
    "interpret_model(et, plot='correlation', feature='borrCreditScore')"
   ]
  },
  {
   "cell_type": "code",
   "execution_count": null,
   "metadata": {},
   "outputs": [],
   "source": [
    "interpret_model(et, plot='correlation', feature='fmacRateAvg')"
   ]
  },
  {
   "cell_type": "code",
   "execution_count": null,
   "metadata": {
    "scrolled": false
   },
   "outputs": [],
   "source": [
    "interpret_model(et, plot='correlation', feature='origLTV_15.0')"
   ]
  },
  {
   "cell_type": "code",
   "execution_count": null,
   "metadata": {
    "scrolled": false
   },
   "outputs": [],
   "source": [
    "interpret_model(et, plot='correlation', feature='fedRate')"
   ]
  },
  {
   "cell_type": "code",
   "execution_count": null,
   "metadata": {
    "scrolled": false
   },
   "outputs": [],
   "source": [
    "interpret_model(et, plot='correlation', feature='rateDiffAvg')"
   ]
  },
  {
   "cell_type": "code",
   "execution_count": null,
   "metadata": {
    "scrolled": false
   },
   "outputs": [],
   "source": [
    "interpret_model(et, plot='correlation', feature='rateDiffAbovePct')"
   ]
  },
  {
   "cell_type": "code",
   "execution_count": null,
   "metadata": {},
   "outputs": [],
   "source": []
  },
  {
   "cell_type": "markdown",
   "metadata": {},
   "source": [
    "# Catboost Analysis"
   ]
  },
  {
   "cell_type": "code",
   "execution_count": null,
   "metadata": {
    "scrolled": false
   },
   "outputs": [],
   "source": [
    "#plot_model(catboost_bagged)"
   ]
  },
  {
   "cell_type": "code",
   "execution_count": null,
   "metadata": {
    "scrolled": false
   },
   "outputs": [],
   "source": [
    "#plot_model(catboost, plot='class_report')"
   ]
  },
  {
   "cell_type": "markdown",
   "metadata": {},
   "source": [
    "# Interpret Catboost Model"
   ]
  },
  {
   "cell_type": "markdown",
   "metadata": {},
   "source": [
    "## Catboost Summary"
   ]
  },
  {
   "cell_type": "code",
   "execution_count": null,
   "metadata": {
    "scrolled": false
   },
   "outputs": [],
   "source": [
    "#interpret_model(catboost, plot = 'summary')"
   ]
  },
  {
   "cell_type": "markdown",
   "metadata": {},
   "source": [
    "## Catboost Correlation Plots"
   ]
  },
  {
   "cell_type": "code",
   "execution_count": null,
   "metadata": {},
   "outputs": [],
   "source": [
    "#interpret_model(tuned_catboost, plot = 'correlation')"
   ]
  },
  {
   "cell_type": "code",
   "execution_count": null,
   "metadata": {},
   "outputs": [],
   "source": [
    "#interpret_model(tuned_catboost, plot='correlation', feature='zipCode')"
   ]
  },
  {
   "cell_type": "code",
   "execution_count": null,
   "metadata": {},
   "outputs": [],
   "source": [
    "#interpret_model(tuned_catboost, plot='correlation', feature='origUPB')"
   ]
  },
  {
   "cell_type": "code",
   "execution_count": null,
   "metadata": {},
   "outputs": [],
   "source": [
    "#interpret_model(tuned_catboost, plot='correlation', feature='origDebtIncRatio')"
   ]
  },
  {
   "cell_type": "markdown",
   "metadata": {},
   "source": [
    "## Predict models"
   ]
  },
  {
   "cell_type": "code",
   "execution_count": null,
   "metadata": {},
   "outputs": [],
   "source": [
    "pred_holdout = predict_model(et)"
   ]
  },
  {
   "cell_type": "code",
   "execution_count": null,
   "metadata": {},
   "outputs": [],
   "source": [
    "#pred_holdout2 = predict_model(catboost_bagged)"
   ]
  },
  {
   "cell_type": "code",
   "execution_count": null,
   "metadata": {},
   "outputs": [],
   "source": [
    "#pred_holdout = predict_model(lightgbm)"
   ]
  },
  {
   "cell_type": "code",
   "execution_count": null,
   "metadata": {},
   "outputs": [],
   "source": [
    "#pred_holdout = predict_model(xgboost)"
   ]
  },
  {
   "cell_type": "markdown",
   "metadata": {},
   "source": [
    "## Finalize models"
   ]
  },
  {
   "cell_type": "code",
   "execution_count": null,
   "metadata": {},
   "outputs": [],
   "source": [
    "final_et = finalize_model(et)"
   ]
  },
  {
   "cell_type": "code",
   "execution_count": null,
   "metadata": {},
   "outputs": [],
   "source": [
    "#final_lightgbm = finalize_model(lightgbm)"
   ]
  },
  {
   "cell_type": "code",
   "execution_count": null,
   "metadata": {},
   "outputs": [],
   "source": [
    "#final_xgboost = finalize_model(xgboost)"
   ]
  },
  {
   "cell_type": "markdown",
   "metadata": {},
   "source": [
    "## Save model"
   ]
  },
  {
   "cell_type": "code",
   "execution_count": null,
   "metadata": {},
   "outputs": [],
   "source": [
    "save_model(et, 'Forclo_2_Over50-50_et_052420')"
   ]
  },
  {
   "cell_type": "code",
   "execution_count": null,
   "metadata": {},
   "outputs": [],
   "source": [
    "#save_model(lightgbm, 'Forclo_2_lightgbm_052320')"
   ]
  },
  {
   "cell_type": "code",
   "execution_count": null,
   "metadata": {},
   "outputs": [],
   "source": [
    "#save_model(xgboost, 'Forclo_2_xgboost_052320')"
   ]
  },
  {
   "cell_type": "code",
   "execution_count": null,
   "metadata": {},
   "outputs": [],
   "source": []
  }
 ],
 "metadata": {
  "kernelspec": {
   "display_name": "Python 3",
   "language": "python",
   "name": "python3"
  },
  "language_info": {
   "codemirror_mode": {
    "name": "ipython",
    "version": 3
   },
   "file_extension": ".py",
   "mimetype": "text/x-python",
   "name": "python",
   "nbconvert_exporter": "python",
   "pygments_lexer": "ipython3",
   "version": "3.7.3"
  }
 },
 "nbformat": 4,
 "nbformat_minor": 4
}
