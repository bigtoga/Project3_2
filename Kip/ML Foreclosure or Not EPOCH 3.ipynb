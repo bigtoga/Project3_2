{
 "cells": [
  {
   "cell_type": "code",
   "execution_count": 1,
   "metadata": {
    "_cell_guid": "79c7e3d0-c299-4dcb-8224-4455121ee9b0",
    "_kg_hide-output": true,
    "_uuid": "d629ff2d2480ee46fbb7e2d37f6b5fab8052498a"
   },
   "outputs": [
    {
     "name": "stderr",
     "output_type": "stream",
     "text": [
      "Using TensorFlow backend.\n"
     ]
    }
   ],
   "source": [
    "import pandas as pd\n",
    "import numpy as np\n",
    "import matplotlib.pyplot as plt\n",
    "#!pip install pycaret\n",
    "import imblearn\n",
    "from imblearn.over_sampling import SMOTE\n",
    "from pycaret.classification import *\n",
    "#from pycaret.regression import *"
   ]
  },
  {
   "cell_type": "code",
   "execution_count": 2,
   "metadata": {},
   "outputs": [
    {
     "name": "stdout",
     "output_type": "stream",
     "text": [
      "0.6.2\n"
     ]
    }
   ],
   "source": [
    "print(imblearn.__version__)"
   ]
  },
  {
   "cell_type": "markdown",
   "metadata": {},
   "source": [
    "# Importing the data - only use *.MLReady.csv files!!!"
   ]
  },
  {
   "cell_type": "code",
   "execution_count": 18,
   "metadata": {
    "scrolled": true
   },
   "outputs": [
    {
     "data": {
      "text/html": [
       "<div>\n",
       "<style scoped>\n",
       "    .dataframe tbody tr th:only-of-type {\n",
       "        vertical-align: middle;\n",
       "    }\n",
       "\n",
       "    .dataframe tbody tr th {\n",
       "        vertical-align: top;\n",
       "    }\n",
       "\n",
       "    .dataframe thead th {\n",
       "        text-align: right;\n",
       "    }\n",
       "</style>\n",
       "<table border=\"1\" class=\"dataframe\">\n",
       "  <thead>\n",
       "    <tr style=\"text-align: right;\">\n",
       "      <th></th>\n",
       "      <th>Unnamed: 0</th>\n",
       "      <th>Unnamed: 0.1</th>\n",
       "      <th>id</th>\n",
       "      <th>origChannel</th>\n",
       "      <th>origIntRate</th>\n",
       "      <th>origUPB</th>\n",
       "      <th>origDate</th>\n",
       "      <th>firstPmtDate</th>\n",
       "      <th>origLTV</th>\n",
       "      <th>numBorrowers</th>\n",
       "      <th>...</th>\n",
       "      <th>fmacRateMin</th>\n",
       "      <th>fmacRateAvg</th>\n",
       "      <th>fmacRateVolatility</th>\n",
       "      <th>fredRate</th>\n",
       "      <th>rateDiffAbove</th>\n",
       "      <th>rateDiffBelow</th>\n",
       "      <th>rateDiffAvg</th>\n",
       "      <th>rateDiffAbovePct</th>\n",
       "      <th>rateDiffBelowPct</th>\n",
       "      <th>rateDiffAvgPct</th>\n",
       "    </tr>\n",
       "  </thead>\n",
       "  <tbody>\n",
       "    <tr>\n",
       "      <th>0</th>\n",
       "      <td>1265166</td>\n",
       "      <td>1265166</td>\n",
       "      <td>100495721320</td>\n",
       "      <td>1</td>\n",
       "      <td>4.375</td>\n",
       "      <td>310000</td>\n",
       "      <td>2013-11-01</td>\n",
       "      <td>2014-01-01</td>\n",
       "      <td>64.0</td>\n",
       "      <td>1.0</td>\n",
       "      <td>...</td>\n",
       "      <td>4.16</td>\n",
       "      <td>4.255</td>\n",
       "      <td>0.045673</td>\n",
       "      <td>2.65</td>\n",
       "      <td>0.025</td>\n",
       "      <td>-0.215</td>\n",
       "      <td>0.120</td>\n",
       "      <td>0.005747</td>\n",
       "      <td>-0.051683</td>\n",
       "      <td>0.028202</td>\n",
       "    </tr>\n",
       "    <tr>\n",
       "      <th>1</th>\n",
       "      <td>1265167</td>\n",
       "      <td>1265167</td>\n",
       "      <td>102361386857</td>\n",
       "      <td>1</td>\n",
       "      <td>4.625</td>\n",
       "      <td>142000</td>\n",
       "      <td>2013-11-01</td>\n",
       "      <td>2014-01-01</td>\n",
       "      <td>69.0</td>\n",
       "      <td>1.0</td>\n",
       "      <td>...</td>\n",
       "      <td>4.16</td>\n",
       "      <td>4.255</td>\n",
       "      <td>0.045673</td>\n",
       "      <td>2.65</td>\n",
       "      <td>0.275</td>\n",
       "      <td>-0.465</td>\n",
       "      <td>0.370</td>\n",
       "      <td>0.063218</td>\n",
       "      <td>-0.111779</td>\n",
       "      <td>0.086957</td>\n",
       "    </tr>\n",
       "    <tr>\n",
       "      <th>2</th>\n",
       "      <td>1265168</td>\n",
       "      <td>1265168</td>\n",
       "      <td>102516953457</td>\n",
       "      <td>1</td>\n",
       "      <td>5.000</td>\n",
       "      <td>124000</td>\n",
       "      <td>2013-11-01</td>\n",
       "      <td>2014-01-01</td>\n",
       "      <td>80.0</td>\n",
       "      <td>1.0</td>\n",
       "      <td>...</td>\n",
       "      <td>4.16</td>\n",
       "      <td>4.255</td>\n",
       "      <td>0.045673</td>\n",
       "      <td>2.65</td>\n",
       "      <td>0.650</td>\n",
       "      <td>-0.840</td>\n",
       "      <td>0.745</td>\n",
       "      <td>0.149425</td>\n",
       "      <td>-0.201923</td>\n",
       "      <td>0.175088</td>\n",
       "    </tr>\n",
       "    <tr>\n",
       "      <th>3</th>\n",
       "      <td>1265169</td>\n",
       "      <td>1265169</td>\n",
       "      <td>103711862089</td>\n",
       "      <td>3</td>\n",
       "      <td>4.490</td>\n",
       "      <td>170000</td>\n",
       "      <td>2013-11-01</td>\n",
       "      <td>2014-01-01</td>\n",
       "      <td>54.0</td>\n",
       "      <td>2.0</td>\n",
       "      <td>...</td>\n",
       "      <td>4.16</td>\n",
       "      <td>4.255</td>\n",
       "      <td>0.045673</td>\n",
       "      <td>2.65</td>\n",
       "      <td>0.140</td>\n",
       "      <td>-0.330</td>\n",
       "      <td>0.235</td>\n",
       "      <td>0.032184</td>\n",
       "      <td>-0.079327</td>\n",
       "      <td>0.055229</td>\n",
       "    </tr>\n",
       "    <tr>\n",
       "      <th>4</th>\n",
       "      <td>1265170</td>\n",
       "      <td>1265170</td>\n",
       "      <td>104417831957</td>\n",
       "      <td>3</td>\n",
       "      <td>4.750</td>\n",
       "      <td>100000</td>\n",
       "      <td>2013-11-01</td>\n",
       "      <td>2014-01-01</td>\n",
       "      <td>32.0</td>\n",
       "      <td>1.0</td>\n",
       "      <td>...</td>\n",
       "      <td>4.16</td>\n",
       "      <td>4.255</td>\n",
       "      <td>0.045673</td>\n",
       "      <td>2.65</td>\n",
       "      <td>0.400</td>\n",
       "      <td>-0.590</td>\n",
       "      <td>0.495</td>\n",
       "      <td>0.091954</td>\n",
       "      <td>-0.141827</td>\n",
       "      <td>0.116334</td>\n",
       "    </tr>\n",
       "  </tbody>\n",
       "</table>\n",
       "<p>5 rows × 60 columns</p>\n",
       "</div>"
      ],
      "text/plain": [
       "   Unnamed: 0  Unnamed: 0.1            id  origChannel  origIntRate  origUPB  \\\n",
       "0     1265166       1265166  100495721320            1        4.375   310000   \n",
       "1     1265167       1265167  102361386857            1        4.625   142000   \n",
       "2     1265168       1265168  102516953457            1        5.000   124000   \n",
       "3     1265169       1265169  103711862089            3        4.490   170000   \n",
       "4     1265170       1265170  104417831957            3        4.750   100000   \n",
       "\n",
       "     origDate firstPmtDate  origLTV  numBorrowers  ...  fmacRateMin  \\\n",
       "0  2013-11-01   2014-01-01     64.0           1.0  ...         4.16   \n",
       "1  2013-11-01   2014-01-01     69.0           1.0  ...         4.16   \n",
       "2  2013-11-01   2014-01-01     80.0           1.0  ...         4.16   \n",
       "3  2013-11-01   2014-01-01     54.0           2.0  ...         4.16   \n",
       "4  2013-11-01   2014-01-01     32.0           1.0  ...         4.16   \n",
       "\n",
       "   fmacRateAvg  fmacRateVolatility  fredRate  rateDiffAbove  rateDiffBelow  \\\n",
       "0        4.255            0.045673      2.65          0.025         -0.215   \n",
       "1        4.255            0.045673      2.65          0.275         -0.465   \n",
       "2        4.255            0.045673      2.65          0.650         -0.840   \n",
       "3        4.255            0.045673      2.65          0.140         -0.330   \n",
       "4        4.255            0.045673      2.65          0.400         -0.590   \n",
       "\n",
       "   rateDiffAvg  rateDiffAbovePct  rateDiffBelowPct  rateDiffAvgPct  \n",
       "0        0.120          0.005747         -0.051683        0.028202  \n",
       "1        0.370          0.063218         -0.111779        0.086957  \n",
       "2        0.745          0.149425         -0.201923        0.175088  \n",
       "3        0.235          0.032184         -0.079327        0.055229  \n",
       "4        0.495          0.091954         -0.141827        0.116334  \n",
       "\n",
       "[5 rows x 60 columns]"
      ]
     },
     "execution_count": 18,
     "metadata": {},
     "output_type": "execute_result"
    }
   ],
   "source": [
    "df=pd.read_csv(\"D:\\FM_Acq_Perf_FMAC_EPOCH3_ML.csv\")\n",
    "df.head()"
   ]
  },
  {
   "cell_type": "code",
   "execution_count": 19,
   "metadata": {},
   "outputs": [
    {
     "data": {
      "text/plain": [
       "Unnamed: 0                         1265166\n",
       "Unnamed: 0.1                       1265166\n",
       "id                            100495721320\n",
       "origChannel                              1\n",
       "origIntRate                          4.375\n",
       "origUPB                             310000\n",
       "origDate                        2013-11-01\n",
       "firstPmtDate                    2014-01-01\n",
       "origLTV                                 64\n",
       "numBorrowers                             1\n",
       "origDebtIncRatio                        50\n",
       "borrCreditScore                        751\n",
       "loanPurp                                 1\n",
       "zipCode                                220\n",
       "pMIperct                                 0\n",
       "mortInsType                              0\n",
       "bestCreditScore                        751\n",
       "worstCreditScore                       751\n",
       "avgCreditScore                         751\n",
       "bankNumber                              54\n",
       "stateNumber                             47\n",
       "rptPeriod                       2016-05-01\n",
       "currIntRate                          4.375\n",
       "currUPB                             296681\n",
       "loanAge                                 29\n",
       "monMatur                               331\n",
       "mSA                                  47900\n",
       "zeroBalCode                              1\n",
       "zeroBalDate                     2016-05-01\n",
       "lastPdInstDate                         NaN\n",
       "forecloDate                            NaN\n",
       "dispDate                               NaN\n",
       "forecloCost                            NaN\n",
       "propRepCost                            NaN\n",
       "recovCosts                             NaN\n",
       "miscCost                               NaN\n",
       "holdTaxCost                            NaN\n",
       "saleProceed                            NaN\n",
       "credEnhProceed                         NaN\n",
       "repurchProceed                         NaN\n",
       "otherForecloProceed                    NaN\n",
       "nonIntUPB                              NaN\n",
       "prinForgivBal                          NaN\n",
       "repurchMakeWholeProceedFlg               0\n",
       "forecloPrinWriteOffAmnt                NaN\n",
       "servActivIndicator                     NaN\n",
       "deliqGood                               25\n",
       "deliqBad                                 4\n",
       "deliqMax                                 2\n",
       "fmacRateMax                           4.35\n",
       "fmacRateMin                           4.16\n",
       "fmacRateAvg                          4.255\n",
       "fmacRateVolatility               0.0456731\n",
       "fredRate                              2.65\n",
       "rateDiffAbove                        0.025\n",
       "rateDiffBelow                       -0.215\n",
       "rateDiffAvg                           0.12\n",
       "rateDiffAbovePct                0.00574713\n",
       "rateDiffBelowPct                -0.0516827\n",
       "rateDiffAvgPct                   0.0282021\n",
       "Name: 0, dtype: object"
      ]
     },
     "execution_count": 19,
     "metadata": {},
     "output_type": "execute_result"
    }
   ],
   "source": [
    "df.iloc[0]"
   ]
  },
  {
   "cell_type": "code",
   "execution_count": 20,
   "metadata": {},
   "outputs": [
    {
     "data": {
      "text/plain": [
       "1.0     33440\n",
       "9.0      1010\n",
       "2.0       401\n",
       "6.0       182\n",
       "16.0      170\n",
       "3.0       123\n",
       "15.0       62\n",
       "Name: zeroBalCode, dtype: int64"
      ]
     },
     "execution_count": 20,
     "metadata": {},
     "output_type": "execute_result"
    }
   ],
   "source": [
    "# Target variable is zeroBalCode\n",
    "df.zeroBalCode.value_counts()"
   ]
  },
  {
   "cell_type": "markdown",
   "metadata": {},
   "source": [
    " Target is ~ 5.5% of total population"
   ]
  },
  {
   "cell_type": "markdown",
   "metadata": {},
   "source": [
    "## Remove columns not involved in 'Foreclosure or Not' query"
   ]
  },
  {
   "cell_type": "code",
   "execution_count": 21,
   "metadata": {},
   "outputs": [],
   "source": [
    "df.drop(['Unnamed: 0','Unnamed: 0.1','id','firstPmtDate','rptPeriod','currIntRate','currUPB','loanAge','monMatur',\\\n",
    "         'zeroBalDate','lastPdInstDate','forecloDate','dispDate','forecloCost','propRepCost','recovCosts',\\\n",
    "         'miscCost','holdTaxCost','saleProceed','credEnhProceed','repurchProceed','otherForecloProceed',\\\n",
    "         'nonIntUPB','prinForgivBal','repurchMakeWholeProceedFlg','forecloPrinWriteOffAmnt','servActivIndicator',\\\n",
    "         'deliqGood','deliqBad','deliqMax'],1,inplace=True)"
   ]
  },
  {
   "cell_type": "code",
   "execution_count": 22,
   "metadata": {},
   "outputs": [],
   "source": [
    "#df.info()"
   ]
  },
  {
   "cell_type": "markdown",
   "metadata": {},
   "source": [
    "## Engineer originDate into Date features"
   ]
  },
  {
   "cell_type": "code",
   "execution_count": 23,
   "metadata": {},
   "outputs": [],
   "source": [
    "df['origDate'] = pd.to_datetime(df['origDate'])"
   ]
  },
  {
   "cell_type": "code",
   "execution_count": 24,
   "metadata": {},
   "outputs": [],
   "source": [
    "df['origYear'] = df['origDate'].dt.year\n",
    "df['origMonth'] = df['origDate'].dt.month"
   ]
  },
  {
   "cell_type": "code",
   "execution_count": 25,
   "metadata": {},
   "outputs": [],
   "source": [
    "df.drop(['origDate'],1,inplace=True)"
   ]
  },
  {
   "cell_type": "code",
   "execution_count": 26,
   "metadata": {
    "scrolled": true
   },
   "outputs": [
    {
     "data": {
      "text/html": [
       "<div>\n",
       "<style scoped>\n",
       "    .dataframe tbody tr th:only-of-type {\n",
       "        vertical-align: middle;\n",
       "    }\n",
       "\n",
       "    .dataframe tbody tr th {\n",
       "        vertical-align: top;\n",
       "    }\n",
       "\n",
       "    .dataframe thead th {\n",
       "        text-align: right;\n",
       "    }\n",
       "</style>\n",
       "<table border=\"1\" class=\"dataframe\">\n",
       "  <thead>\n",
       "    <tr style=\"text-align: right;\">\n",
       "      <th></th>\n",
       "      <th>origYear</th>\n",
       "      <th>origMonth</th>\n",
       "    </tr>\n",
       "  </thead>\n",
       "  <tbody>\n",
       "    <tr>\n",
       "      <th>0</th>\n",
       "      <td>2013</td>\n",
       "      <td>11</td>\n",
       "    </tr>\n",
       "    <tr>\n",
       "      <th>1</th>\n",
       "      <td>2013</td>\n",
       "      <td>11</td>\n",
       "    </tr>\n",
       "    <tr>\n",
       "      <th>2</th>\n",
       "      <td>2013</td>\n",
       "      <td>11</td>\n",
       "    </tr>\n",
       "    <tr>\n",
       "      <th>3</th>\n",
       "      <td>2013</td>\n",
       "      <td>11</td>\n",
       "    </tr>\n",
       "    <tr>\n",
       "      <th>4</th>\n",
       "      <td>2013</td>\n",
       "      <td>11</td>\n",
       "    </tr>\n",
       "  </tbody>\n",
       "</table>\n",
       "</div>"
      ],
      "text/plain": [
       "   origYear  origMonth\n",
       "0      2013         11\n",
       "1      2013         11\n",
       "2      2013         11\n",
       "3      2013         11\n",
       "4      2013         11"
      ]
     },
     "execution_count": 26,
     "metadata": {},
     "output_type": "execute_result"
    }
   ],
   "source": [
    "df[['origYear','origMonth']].head()"
   ]
  },
  {
   "cell_type": "markdown",
   "metadata": {},
   "source": [
    "# Turn zero Balance Code Into binary \"0\" GOOD and \"1\" BAD"
   ]
  },
  {
   "cell_type": "code",
   "execution_count": 27,
   "metadata": {},
   "outputs": [
    {
     "data": {
      "text/plain": [
       "array([ 1.,  9., 16.,  3.,  2.,  6., 15.])"
      ]
     },
     "execution_count": 27,
     "metadata": {},
     "output_type": "execute_result"
    }
   ],
   "source": [
    "df.zeroBalCode.unique()"
   ]
  },
  {
   "cell_type": "code",
   "execution_count": 28,
   "metadata": {},
   "outputs": [],
   "source": [
    "df['zeroBalCode'] = df.zeroBalCode.replace(1,0)\n",
    "df['zeroBalCode'] = df.zeroBalCode.replace([9,3,16,6,2,15],1)"
   ]
  },
  {
   "cell_type": "code",
   "execution_count": 29,
   "metadata": {},
   "outputs": [
    {
     "data": {
      "text/plain": [
       "array([0., 1.])"
      ]
     },
     "execution_count": 29,
     "metadata": {},
     "output_type": "execute_result"
    }
   ],
   "source": [
    "df.zeroBalCode.unique()"
   ]
  },
  {
   "cell_type": "code",
   "execution_count": 30,
   "metadata": {
    "scrolled": false
   },
   "outputs": [
    {
     "data": {
      "text/plain": [
       "0.0    33440\n",
       "1.0     1948\n",
       "Name: zeroBalCode, dtype: int64"
      ]
     },
     "execution_count": 30,
     "metadata": {},
     "output_type": "execute_result"
    }
   ],
   "source": [
    "#Checking datatypes of individual feature\n",
    "df.zeroBalCode.value_counts()"
   ]
  },
  {
   "cell_type": "markdown",
   "metadata": {},
   "source": [
    "# Review values for dates and slice (if needed) the timeframe you want"
   ]
  },
  {
   "cell_type": "code",
   "execution_count": 31,
   "metadata": {},
   "outputs": [
    {
     "data": {
      "text/plain": [
       "array([2013, 2014, 2015, 2016, 2017, 2018, 2019], dtype=int64)"
      ]
     },
     "execution_count": 31,
     "metadata": {},
     "output_type": "execute_result"
    }
   ],
   "source": [
    "df.origYear.unique()"
   ]
  },
  {
   "cell_type": "code",
   "execution_count": 32,
   "metadata": {},
   "outputs": [
    {
     "data": {
      "text/plain": [
       "array([11, 12,  1,  2,  3,  5,  4,  6,  7,  9,  8, 10], dtype=int64)"
      ]
     },
     "execution_count": 32,
     "metadata": {},
     "output_type": "execute_result"
    }
   ],
   "source": [
    "df['origMonth'].unique()"
   ]
  },
  {
   "cell_type": "markdown",
   "metadata": {},
   "source": [
    "# Coerce the column dtype (int in this case)"
   ]
  },
  {
   "cell_type": "code",
   "execution_count": 33,
   "metadata": {},
   "outputs": [],
   "source": [
    "df = df.astype({'origLTV':'int','numBorrowers':'int','origDebtIncRatio':'int',\\\n",
    "               'borrCreditScore':'int','mortInsType':'int','bestCreditScore':'int',\\\n",
    "               'worstCreditScore':'int','avgCreditScore':'int','zeroBalCode':'int'})"
   ]
  },
  {
   "cell_type": "code",
   "execution_count": 34,
   "metadata": {},
   "outputs": [
    {
     "name": "stdout",
     "output_type": "stream",
     "text": [
      "<class 'pandas.core.frame.DataFrame'>\n",
      "RangeIndex: 35388 entries, 0 to 35387\n",
      "Data columns (total 31 columns):\n",
      "origChannel           35388 non-null int64\n",
      "origIntRate           35388 non-null float64\n",
      "origUPB               35388 non-null int64\n",
      "origLTV               35388 non-null int32\n",
      "numBorrowers          35388 non-null int32\n",
      "origDebtIncRatio      35388 non-null int32\n",
      "borrCreditScore       35388 non-null int32\n",
      "loanPurp              35388 non-null int64\n",
      "zipCode               35388 non-null int64\n",
      "pMIperct              35388 non-null float64\n",
      "mortInsType           35388 non-null int32\n",
      "bestCreditScore       35388 non-null int32\n",
      "worstCreditScore      35388 non-null int32\n",
      "avgCreditScore        35388 non-null int32\n",
      "bankNumber            35388 non-null int64\n",
      "stateNumber           35388 non-null int64\n",
      "mSA                   35388 non-null int64\n",
      "zeroBalCode           35388 non-null int32\n",
      "fmacRateMax           35388 non-null float64\n",
      "fmacRateMin           35388 non-null float64\n",
      "fmacRateAvg           35388 non-null float64\n",
      "fmacRateVolatility    35388 non-null float64\n",
      "fredRate              35388 non-null float64\n",
      "rateDiffAbove         35388 non-null float64\n",
      "rateDiffBelow         35388 non-null float64\n",
      "rateDiffAvg           35388 non-null float64\n",
      "rateDiffAbovePct      35388 non-null float64\n",
      "rateDiffBelowPct      35388 non-null float64\n",
      "rateDiffAvgPct        35388 non-null float64\n",
      "origYear              35388 non-null int64\n",
      "origMonth             35388 non-null int64\n",
      "dtypes: float64(13), int32(9), int64(9)\n",
      "memory usage: 7.2 MB\n"
     ]
    }
   ],
   "source": [
    "df.info()"
   ]
  },
  {
   "cell_type": "code",
   "execution_count": 35,
   "metadata": {},
   "outputs": [],
   "source": [
    "#df.to_csv('D:\\FM_FULL_EPOCH3_MLReady.csv')"
   ]
  },
  {
   "cell_type": "markdown",
   "metadata": {},
   "source": [
    "# Oversample dataset"
   ]
  },
  {
   "cell_type": "code",
   "execution_count": 37,
   "metadata": {},
   "outputs": [],
   "source": [
    "oversample = imblearn.over_sampling.RandomOverSampler(sampling_strategy='minority')"
   ]
  },
  {
   "cell_type": "markdown",
   "metadata": {},
   "source": [
    "# Review metrics last time before run (to have record of starting values)"
   ]
  },
  {
   "cell_type": "code",
   "execution_count": null,
   "metadata": {},
   "outputs": [],
   "source": [
    "df.info()"
   ]
  },
  {
   "cell_type": "code",
   "execution_count": null,
   "metadata": {},
   "outputs": [],
   "source": [
    "df.head()"
   ]
  },
  {
   "cell_type": "code",
   "execution_count": null,
   "metadata": {},
   "outputs": [],
   "source": [
    "df.zeroBalCode.value_counts()"
   ]
  },
  {
   "cell_type": "markdown",
   "metadata": {},
   "source": [
    "#### Foreclosures represent 5.5% of Total Events (All mortgages considered 'resolved' with an event)"
   ]
  },
  {
   "cell_type": "markdown",
   "metadata": {},
   "source": [
    "# Pycaret - Setup with categorical definition"
   ]
  },
  {
   "cell_type": "markdown",
   "metadata": {},
   "source": [
    "### Use feature engineering, polynomial features, trig feats, PCA"
   ]
  },
  {
   "cell_type": "code",
   "execution_count": null,
   "metadata": {},
   "outputs": [],
   "source": [
    "# models=setup(df, target = 'rateDiffPct',\n",
    "#              feature_interaction=True, feature_ratio=True,\n",
    "#              polynomial_features=True, pca=True, pca_components=10,\n",
    "#             numeric_features = ['origUPB','origLTV','numBorrowers','origDebtIncRatio',\\\n",
    "#                                'avgCreditScore'],\n",
    "#             ignore_features = ['origIntRate','rank','deal'])"
   ]
  },
  {
   "cell_type": "markdown",
   "metadata": {},
   "source": [
    "### Use feature engineering, polynomial features, trig feats"
   ]
  },
  {
   "cell_type": "code",
   "execution_count": null,
   "metadata": {},
   "outputs": [],
   "source": [
    "models=setup(df, target = 'zeroBalCode')"
   ]
  },
  {
   "cell_type": "markdown",
   "metadata": {},
   "source": [
    "## Compare Models with blacklist exclusions"
   ]
  },
  {
   "cell_type": "code",
   "execution_count": null,
   "metadata": {
    "scrolled": false
   },
   "outputs": [],
   "source": [
    "model_results=compare_models(blacklist = ['tr','ransac']) #,'lar','par','huber','llar','lasso','en','ridge','omp','br','svm'])\n",
    "model_results"
   ]
  },
  {
   "cell_type": "markdown",
   "metadata": {},
   "source": [
    "## Create models - store in variable"
   ]
  },
  {
   "cell_type": "code",
   "execution_count": null,
   "metadata": {},
   "outputs": [],
   "source": [
    "catboost =create_model('catboost', fold = 10)"
   ]
  },
  {
   "cell_type": "code",
   "execution_count": null,
   "metadata": {},
   "outputs": [],
   "source": [
    "catboost =create_model('catboost', fold = 50)"
   ]
  },
  {
   "cell_type": "markdown",
   "metadata": {},
   "source": [
    "### Catboost fold results (not shown - reran in same cell)\n",
    "* 10   0.5?\n",
    "* 20   0.5633\n",
    "* 50   0.5633"
   ]
  },
  {
   "cell_type": "code",
   "execution_count": null,
   "metadata": {},
   "outputs": [],
   "source": [
    "lightgbm = create_model('lightgbm', fold=50)"
   ]
  },
  {
   "cell_type": "markdown",
   "metadata": {},
   "source": [
    "### LightGBM fold results (not shown - reran in same cell)\n",
    "    * 10   0.5?\n",
    "    * 20   0.5?\n",
    "    * 50   0.5585"
   ]
  },
  {
   "cell_type": "code",
   "execution_count": null,
   "metadata": {},
   "outputs": [],
   "source": [
    "xgboost = create_model('xgboost', fold = 50)"
   ]
  },
  {
   "cell_type": "markdown",
   "metadata": {},
   "source": [
    "## Tune Models"
   ]
  },
  {
   "cell_type": "code",
   "execution_count": null,
   "metadata": {},
   "outputs": [],
   "source": [
    "tuned_catboost = tune_model('catboost') # from fold=50"
   ]
  },
  {
   "cell_type": "markdown",
   "metadata": {},
   "source": [
    "* Made no difference creating the model with fold= 10 vs. fold = 50 so use fold = 10"
   ]
  },
  {
   "cell_type": "code",
   "execution_count": null,
   "metadata": {},
   "outputs": [],
   "source": [
    "tuned_lightgbm = tune_model('lightgbm')"
   ]
  },
  {
   "cell_type": "code",
   "execution_count": null,
   "metadata": {},
   "outputs": [],
   "source": [
    "tuned_xgboost = tune_model('xgboost')"
   ]
  },
  {
   "cell_type": "markdown",
   "metadata": {},
   "source": [
    "## Ensemble models"
   ]
  },
  {
   "cell_type": "code",
   "execution_count": null,
   "metadata": {},
   "outputs": [],
   "source": [
    "catboost_bagged = ensemble_model(catboost)"
   ]
  },
  {
   "cell_type": "code",
   "execution_count": null,
   "metadata": {},
   "outputs": [],
   "source": [
    "catboost_boosted = ensemble_model(catboost)"
   ]
  },
  {
   "cell_type": "markdown",
   "metadata": {},
   "source": [
    "## Blend 3 chosen Models"
   ]
  },
  {
   "cell_type": "markdown",
   "metadata": {},
   "source": [
    "#### First blend 'non-tuned' models"
   ]
  },
  {
   "cell_type": "code",
   "execution_count": null,
   "metadata": {},
   "outputs": [],
   "source": [
    "blend3 = blend_models(estimator_list = [catboost, lightgbm, xgboost])"
   ]
  },
  {
   "cell_type": "markdown",
   "metadata": {},
   "source": [
    "#### Next blend tuned models"
   ]
  },
  {
   "cell_type": "code",
   "execution_count": null,
   "metadata": {},
   "outputs": [],
   "source": [
    "blendTuned3 = blend_models(estimator_list = [tuned_catboost, tuned_lightgbm, tuned_xgboost])"
   ]
  },
  {
   "cell_type": "markdown",
   "metadata": {},
   "source": [
    "## Evaluate Models"
   ]
  },
  {
   "cell_type": "code",
   "execution_count": null,
   "metadata": {},
   "outputs": [],
   "source": [
    "plot_model(lightgbm, plot = 'residuals')"
   ]
  },
  {
   "cell_type": "code",
   "execution_count": null,
   "metadata": {},
   "outputs": [],
   "source": [
    "plot_model(lightgbm, plot = 'error')"
   ]
  },
  {
   "cell_type": "code",
   "execution_count": null,
   "metadata": {},
   "outputs": [],
   "source": [
    "plot_model(lightgbm, plot='vc')"
   ]
  },
  {
   "cell_type": "code",
   "execution_count": null,
   "metadata": {},
   "outputs": [],
   "source": [
    "plot_model(lightgbm, plot = 'feature')"
   ]
  },
  {
   "cell_type": "code",
   "execution_count": null,
   "metadata": {},
   "outputs": [],
   "source": [
    "interpret_model(lightgbm, plot='correlation', feature='avgCreditScore')"
   ]
  },
  {
   "cell_type": "code",
   "execution_count": null,
   "metadata": {},
   "outputs": [],
   "source": [
    "interpret_model(tuned_catboost)"
   ]
  },
  {
   "cell_type": "code",
   "execution_count": null,
   "metadata": {},
   "outputs": [],
   "source": []
  },
  {
   "cell_type": "code",
   "execution_count": null,
   "metadata": {},
   "outputs": [],
   "source": []
  },
  {
   "cell_type": "code",
   "execution_count": null,
   "metadata": {},
   "outputs": [],
   "source": []
  },
  {
   "cell_type": "code",
   "execution_count": null,
   "metadata": {},
   "outputs": [],
   "source": []
  },
  {
   "cell_type": "code",
   "execution_count": null,
   "metadata": {},
   "outputs": [],
   "source": []
  },
  {
   "cell_type": "code",
   "execution_count": null,
   "metadata": {},
   "outputs": [],
   "source": []
  },
  {
   "cell_type": "code",
   "execution_count": null,
   "metadata": {},
   "outputs": [],
   "source": []
  },
  {
   "cell_type": "code",
   "execution_count": null,
   "metadata": {},
   "outputs": [],
   "source": []
  },
  {
   "cell_type": "code",
   "execution_count": null,
   "metadata": {},
   "outputs": [],
   "source": []
  },
  {
   "cell_type": "code",
   "execution_count": null,
   "metadata": {},
   "outputs": [],
   "source": []
  },
  {
   "cell_type": "code",
   "execution_count": null,
   "metadata": {},
   "outputs": [],
   "source": []
  },
  {
   "cell_type": "code",
   "execution_count": null,
   "metadata": {},
   "outputs": [],
   "source": [
    "save_model()"
   ]
  },
  {
   "cell_type": "code",
   "execution_count": null,
   "metadata": {
    "scrolled": false
   },
   "outputs": [],
   "source": [
    "interpret_model(estimator=logreg_model, plot='reason')"
   ]
  },
  {
   "cell_type": "code",
   "execution_count": null,
   "metadata": {},
   "outputs": [],
   "source": [
    "logreg_model2=create_model('xgboost')"
   ]
  },
  {
   "cell_type": "code",
   "execution_count": null,
   "metadata": {},
   "outputs": [],
   "source": [
    "plot_model(estimator=logreg_model2, plot='feature')"
   ]
  },
  {
   "cell_type": "code",
   "execution_count": null,
   "metadata": {},
   "outputs": [],
   "source": [
    "plot_model(estimator=logreg_model2)"
   ]
  },
  {
   "cell_type": "code",
   "execution_count": null,
   "metadata": {},
   "outputs": [],
   "source": [
    "tunned_logreg_model=tune_model('catboost')"
   ]
  },
  {
   "cell_type": "code",
   "execution_count": null,
   "metadata": {},
   "outputs": [],
   "source": [
    "interpret_model(estimator=tunned_logreg_model,plot='summary')"
   ]
  },
  {
   "cell_type": "code",
   "execution_count": null,
   "metadata": {},
   "outputs": [],
   "source": [
    "plot_model(estimator=tunned_logreg_model,plot='feature')"
   ]
  },
  {
   "cell_type": "code",
   "execution_count": null,
   "metadata": {},
   "outputs": [],
   "source": []
  },
  {
   "cell_type": "code",
   "execution_count": null,
   "metadata": {
    "scrolled": true
   },
   "outputs": [],
   "source": [
    "interpret_model(estimator=catboost, plot='correlation')"
   ]
  },
  {
   "cell_type": "code",
   "execution_count": null,
   "metadata": {
    "scrolled": false
   },
   "outputs": [],
   "source": [
    "interpret_model(estimator=catboost,plot='summary')"
   ]
  }
 ],
 "metadata": {
  "kernelspec": {
   "display_name": "Python 3",
   "language": "python",
   "name": "python3"
  },
  "language_info": {
   "codemirror_mode": {
    "name": "ipython",
    "version": 3
   },
   "file_extension": ".py",
   "mimetype": "text/x-python",
   "name": "python",
   "nbconvert_exporter": "python",
   "pygments_lexer": "ipython3",
   "version": "3.7.3"
  }
 },
 "nbformat": 4,
 "nbformat_minor": 4
}
