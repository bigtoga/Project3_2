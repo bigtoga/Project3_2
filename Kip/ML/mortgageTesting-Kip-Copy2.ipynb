{
 "cells": [
  {
   "cell_type": "markdown",
   "metadata": {},
   "source": [
    "#### Importing Required Packages"
   ]
  },
  {
   "cell_type": "code",
   "execution_count": 4,
   "metadata": {
    "_cell_guid": "79c7e3d0-c299-4dcb-8224-4455121ee9b0",
    "_kg_hide-output": true,
    "_uuid": "d629ff2d2480ee46fbb7e2d37f6b5fab8052498a"
   },
   "outputs": [
    {
     "name": "stdout",
     "output_type": "stream",
     "text": [
      "Collecting pycaret\n",
      "  Using cached https://files.pythonhosted.org/packages/c7/41/f7fa05b6ce3cb3096a35fb5ac6dc0f2bb23e8304f068618fb2501be0a562/pycaret-1.0.0-py3-none-any.whl\n",
      "Requirement already satisfied: pandas in c:\\users\\kipma\\appdata\\roaming\\python\\python36\\site-packages (from pycaret) (0.25.3)\n",
      "Requirement already satisfied: pandas-profiling==2.3.0 in c:\\programdata\\anaconda3\\lib\\site-packages (from pycaret) (2.3.0)\n",
      "Collecting DateTime==4.3\n",
      "  Using cached https://files.pythonhosted.org/packages/73/22/a5297f3a1f92468cc737f8ce7ba6e5f245fcfafeae810ba37bd1039ea01c/DateTime-4.3-py2.py3-none-any.whl\n",
      "Requirement already satisfied: nltk in c:\\programdata\\anaconda3\\lib\\site-packages (from pycaret) (3.4.5)\n",
      "Collecting kmodes==0.10.1\n",
      "  Using cached https://files.pythonhosted.org/packages/79/c0/f7d8a0eb41ac6f302b4bc100f91b6e0f2558425ccfefaa0ec0430f77ee97/kmodes-0.10.1-py2.py3-none-any.whl\n",
      "Collecting shap==0.32.1\n",
      "  Using cached https://files.pythonhosted.org/packages/51/72/0ca4929eb5a9d6570953f8fe7f4565fcecaf50ebe2c29f4e2a62296f9c20/shap-0.32.1-cp36-cp36m-win_amd64.whl\n",
      "Collecting yellowbrick==1.0.1\n",
      "  Using cached https://files.pythonhosted.org/packages/d1/cf/6d6ab47c0759d246262f9bdb53e89be3814bf1774bc51fffff995f5859f9/yellowbrick-1.0.1-py3-none-any.whl\n",
      "Collecting mlxtend\n",
      "  Using cached https://files.pythonhosted.org/packages/64/e2/1610a86284029abcad0ac9bc86cb19f9787fe6448ede467188b2a5121bb4/mlxtend-0.17.2-py2.py3-none-any.whl\n",
      "Collecting gensim\n",
      "  Using cached https://files.pythonhosted.org/packages/b3/8b/b31d8c6d74292f745aa06fdc02fb8e1e529736ab1de922e5402a50e0a042/gensim-3.8.3-cp36-cp36m-win_amd64.whl\n",
      "Requirement already satisfied: spacy in c:\\programdata\\anaconda3\\lib\\site-packages (from pycaret) (2.2.4)\n",
      "Requirement already satisfied: numpy in c:\\programdata\\anaconda3\\lib\\site-packages (from pycaret) (1.17.4)\n",
      "Collecting xgboost==0.90\n",
      "  Using cached https://files.pythonhosted.org/packages/5e/49/b95c037b717b4ceadc76b6e164603471225c27052d1611d5a2e832757945/xgboost-0.90-py2.py3-none-win_amd64.whl\n",
      "Requirement already satisfied: joblib in c:\\programdata\\anaconda3\\lib\\site-packages (from pycaret) (0.14.1)\n",
      "Requirement already satisfied: IPython in c:\\programdata\\anaconda3\\lib\\site-packages (from pycaret) (7.11.1)\n",
      "Requirement already satisfied: datefinder==0.7.0 in c:\\programdata\\anaconda3\\lib\\site-packages (from pycaret) (0.7.0)\n",
      "Collecting textblob\n",
      "  Using cached https://files.pythonhosted.org/packages/60/f0/1d9bfcc8ee6b83472ec571406bd0dd51c0e6330ff1a51b2d29861d389e85/textblob-0.15.3-py2.py3-none-any.whl\n",
      "Requirement already satisfied: scikit-learn==0.22 in c:\\programdata\\anaconda3\\lib\\site-packages (from pycaret) (0.22)\n",
      "Processing c:\\users\\kipma\\appdata\\local\\pip\\cache\\wheels\\44\\d7\\dc\\e830ab00bc2dd3b2731295103baa070f8cbdda8891f71a7a8d\\cufflinks-0.17.0-cp36-none-any.whl\n",
      "Collecting plotly==4.4.1\n",
      "  Using cached https://files.pythonhosted.org/packages/8e/ce/6ea5683c47b682bffad39ad41d10913141b560b1b875a90dbc6abe3f4fa9/plotly-4.4.1-py2.py3-none-any.whl\n",
      "Collecting wordcloud\n",
      "  Using cached https://files.pythonhosted.org/packages/2c/12/09efb38f079da846e16d81b6a65467bc359effe0e48ce3f869bbe768b085/wordcloud-1.7.0-cp36-cp36m-win_amd64.whl\n",
      "Requirement already satisfied: awscli in c:\\programdata\\anaconda3\\lib\\site-packages (from pycaret) (1.18.61)\n",
      "Collecting catboost==0.20.2\n",
      "  Using cached https://files.pythonhosted.org/packages/92/44/0f7715e8cf636623f53748118a6b4a894f4f0ab1ebea01d88ba1ca592905/catboost-0.20.2-cp36-none-win_amd64.whl\n",
      "Requirement already satisfied: seaborn in c:\\programdata\\anaconda3\\lib\\site-packages (from pycaret) (0.9.0)\n",
      "Processing c:\\users\\kipma\\appdata\\local\\pip\\cache\\wheels\\f2\\67\\a4\\ff47e0efaf4a93617047d2be52862dda80a848ff5c67bfb18d\\pyod-0.7.9-cp36-none-any.whl\n",
      "Requirement already satisfied: ipywidgets in c:\\programdata\\anaconda3\\lib\\site-packages (from pycaret) (7.5.1)\n",
      "Requirement already satisfied: pyLDAvis in c:\\programdata\\anaconda3\\lib\\site-packages (from pycaret) (2.1.2)\n",
      "Collecting lightgbm==2.3.1\n",
      "  Using cached https://files.pythonhosted.org/packages/1f/cb/a8ec24334c35a7d0c87b4e4e056bd2137573c7c1bd81c760b79a2f370254/lightgbm-2.3.1-py2.py3-none-win_amd64.whl\n",
      "Processing c:\\users\\kipma\\appdata\\local\\pip\\cache\\wheels\\ca\\44\\8e\\64bda5354fbf7ecdedd8704ca948f4139ce9cf34f6d9667c9b\\umap_learn-0.4.3-cp36-none-any.whl\n",
      "Requirement already satisfied: matplotlib in c:\\programdata\\anaconda3\\lib\\site-packages (from pycaret) (3.2.0)\n",
      "Requirement already satisfied: python-dateutil>=2.6.1 in c:\\programdata\\anaconda3\\lib\\site-packages (from pandas->pycaret) (2.8.1)\n",
      "Requirement already satisfied: pytz>=2017.2 in c:\\programdata\\anaconda3\\lib\\site-packages (from pandas->pycaret) (2019.3)\n",
      "Requirement already satisfied: jinja2>=2.8 in c:\\programdata\\anaconda3\\lib\\site-packages (from pandas-profiling==2.3.0->pycaret) (2.10.3)\n",
      "Requirement already satisfied: confuse>=1.0.0 in c:\\programdata\\anaconda3\\lib\\site-packages (from pandas-profiling==2.3.0->pycaret) (1.1.0)\n",
      "Requirement already satisfied: astropy in c:\\programdata\\anaconda3\\lib\\site-packages (from pandas-profiling==2.3.0->pycaret) (4.0)\n",
      "Requirement already satisfied: htmlmin>=0.1.12 in c:\\programdata\\anaconda3\\lib\\site-packages (from pandas-profiling==2.3.0->pycaret) (0.1.12)\n",
      "Requirement already satisfied: phik>=0.9.8 in c:\\programdata\\anaconda3\\lib\\site-packages (from pandas-profiling==2.3.0->pycaret) (0.9.12)\n",
      "Requirement already satisfied: missingno>=0.4.2 in c:\\programdata\\anaconda3\\lib\\site-packages (from pandas-profiling==2.3.0->pycaret) (0.4.2)\n",
      "Collecting zope.interface\n",
      "  Using cached https://files.pythonhosted.org/packages/2c/3e/a2360221be5d3d6f272c7b2a036942cf16c24483d249c141b18297f17a86/zope.interface-5.1.0-cp36-cp36m-win_amd64.whl\n",
      "Requirement already satisfied: six in c:\\programdata\\anaconda3\\lib\\site-packages (from nltk->pycaret) (1.13.0)\n",
      "Requirement already satisfied: scipy>=0.13.3 in c:\\programdata\\anaconda3\\lib\\site-packages (from kmodes==0.10.1->pycaret) (1.3.2)\n",
      "Requirement already satisfied: tqdm>4.25.0 in c:\\programdata\\anaconda3\\lib\\site-packages (from shap==0.32.1->pycaret) (4.40.2)\n",
      "Requirement already satisfied: cycler>=0.10.0 in c:\\programdata\\anaconda3\\lib\\site-packages (from yellowbrick==1.0.1->pycaret) (0.10.0)\n",
      "Requirement already satisfied: setuptools in c:\\programdata\\anaconda3\\lib\\site-packages (from mlxtend->pycaret) (44.0.0.post20200106)\n",
      "Requirement already satisfied: Cython==0.29.14 in c:\\programdata\\anaconda3\\lib\\site-packages (from gensim->pycaret) (0.29.14)\n",
      "Processing c:\\users\\kipma\\appdata\\local\\pip\\cache\\wheels\\27\\65\\38\\8d7f5fe8d7afb4e4566587b2d1933cec185fba19257836c943\\smart_open-2.0.0-cp36-none-any.whl\n",
      "Requirement already satisfied: murmurhash<1.1.0,>=0.28.0 in c:\\programdata\\anaconda3\\lib\\site-packages (from spacy->pycaret) (1.0.2)\n",
      "Requirement already satisfied: wasabi<1.1.0,>=0.4.0 in c:\\programdata\\anaconda3\\lib\\site-packages (from spacy->pycaret) (0.6.0)\n",
      "Requirement already satisfied: requests<3.0.0,>=2.13.0 in c:\\programdata\\anaconda3\\lib\\site-packages (from spacy->pycaret) (2.22.0)\n",
      "Requirement already satisfied: thinc==7.4.0 in c:\\programdata\\anaconda3\\lib\\site-packages (from spacy->pycaret) (7.4.0)\n",
      "Requirement already satisfied: preshed<3.1.0,>=3.0.2 in c:\\programdata\\anaconda3\\lib\\site-packages (from spacy->pycaret) (3.0.2)\n",
      "Requirement already satisfied: srsly<1.1.0,>=1.0.2 in c:\\programdata\\anaconda3\\lib\\site-packages (from spacy->pycaret) (1.0.2)\n",
      "Requirement already satisfied: cymem<2.1.0,>=2.0.2 in c:\\programdata\\anaconda3\\lib\\site-packages (from spacy->pycaret) (2.0.3)\n",
      "Requirement already satisfied: blis<0.5.0,>=0.4.0 in c:\\programdata\\anaconda3\\lib\\site-packages (from spacy->pycaret) (0.4.1)\n",
      "Requirement already satisfied: plac<1.2.0,>=0.9.6 in c:\\programdata\\anaconda3\\lib\\site-packages (from spacy->pycaret) (1.1.3)\n",
      "Requirement already satisfied: catalogue<1.1.0,>=0.0.7 in c:\\programdata\\anaconda3\\lib\\site-packages (from spacy->pycaret) (1.0.0)\n",
      "Requirement already satisfied: pygments in c:\\programdata\\anaconda3\\lib\\site-packages (from IPython->pycaret) (2.5.2)\n",
      "Requirement already satisfied: decorator in c:\\programdata\\anaconda3\\lib\\site-packages (from IPython->pycaret) (4.4.1)\n",
      "Requirement already satisfied: traitlets>=4.2 in c:\\programdata\\anaconda3\\lib\\site-packages (from IPython->pycaret) (4.3.3)\n",
      "Requirement already satisfied: pickleshare in c:\\programdata\\anaconda3\\lib\\site-packages (from IPython->pycaret) (0.7.5)\n",
      "Requirement already satisfied: prompt-toolkit!=3.0.0,!=3.0.1,<3.1.0,>=2.0.0 in c:\\programdata\\anaconda3\\lib\\site-packages (from IPython->pycaret) (2.0.10)\n",
      "Requirement already satisfied: backcall in c:\\programdata\\anaconda3\\lib\\site-packages (from IPython->pycaret) (0.1.0)\n",
      "Requirement already satisfied: jedi>=0.10 in c:\\programdata\\anaconda3\\lib\\site-packages (from IPython->pycaret) (0.15.2)\n",
      "Requirement already satisfied: colorama; sys_platform == \"win32\" in c:\\programdata\\anaconda3\\lib\\site-packages (from IPython->pycaret) (0.4.3)\n",
      "Requirement already satisfied: regex>=2017.02.08 in c:\\programdata\\anaconda3\\lib\\site-packages (from datefinder==0.7.0->pycaret) (2020.5.14)\n",
      "Collecting colorlover>=0.2.1\n",
      "  Using cached https://files.pythonhosted.org/packages/9a/53/f696e4480b1d1de3b1523991dea71cf417c8b19fe70c704da164f3f90972/colorlover-0.3.0-py3-none-any.whl\n",
      "Collecting chart-studio>=1.0.0\n",
      "  Using cached https://files.pythonhosted.org/packages/ca/ce/330794a6b6ca4b9182c38fc69dd2a9cbff60fd49421cb8648ee5fee352dc/chart_studio-1.1.0-py3-none-any.whl\n",
      "Requirement already satisfied: retrying>=1.3.3 in c:\\programdata\\anaconda3\\lib\\site-packages (from plotly==4.4.1->pycaret) (1.3.3)\n",
      "Requirement already satisfied: pillow in c:\\programdata\\anaconda3\\lib\\site-packages (from wordcloud->pycaret) (7.0.0)\n",
      "Requirement already satisfied: docutils<0.16,>=0.10 in c:\\programdata\\anaconda3\\lib\\site-packages (from awscli->pycaret) (0.15.2)\n",
      "Requirement already satisfied: s3transfer<0.4.0,>=0.3.0 in c:\\programdata\\anaconda3\\lib\\site-packages (from awscli->pycaret) (0.3.3)\n",
      "Requirement already satisfied: rsa<=3.5.0,>=3.1.2 in c:\\programdata\\anaconda3\\lib\\site-packages (from awscli->pycaret) (3.4.2)\n",
      "Requirement already satisfied: botocore==1.16.11 in c:\\programdata\\anaconda3\\lib\\site-packages (from awscli->pycaret) (1.16.11)\n",
      "Requirement already satisfied: PyYAML<5.4,>=3.10; python_version != \"3.4\" in c:\\programdata\\anaconda3\\lib\\site-packages (from awscli->pycaret) (5.2)\n",
      "Collecting graphviz\n",
      "  Using cached https://files.pythonhosted.org/packages/83/cc/c62100906d30f95d46451c15eb407da7db201e30f42008f3643945910373/graphviz-0.14-py2.py3-none-any.whl\n",
      "Processing c:\\users\\kipma\\appdata\\local\\pip\\cache\\wheels\\57\\55\\e5\\a4fca65bba231f6d0115059b589148774b41faea25b3f2aa27\\suod-0.0.4-cp36-none-any.whl\n",
      "Requirement already satisfied: numba>=0.35 in c:\\programdata\\anaconda3\\lib\\site-packages (from pyod->pycaret) (0.46.0)\n",
      "Processing c:\\users\\kipma\\appdata\\local\\pip\\cache\\wheels\\00\\fd\\6c\\8da495ef08ce61844a646df2423c2b8ecda377a89c90ecd88e\\combo-0.1.0-cp36-none-any.whl\n",
      "Requirement already satisfied: ipykernel>=4.5.1 in c:\\programdata\\anaconda3\\lib\\site-packages (from ipywidgets->pycaret) (5.1.3)\n",
      "Requirement already satisfied: nbformat>=4.2.0 in c:\\programdata\\anaconda3\\lib\\site-packages (from ipywidgets->pycaret) (5.0.4)\n",
      "Requirement already satisfied: widgetsnbextension~=3.5.0 in c:\\programdata\\anaconda3\\lib\\site-packages (from ipywidgets->pycaret) (3.5.1)\n",
      "Requirement already satisfied: funcy in c:\\programdata\\anaconda3\\lib\\site-packages (from pyLDAvis->pycaret) (1.14)\n",
      "Requirement already satisfied: wheel>=0.23.0 in c:\\programdata\\anaconda3\\lib\\site-packages (from pyLDAvis->pycaret) (0.33.6)\n",
      "Requirement already satisfied: numexpr in c:\\programdata\\anaconda3\\lib\\site-packages (from pyLDAvis->pycaret) (2.7.0)\n",
      "Requirement already satisfied: future in c:\\programdata\\anaconda3\\lib\\site-packages (from pyLDAvis->pycaret) (0.18.2)\n",
      "Requirement already satisfied: pytest in c:\\programdata\\anaconda3\\lib\\site-packages (from pyLDAvis->pycaret) (5.3.2)\n",
      "Collecting tbb\n",
      "  Using cached https://files.pythonhosted.org/packages/4a/94/66206cb915893196cb4e0db3aba3cc0504d1bb4739b0c2478371664dd8ea/tbb-2019.0-py3-none-win_amd64.whl\n",
      "Requirement already satisfied: kiwisolver>=1.0.1 in c:\\programdata\\anaconda3\\lib\\site-packages (from matplotlib->pycaret) (1.1.0)\n",
      "Requirement already satisfied: pyparsing!=2.0.4,!=2.1.2,!=2.1.6,>=2.0.1 in c:\\programdata\\anaconda3\\lib\\site-packages (from matplotlib->pycaret) (2.4.6)\n",
      "Requirement already satisfied: MarkupSafe>=0.23 in c:\\programdata\\anaconda3\\lib\\site-packages (from jinja2>=2.8->pandas-profiling==2.3.0->pycaret) (1.1.1)\n",
      "Collecting boto3\n",
      "  Using cached https://files.pythonhosted.org/packages/19/6e/806c8171a4a293bde1ba0fcfd8d3e73093b90b160561739a0e79548d4275/boto3-1.13.11-py2.py3-none-any.whl\n",
      "Requirement already satisfied: boto in c:\\programdata\\anaconda3\\lib\\site-packages (from smart-open>=1.8.1->gensim->pycaret) (2.49.0)\n",
      "Requirement already satisfied: urllib3!=1.25.0,!=1.25.1,<1.26,>=1.21.1 in c:\\programdata\\anaconda3\\lib\\site-packages (from requests<3.0.0,>=2.13.0->spacy->pycaret) (1.25.7)\n",
      "Requirement already satisfied: certifi>=2017.4.17 in c:\\programdata\\anaconda3\\lib\\site-packages (from requests<3.0.0,>=2.13.0->spacy->pycaret) (2020.4.5.1)\n",
      "Requirement already satisfied: idna<2.9,>=2.5 in c:\\programdata\\anaconda3\\lib\\site-packages (from requests<3.0.0,>=2.13.0->spacy->pycaret) (2.8)\n",
      "Requirement already satisfied: chardet<3.1.0,>=3.0.2 in c:\\programdata\\anaconda3\\lib\\site-packages (from requests<3.0.0,>=2.13.0->spacy->pycaret) (3.0.4)\n",
      "Requirement already satisfied: importlib-metadata>=0.20; python_version < \"3.8\" in c:\\programdata\\anaconda3\\lib\\site-packages (from catalogue<1.1.0,>=0.0.7->spacy->pycaret) (1.3.0)\n",
      "Requirement already satisfied: ipython-genutils in c:\\programdata\\anaconda3\\lib\\site-packages (from traitlets>=4.2->IPython->pycaret) (0.2.0)\n",
      "Requirement already satisfied: wcwidth in c:\\programdata\\anaconda3\\lib\\site-packages (from prompt-toolkit!=3.0.0,!=3.0.1,<3.1.0,>=2.0.0->IPython->pycaret) (0.1.7)\n",
      "Requirement already satisfied: parso>=0.5.2 in c:\\programdata\\anaconda3\\lib\\site-packages (from jedi>=0.10->IPython->pycaret) (0.5.2)\n",
      "Requirement already satisfied: pyasn1>=0.1.3 in c:\\programdata\\anaconda3\\lib\\site-packages (from rsa<=3.5.0,>=3.1.2->awscli->pycaret) (0.4.8)\n",
      "Requirement already satisfied: jmespath<1.0.0,>=0.7.1 in c:\\programdata\\anaconda3\\lib\\site-packages (from botocore==1.16.11->awscli->pycaret) (0.10.0)\n",
      "Requirement already satisfied: llvmlite>=0.30.0dev0 in c:\\programdata\\anaconda3\\lib\\site-packages (from numba>=0.35->pyod->pycaret) (0.30.0)\n",
      "Requirement already satisfied: tornado>=4.2 in c:\\programdata\\anaconda3\\lib\\site-packages (from ipykernel>=4.5.1->ipywidgets->pycaret) (6.0.3)\n",
      "Requirement already satisfied: jupyter-client in c:\\programdata\\anaconda3\\lib\\site-packages (from ipykernel>=4.5.1->ipywidgets->pycaret) (5.3.4)\n",
      "Requirement already satisfied: jsonschema!=2.5.0,>=2.4 in c:\\programdata\\anaconda3\\lib\\site-packages (from nbformat>=4.2.0->ipywidgets->pycaret) (3.2.0)\n",
      "Requirement already satisfied: jupyter-core in c:\\programdata\\anaconda3\\lib\\site-packages (from nbformat>=4.2.0->ipywidgets->pycaret) (4.6.1)\n",
      "Requirement already satisfied: notebook>=4.4.1 in c:\\programdata\\anaconda3\\lib\\site-packages (from widgetsnbextension~=3.5.0->ipywidgets->pycaret) (6.0.2)\n",
      "Requirement already satisfied: py>=1.5.0 in c:\\programdata\\anaconda3\\lib\\site-packages (from pytest->pyLDAvis->pycaret) (1.8.1)\n",
      "Requirement already satisfied: packaging in c:\\programdata\\anaconda3\\lib\\site-packages (from pytest->pyLDAvis->pycaret) (20.0)\n",
      "Requirement already satisfied: attrs>=17.4.0 in c:\\programdata\\anaconda3\\lib\\site-packages (from pytest->pyLDAvis->pycaret) (19.3.0)\n",
      "Requirement already satisfied: more-itertools>=4.0.0 in c:\\programdata\\anaconda3\\lib\\site-packages (from pytest->pyLDAvis->pycaret) (8.0.2)\n",
      "Requirement already satisfied: pluggy<1.0,>=0.12 in c:\\programdata\\anaconda3\\lib\\site-packages (from pytest->pyLDAvis->pycaret) (0.13.1)\n",
      "Requirement already satisfied: atomicwrites>=1.0 in c:\\programdata\\anaconda3\\lib\\site-packages (from pytest->pyLDAvis->pycaret) (1.3.0)\n",
      "Requirement already satisfied: zipp>=0.5 in c:\\programdata\\anaconda3\\lib\\site-packages (from importlib-metadata>=0.20; python_version < \"3.8\"->catalogue<1.1.0,>=0.0.7->spacy->pycaret) (0.6.0)\n",
      "Requirement already satisfied: pyzmq>=13 in c:\\programdata\\anaconda3\\lib\\site-packages (from jupyter-client->ipykernel>=4.5.1->ipywidgets->pycaret) (18.1.0)\n",
      "Requirement already satisfied: pywin32>=1.0; sys_platform == \"win32\" in c:\\programdata\\anaconda3\\lib\\site-packages (from jupyter-client->ipykernel>=4.5.1->ipywidgets->pycaret) (227)\n",
      "Requirement already satisfied: pyrsistent>=0.14.0 in c:\\programdata\\anaconda3\\lib\\site-packages (from jsonschema!=2.5.0,>=2.4->nbformat>=4.2.0->ipywidgets->pycaret) (0.15.6)\n",
      "Requirement already satisfied: Send2Trash in c:\\programdata\\anaconda3\\lib\\site-packages (from notebook>=4.4.1->widgetsnbextension~=3.5.0->ipywidgets->pycaret) (1.5.0)\n",
      "Requirement already satisfied: prometheus-client in c:\\programdata\\anaconda3\\lib\\site-packages (from notebook>=4.4.1->widgetsnbextension~=3.5.0->ipywidgets->pycaret) (0.7.1)\n",
      "Requirement already satisfied: terminado>=0.8.1 in c:\\programdata\\anaconda3\\lib\\site-packages (from notebook>=4.4.1->widgetsnbextension~=3.5.0->ipywidgets->pycaret) (0.8.3)\n",
      "Requirement already satisfied: nbconvert in c:\\programdata\\anaconda3\\lib\\site-packages (from notebook>=4.4.1->widgetsnbextension~=3.5.0->ipywidgets->pycaret) (5.6.1)\n",
      "Requirement already satisfied: testpath in c:\\programdata\\anaconda3\\lib\\site-packages (from nbconvert->notebook>=4.4.1->widgetsnbextension~=3.5.0->ipywidgets->pycaret) (0.4.4)\n",
      "Requirement already satisfied: entrypoints>=0.2.2 in c:\\programdata\\anaconda3\\lib\\site-packages (from nbconvert->notebook>=4.4.1->widgetsnbextension~=3.5.0->ipywidgets->pycaret) (0.3)\n",
      "Requirement already satisfied: mistune<2,>=0.8.1 in c:\\programdata\\anaconda3\\lib\\site-packages (from nbconvert->notebook>=4.4.1->widgetsnbextension~=3.5.0->ipywidgets->pycaret) (0.8.4)\n",
      "Requirement already satisfied: pandocfilters>=1.4.1 in c:\\programdata\\anaconda3\\lib\\site-packages (from nbconvert->notebook>=4.4.1->widgetsnbextension~=3.5.0->ipywidgets->pycaret) (1.4.2)\n",
      "Requirement already satisfied: defusedxml in c:\\programdata\\anaconda3\\lib\\site-packages (from nbconvert->notebook>=4.4.1->widgetsnbextension~=3.5.0->ipywidgets->pycaret) (0.6.0)\n",
      "Requirement already satisfied: bleach in c:\\programdata\\anaconda3\\lib\\site-packages (from nbconvert->notebook>=4.4.1->widgetsnbextension~=3.5.0->ipywidgets->pycaret) (3.1.0)\n",
      "Requirement already satisfied: webencodings in c:\\programdata\\anaconda3\\lib\\site-packages (from bleach->nbconvert->notebook>=4.4.1->widgetsnbextension~=3.5.0->ipywidgets->pycaret) (0.5.1)\n",
      "Installing collected packages: zope.interface, DateTime, kmodes, shap, yellowbrick, mlxtend, boto3, smart-open, gensim, xgboost, textblob, colorlover, plotly, chart-studio, cufflinks, wordcloud, graphviz, catboost, suod, combo, pyod, lightgbm, tbb, umap-learn, pycaret\n",
      "  Found existing installation: plotly 4.5.3\n",
      "    Uninstalling plotly-4.5.3:\n"
     ]
    },
    {
     "name": "stderr",
     "output_type": "stream",
     "text": [
      "ERROR: Could not install packages due to an EnvironmentError: [WinError 5] Access is denied: 'c:\\\\programdata\\\\anaconda3\\\\lib\\\\site-packages\\\\_plotly_future_\\\\extract_chart_studio.py'\n",
      "Consider using the `--user` option or check the permissions.\n",
      "\n"
     ]
    },
    {
     "ename": "ModuleNotFoundError",
     "evalue": "No module named 'pycaret'",
     "output_type": "error",
     "traceback": [
      "\u001b[1;31m---------------------------------------------------------------------------\u001b[0m",
      "\u001b[1;31mModuleNotFoundError\u001b[0m                       Traceback (most recent call last)",
      "\u001b[1;32m<ipython-input-4-f1c76c474995>\u001b[0m in \u001b[0;36m<module>\u001b[1;34m\u001b[0m\n\u001b[0;32m      8\u001b[0m \u001b[1;32mfrom\u001b[0m \u001b[0msklearn\u001b[0m\u001b[1;33m.\u001b[0m\u001b[0mensemble\u001b[0m \u001b[1;32mimport\u001b[0m \u001b[0mRandomForestClassifier\u001b[0m\u001b[1;33m\u001b[0m\u001b[1;33m\u001b[0m\u001b[0m\n\u001b[0;32m      9\u001b[0m \u001b[0mget_ipython\u001b[0m\u001b[1;33m(\u001b[0m\u001b[1;33m)\u001b[0m\u001b[1;33m.\u001b[0m\u001b[0msystem\u001b[0m\u001b[1;33m(\u001b[0m\u001b[1;34m'pip install pycaret'\u001b[0m\u001b[1;33m)\u001b[0m\u001b[1;33m\u001b[0m\u001b[1;33m\u001b[0m\u001b[0m\n\u001b[1;32m---> 10\u001b[1;33m \u001b[1;32mfrom\u001b[0m \u001b[0mpycaret\u001b[0m\u001b[1;33m.\u001b[0m\u001b[0mclassification\u001b[0m \u001b[1;32mimport\u001b[0m \u001b[1;33m*\u001b[0m\u001b[1;33m\u001b[0m\u001b[1;33m\u001b[0m\u001b[0m\n\u001b[0m\u001b[0;32m     11\u001b[0m \u001b[1;32mfrom\u001b[0m \u001b[0mpycaret\u001b[0m\u001b[1;33m.\u001b[0m\u001b[0mregression\u001b[0m \u001b[1;32mimport\u001b[0m \u001b[1;33m*\u001b[0m\u001b[1;33m\u001b[0m\u001b[1;33m\u001b[0m\u001b[0m\n",
      "\u001b[1;31mModuleNotFoundError\u001b[0m: No module named 'pycaret'"
     ]
    }
   ],
   "source": [
    "import pandas as pd\n",
    "import numpy as np\n",
    "import matplotlib.pyplot as plt\n",
    "import scipy.stats as ss\n",
    "from scipy.stats import chi2_contingency\n",
    "from sklearn.preprocessing import LabelEncoder\n",
    "le=LabelEncoder()\n",
    "from sklearn.ensemble import RandomForestClassifier\n",
    "!pip install pycaret\n",
    "from pycaret.classification import *\n",
    "from pycaret.regression import *"
   ]
  },
  {
   "cell_type": "markdown",
   "metadata": {},
   "source": [
    "#### Importing the data"
   ]
  },
  {
   "cell_type": "code",
   "execution_count": 183,
   "metadata": {},
   "outputs": [
    {
     "data": {
      "text/html": [
       "<div>\n",
       "<style scoped>\n",
       "    .dataframe tbody tr th:only-of-type {\n",
       "        vertical-align: middle;\n",
       "    }\n",
       "\n",
       "    .dataframe tbody tr th {\n",
       "        vertical-align: top;\n",
       "    }\n",
       "\n",
       "    .dataframe thead th {\n",
       "        text-align: right;\n",
       "    }\n",
       "</style>\n",
       "<table border=\"1\" class=\"dataframe\">\n",
       "  <thead>\n",
       "    <tr style=\"text-align: right;\">\n",
       "      <th></th>\n",
       "      <th>Unnamed: 0</th>\n",
       "      <th>loanIdentifier</th>\n",
       "      <th>origChannel</th>\n",
       "      <th>sellerName</th>\n",
       "      <th>origIntRate</th>\n",
       "      <th>origUPB</th>\n",
       "      <th>origDate</th>\n",
       "      <th>firstPmtDate</th>\n",
       "      <th>origLTV</th>\n",
       "      <th>origCLTV</th>\n",
       "      <th>...</th>\n",
       "      <th>pMIperct</th>\n",
       "      <th>mortInsType</th>\n",
       "      <th>bestCreditScore</th>\n",
       "      <th>worstCreditScore</th>\n",
       "      <th>avgCreditScore</th>\n",
       "      <th>fmacRate</th>\n",
       "      <th>fredRate</th>\n",
       "      <th>rateDiff</th>\n",
       "      <th>rateDiffPct</th>\n",
       "      <th>rank</th>\n",
       "    </tr>\n",
       "  </thead>\n",
       "  <tbody>\n",
       "    <tr>\n",
       "      <th>0</th>\n",
       "      <td>5353740</td>\n",
       "      <td>832231376476</td>\n",
       "      <td>3</td>\n",
       "      <td>GMAC MORTGAGE, LLC</td>\n",
       "      <td>5.875</td>\n",
       "      <td>242000</td>\n",
       "      <td>2007-01-01</td>\n",
       "      <td>2007-03-01</td>\n",
       "      <td>62.0</td>\n",
       "      <td>62.0</td>\n",
       "      <td>...</td>\n",
       "      <td>0.0</td>\n",
       "      <td>0.0</td>\n",
       "      <td>667.0</td>\n",
       "      <td>667.0</td>\n",
       "      <td>667.0</td>\n",
       "      <td>6.18</td>\n",
       "      <td>4.71</td>\n",
       "      <td>-0.305</td>\n",
       "      <td>-0.049353</td>\n",
       "      <td>3.0</td>\n",
       "    </tr>\n",
       "    <tr>\n",
       "      <th>1</th>\n",
       "      <td>4612284</td>\n",
       "      <td>877425485629</td>\n",
       "      <td>1</td>\n",
       "      <td>FIRST TENNESSEE BANK NATIONAL ASSOCIATION</td>\n",
       "      <td>4.875</td>\n",
       "      <td>168000</td>\n",
       "      <td>2005-03-01</td>\n",
       "      <td>2005-05-01</td>\n",
       "      <td>39.0</td>\n",
       "      <td>39.0</td>\n",
       "      <td>...</td>\n",
       "      <td>0.0</td>\n",
       "      <td>0.0</td>\n",
       "      <td>797.0</td>\n",
       "      <td>797.0</td>\n",
       "      <td>797.0</td>\n",
       "      <td>5.69</td>\n",
       "      <td>4.38</td>\n",
       "      <td>-0.815</td>\n",
       "      <td>-0.143234</td>\n",
       "      <td>2.0</td>\n",
       "    </tr>\n",
       "    <tr>\n",
       "      <th>2</th>\n",
       "      <td>7765258</td>\n",
       "      <td>191286475874</td>\n",
       "      <td>2</td>\n",
       "      <td>OTHER</td>\n",
       "      <td>4.375</td>\n",
       "      <td>556000</td>\n",
       "      <td>2011-11-01</td>\n",
       "      <td>2012-01-01</td>\n",
       "      <td>79.0</td>\n",
       "      <td>79.0</td>\n",
       "      <td>...</td>\n",
       "      <td>0.0</td>\n",
       "      <td>0.0</td>\n",
       "      <td>801.0</td>\n",
       "      <td>747.0</td>\n",
       "      <td>774.0</td>\n",
       "      <td>4.10</td>\n",
       "      <td>2.01</td>\n",
       "      <td>0.275</td>\n",
       "      <td>0.067073</td>\n",
       "      <td>3.0</td>\n",
       "    </tr>\n",
       "    <tr>\n",
       "      <th>3</th>\n",
       "      <td>4801103</td>\n",
       "      <td>788814542461</td>\n",
       "      <td>2</td>\n",
       "      <td>BANK OF AMERICA, N.A.</td>\n",
       "      <td>6.500</td>\n",
       "      <td>112000</td>\n",
       "      <td>2005-08-01</td>\n",
       "      <td>2005-10-01</td>\n",
       "      <td>78.0</td>\n",
       "      <td>78.0</td>\n",
       "      <td>...</td>\n",
       "      <td>0.0</td>\n",
       "      <td>0.0</td>\n",
       "      <td>631.0</td>\n",
       "      <td>631.0</td>\n",
       "      <td>631.0</td>\n",
       "      <td>5.77</td>\n",
       "      <td>4.32</td>\n",
       "      <td>0.730</td>\n",
       "      <td>0.126516</td>\n",
       "      <td>4.0</td>\n",
       "    </tr>\n",
       "    <tr>\n",
       "      <th>4</th>\n",
       "      <td>3475269</td>\n",
       "      <td>173368078702</td>\n",
       "      <td>3</td>\n",
       "      <td>IRWIN MORTGAGE, CORPORATION</td>\n",
       "      <td>5.250</td>\n",
       "      <td>220000</td>\n",
       "      <td>2003-08-01</td>\n",
       "      <td>2003-10-01</td>\n",
       "      <td>73.0</td>\n",
       "      <td>73.0</td>\n",
       "      <td>...</td>\n",
       "      <td>0.0</td>\n",
       "      <td>0.0</td>\n",
       "      <td>767.0</td>\n",
       "      <td>642.0</td>\n",
       "      <td>704.5</td>\n",
       "      <td>6.14</td>\n",
       "      <td>4.44</td>\n",
       "      <td>-0.890</td>\n",
       "      <td>-0.144951</td>\n",
       "      <td>2.0</td>\n",
       "    </tr>\n",
       "  </tbody>\n",
       "</table>\n",
       "<p>5 rows × 26 columns</p>\n",
       "</div>"
      ],
      "text/plain": [
       "   Unnamed: 0  loanIdentifier  origChannel  \\\n",
       "0     5353740    832231376476            3   \n",
       "1     4612284    877425485629            1   \n",
       "2     7765258    191286475874            2   \n",
       "3     4801103    788814542461            2   \n",
       "4     3475269    173368078702            3   \n",
       "\n",
       "                                  sellerName  origIntRate  origUPB  \\\n",
       "0                         GMAC MORTGAGE, LLC        5.875   242000   \n",
       "1  FIRST TENNESSEE BANK NATIONAL ASSOCIATION        4.875   168000   \n",
       "2                                      OTHER        4.375   556000   \n",
       "3                      BANK OF AMERICA, N.A.        6.500   112000   \n",
       "4                IRWIN MORTGAGE, CORPORATION        5.250   220000   \n",
       "\n",
       "     origDate firstPmtDate  origLTV  origCLTV  ...  pMIperct  mortInsType  \\\n",
       "0  2007-01-01   2007-03-01     62.0      62.0  ...       0.0          0.0   \n",
       "1  2005-03-01   2005-05-01     39.0      39.0  ...       0.0          0.0   \n",
       "2  2011-11-01   2012-01-01     79.0      79.0  ...       0.0          0.0   \n",
       "3  2005-08-01   2005-10-01     78.0      78.0  ...       0.0          0.0   \n",
       "4  2003-08-01   2003-10-01     73.0      73.0  ...       0.0          0.0   \n",
       "\n",
       "   bestCreditScore  worstCreditScore avgCreditScore  fmacRate  fredRate  \\\n",
       "0            667.0             667.0          667.0      6.18      4.71   \n",
       "1            797.0             797.0          797.0      5.69      4.38   \n",
       "2            801.0             747.0          774.0      4.10      2.01   \n",
       "3            631.0             631.0          631.0      5.77      4.32   \n",
       "4            767.0             642.0          704.5      6.14      4.44   \n",
       "\n",
       "   rateDiff  rateDiffPct  rank  \n",
       "0    -0.305    -0.049353   3.0  \n",
       "1    -0.815    -0.143234   2.0  \n",
       "2     0.275     0.067073   3.0  \n",
       "3     0.730     0.126516   4.0  \n",
       "4    -0.890    -0.144951   2.0  \n",
       "\n",
       "[5 rows x 26 columns]"
      ]
     },
     "execution_count": 183,
     "metadata": {},
     "output_type": "execute_result"
    }
   ],
   "source": [
    "data=pd.read_csv(\"D:\\FannieAcq2000-19FMac30-sample2pt5.csv\")\n",
    "data.head()"
   ]
  },
  {
   "cell_type": "code",
   "execution_count": 184,
   "metadata": {},
   "outputs": [],
   "source": [
    "data.rename(columns={'Unnamed: 0':'namedCol'}, inplace=True )"
   ]
  },
  {
   "cell_type": "code",
   "execution_count": 185,
   "metadata": {},
   "outputs": [
    {
     "data": {
      "text/plain": [
       "(261615, 26)"
      ]
     },
     "execution_count": 185,
     "metadata": {},
     "output_type": "execute_result"
    }
   ],
   "source": [
    "data.shape"
   ]
  },
  {
   "cell_type": "code",
   "execution_count": 186,
   "metadata": {},
   "outputs": [
    {
     "name": "stdout",
     "output_type": "stream",
     "text": [
      "<class 'pandas.core.frame.DataFrame'>\n",
      "RangeIndex: 261615 entries, 0 to 261614\n",
      "Data columns (total 26 columns):\n",
      "namedCol            261615 non-null int64\n",
      "loanIdentifier      261615 non-null int64\n",
      "origChannel         261615 non-null int64\n",
      "sellerName          261615 non-null object\n",
      "origIntRate         261615 non-null float64\n",
      "origUPB             261615 non-null int64\n",
      "origDate            261615 non-null object\n",
      "firstPmtDate        261615 non-null object\n",
      "origLTV             261615 non-null float64\n",
      "origCLTV            261615 non-null float64\n",
      "numBorrowers        261615 non-null float64\n",
      "origDebtIncRatio    261615 non-null float64\n",
      "borrCreditScore     261615 non-null float64\n",
      "loanPurp            261615 non-null int64\n",
      "propState           261615 non-null object\n",
      "zipCode             261615 non-null int64\n",
      "pMIperct            261615 non-null float64\n",
      "mortInsType         261615 non-null float64\n",
      "bestCreditScore     261615 non-null float64\n",
      "worstCreditScore    261615 non-null float64\n",
      "avgCreditScore      261615 non-null float64\n",
      "fmacRate            261615 non-null float64\n",
      "fredRate            261615 non-null float64\n",
      "rateDiff            261615 non-null float64\n",
      "rateDiffPct         261615 non-null float64\n",
      "rank                261615 non-null float64\n",
      "dtypes: float64(16), int64(6), object(4)\n",
      "memory usage: 51.9+ MB\n"
     ]
    }
   ],
   "source": [
    "data.info()"
   ]
  },
  {
   "cell_type": "code",
   "execution_count": 187,
   "metadata": {},
   "outputs": [],
   "source": [
    "# # Create categories out of loan purpose that can be fed into ML models: \n",
    "# data['loanPurpCat'] = data['loanPurp'].replace(['C','R'],[0,1])\n",
    "# data['loanPurpCat'].unique()"
   ]
  },
  {
   "cell_type": "code",
   "execution_count": 188,
   "metadata": {},
   "outputs": [],
   "source": [
    "sellerNames = data['sellerName'].unique()\n",
    "statesList = data['propState'].unique()"
   ]
  },
  {
   "cell_type": "code",
   "execution_count": 189,
   "metadata": {
    "scrolled": false
   },
   "outputs": [
    {
     "name": "stdout",
     "output_type": "stream",
     "text": [
      "[(0, 'ALLY BANK'), (1, 'AMERIHOME MORTGAGE COMPANY, LLC'), (2, 'AMERISAVE MORTGAGE CORPORATION'), (3, 'AMTRUST BANK'), (4, 'BANK OF AMERICA, N.A.'), (5, 'BISHOPS GATE RESIDENTIAL MORTGAGE TRUST'), (6, 'CALIBER HOME LOANS, INC.'), (7, 'CAPITAL ONE, NATIONAL ASSOCIATION'), (8, 'CASHCALL, INC.'), (9, 'CHASE HOME FINANCE'), (10, 'CHASE HOME FINANCE (CIE 1)'), (11, 'CHASE HOME FINANCE FRANKLIN AMERICAN MORTGAGE COMPANY'), (12, 'CHASE HOME FINANCE, LLC'), (13, 'CHICAGO MORTGAGE SOLUTIONS DBA INTERBANK MORTGAGE COMPANY'), (14, 'CHICAGO MORTGAGE SOLUTIONS DBA INTERFIRST MORTGAGE COMPANY'), (15, 'CITIMORTGAGE, INC.'), (16, 'CMG MORTGAGE, INC'), (17, 'DITECH FINANCIAL LLC'), (18, 'DOWNEY SAVINGS AND LOAN ASSOCIATION, F.A.'), (19, 'EAGLE HOME MORTGAGE, LLC'), (20, 'FAIRWAY INDEPENDENT MORTGAGE CORPORATION'), (21, 'FDIC, RECEIVER, INDYMAC FEDERAL BANK FSB'), (22, 'FEDERAL HOME LOAN BANK OF CHICAGO'), (23, 'FIFTH THIRD BANK'), (24, 'FINANCE OF AMERICA MORTGAGE LLC'), (25, 'FIRST TENNESSEE BANK NATIONAL ASSOCIATION'), (26, 'FLAGSTAR BANK, FSB'), (27, 'FLAGSTAR CAPITAL MARKETS CORPORATION'), (28, 'FLEET NATIONAL BANK'), (29, 'FRANKLIN AMERICAN MORTGAGE COMPANY'), (30, 'FREEDOM MORTGAGE CORP.'), (31, 'FREMONT BANK'), (32, 'GMAC MORTGAGE, LLC'), (33, 'GMAC MORTGAGE, LLC (USAA FEDERAL SAVINGS BANK)'), (34, 'GUILD MORTGAGE COMPANY'), (35, 'HARWOOD STREET FUNDING I, LLC'), (36, 'HOMEBRIDGE FINANCIAL SERVICES, INC.'), (37, 'HOMEWARD RESIDENTIAL, INC.'), (38, 'HSBC BANK USA, NATIONAL ASSOCIATION'), (39, 'IMPAC MORTGAGE CORP.'), (40, 'IRWIN MORTGAGE, CORPORATION'), (41, 'J.P. MORGAN MADISON AVENUE SECURITIES TRUST, SERIES 2014-1'), (42, 'J.P. MORGAN MADISON AVENUE SECURITIES TRUST, SERIES 2015-1'), (43, 'JP MORGAN CHASE BANK, NA'), (44, 'JPMORGAN CHASE BANK, NA'), (45, 'JPMORGAN CHASE BANK, NATIONAL ASSOCIATION'), (46, 'LAKEVIEW LOAN SERVICING, LLC'), (47, 'LOANDEPOT.COM, LLC'), (48, 'METLIFE BANK, NA'), (49, 'MOVEMENT MORTGAGE, LLC'), (50, 'NATIONSTAR MORTGAGE, LLC'), (51, 'NETBANK FUNDING SERVICES'), (52, 'NEW YORK COMMUNITY BANK'), (53, 'NYCB MORTGAGE COMPANY, LLC'), (54, 'OTHER'), (55, 'PACIFIC UNION FINANCIAL, LLC'), (56, 'PENNYMAC CORP.'), (57, 'PHH MORTGAGE CORPORATION'), (58, 'PMT CREDIT RISK TRANSFER TRUST 2015-2'), (59, 'PMT CREDIT RISK TRANSFER TRUST 2016-1'), (60, 'PMTT4'), (61, 'PNC BANK, N.A.'), (62, 'PRINCIPAL RESIDENTIAL MORTGAGE CAPITAL RESOURCES, LLC'), (63, 'PROSPECT MORTGAGE, LLC'), (64, 'PROVIDENT FUNDING ASSOCIATES, L.P.'), (65, 'QUICKEN LOANS INC.'), (66, 'RBC MORTGAGE COMPANY'), (67, 'REGIONS BANK'), (68, 'SIERRA PACIFIC MORTGAGE COMPANY, INC.'), (69, 'STEARNS LENDING, LLC'), (70, 'STONEGATE MORTGAGE CORPORATION'), (71, 'SUNTRUST BANK'), (72, 'SUNTRUST MORTGAGE INC.'), (73, 'TRUIST BANK (FORMERLY SUNTRUST BANK)'), (74, 'U.S. BANK N.A.'), (75, 'UNITED SHORE FINANCIAL SERVICES, LLC D/B/A UNITED WHOLESALE MORTGAGE'), (76, 'UNITED SHORE FINANCIAL SERVICES, LLC DBA UNITED WHOLESALE MORTGAGE'), (77, 'USAA FEDERAL SAVINGS BANK'), (78, 'WELLS FARGO BANK,  NA'), (79, 'WELLS FARGO BANK, N.A.'), (80, 'WELLS FARGO CREDIT RISK TRANSFER SECURITIES TRUST 2015'), (81, 'WITMER FUNDING, LLC')]\n"
     ]
    }
   ],
   "source": [
    "# Make copy of the column to map from strings to integers\n",
    "data['bankNumber'] = data['sellerName']\n",
    "# Coerce the new column to category type\n",
    "data['bankNumber'] = data['bankNumber'].astype('category')\n",
    "# Convert the new column to integers for each unique string value\n",
    "data['bankNumber'] = data['bankNumber'].cat.codes\n",
    "# Capture the mapping to a dictionary\n",
    "sellerNameMap = pd.Series(data.sellerName.values,index=data.bankNumber).to_dict()\n",
    "# Drop original column leaving only the integer column for ML purposes\n",
    "data.drop(columns=['sellerName'],inplace=True)\n",
    "print(sorted(sellerNameMap.items()))"
   ]
  },
  {
   "cell_type": "code",
   "execution_count": 190,
   "metadata": {},
   "outputs": [
    {
     "name": "stdout",
     "output_type": "stream",
     "text": [
      "[(0, 'AK'), (1, 'AL'), (2, 'AR'), (3, 'AZ'), (4, 'CA'), (5, 'CO'), (6, 'CT'), (7, 'DC'), (8, 'DE'), (9, 'FL'), (10, 'GA'), (11, 'GU'), (12, 'HI'), (13, 'IA'), (14, 'ID'), (15, 'IL'), (16, 'IN'), (17, 'KS'), (18, 'KY'), (19, 'LA'), (20, 'MA'), (21, 'MD'), (22, 'ME'), (23, 'MI'), (24, 'MN'), (25, 'MO'), (26, 'MS'), (27, 'MT'), (28, 'NC'), (29, 'ND'), (30, 'NE'), (31, 'NH'), (32, 'NJ'), (33, 'NM'), (34, 'NV'), (35, 'NY'), (36, 'OH'), (37, 'OK'), (38, 'OR'), (39, 'PA'), (40, 'PR'), (41, 'RI'), (42, 'SC'), (43, 'SD'), (44, 'TN'), (45, 'TX'), (46, 'UT'), (47, 'VA'), (48, 'VI'), (49, 'VT'), (50, 'WA'), (51, 'WI'), (52, 'WV'), (53, 'WY')]\n"
     ]
    }
   ],
   "source": [
    "# Make copy of the column to map from strings to integers\n",
    "data['stateNumber'] = data['propState']\n",
    "# Coerce the new column to category type\n",
    "data['stateNumber'] = data['stateNumber'].astype('category')\n",
    "# Convert the new column to integers for each unique string value\n",
    "data['stateNumber'] = data['stateNumber'].cat.codes\n",
    "# Capture the mapping to a dictionary\n",
    "statePropMap = pd.Series(data.propState.values,index=data.stateNumber).to_dict()\n",
    "# Drop original column leaving only the integer column for ML purposes\n",
    "data.drop(columns=['propState'],inplace=True)\n",
    "print(sorted(statePropMap.items()))"
   ]
  },
  {
   "cell_type": "code",
   "execution_count": 191,
   "metadata": {},
   "outputs": [
    {
     "data": {
      "text/plain": [
       "namedCol            0\n",
       "loanIdentifier      0\n",
       "origChannel         0\n",
       "origIntRate         0\n",
       "origUPB             0\n",
       "origDate            0\n",
       "firstPmtDate        0\n",
       "origLTV             0\n",
       "origCLTV            0\n",
       "numBorrowers        0\n",
       "origDebtIncRatio    0\n",
       "borrCreditScore     0\n",
       "loanPurp            0\n",
       "zipCode             0\n",
       "pMIperct            0\n",
       "mortInsType         0\n",
       "bestCreditScore     0\n",
       "worstCreditScore    0\n",
       "avgCreditScore      0\n",
       "fmacRate            0\n",
       "fredRate            0\n",
       "rateDiff            0\n",
       "rateDiffPct         0\n",
       "rank                0\n",
       "bankNumber          0\n",
       "stateNumber         0\n",
       "dtype: int64"
      ]
     },
     "execution_count": 191,
     "metadata": {},
     "output_type": "execute_result"
    }
   ],
   "source": [
    "#Checking for missing values\n",
    "data.isnull().sum()"
   ]
  },
  {
   "cell_type": "code",
   "execution_count": 192,
   "metadata": {},
   "outputs": [
    {
     "name": "stdout",
     "output_type": "stream",
     "text": [
      "<class 'pandas.core.frame.DataFrame'>\n",
      "RangeIndex: 261615 entries, 0 to 261614\n",
      "Data columns (total 26 columns):\n",
      "namedCol            261615 non-null int64\n",
      "loanIdentifier      261615 non-null int64\n",
      "origChannel         261615 non-null int64\n",
      "origIntRate         261615 non-null float64\n",
      "origUPB             261615 non-null int64\n",
      "origDate            261615 non-null object\n",
      "firstPmtDate        261615 non-null object\n",
      "origLTV             261615 non-null float64\n",
      "origCLTV            261615 non-null float64\n",
      "numBorrowers        261615 non-null float64\n",
      "origDebtIncRatio    261615 non-null float64\n",
      "borrCreditScore     261615 non-null float64\n",
      "loanPurp            261615 non-null int64\n",
      "zipCode             261615 non-null int64\n",
      "pMIperct            261615 non-null float64\n",
      "mortInsType         261615 non-null float64\n",
      "bestCreditScore     261615 non-null float64\n",
      "worstCreditScore    261615 non-null float64\n",
      "avgCreditScore      261615 non-null float64\n",
      "fmacRate            261615 non-null float64\n",
      "fredRate            261615 non-null float64\n",
      "rateDiff            261615 non-null float64\n",
      "rateDiffPct         261615 non-null float64\n",
      "rank                261615 non-null float64\n",
      "bankNumber          261615 non-null int8\n",
      "stateNumber         261615 non-null int8\n",
      "dtypes: float64(16), int64(6), int8(2), object(2)\n",
      "memory usage: 48.4+ MB\n"
     ]
    }
   ],
   "source": [
    "#Checking datatypes of individual feature\n",
    "data.info()"
   ]
  },
  {
   "cell_type": "code",
   "execution_count": 193,
   "metadata": {},
   "outputs": [],
   "source": [
    "#Dropping columns we don't want\n",
    "data.drop(['loanIdentifier','namedCol', 'firstPmtDate', 'bestCreditScore', 'worstCreditScore', 'rateDiff',\n",
    "           'borrCreditScore'],1,inplace=True)"
   ]
  },
  {
   "cell_type": "code",
   "execution_count": 194,
   "metadata": {},
   "outputs": [
    {
     "data": {
      "text/html": [
       "<div>\n",
       "<style scoped>\n",
       "    .dataframe tbody tr th:only-of-type {\n",
       "        vertical-align: middle;\n",
       "    }\n",
       "\n",
       "    .dataframe tbody tr th {\n",
       "        vertical-align: top;\n",
       "    }\n",
       "\n",
       "    .dataframe thead th {\n",
       "        text-align: right;\n",
       "    }\n",
       "</style>\n",
       "<table border=\"1\" class=\"dataframe\">\n",
       "  <thead>\n",
       "    <tr style=\"text-align: right;\">\n",
       "      <th></th>\n",
       "      <th>origChannel</th>\n",
       "      <th>origIntRate</th>\n",
       "      <th>origUPB</th>\n",
       "      <th>origDate</th>\n",
       "      <th>origLTV</th>\n",
       "      <th>origCLTV</th>\n",
       "      <th>numBorrowers</th>\n",
       "      <th>origDebtIncRatio</th>\n",
       "      <th>loanPurp</th>\n",
       "      <th>zipCode</th>\n",
       "      <th>pMIperct</th>\n",
       "      <th>mortInsType</th>\n",
       "      <th>avgCreditScore</th>\n",
       "      <th>fmacRate</th>\n",
       "      <th>fredRate</th>\n",
       "      <th>rateDiffPct</th>\n",
       "      <th>rank</th>\n",
       "      <th>bankNumber</th>\n",
       "      <th>stateNumber</th>\n",
       "    </tr>\n",
       "  </thead>\n",
       "  <tbody>\n",
       "    <tr>\n",
       "      <th>0</th>\n",
       "      <td>3</td>\n",
       "      <td>5.875</td>\n",
       "      <td>242000</td>\n",
       "      <td>2007-01-01</td>\n",
       "      <td>62.0</td>\n",
       "      <td>62.0</td>\n",
       "      <td>1.0</td>\n",
       "      <td>42.0</td>\n",
       "      <td>1</td>\n",
       "      <td>29</td>\n",
       "      <td>0.0</td>\n",
       "      <td>0.0</td>\n",
       "      <td>667.0</td>\n",
       "      <td>6.18</td>\n",
       "      <td>4.71</td>\n",
       "      <td>-0.049353</td>\n",
       "      <td>3.0</td>\n",
       "      <td>32</td>\n",
       "      <td>41</td>\n",
       "    </tr>\n",
       "    <tr>\n",
       "      <th>1</th>\n",
       "      <td>1</td>\n",
       "      <td>4.875</td>\n",
       "      <td>168000</td>\n",
       "      <td>2005-03-01</td>\n",
       "      <td>39.0</td>\n",
       "      <td>39.0</td>\n",
       "      <td>1.0</td>\n",
       "      <td>21.0</td>\n",
       "      <td>2</td>\n",
       "      <td>967</td>\n",
       "      <td>0.0</td>\n",
       "      <td>0.0</td>\n",
       "      <td>797.0</td>\n",
       "      <td>5.69</td>\n",
       "      <td>4.38</td>\n",
       "      <td>-0.143234</td>\n",
       "      <td>2.0</td>\n",
       "      <td>25</td>\n",
       "      <td>12</td>\n",
       "    </tr>\n",
       "    <tr>\n",
       "      <th>2</th>\n",
       "      <td>2</td>\n",
       "      <td>4.375</td>\n",
       "      <td>556000</td>\n",
       "      <td>2011-11-01</td>\n",
       "      <td>79.0</td>\n",
       "      <td>79.0</td>\n",
       "      <td>2.0</td>\n",
       "      <td>30.0</td>\n",
       "      <td>2</td>\n",
       "      <td>946</td>\n",
       "      <td>0.0</td>\n",
       "      <td>0.0</td>\n",
       "      <td>774.0</td>\n",
       "      <td>4.10</td>\n",
       "      <td>2.01</td>\n",
       "      <td>0.067073</td>\n",
       "      <td>3.0</td>\n",
       "      <td>54</td>\n",
       "      <td>4</td>\n",
       "    </tr>\n",
       "    <tr>\n",
       "      <th>3</th>\n",
       "      <td>2</td>\n",
       "      <td>6.500</td>\n",
       "      <td>112000</td>\n",
       "      <td>2005-08-01</td>\n",
       "      <td>78.0</td>\n",
       "      <td>78.0</td>\n",
       "      <td>1.0</td>\n",
       "      <td>18.0</td>\n",
       "      <td>1</td>\n",
       "      <td>184</td>\n",
       "      <td>0.0</td>\n",
       "      <td>0.0</td>\n",
       "      <td>631.0</td>\n",
       "      <td>5.77</td>\n",
       "      <td>4.32</td>\n",
       "      <td>0.126516</td>\n",
       "      <td>4.0</td>\n",
       "      <td>4</td>\n",
       "      <td>39</td>\n",
       "    </tr>\n",
       "    <tr>\n",
       "      <th>4</th>\n",
       "      <td>3</td>\n",
       "      <td>5.250</td>\n",
       "      <td>220000</td>\n",
       "      <td>2003-08-01</td>\n",
       "      <td>73.0</td>\n",
       "      <td>73.0</td>\n",
       "      <td>2.0</td>\n",
       "      <td>59.0</td>\n",
       "      <td>2</td>\n",
       "      <td>274</td>\n",
       "      <td>0.0</td>\n",
       "      <td>0.0</td>\n",
       "      <td>704.5</td>\n",
       "      <td>6.14</td>\n",
       "      <td>4.44</td>\n",
       "      <td>-0.144951</td>\n",
       "      <td>2.0</td>\n",
       "      <td>40</td>\n",
       "      <td>28</td>\n",
       "    </tr>\n",
       "  </tbody>\n",
       "</table>\n",
       "</div>"
      ],
      "text/plain": [
       "   origChannel  origIntRate  origUPB    origDate  origLTV  origCLTV  \\\n",
       "0            3        5.875   242000  2007-01-01     62.0      62.0   \n",
       "1            1        4.875   168000  2005-03-01     39.0      39.0   \n",
       "2            2        4.375   556000  2011-11-01     79.0      79.0   \n",
       "3            2        6.500   112000  2005-08-01     78.0      78.0   \n",
       "4            3        5.250   220000  2003-08-01     73.0      73.0   \n",
       "\n",
       "   numBorrowers  origDebtIncRatio  loanPurp  zipCode  pMIperct  mortInsType  \\\n",
       "0           1.0              42.0         1       29       0.0          0.0   \n",
       "1           1.0              21.0         2      967       0.0          0.0   \n",
       "2           2.0              30.0         2      946       0.0          0.0   \n",
       "3           1.0              18.0         1      184       0.0          0.0   \n",
       "4           2.0              59.0         2      274       0.0          0.0   \n",
       "\n",
       "   avgCreditScore  fmacRate  fredRate  rateDiffPct  rank  bankNumber  \\\n",
       "0           667.0      6.18      4.71    -0.049353   3.0          32   \n",
       "1           797.0      5.69      4.38    -0.143234   2.0          25   \n",
       "2           774.0      4.10      2.01     0.067073   3.0          54   \n",
       "3           631.0      5.77      4.32     0.126516   4.0           4   \n",
       "4           704.5      6.14      4.44    -0.144951   2.0          40   \n",
       "\n",
       "   stateNumber  \n",
       "0           41  \n",
       "1           12  \n",
       "2            4  \n",
       "3           39  \n",
       "4           28  "
      ]
     },
     "execution_count": 194,
     "metadata": {},
     "output_type": "execute_result"
    }
   ],
   "source": [
    "data.head()"
   ]
  },
  {
   "cell_type": "code",
   "execution_count": 195,
   "metadata": {},
   "outputs": [
    {
     "name": "stdout",
     "output_type": "stream",
     "text": [
      "<class 'pandas.core.frame.DataFrame'>\n",
      "RangeIndex: 261615 entries, 0 to 261614\n",
      "Data columns (total 19 columns):\n",
      "origChannel         261615 non-null int64\n",
      "origIntRate         261615 non-null float64\n",
      "origUPB             261615 non-null int64\n",
      "origDate            261615 non-null object\n",
      "origLTV             261615 non-null float64\n",
      "origCLTV            261615 non-null float64\n",
      "numBorrowers        261615 non-null float64\n",
      "origDebtIncRatio    261615 non-null float64\n",
      "loanPurp            261615 non-null int64\n",
      "zipCode             261615 non-null int64\n",
      "pMIperct            261615 non-null float64\n",
      "mortInsType         261615 non-null float64\n",
      "avgCreditScore      261615 non-null float64\n",
      "fmacRate            261615 non-null float64\n",
      "fredRate            261615 non-null float64\n",
      "rateDiffPct         261615 non-null float64\n",
      "rank                261615 non-null float64\n",
      "bankNumber          261615 non-null int8\n",
      "stateNumber         261615 non-null int8\n",
      "dtypes: float64(12), int64(4), int8(2), object(1)\n",
      "memory usage: 34.4+ MB\n"
     ]
    }
   ],
   "source": [
    "data.info()"
   ]
  },
  {
   "cell_type": "markdown",
   "metadata": {},
   "source": [
    "## Engineer originDate into Date features"
   ]
  },
  {
   "cell_type": "code",
   "execution_count": 196,
   "metadata": {},
   "outputs": [],
   "source": [
    "data['origDate'] = pd.to_datetime(data['origDate'])"
   ]
  },
  {
   "cell_type": "code",
   "execution_count": 197,
   "metadata": {},
   "outputs": [],
   "source": [
    "data['origYear'] = data['origDate'].dt.year\n",
    "data['origMonth'] = data['origDate'].dt.month\n",
    "data['origWeek'] = data['origDate'].dt.week\n",
    "data['origDay'] = data['origDate'].dt.day\n",
    "data['origDayOfWeek'] = data['origDate'].dt.dayofweek"
   ]
  },
  {
   "cell_type": "code",
   "execution_count": 198,
   "metadata": {},
   "outputs": [
    {
     "data": {
      "text/html": [
       "<div>\n",
       "<style scoped>\n",
       "    .dataframe tbody tr th:only-of-type {\n",
       "        vertical-align: middle;\n",
       "    }\n",
       "\n",
       "    .dataframe tbody tr th {\n",
       "        vertical-align: top;\n",
       "    }\n",
       "\n",
       "    .dataframe thead th {\n",
       "        text-align: right;\n",
       "    }\n",
       "</style>\n",
       "<table border=\"1\" class=\"dataframe\">\n",
       "  <thead>\n",
       "    <tr style=\"text-align: right;\">\n",
       "      <th></th>\n",
       "      <th>origYear</th>\n",
       "      <th>origMonth</th>\n",
       "      <th>origWeek</th>\n",
       "      <th>origDay</th>\n",
       "      <th>origDayOfWeek</th>\n",
       "    </tr>\n",
       "  </thead>\n",
       "  <tbody>\n",
       "    <tr>\n",
       "      <th>0</th>\n",
       "      <td>2007</td>\n",
       "      <td>1</td>\n",
       "      <td>1</td>\n",
       "      <td>1</td>\n",
       "      <td>0</td>\n",
       "    </tr>\n",
       "    <tr>\n",
       "      <th>1</th>\n",
       "      <td>2005</td>\n",
       "      <td>3</td>\n",
       "      <td>9</td>\n",
       "      <td>1</td>\n",
       "      <td>1</td>\n",
       "    </tr>\n",
       "    <tr>\n",
       "      <th>2</th>\n",
       "      <td>2011</td>\n",
       "      <td>11</td>\n",
       "      <td>44</td>\n",
       "      <td>1</td>\n",
       "      <td>1</td>\n",
       "    </tr>\n",
       "    <tr>\n",
       "      <th>3</th>\n",
       "      <td>2005</td>\n",
       "      <td>8</td>\n",
       "      <td>31</td>\n",
       "      <td>1</td>\n",
       "      <td>0</td>\n",
       "    </tr>\n",
       "    <tr>\n",
       "      <th>4</th>\n",
       "      <td>2003</td>\n",
       "      <td>8</td>\n",
       "      <td>31</td>\n",
       "      <td>1</td>\n",
       "      <td>4</td>\n",
       "    </tr>\n",
       "  </tbody>\n",
       "</table>\n",
       "</div>"
      ],
      "text/plain": [
       "   origYear  origMonth  origWeek  origDay  origDayOfWeek\n",
       "0      2007          1         1        1              0\n",
       "1      2005          3         9        1              1\n",
       "2      2011         11        44        1              1\n",
       "3      2005          8        31        1              0\n",
       "4      2003          8        31        1              4"
      ]
     },
     "execution_count": 198,
     "metadata": {},
     "output_type": "execute_result"
    }
   ],
   "source": [
    "data[['origYear','origMonth','origWeek','origDay','origDayOfWeek']].head()"
   ]
  },
  {
   "cell_type": "code",
   "execution_count": 199,
   "metadata": {},
   "outputs": [
    {
     "name": "stdout",
     "output_type": "stream",
     "text": [
      "<class 'pandas.core.frame.DataFrame'>\n",
      "RangeIndex: 261615 entries, 0 to 261614\n",
      "Data columns (total 24 columns):\n",
      "origChannel         261615 non-null int64\n",
      "origIntRate         261615 non-null float64\n",
      "origUPB             261615 non-null int64\n",
      "origDate            261615 non-null datetime64[ns]\n",
      "origLTV             261615 non-null float64\n",
      "origCLTV            261615 non-null float64\n",
      "numBorrowers        261615 non-null float64\n",
      "origDebtIncRatio    261615 non-null float64\n",
      "loanPurp            261615 non-null int64\n",
      "zipCode             261615 non-null int64\n",
      "pMIperct            261615 non-null float64\n",
      "mortInsType         261615 non-null float64\n",
      "avgCreditScore      261615 non-null float64\n",
      "fmacRate            261615 non-null float64\n",
      "fredRate            261615 non-null float64\n",
      "rateDiffPct         261615 non-null float64\n",
      "rank                261615 non-null float64\n",
      "bankNumber          261615 non-null int8\n",
      "stateNumber         261615 non-null int8\n",
      "origYear            261615 non-null int64\n",
      "origMonth           261615 non-null int64\n",
      "origWeek            261615 non-null int64\n",
      "origDay             261615 non-null int64\n",
      "origDayOfWeek       261615 non-null int64\n",
      "dtypes: datetime64[ns](1), float64(12), int64(9), int8(2)\n",
      "memory usage: 44.4 MB\n"
     ]
    }
   ],
   "source": [
    "data.info()"
   ]
  },
  {
   "cell_type": "code",
   "execution_count": 200,
   "metadata": {},
   "outputs": [
    {
     "data": {
      "text/plain": [
       "origDayOfWeek\n",
       "0    32965\n",
       "1    40750\n",
       "2    33446\n",
       "3    41205\n",
       "4    37222\n",
       "5    35200\n",
       "6    40827\n",
       "dtype: int64"
      ]
     },
     "execution_count": 200,
     "metadata": {},
     "output_type": "execute_result"
    }
   ],
   "source": [
    "data.groupby('origDayOfWeek').size()"
   ]
  },
  {
   "cell_type": "code",
   "execution_count": 201,
   "metadata": {},
   "outputs": [],
   "source": [
    "data.drop(columns=['origDate'],inplace=True)"
   ]
  },
  {
   "cell_type": "code",
   "execution_count": 202,
   "metadata": {},
   "outputs": [],
   "source": [
    "# #Dividing features into numerical and categorical features\n",
    "# categorical=[]\n",
    "# numerical=[]\n",
    "# for col in list(data):\n",
    "#     if(len(data[col].unique())<=30):\n",
    "#         categorical.append(col)\n",
    "#     else:\n",
    "#         numerical.append(col)"
   ]
  },
  {
   "cell_type": "markdown",
   "metadata": {},
   "source": [
    "### Chi-Square test for Feature Importance of Categorical Features"
   ]
  },
  {
   "cell_type": "markdown",
   "metadata": {},
   "source": [
    "As majority of the features in the data are categorical, also the target feature is categorical we can use Chi-Square test for to get the feature importance."
   ]
  },
  {
   "cell_type": "code",
   "execution_count": 203,
   "metadata": {
    "scrolled": true
   },
   "outputs": [],
   "source": [
    "# def Chi_square(col_1,col_2):\n",
    "#     X=data[col_1].astype('str')\n",
    "#     Y=data[col_2].astype('str')\n",
    "#     observed_values=pd.crosstab(Y,X)\n",
    "#     chi2, p, dof, expected = ss.chi2_contingency(observed_values)\n",
    "#     if(p>0.05):\n",
    "#         print(col_1,\" is not required\")\n",
    "#     else:\n",
    "#         print(col_1,\" is required\")\n",
    "        \n",
    "# for col in data:\n",
    "#     Chi_square(col,\"origIntRate\")"
   ]
  },
  {
   "cell_type": "markdown",
   "metadata": {},
   "source": [
    "### Feature Selection using Backward Elimination for Numerical Features"
   ]
  },
  {
   "cell_type": "markdown",
   "metadata": {},
   "source": [
    "Using Backward Elimination method for numerical features"
   ]
  },
  {
   "cell_type": "code",
   "execution_count": 204,
   "metadata": {},
   "outputs": [],
   "source": [
    "# X=data.drop(['origIntRate'],1)\n",
    "# y=le.fit_transform(data[\"origIntRate\"])\n",
    "\n",
    "# import statsmodels.api as sm\n",
    "# cols = list(X.columns)\n",
    "# pmax = 1\n",
    "# while (pmax>0.05):\n",
    "#     p=[]\n",
    "#     X_1 = X[cols]\n",
    "#     X_1 = sm.add_constant(X_1)\n",
    "#     model = sm.OLS(y,X_1).fit()\n",
    "#     p = pd.Series(model.pvalues.values[1:],index = cols)      \n",
    "#     pmax = max(p)\n",
    "#     feature_with_p_max = p.idxmax()\n",
    "#     if(pmax>0.05):\n",
    "#         cols.remove(feature_with_p_max)\n",
    "#     else:\n",
    "#         breakselected_features_BE = cols\n",
    "# print(\"Best features using Backward Elimination: \",cols)"
   ]
  },
  {
   "cell_type": "markdown",
   "metadata": {},
   "source": [
    "### Feature Importance using Random Forest Classifier"
   ]
  },
  {
   "cell_type": "markdown",
   "metadata": {},
   "source": [
    "Random Forest is considered to be one of the most unbiased model. As it creates multiple Decision Trees taking into account Random Features for each Decision Tree.\n",
    "\n",
    "Because of this randomness the Random Forest Classifier considerd to be giving most unbiased Feature Importance"
   ]
  },
  {
   "cell_type": "code",
   "execution_count": 205,
   "metadata": {},
   "outputs": [],
   "source": [
    "# X_rfc=data.drop([\"origIntRate\"],1)\n",
    "# y_rfc=data[\"origIntRate\"]"
   ]
  },
  {
   "cell_type": "code",
   "execution_count": 206,
   "metadata": {},
   "outputs": [],
   "source": [
    "# rfc=RandomForestClassifier(criterion='entropy',random_state=0,n_estimators=10)\n",
    "# rfc.fit(X_rfc,y_rfc)"
   ]
  },
  {
   "cell_type": "code",
   "execution_count": 207,
   "metadata": {},
   "outputs": [],
   "source": [
    "# plt.figure(figsize=(10,10))\n",
    "# plt.barh(list(X_rfc),rfc.feature_importances_)\n",
    "# plt.title(\"Feature Importance using Random Forest Classifier\")\n",
    "# plt.ylabel(\"Features\")\n",
    "# plt.xlabel('Feature Importance Value')"
   ]
  },
  {
   "cell_type": "code",
   "execution_count": 208,
   "metadata": {},
   "outputs": [],
   "source": [
    "#data.head()"
   ]
  },
  {
   "cell_type": "code",
   "execution_count": 209,
   "metadata": {},
   "outputs": [],
   "source": [
    "#Dropping 'gameId' feature as it's not required in model building and prediction\n",
    "#data.drop(['loanPurp', 'origIntRate'],1,inplace=True)"
   ]
  },
  {
   "cell_type": "code",
   "execution_count": 210,
   "metadata": {},
   "outputs": [],
   "source": [
    "#data.head()"
   ]
  },
  {
   "cell_type": "code",
   "execution_count": 211,
   "metadata": {},
   "outputs": [],
   "source": [
    "#data.info()"
   ]
  },
  {
   "cell_type": "code",
   "execution_count": 212,
   "metadata": {},
   "outputs": [],
   "source": [
    "data.to_csv('data/FannieAcq2000-19FMac30-sample2pt5_MlReady.csv')"
   ]
  },
  {
   "cell_type": "code",
   "execution_count": 213,
   "metadata": {},
   "outputs": [
    {
     "data": {
      "text/plain": [
       "(261615, 23)"
      ]
     },
     "execution_count": 213,
     "metadata": {},
     "output_type": "execute_result"
    }
   ],
   "source": [
    "data.shape"
   ]
  },
  {
   "cell_type": "code",
   "execution_count": 216,
   "metadata": {},
   "outputs": [
    {
     "data": {
      "text/plain": [
       "Index(['origChannel', 'origIntRate', 'origUPB', 'origLTV', 'origCLTV',\n",
       "       'numBorrowers', 'origDebtIncRatio', 'loanPurp', 'zipCode', 'pMIperct',\n",
       "       'mortInsType', 'avgCreditScore', 'fmacRate', 'fredRate', 'rateDiffPct',\n",
       "       'rank', 'bankNumber', 'stateNumber', 'origYear', 'origMonth',\n",
       "       'origWeek', 'origDay', 'origDayOfWeek'],\n",
       "      dtype='object')"
      ]
     },
     "execution_count": 216,
     "metadata": {},
     "output_type": "execute_result"
    }
   ],
   "source": [
    "data.columns"
   ]
  },
  {
   "cell_type": "code",
   "execution_count": 233,
   "metadata": {},
   "outputs": [
    {
     "data": {
      "text/plain": [
       "array([ 1,  3, 11,  8,  4,  6,  9, 10, 12,  7,  2,  5], dtype=int64)"
      ]
     },
     "execution_count": 233,
     "metadata": {},
     "output_type": "execute_result"
    }
   ],
   "source": [
    "data['origMonth'].unique()"
   ]
  },
  {
   "cell_type": "code",
   "execution_count": 234,
   "metadata": {},
   "outputs": [],
   "source": [
    "df18 = data[data['origYear'] >= 2013]\n"
   ]
  },
  {
   "cell_type": "code",
   "execution_count": 235,
   "metadata": {},
   "outputs": [
    {
     "data": {
      "text/plain": [
       "(48649, 23)"
      ]
     },
     "execution_count": 235,
     "metadata": {},
     "output_type": "execute_result"
    }
   ],
   "source": [
    "df18.shape"
   ]
  },
  {
   "cell_type": "code",
   "execution_count": 236,
   "metadata": {},
   "outputs": [
    {
     "data": {
      "text/plain": [
       "array([ 1, 11,  9,  8, 10,  2,  4, 12,  6,  3,  5,  7], dtype=int64)"
      ]
     },
     "execution_count": 236,
     "metadata": {},
     "output_type": "execute_result"
    }
   ],
   "source": [
    "df18.origMonth.unique()"
   ]
  },
  {
   "cell_type": "code",
   "execution_count": 237,
   "metadata": {},
   "outputs": [],
   "source": [
    "df18 = df18[~((df18['origYear'] == 2013) & (df18['origMonth'] < 10))]"
   ]
  },
  {
   "cell_type": "code",
   "execution_count": 238,
   "metadata": {},
   "outputs": [
    {
     "data": {
      "text/plain": [
       "(39516, 23)"
      ]
     },
     "execution_count": 238,
     "metadata": {},
     "output_type": "execute_result"
    }
   ],
   "source": [
    "df18.shape"
   ]
  },
  {
   "cell_type": "code",
   "execution_count": 239,
   "metadata": {},
   "outputs": [
    {
     "data": {
      "text/plain": [
       "array([2017, 2016, 2014, 2018, 2015, 2019, 2013], dtype=int64)"
      ]
     },
     "execution_count": 239,
     "metadata": {},
     "output_type": "execute_result"
    }
   ],
   "source": [
    "df18.origYear.unique()"
   ]
  },
  {
   "cell_type": "code",
   "execution_count": 240,
   "metadata": {},
   "outputs": [
    {
     "name": "stdout",
     "output_type": "stream",
     "text": [
      "<class 'pandas.core.frame.DataFrame'>\n",
      "Int64Index: 39516 entries, 8 to 261611\n",
      "Data columns (total 23 columns):\n",
      "origChannel         39516 non-null int64\n",
      "origIntRate         39516 non-null float64\n",
      "origUPB             39516 non-null int64\n",
      "origLTV             39516 non-null float64\n",
      "origCLTV            39516 non-null float64\n",
      "numBorrowers        39516 non-null float64\n",
      "origDebtIncRatio    39516 non-null float64\n",
      "loanPurp            39516 non-null int64\n",
      "zipCode             39516 non-null int64\n",
      "pMIperct            39516 non-null float64\n",
      "mortInsType         39516 non-null float64\n",
      "avgCreditScore      39516 non-null float64\n",
      "fmacRate            39516 non-null float64\n",
      "fredRate            39516 non-null float64\n",
      "rateDiffPct         39516 non-null float64\n",
      "rank                39516 non-null float64\n",
      "bankNumber          39516 non-null int8\n",
      "stateNumber         39516 non-null int8\n",
      "origYear            39516 non-null int64\n",
      "origMonth           39516 non-null int64\n",
      "origWeek            39516 non-null int64\n",
      "origDay             39516 non-null int64\n",
      "origDayOfWeek       39516 non-null int64\n",
      "dtypes: float64(12), int64(9), int8(2)\n",
      "memory usage: 6.7 MB\n"
     ]
    }
   ],
   "source": [
    "df18.info()"
   ]
  },
  {
   "cell_type": "code",
   "execution_count": 242,
   "metadata": {},
   "outputs": [],
   "source": [
    "#df = df18.convert_dtypes()"
   ]
  },
  {
   "cell_type": "code",
   "execution_count": 245,
   "metadata": {},
   "outputs": [],
   "source": [
    "df18['origUPB'] = df18['origUPB'].astype(int)\n",
    "df18['origLTV'] = df18['origLTV'].astype(int)\n",
    "df18['origDebtIncRatio'] = df18['origDebtIncRatio'].astype(int)\n",
    "df18['avgCreditScore'] = df18['avgCreditScore'].astype(int)\n",
    "df18['numBorrowers'] = df18['numBorrowers'].astype(int)\n",
    "df18['rank'] = df18['rank'].astype(int)"
   ]
  },
  {
   "cell_type": "code",
   "execution_count": 246,
   "metadata": {},
   "outputs": [],
   "source": [
    "df18 = df18.drop(['origCLTV'], axis=1)"
   ]
  },
  {
   "cell_type": "code",
   "execution_count": 247,
   "metadata": {},
   "outputs": [
    {
     "name": "stdout",
     "output_type": "stream",
     "text": [
      "<class 'pandas.core.frame.DataFrame'>\n",
      "Int64Index: 39516 entries, 8 to 261611\n",
      "Data columns (total 22 columns):\n",
      "origChannel         39516 non-null int64\n",
      "origIntRate         39516 non-null float64\n",
      "origUPB             39516 non-null int32\n",
      "origLTV             39516 non-null int32\n",
      "numBorrowers        39516 non-null int32\n",
      "origDebtIncRatio    39516 non-null int32\n",
      "loanPurp            39516 non-null int64\n",
      "zipCode             39516 non-null int64\n",
      "pMIperct            39516 non-null float64\n",
      "mortInsType         39516 non-null float64\n",
      "avgCreditScore      39516 non-null int32\n",
      "fmacRate            39516 non-null float64\n",
      "fredRate            39516 non-null float64\n",
      "rateDiffPct         39516 non-null float64\n",
      "rank                39516 non-null int32\n",
      "bankNumber          39516 non-null int8\n",
      "stateNumber         39516 non-null int8\n",
      "origYear            39516 non-null int64\n",
      "origMonth           39516 non-null int64\n",
      "origWeek            39516 non-null int64\n",
      "origDay             39516 non-null int64\n",
      "origDayOfWeek       39516 non-null int64\n",
      "dtypes: float64(6), int32(6), int64(8), int8(2)\n",
      "memory usage: 5.5 MB\n"
     ]
    }
   ],
   "source": [
    "df18.info()"
   ]
  },
  {
   "cell_type": "code",
   "execution_count": 248,
   "metadata": {},
   "outputs": [
    {
     "data": {
      "text/html": [
       "<div>\n",
       "<style scoped>\n",
       "    .dataframe tbody tr th:only-of-type {\n",
       "        vertical-align: middle;\n",
       "    }\n",
       "\n",
       "    .dataframe tbody tr th {\n",
       "        vertical-align: top;\n",
       "    }\n",
       "\n",
       "    .dataframe thead th {\n",
       "        text-align: right;\n",
       "    }\n",
       "</style>\n",
       "<table border=\"1\" class=\"dataframe\">\n",
       "  <thead>\n",
       "    <tr style=\"text-align: right;\">\n",
       "      <th></th>\n",
       "      <th>origChannel</th>\n",
       "      <th>origIntRate</th>\n",
       "      <th>origUPB</th>\n",
       "      <th>origLTV</th>\n",
       "      <th>numBorrowers</th>\n",
       "      <th>origDebtIncRatio</th>\n",
       "      <th>loanPurp</th>\n",
       "      <th>zipCode</th>\n",
       "      <th>pMIperct</th>\n",
       "      <th>mortInsType</th>\n",
       "      <th>...</th>\n",
       "      <th>fredRate</th>\n",
       "      <th>rateDiffPct</th>\n",
       "      <th>rank</th>\n",
       "      <th>bankNumber</th>\n",
       "      <th>stateNumber</th>\n",
       "      <th>origYear</th>\n",
       "      <th>origMonth</th>\n",
       "      <th>origWeek</th>\n",
       "      <th>origDay</th>\n",
       "      <th>origDayOfWeek</th>\n",
       "    </tr>\n",
       "  </thead>\n",
       "  <tbody>\n",
       "    <tr>\n",
       "      <th>8</th>\n",
       "      <td>1</td>\n",
       "      <td>4.375</td>\n",
       "      <td>169000</td>\n",
       "      <td>89</td>\n",
       "      <td>1</td>\n",
       "      <td>18</td>\n",
       "      <td>2</td>\n",
       "      <td>474</td>\n",
       "      <td>25.0</td>\n",
       "      <td>2.0</td>\n",
       "      <td>...</td>\n",
       "      <td>2.37</td>\n",
       "      <td>0.110406</td>\n",
       "      <td>4</td>\n",
       "      <td>65</td>\n",
       "      <td>16</td>\n",
       "      <td>2017</td>\n",
       "      <td>11</td>\n",
       "      <td>44</td>\n",
       "      <td>1</td>\n",
       "      <td>2</td>\n",
       "    </tr>\n",
       "    <tr>\n",
       "      <th>12</th>\n",
       "      <td>1</td>\n",
       "      <td>3.875</td>\n",
       "      <td>172000</td>\n",
       "      <td>80</td>\n",
       "      <td>1</td>\n",
       "      <td>43</td>\n",
       "      <td>1</td>\n",
       "      <td>700</td>\n",
       "      <td>0.0</td>\n",
       "      <td>0.0</td>\n",
       "      <td>...</td>\n",
       "      <td>1.57</td>\n",
       "      <td>0.119942</td>\n",
       "      <td>4</td>\n",
       "      <td>54</td>\n",
       "      <td>19</td>\n",
       "      <td>2016</td>\n",
       "      <td>9</td>\n",
       "      <td>35</td>\n",
       "      <td>1</td>\n",
       "      <td>3</td>\n",
       "    </tr>\n",
       "    <tr>\n",
       "      <th>25</th>\n",
       "      <td>3</td>\n",
       "      <td>4.500</td>\n",
       "      <td>312000</td>\n",
       "      <td>70</td>\n",
       "      <td>2</td>\n",
       "      <td>45</td>\n",
       "      <td>1</td>\n",
       "      <td>33</td>\n",
       "      <td>0.0</td>\n",
       "      <td>0.0</td>\n",
       "      <td>...</td>\n",
       "      <td>2.35</td>\n",
       "      <td>0.130653</td>\n",
       "      <td>4</td>\n",
       "      <td>79</td>\n",
       "      <td>31</td>\n",
       "      <td>2014</td>\n",
       "      <td>11</td>\n",
       "      <td>44</td>\n",
       "      <td>1</td>\n",
       "      <td>5</td>\n",
       "    </tr>\n",
       "    <tr>\n",
       "      <th>28</th>\n",
       "      <td>3</td>\n",
       "      <td>3.875</td>\n",
       "      <td>239000</td>\n",
       "      <td>82</td>\n",
       "      <td>1</td>\n",
       "      <td>40</td>\n",
       "      <td>2</td>\n",
       "      <td>750</td>\n",
       "      <td>12.0</td>\n",
       "      <td>1.0</td>\n",
       "      <td>...</td>\n",
       "      <td>2.16</td>\n",
       "      <td>0.014398</td>\n",
       "      <td>3</td>\n",
       "      <td>79</td>\n",
       "      <td>45</td>\n",
       "      <td>2017</td>\n",
       "      <td>9</td>\n",
       "      <td>35</td>\n",
       "      <td>1</td>\n",
       "      <td>4</td>\n",
       "    </tr>\n",
       "    <tr>\n",
       "      <th>33</th>\n",
       "      <td>3</td>\n",
       "      <td>4.000</td>\n",
       "      <td>100000</td>\n",
       "      <td>61</td>\n",
       "      <td>1</td>\n",
       "      <td>35</td>\n",
       "      <td>2</td>\n",
       "      <td>309</td>\n",
       "      <td>0.0</td>\n",
       "      <td>0.0</td>\n",
       "      <td>...</td>\n",
       "      <td>2.35</td>\n",
       "      <td>0.005025</td>\n",
       "      <td>3</td>\n",
       "      <td>29</td>\n",
       "      <td>10</td>\n",
       "      <td>2014</td>\n",
       "      <td>11</td>\n",
       "      <td>44</td>\n",
       "      <td>1</td>\n",
       "      <td>5</td>\n",
       "    </tr>\n",
       "  </tbody>\n",
       "</table>\n",
       "<p>5 rows × 22 columns</p>\n",
       "</div>"
      ],
      "text/plain": [
       "    origChannel  origIntRate  origUPB  origLTV  numBorrowers  \\\n",
       "8             1        4.375   169000       89             1   \n",
       "12            1        3.875   172000       80             1   \n",
       "25            3        4.500   312000       70             2   \n",
       "28            3        3.875   239000       82             1   \n",
       "33            3        4.000   100000       61             1   \n",
       "\n",
       "    origDebtIncRatio  loanPurp  zipCode  pMIperct  mortInsType  ...  fredRate  \\\n",
       "8                 18         2      474      25.0          2.0  ...      2.37   \n",
       "12                43         1      700       0.0          0.0  ...      1.57   \n",
       "25                45         1       33       0.0          0.0  ...      2.35   \n",
       "28                40         2      750      12.0          1.0  ...      2.16   \n",
       "33                35         2      309       0.0          0.0  ...      2.35   \n",
       "\n",
       "    rateDiffPct  rank  bankNumber  stateNumber  origYear  origMonth  origWeek  \\\n",
       "8      0.110406     4          65           16      2017         11        44   \n",
       "12     0.119942     4          54           19      2016          9        35   \n",
       "25     0.130653     4          79           31      2014         11        44   \n",
       "28     0.014398     3          79           45      2017          9        35   \n",
       "33     0.005025     3          29           10      2014         11        44   \n",
       "\n",
       "    origDay  origDayOfWeek  \n",
       "8         1              2  \n",
       "12        1              3  \n",
       "25        1              5  \n",
       "28        1              4  \n",
       "33        1              5  \n",
       "\n",
       "[5 rows x 22 columns]"
      ]
     },
     "execution_count": 248,
     "metadata": {},
     "output_type": "execute_result"
    }
   ],
   "source": [
    "df18.head()"
   ]
  },
  {
   "cell_type": "code",
   "execution_count": 249,
   "metadata": {},
   "outputs": [],
   "source": [
    "df18.to_csv('data/FannieAcq2000-19FMac30samp25MlReady13-10cut.csv')"
   ]
  },
  {
   "cell_type": "code",
   "execution_count": null,
   "metadata": {},
   "outputs": [],
   "source": []
  },
  {
   "cell_type": "markdown",
   "metadata": {},
   "source": [
    "### Model building using Pycaret Library"
   ]
  },
  {
   "cell_type": "code",
   "execution_count": 251,
   "metadata": {},
   "outputs": [
    {
     "name": "stdout",
     "output_type": "stream",
     "text": [
      " \n",
      "Setup Succesfully Completed!\n"
     ]
    },
    {
     "data": {
      "text/html": [
       "<style  type=\"text/css\" >\n",
       "</style><table id=\"T_05a17508_98c4_11ea_9ee7_309c234564f5\" ><thead>    <tr>        <th class=\"blank level0\" ></th>        <th class=\"col_heading level0 col0\" >Description</th>        <th class=\"col_heading level0 col1\" >Value</th>    </tr></thead><tbody>\n",
       "                <tr>\n",
       "                        <th id=\"T_05a17508_98c4_11ea_9ee7_309c234564f5level0_row0\" class=\"row_heading level0 row0\" >0</th>\n",
       "                        <td id=\"T_05a17508_98c4_11ea_9ee7_309c234564f5row0_col0\" class=\"data row0 col0\" >session_id</td>\n",
       "                        <td id=\"T_05a17508_98c4_11ea_9ee7_309c234564f5row0_col1\" class=\"data row0 col1\" >1275</td>\n",
       "            </tr>\n",
       "            <tr>\n",
       "                        <th id=\"T_05a17508_98c4_11ea_9ee7_309c234564f5level0_row1\" class=\"row_heading level0 row1\" >1</th>\n",
       "                        <td id=\"T_05a17508_98c4_11ea_9ee7_309c234564f5row1_col0\" class=\"data row1 col0\" >Transform Target </td>\n",
       "                        <td id=\"T_05a17508_98c4_11ea_9ee7_309c234564f5row1_col1\" class=\"data row1 col1\" >False</td>\n",
       "            </tr>\n",
       "            <tr>\n",
       "                        <th id=\"T_05a17508_98c4_11ea_9ee7_309c234564f5level0_row2\" class=\"row_heading level0 row2\" >2</th>\n",
       "                        <td id=\"T_05a17508_98c4_11ea_9ee7_309c234564f5row2_col0\" class=\"data row2 col0\" >Transform Target Method</td>\n",
       "                        <td id=\"T_05a17508_98c4_11ea_9ee7_309c234564f5row2_col1\" class=\"data row2 col1\" >None</td>\n",
       "            </tr>\n",
       "            <tr>\n",
       "                        <th id=\"T_05a17508_98c4_11ea_9ee7_309c234564f5level0_row3\" class=\"row_heading level0 row3\" >3</th>\n",
       "                        <td id=\"T_05a17508_98c4_11ea_9ee7_309c234564f5row3_col0\" class=\"data row3 col0\" >Original Data</td>\n",
       "                        <td id=\"T_05a17508_98c4_11ea_9ee7_309c234564f5row3_col1\" class=\"data row3 col1\" >(39516, 22)</td>\n",
       "            </tr>\n",
       "            <tr>\n",
       "                        <th id=\"T_05a17508_98c4_11ea_9ee7_309c234564f5level0_row4\" class=\"row_heading level0 row4\" >4</th>\n",
       "                        <td id=\"T_05a17508_98c4_11ea_9ee7_309c234564f5row4_col0\" class=\"data row4 col0\" >Missing Values </td>\n",
       "                        <td id=\"T_05a17508_98c4_11ea_9ee7_309c234564f5row4_col1\" class=\"data row4 col1\" >False</td>\n",
       "            </tr>\n",
       "            <tr>\n",
       "                        <th id=\"T_05a17508_98c4_11ea_9ee7_309c234564f5level0_row5\" class=\"row_heading level0 row5\" >5</th>\n",
       "                        <td id=\"T_05a17508_98c4_11ea_9ee7_309c234564f5row5_col0\" class=\"data row5 col0\" >Numeric Features </td>\n",
       "                        <td id=\"T_05a17508_98c4_11ea_9ee7_309c234564f5row5_col1\" class=\"data row5 col1\" >9</td>\n",
       "            </tr>\n",
       "            <tr>\n",
       "                        <th id=\"T_05a17508_98c4_11ea_9ee7_309c234564f5level0_row6\" class=\"row_heading level0 row6\" >6</th>\n",
       "                        <td id=\"T_05a17508_98c4_11ea_9ee7_309c234564f5row6_col0\" class=\"data row6 col0\" >Categorical Features </td>\n",
       "                        <td id=\"T_05a17508_98c4_11ea_9ee7_309c234564f5row6_col1\" class=\"data row6 col1\" >12</td>\n",
       "            </tr>\n",
       "            <tr>\n",
       "                        <th id=\"T_05a17508_98c4_11ea_9ee7_309c234564f5level0_row7\" class=\"row_heading level0 row7\" >7</th>\n",
       "                        <td id=\"T_05a17508_98c4_11ea_9ee7_309c234564f5row7_col0\" class=\"data row7 col0\" >Ordinal Features </td>\n",
       "                        <td id=\"T_05a17508_98c4_11ea_9ee7_309c234564f5row7_col1\" class=\"data row7 col1\" >False</td>\n",
       "            </tr>\n",
       "            <tr>\n",
       "                        <th id=\"T_05a17508_98c4_11ea_9ee7_309c234564f5level0_row8\" class=\"row_heading level0 row8\" >8</th>\n",
       "                        <td id=\"T_05a17508_98c4_11ea_9ee7_309c234564f5row8_col0\" class=\"data row8 col0\" >High Cardinality Features </td>\n",
       "                        <td id=\"T_05a17508_98c4_11ea_9ee7_309c234564f5row8_col1\" class=\"data row8 col1\" >False</td>\n",
       "            </tr>\n",
       "            <tr>\n",
       "                        <th id=\"T_05a17508_98c4_11ea_9ee7_309c234564f5level0_row9\" class=\"row_heading level0 row9\" >9</th>\n",
       "                        <td id=\"T_05a17508_98c4_11ea_9ee7_309c234564f5row9_col0\" class=\"data row9 col0\" >High Cardinality Method </td>\n",
       "                        <td id=\"T_05a17508_98c4_11ea_9ee7_309c234564f5row9_col1\" class=\"data row9 col1\" >None</td>\n",
       "            </tr>\n",
       "            <tr>\n",
       "                        <th id=\"T_05a17508_98c4_11ea_9ee7_309c234564f5level0_row10\" class=\"row_heading level0 row10\" >10</th>\n",
       "                        <td id=\"T_05a17508_98c4_11ea_9ee7_309c234564f5row10_col0\" class=\"data row10 col0\" >Sampled Data</td>\n",
       "                        <td id=\"T_05a17508_98c4_11ea_9ee7_309c234564f5row10_col1\" class=\"data row10 col1\" >(31612, 22)</td>\n",
       "            </tr>\n",
       "            <tr>\n",
       "                        <th id=\"T_05a17508_98c4_11ea_9ee7_309c234564f5level0_row11\" class=\"row_heading level0 row11\" >11</th>\n",
       "                        <td id=\"T_05a17508_98c4_11ea_9ee7_309c234564f5row11_col0\" class=\"data row11 col0\" >Transformed Train Set</td>\n",
       "                        <td id=\"T_05a17508_98c4_11ea_9ee7_309c234564f5row11_col1\" class=\"data row11 col1\" >(22128, 1021)</td>\n",
       "            </tr>\n",
       "            <tr>\n",
       "                        <th id=\"T_05a17508_98c4_11ea_9ee7_309c234564f5level0_row12\" class=\"row_heading level0 row12\" >12</th>\n",
       "                        <td id=\"T_05a17508_98c4_11ea_9ee7_309c234564f5row12_col0\" class=\"data row12 col0\" >Transformed Test Set</td>\n",
       "                        <td id=\"T_05a17508_98c4_11ea_9ee7_309c234564f5row12_col1\" class=\"data row12 col1\" >(9484, 1021)</td>\n",
       "            </tr>\n",
       "            <tr>\n",
       "                        <th id=\"T_05a17508_98c4_11ea_9ee7_309c234564f5level0_row13\" class=\"row_heading level0 row13\" >13</th>\n",
       "                        <td id=\"T_05a17508_98c4_11ea_9ee7_309c234564f5row13_col0\" class=\"data row13 col0\" >Numeric Imputer </td>\n",
       "                        <td id=\"T_05a17508_98c4_11ea_9ee7_309c234564f5row13_col1\" class=\"data row13 col1\" >mean</td>\n",
       "            </tr>\n",
       "            <tr>\n",
       "                        <th id=\"T_05a17508_98c4_11ea_9ee7_309c234564f5level0_row14\" class=\"row_heading level0 row14\" >14</th>\n",
       "                        <td id=\"T_05a17508_98c4_11ea_9ee7_309c234564f5row14_col0\" class=\"data row14 col0\" >Categorical Imputer </td>\n",
       "                        <td id=\"T_05a17508_98c4_11ea_9ee7_309c234564f5row14_col1\" class=\"data row14 col1\" >constant</td>\n",
       "            </tr>\n",
       "            <tr>\n",
       "                        <th id=\"T_05a17508_98c4_11ea_9ee7_309c234564f5level0_row15\" class=\"row_heading level0 row15\" >15</th>\n",
       "                        <td id=\"T_05a17508_98c4_11ea_9ee7_309c234564f5row15_col0\" class=\"data row15 col0\" >Normalize </td>\n",
       "                        <td id=\"T_05a17508_98c4_11ea_9ee7_309c234564f5row15_col1\" class=\"data row15 col1\" >False</td>\n",
       "            </tr>\n",
       "            <tr>\n",
       "                        <th id=\"T_05a17508_98c4_11ea_9ee7_309c234564f5level0_row16\" class=\"row_heading level0 row16\" >16</th>\n",
       "                        <td id=\"T_05a17508_98c4_11ea_9ee7_309c234564f5row16_col0\" class=\"data row16 col0\" >Normalize Method </td>\n",
       "                        <td id=\"T_05a17508_98c4_11ea_9ee7_309c234564f5row16_col1\" class=\"data row16 col1\" >None</td>\n",
       "            </tr>\n",
       "            <tr>\n",
       "                        <th id=\"T_05a17508_98c4_11ea_9ee7_309c234564f5level0_row17\" class=\"row_heading level0 row17\" >17</th>\n",
       "                        <td id=\"T_05a17508_98c4_11ea_9ee7_309c234564f5row17_col0\" class=\"data row17 col0\" >Transformation </td>\n",
       "                        <td id=\"T_05a17508_98c4_11ea_9ee7_309c234564f5row17_col1\" class=\"data row17 col1\" >False</td>\n",
       "            </tr>\n",
       "            <tr>\n",
       "                        <th id=\"T_05a17508_98c4_11ea_9ee7_309c234564f5level0_row18\" class=\"row_heading level0 row18\" >18</th>\n",
       "                        <td id=\"T_05a17508_98c4_11ea_9ee7_309c234564f5row18_col0\" class=\"data row18 col0\" >Transformation Method </td>\n",
       "                        <td id=\"T_05a17508_98c4_11ea_9ee7_309c234564f5row18_col1\" class=\"data row18 col1\" >None</td>\n",
       "            </tr>\n",
       "            <tr>\n",
       "                        <th id=\"T_05a17508_98c4_11ea_9ee7_309c234564f5level0_row19\" class=\"row_heading level0 row19\" >19</th>\n",
       "                        <td id=\"T_05a17508_98c4_11ea_9ee7_309c234564f5row19_col0\" class=\"data row19 col0\" >PCA </td>\n",
       "                        <td id=\"T_05a17508_98c4_11ea_9ee7_309c234564f5row19_col1\" class=\"data row19 col1\" >False</td>\n",
       "            </tr>\n",
       "            <tr>\n",
       "                        <th id=\"T_05a17508_98c4_11ea_9ee7_309c234564f5level0_row20\" class=\"row_heading level0 row20\" >20</th>\n",
       "                        <td id=\"T_05a17508_98c4_11ea_9ee7_309c234564f5row20_col0\" class=\"data row20 col0\" >PCA Method </td>\n",
       "                        <td id=\"T_05a17508_98c4_11ea_9ee7_309c234564f5row20_col1\" class=\"data row20 col1\" >None</td>\n",
       "            </tr>\n",
       "            <tr>\n",
       "                        <th id=\"T_05a17508_98c4_11ea_9ee7_309c234564f5level0_row21\" class=\"row_heading level0 row21\" >21</th>\n",
       "                        <td id=\"T_05a17508_98c4_11ea_9ee7_309c234564f5row21_col0\" class=\"data row21 col0\" >PCA Components </td>\n",
       "                        <td id=\"T_05a17508_98c4_11ea_9ee7_309c234564f5row21_col1\" class=\"data row21 col1\" >None</td>\n",
       "            </tr>\n",
       "            <tr>\n",
       "                        <th id=\"T_05a17508_98c4_11ea_9ee7_309c234564f5level0_row22\" class=\"row_heading level0 row22\" >22</th>\n",
       "                        <td id=\"T_05a17508_98c4_11ea_9ee7_309c234564f5row22_col0\" class=\"data row22 col0\" >Ignore Low Variance </td>\n",
       "                        <td id=\"T_05a17508_98c4_11ea_9ee7_309c234564f5row22_col1\" class=\"data row22 col1\" >False</td>\n",
       "            </tr>\n",
       "            <tr>\n",
       "                        <th id=\"T_05a17508_98c4_11ea_9ee7_309c234564f5level0_row23\" class=\"row_heading level0 row23\" >23</th>\n",
       "                        <td id=\"T_05a17508_98c4_11ea_9ee7_309c234564f5row23_col0\" class=\"data row23 col0\" >Combine Rare Levels </td>\n",
       "                        <td id=\"T_05a17508_98c4_11ea_9ee7_309c234564f5row23_col1\" class=\"data row23 col1\" >False</td>\n",
       "            </tr>\n",
       "            <tr>\n",
       "                        <th id=\"T_05a17508_98c4_11ea_9ee7_309c234564f5level0_row24\" class=\"row_heading level0 row24\" >24</th>\n",
       "                        <td id=\"T_05a17508_98c4_11ea_9ee7_309c234564f5row24_col0\" class=\"data row24 col0\" >Rare Level Threshold </td>\n",
       "                        <td id=\"T_05a17508_98c4_11ea_9ee7_309c234564f5row24_col1\" class=\"data row24 col1\" >None</td>\n",
       "            </tr>\n",
       "            <tr>\n",
       "                        <th id=\"T_05a17508_98c4_11ea_9ee7_309c234564f5level0_row25\" class=\"row_heading level0 row25\" >25</th>\n",
       "                        <td id=\"T_05a17508_98c4_11ea_9ee7_309c234564f5row25_col0\" class=\"data row25 col0\" >Numeric Binning </td>\n",
       "                        <td id=\"T_05a17508_98c4_11ea_9ee7_309c234564f5row25_col1\" class=\"data row25 col1\" >False</td>\n",
       "            </tr>\n",
       "            <tr>\n",
       "                        <th id=\"T_05a17508_98c4_11ea_9ee7_309c234564f5level0_row26\" class=\"row_heading level0 row26\" >26</th>\n",
       "                        <td id=\"T_05a17508_98c4_11ea_9ee7_309c234564f5row26_col0\" class=\"data row26 col0\" >Remove Outliers </td>\n",
       "                        <td id=\"T_05a17508_98c4_11ea_9ee7_309c234564f5row26_col1\" class=\"data row26 col1\" >False</td>\n",
       "            </tr>\n",
       "            <tr>\n",
       "                        <th id=\"T_05a17508_98c4_11ea_9ee7_309c234564f5level0_row27\" class=\"row_heading level0 row27\" >27</th>\n",
       "                        <td id=\"T_05a17508_98c4_11ea_9ee7_309c234564f5row27_col0\" class=\"data row27 col0\" >Outliers Threshold </td>\n",
       "                        <td id=\"T_05a17508_98c4_11ea_9ee7_309c234564f5row27_col1\" class=\"data row27 col1\" >None</td>\n",
       "            </tr>\n",
       "            <tr>\n",
       "                        <th id=\"T_05a17508_98c4_11ea_9ee7_309c234564f5level0_row28\" class=\"row_heading level0 row28\" >28</th>\n",
       "                        <td id=\"T_05a17508_98c4_11ea_9ee7_309c234564f5row28_col0\" class=\"data row28 col0\" >Remove Multicollinearity </td>\n",
       "                        <td id=\"T_05a17508_98c4_11ea_9ee7_309c234564f5row28_col1\" class=\"data row28 col1\" >False</td>\n",
       "            </tr>\n",
       "            <tr>\n",
       "                        <th id=\"T_05a17508_98c4_11ea_9ee7_309c234564f5level0_row29\" class=\"row_heading level0 row29\" >29</th>\n",
       "                        <td id=\"T_05a17508_98c4_11ea_9ee7_309c234564f5row29_col0\" class=\"data row29 col0\" >Multicollinearity Threshold </td>\n",
       "                        <td id=\"T_05a17508_98c4_11ea_9ee7_309c234564f5row29_col1\" class=\"data row29 col1\" >None</td>\n",
       "            </tr>\n",
       "            <tr>\n",
       "                        <th id=\"T_05a17508_98c4_11ea_9ee7_309c234564f5level0_row30\" class=\"row_heading level0 row30\" >30</th>\n",
       "                        <td id=\"T_05a17508_98c4_11ea_9ee7_309c234564f5row30_col0\" class=\"data row30 col0\" >Clustering </td>\n",
       "                        <td id=\"T_05a17508_98c4_11ea_9ee7_309c234564f5row30_col1\" class=\"data row30 col1\" >False</td>\n",
       "            </tr>\n",
       "            <tr>\n",
       "                        <th id=\"T_05a17508_98c4_11ea_9ee7_309c234564f5level0_row31\" class=\"row_heading level0 row31\" >31</th>\n",
       "                        <td id=\"T_05a17508_98c4_11ea_9ee7_309c234564f5row31_col0\" class=\"data row31 col0\" >Clustering Iteration </td>\n",
       "                        <td id=\"T_05a17508_98c4_11ea_9ee7_309c234564f5row31_col1\" class=\"data row31 col1\" >None</td>\n",
       "            </tr>\n",
       "            <tr>\n",
       "                        <th id=\"T_05a17508_98c4_11ea_9ee7_309c234564f5level0_row32\" class=\"row_heading level0 row32\" >32</th>\n",
       "                        <td id=\"T_05a17508_98c4_11ea_9ee7_309c234564f5row32_col0\" class=\"data row32 col0\" >Polynomial Features </td>\n",
       "                        <td id=\"T_05a17508_98c4_11ea_9ee7_309c234564f5row32_col1\" class=\"data row32 col1\" >False</td>\n",
       "            </tr>\n",
       "            <tr>\n",
       "                        <th id=\"T_05a17508_98c4_11ea_9ee7_309c234564f5level0_row33\" class=\"row_heading level0 row33\" >33</th>\n",
       "                        <td id=\"T_05a17508_98c4_11ea_9ee7_309c234564f5row33_col0\" class=\"data row33 col0\" >Polynomial Degree </td>\n",
       "                        <td id=\"T_05a17508_98c4_11ea_9ee7_309c234564f5row33_col1\" class=\"data row33 col1\" >None</td>\n",
       "            </tr>\n",
       "            <tr>\n",
       "                        <th id=\"T_05a17508_98c4_11ea_9ee7_309c234564f5level0_row34\" class=\"row_heading level0 row34\" >34</th>\n",
       "                        <td id=\"T_05a17508_98c4_11ea_9ee7_309c234564f5row34_col0\" class=\"data row34 col0\" >Trignometry Features </td>\n",
       "                        <td id=\"T_05a17508_98c4_11ea_9ee7_309c234564f5row34_col1\" class=\"data row34 col1\" >False</td>\n",
       "            </tr>\n",
       "            <tr>\n",
       "                        <th id=\"T_05a17508_98c4_11ea_9ee7_309c234564f5level0_row35\" class=\"row_heading level0 row35\" >35</th>\n",
       "                        <td id=\"T_05a17508_98c4_11ea_9ee7_309c234564f5row35_col0\" class=\"data row35 col0\" >Polynomial Threshold </td>\n",
       "                        <td id=\"T_05a17508_98c4_11ea_9ee7_309c234564f5row35_col1\" class=\"data row35 col1\" >None</td>\n",
       "            </tr>\n",
       "            <tr>\n",
       "                        <th id=\"T_05a17508_98c4_11ea_9ee7_309c234564f5level0_row36\" class=\"row_heading level0 row36\" >36</th>\n",
       "                        <td id=\"T_05a17508_98c4_11ea_9ee7_309c234564f5row36_col0\" class=\"data row36 col0\" >Group Features </td>\n",
       "                        <td id=\"T_05a17508_98c4_11ea_9ee7_309c234564f5row36_col1\" class=\"data row36 col1\" >False</td>\n",
       "            </tr>\n",
       "            <tr>\n",
       "                        <th id=\"T_05a17508_98c4_11ea_9ee7_309c234564f5level0_row37\" class=\"row_heading level0 row37\" >37</th>\n",
       "                        <td id=\"T_05a17508_98c4_11ea_9ee7_309c234564f5row37_col0\" class=\"data row37 col0\" >Feature Selection </td>\n",
       "                        <td id=\"T_05a17508_98c4_11ea_9ee7_309c234564f5row37_col1\" class=\"data row37 col1\" >False</td>\n",
       "            </tr>\n",
       "            <tr>\n",
       "                        <th id=\"T_05a17508_98c4_11ea_9ee7_309c234564f5level0_row38\" class=\"row_heading level0 row38\" >38</th>\n",
       "                        <td id=\"T_05a17508_98c4_11ea_9ee7_309c234564f5row38_col0\" class=\"data row38 col0\" >Features Selection Threshold </td>\n",
       "                        <td id=\"T_05a17508_98c4_11ea_9ee7_309c234564f5row38_col1\" class=\"data row38 col1\" >None</td>\n",
       "            </tr>\n",
       "            <tr>\n",
       "                        <th id=\"T_05a17508_98c4_11ea_9ee7_309c234564f5level0_row39\" class=\"row_heading level0 row39\" >39</th>\n",
       "                        <td id=\"T_05a17508_98c4_11ea_9ee7_309c234564f5row39_col0\" class=\"data row39 col0\" >Feature Interaction </td>\n",
       "                        <td id=\"T_05a17508_98c4_11ea_9ee7_309c234564f5row39_col1\" class=\"data row39 col1\" >False</td>\n",
       "            </tr>\n",
       "            <tr>\n",
       "                        <th id=\"T_05a17508_98c4_11ea_9ee7_309c234564f5level0_row40\" class=\"row_heading level0 row40\" >40</th>\n",
       "                        <td id=\"T_05a17508_98c4_11ea_9ee7_309c234564f5row40_col0\" class=\"data row40 col0\" >Feature Ratio </td>\n",
       "                        <td id=\"T_05a17508_98c4_11ea_9ee7_309c234564f5row40_col1\" class=\"data row40 col1\" >False</td>\n",
       "            </tr>\n",
       "            <tr>\n",
       "                        <th id=\"T_05a17508_98c4_11ea_9ee7_309c234564f5level0_row41\" class=\"row_heading level0 row41\" >41</th>\n",
       "                        <td id=\"T_05a17508_98c4_11ea_9ee7_309c234564f5row41_col0\" class=\"data row41 col0\" >Interaction Threshold </td>\n",
       "                        <td id=\"T_05a17508_98c4_11ea_9ee7_309c234564f5row41_col1\" class=\"data row41 col1\" >None</td>\n",
       "            </tr>\n",
       "    </tbody></table>"
      ],
      "text/plain": [
       "<pandas.io.formats.style.Styler at 0x12cbfba2518>"
      ]
     },
     "metadata": {},
     "output_type": "display_data"
    }
   ],
   "source": [
    "models=setup(df18, target = 'rateDiffPct',\\\n",
    "             categorical_features = ['origChannel','numBorrowers','mortInsType','bankNumber',\\\n",
    "                                     'zipCode', 'stateNumber','origYear','origMonth','origWeek',\\\n",
    "                                     'origDay','origDayOfWeek'],\n",
    "            ignore_features = ['origIntRate','rank'])"
   ]
  },
  {
   "cell_type": "code",
   "execution_count": null,
   "metadata": {
    "scrolled": false
   },
   "outputs": [
    {
     "data": {
      "application/vnd.jupyter.widget-view+json": {
       "model_id": "cd19ecb2f1fd4db280d39c8c4662e461",
       "version_major": 2,
       "version_minor": 0
      },
      "text/plain": [
       "IntProgress(value=0, description='Processing: ', max=235)"
      ]
     },
     "metadata": {},
     "output_type": "display_data"
    },
    {
     "data": {
      "text/html": [
       "<div>\n",
       "<style scoped>\n",
       "    .dataframe tbody tr th:only-of-type {\n",
       "        vertical-align: middle;\n",
       "    }\n",
       "\n",
       "    .dataframe tbody tr th {\n",
       "        vertical-align: top;\n",
       "    }\n",
       "\n",
       "    .dataframe thead th {\n",
       "        text-align: right;\n",
       "    }\n",
       "</style>\n",
       "<table border=\"1\" class=\"dataframe\">\n",
       "  <thead>\n",
       "    <tr style=\"text-align: right;\">\n",
       "      <th></th>\n",
       "      <th></th>\n",
       "      <th></th>\n",
       "    </tr>\n",
       "    <tr>\n",
       "      <th></th>\n",
       "      <th></th>\n",
       "      <th></th>\n",
       "    </tr>\n",
       "  </thead>\n",
       "  <tbody>\n",
       "    <tr>\n",
       "      <th>Initiated</th>\n",
       "      <td>. . . . . . . . . . . . . . . . . .</td>\n",
       "      <td>23:57:26</td>\n",
       "    </tr>\n",
       "    <tr>\n",
       "      <th>Status</th>\n",
       "      <td>. . . . . . . . . . . . . . . . . .</td>\n",
       "      <td>Fitting Fold 1 of 10</td>\n",
       "    </tr>\n",
       "    <tr>\n",
       "      <th>Estimator</th>\n",
       "      <td>. . . . . . . . . . . . . . . . . .</td>\n",
       "      <td>Random Forest</td>\n",
       "    </tr>\n",
       "    <tr>\n",
       "      <th>ETC</th>\n",
       "      <td>. . . . . . . . . . . . . . . . . .</td>\n",
       "      <td>Calculating ETC</td>\n",
       "    </tr>\n",
       "  </tbody>\n",
       "</table>\n",
       "</div>"
      ],
      "text/plain": [
       "                                                                    \n",
       "                                                                    \n",
       "Initiated  . . . . . . . . . . . . . . . . . .              23:57:26\n",
       "Status     . . . . . . . . . . . . . . . . . .  Fitting Fold 1 of 10\n",
       "Estimator  . . . . . . . . . . . . . . . . . .         Random Forest\n",
       "ETC        . . . . . . . . . . . . . . . . . .       Calculating ETC"
      ]
     },
     "metadata": {},
     "output_type": "display_data"
    },
    {
     "data": {
      "text/html": [
       "<div>\n",
       "<style scoped>\n",
       "    .dataframe tbody tr th:only-of-type {\n",
       "        vertical-align: middle;\n",
       "    }\n",
       "\n",
       "    .dataframe tbody tr th {\n",
       "        vertical-align: top;\n",
       "    }\n",
       "\n",
       "    .dataframe thead th {\n",
       "        text-align: right;\n",
       "    }\n",
       "</style>\n",
       "<table border=\"1\" class=\"dataframe\">\n",
       "  <thead>\n",
       "    <tr style=\"text-align: right;\">\n",
       "      <th></th>\n",
       "      <th>Model</th>\n",
       "      <th>MAE</th>\n",
       "      <th>MSE</th>\n",
       "      <th>RMSE</th>\n",
       "      <th>R2</th>\n",
       "      <th>RMSLE</th>\n",
       "      <th>MAPE</th>\n",
       "    </tr>\n",
       "  </thead>\n",
       "  <tbody>\n",
       "    <tr>\n",
       "      <th>0</th>\n",
       "      <td>Bayesian Ridge</td>\n",
       "      <td>0.0529</td>\n",
       "      <td>4.700000e-03</td>\n",
       "      <td>0.0686</td>\n",
       "      <td>4.139000e-01</td>\n",
       "      <td>0.0544</td>\n",
       "      <td>0.6714</td>\n",
       "    </tr>\n",
       "    <tr>\n",
       "      <th>1</th>\n",
       "      <td>Orthogonal Matching Pursuit</td>\n",
       "      <td>0.0534</td>\n",
       "      <td>4.800000e-03</td>\n",
       "      <td>0.0692</td>\n",
       "      <td>4.036000e-01</td>\n",
       "      <td>0.0548</td>\n",
       "      <td>0.6794</td>\n",
       "    </tr>\n",
       "    <tr>\n",
       "      <th>2</th>\n",
       "      <td>Ridge Regression</td>\n",
       "      <td>0.0536</td>\n",
       "      <td>4.800000e-03</td>\n",
       "      <td>0.0695</td>\n",
       "      <td>3.985000e-01</td>\n",
       "      <td>0.0552</td>\n",
       "      <td>0.7008</td>\n",
       "    </tr>\n",
       "    <tr>\n",
       "      <th>3</th>\n",
       "      <td>Elastic Net</td>\n",
       "      <td>0.0606</td>\n",
       "      <td>6.200000e-03</td>\n",
       "      <td>0.0789</td>\n",
       "      <td>2.242000e-01</td>\n",
       "      <td>0.0602</td>\n",
       "      <td>0.6567</td>\n",
       "    </tr>\n",
       "    <tr>\n",
       "      <th>4</th>\n",
       "      <td>Lasso Regression</td>\n",
       "      <td>0.0621</td>\n",
       "      <td>6.500000e-03</td>\n",
       "      <td>0.0809</td>\n",
       "      <td>1.843000e-01</td>\n",
       "      <td>0.0614</td>\n",
       "      <td>0.6926</td>\n",
       "    </tr>\n",
       "    <tr>\n",
       "      <th>5</th>\n",
       "      <td>K Neighbors Regressor</td>\n",
       "      <td>0.0627</td>\n",
       "      <td>6.600000e-03</td>\n",
       "      <td>0.0814</td>\n",
       "      <td>1.738000e-01</td>\n",
       "      <td>0.0642</td>\n",
       "      <td>0.7328</td>\n",
       "    </tr>\n",
       "    <tr>\n",
       "      <th>6</th>\n",
       "      <td>Decision Tree</td>\n",
       "      <td>0.0643</td>\n",
       "      <td>7.000000e-03</td>\n",
       "      <td>0.0838</td>\n",
       "      <td>1.235000e-01</td>\n",
       "      <td>0.0656</td>\n",
       "      <td>0.9382</td>\n",
       "    </tr>\n",
       "    <tr>\n",
       "      <th>7</th>\n",
       "      <td>Support Vector Machine</td>\n",
       "      <td>0.0688</td>\n",
       "      <td>7.800000e-03</td>\n",
       "      <td>0.0884</td>\n",
       "      <td>2.630000e-02</td>\n",
       "      <td>0.0671</td>\n",
       "      <td>0.8962</td>\n",
       "    </tr>\n",
       "    <tr>\n",
       "      <th>8</th>\n",
       "      <td>Lasso Least Angle Regression</td>\n",
       "      <td>0.0690</td>\n",
       "      <td>8.000000e-03</td>\n",
       "      <td>0.0896</td>\n",
       "      <td>-2.000000e-04</td>\n",
       "      <td>0.0686</td>\n",
       "      <td>0.8300</td>\n",
       "    </tr>\n",
       "    <tr>\n",
       "      <th>9</th>\n",
       "      <td>Huber Regressor</td>\n",
       "      <td>0.0702</td>\n",
       "      <td>8.300000e-03</td>\n",
       "      <td>0.0913</td>\n",
       "      <td>-3.860000e-02</td>\n",
       "      <td>0.0705</td>\n",
       "      <td>0.8405</td>\n",
       "    </tr>\n",
       "    <tr>\n",
       "      <th>10</th>\n",
       "      <td>Passive Aggressive Regressor</td>\n",
       "      <td>0.0753</td>\n",
       "      <td>9.200000e-03</td>\n",
       "      <td>0.0960</td>\n",
       "      <td>-1.496000e-01</td>\n",
       "      <td>0.0739</td>\n",
       "      <td>1.0178</td>\n",
       "    </tr>\n",
       "    <tr>\n",
       "      <th>11</th>\n",
       "      <td>Least Angle Regression</td>\n",
       "      <td>0.6921</td>\n",
       "      <td>1.132220e+01</td>\n",
       "      <td>1.1350</td>\n",
       "      <td>-1.433365e+03</td>\n",
       "      <td>0.2311</td>\n",
       "      <td>10.5862</td>\n",
       "    </tr>\n",
       "    <tr>\n",
       "      <th>12</th>\n",
       "      <td>Random Sample Consensus</td>\n",
       "      <td>11.8648</td>\n",
       "      <td>8.771248e+04</td>\n",
       "      <td>173.5394</td>\n",
       "      <td>-1.098561e+07</td>\n",
       "      <td>0.3832</td>\n",
       "      <td>94.2280</td>\n",
       "    </tr>\n",
       "    <tr>\n",
       "      <th>13</th>\n",
       "      <td>Linear Regression</td>\n",
       "      <td>82.5720</td>\n",
       "      <td>8.090238e+06</td>\n",
       "      <td>1844.7007</td>\n",
       "      <td>-9.994557e+08</td>\n",
       "      <td>0.3385</td>\n",
       "      <td>2258.9721</td>\n",
       "    </tr>\n",
       "  </tbody>\n",
       "</table>\n",
       "</div>"
      ],
      "text/plain": [
       "                           Model      MAE           MSE       RMSE  \\\n",
       "0                 Bayesian Ridge   0.0529  4.700000e-03     0.0686   \n",
       "1    Orthogonal Matching Pursuit   0.0534  4.800000e-03     0.0692   \n",
       "2               Ridge Regression   0.0536  4.800000e-03     0.0695   \n",
       "3                    Elastic Net   0.0606  6.200000e-03     0.0789   \n",
       "4               Lasso Regression   0.0621  6.500000e-03     0.0809   \n",
       "5          K Neighbors Regressor   0.0627  6.600000e-03     0.0814   \n",
       "6                  Decision Tree   0.0643  7.000000e-03     0.0838   \n",
       "7         Support Vector Machine   0.0688  7.800000e-03     0.0884   \n",
       "8   Lasso Least Angle Regression   0.0690  8.000000e-03     0.0896   \n",
       "9                Huber Regressor   0.0702  8.300000e-03     0.0913   \n",
       "10  Passive Aggressive Regressor   0.0753  9.200000e-03     0.0960   \n",
       "11        Least Angle Regression   0.6921  1.132220e+01     1.1350   \n",
       "12       Random Sample Consensus  11.8648  8.771248e+04   173.5394   \n",
       "13             Linear Regression  82.5720  8.090238e+06  1844.7007   \n",
       "\n",
       "              R2   RMSLE       MAPE  \n",
       "0   4.139000e-01  0.0544     0.6714  \n",
       "1   4.036000e-01  0.0548     0.6794  \n",
       "2   3.985000e-01  0.0552     0.7008  \n",
       "3   2.242000e-01  0.0602     0.6567  \n",
       "4   1.843000e-01  0.0614     0.6926  \n",
       "5   1.738000e-01  0.0642     0.7328  \n",
       "6   1.235000e-01  0.0656     0.9382  \n",
       "7   2.630000e-02  0.0671     0.8962  \n",
       "8  -2.000000e-04  0.0686     0.8300  \n",
       "9  -3.860000e-02  0.0705     0.8405  \n",
       "10 -1.496000e-01  0.0739     1.0178  \n",
       "11 -1.433365e+03  0.2311    10.5862  \n",
       "12 -1.098561e+07  0.3832    94.2280  \n",
       "13 -9.994557e+08  0.3385  2258.9721  "
      ]
     },
     "metadata": {},
     "output_type": "display_data"
    }
   ],
   "source": [
    "model_results=compare_models(blacklist = ['tr'])\n",
    "model_results"
   ]
  },
  {
   "cell_type": "code",
   "execution_count": 104,
   "metadata": {},
   "outputs": [
    {
     "data": {
      "text/html": [
       "<div>\n",
       "<style scoped>\n",
       "    .dataframe tbody tr th:only-of-type {\n",
       "        vertical-align: middle;\n",
       "    }\n",
       "\n",
       "    .dataframe tbody tr th {\n",
       "        vertical-align: top;\n",
       "    }\n",
       "\n",
       "    .dataframe thead th {\n",
       "        text-align: right;\n",
       "    }\n",
       "</style>\n",
       "<table border=\"1\" class=\"dataframe\">\n",
       "  <thead>\n",
       "    <tr style=\"text-align: right;\">\n",
       "      <th></th>\n",
       "      <th>MAE</th>\n",
       "      <th>MSE</th>\n",
       "      <th>RMSE</th>\n",
       "      <th>R2</th>\n",
       "      <th>RMSLE</th>\n",
       "      <th>MAPE</th>\n",
       "    </tr>\n",
       "  </thead>\n",
       "  <tbody>\n",
       "    <tr>\n",
       "      <th>0</th>\n",
       "      <td>0.0001</td>\n",
       "      <td>0.0</td>\n",
       "      <td>0.0009</td>\n",
       "      <td>0.9999</td>\n",
       "      <td>0.0007</td>\n",
       "      <td>0.0009</td>\n",
       "    </tr>\n",
       "    <tr>\n",
       "      <th>1</th>\n",
       "      <td>0.0001</td>\n",
       "      <td>0.0</td>\n",
       "      <td>0.0007</td>\n",
       "      <td>0.9999</td>\n",
       "      <td>0.0006</td>\n",
       "      <td>-0.0010</td>\n",
       "    </tr>\n",
       "    <tr>\n",
       "      <th>2</th>\n",
       "      <td>0.0001</td>\n",
       "      <td>0.0</td>\n",
       "      <td>0.0009</td>\n",
       "      <td>0.9999</td>\n",
       "      <td>0.0007</td>\n",
       "      <td>0.0004</td>\n",
       "    </tr>\n",
       "    <tr>\n",
       "      <th>3</th>\n",
       "      <td>0.0001</td>\n",
       "      <td>0.0</td>\n",
       "      <td>0.0009</td>\n",
       "      <td>0.9999</td>\n",
       "      <td>0.0007</td>\n",
       "      <td>0.0006</td>\n",
       "    </tr>\n",
       "    <tr>\n",
       "      <th>4</th>\n",
       "      <td>0.0001</td>\n",
       "      <td>0.0</td>\n",
       "      <td>0.0008</td>\n",
       "      <td>0.9999</td>\n",
       "      <td>0.0006</td>\n",
       "      <td>0.0010</td>\n",
       "    </tr>\n",
       "    <tr>\n",
       "      <th>5</th>\n",
       "      <td>0.0001</td>\n",
       "      <td>0.0</td>\n",
       "      <td>0.0010</td>\n",
       "      <td>0.9999</td>\n",
       "      <td>0.0008</td>\n",
       "      <td>0.0005</td>\n",
       "    </tr>\n",
       "    <tr>\n",
       "      <th>6</th>\n",
       "      <td>0.0001</td>\n",
       "      <td>0.0</td>\n",
       "      <td>0.0008</td>\n",
       "      <td>0.9999</td>\n",
       "      <td>0.0007</td>\n",
       "      <td>0.0004</td>\n",
       "    </tr>\n",
       "    <tr>\n",
       "      <th>7</th>\n",
       "      <td>0.0001</td>\n",
       "      <td>0.0</td>\n",
       "      <td>0.0011</td>\n",
       "      <td>0.9998</td>\n",
       "      <td>0.0009</td>\n",
       "      <td>0.0006</td>\n",
       "    </tr>\n",
       "    <tr>\n",
       "      <th>8</th>\n",
       "      <td>0.0001</td>\n",
       "      <td>0.0</td>\n",
       "      <td>0.0008</td>\n",
       "      <td>0.9999</td>\n",
       "      <td>0.0007</td>\n",
       "      <td>0.0007</td>\n",
       "    </tr>\n",
       "    <tr>\n",
       "      <th>9</th>\n",
       "      <td>0.0001</td>\n",
       "      <td>0.0</td>\n",
       "      <td>0.0012</td>\n",
       "      <td>0.9998</td>\n",
       "      <td>0.0010</td>\n",
       "      <td>0.0004</td>\n",
       "    </tr>\n",
       "    <tr>\n",
       "      <th>Mean</th>\n",
       "      <td>0.0001</td>\n",
       "      <td>0.0</td>\n",
       "      <td>0.0009</td>\n",
       "      <td>0.9999</td>\n",
       "      <td>0.0008</td>\n",
       "      <td>0.0005</td>\n",
       "    </tr>\n",
       "    <tr>\n",
       "      <th>SD</th>\n",
       "      <td>0.0000</td>\n",
       "      <td>0.0</td>\n",
       "      <td>0.0002</td>\n",
       "      <td>0.0000</td>\n",
       "      <td>0.0001</td>\n",
       "      <td>0.0005</td>\n",
       "    </tr>\n",
       "  </tbody>\n",
       "</table>\n",
       "</div>"
      ],
      "text/plain": [
       "         MAE  MSE    RMSE      R2   RMSLE    MAPE\n",
       "0     0.0001  0.0  0.0009  0.9999  0.0007  0.0009\n",
       "1     0.0001  0.0  0.0007  0.9999  0.0006 -0.0010\n",
       "2     0.0001  0.0  0.0009  0.9999  0.0007  0.0004\n",
       "3     0.0001  0.0  0.0009  0.9999  0.0007  0.0006\n",
       "4     0.0001  0.0  0.0008  0.9999  0.0006  0.0010\n",
       "5     0.0001  0.0  0.0010  0.9999  0.0008  0.0005\n",
       "6     0.0001  0.0  0.0008  0.9999  0.0007  0.0004\n",
       "7     0.0001  0.0  0.0011  0.9998  0.0009  0.0006\n",
       "8     0.0001  0.0  0.0008  0.9999  0.0007  0.0007\n",
       "9     0.0001  0.0  0.0012  0.9998  0.0010  0.0004\n",
       "Mean  0.0001  0.0  0.0009  0.9999  0.0008  0.0005\n",
       "SD    0.0000  0.0  0.0002  0.0000  0.0001  0.0005"
      ]
     },
     "metadata": {},
     "output_type": "display_data"
    }
   ],
   "source": [
    "logreg_model=create_model('et')"
   ]
  },
  {
   "cell_type": "code",
   "execution_count": null,
   "metadata": {},
   "outputs": [],
   "source": []
  },
  {
   "cell_type": "code",
   "execution_count": 105,
   "metadata": {},
   "outputs": [
    {
     "data": {
      "image/png": "[encoded data removed]",
      "text/plain": [
       "<Figure size 576x684 with 2 Axes>"
      ]
     },
     "metadata": {
      "needs_background": "light"
     },
     "output_type": "display_data"
    }
   ],
   "source": [
    "interpret_model(estimator=logreg_model,plot='summary')"
   ]
  },
  {
   "cell_type": "code",
   "execution_count": null,
   "metadata": {},
   "outputs": [],
   "source": [
    "interpret_model(estimator=logreg_model, plot='correlation')"
   ]
  },
  {
   "cell_type": "code",
   "execution_count": null,
   "metadata": {
    "scrolled": false
   },
   "outputs": [],
   "source": [
    "interpret_model(estimator=logreg_model, plot='reason')"
   ]
  },
  {
   "cell_type": "code",
   "execution_count": null,
   "metadata": {},
   "outputs": [],
   "source": [
    "logreg_model2=create_model('xgboost')"
   ]
  },
  {
   "cell_type": "code",
   "execution_count": null,
   "metadata": {},
   "outputs": [],
   "source": [
    "plot_model(estimator=logreg_model2, plot='feature')"
   ]
  },
  {
   "cell_type": "code",
   "execution_count": null,
   "metadata": {},
   "outputs": [],
   "source": [
    "plot_model(estimator=logreg_model2)"
   ]
  },
  {
   "cell_type": "code",
   "execution_count": null,
   "metadata": {},
   "outputs": [],
   "source": [
    "tunned_logreg_model=tune_model('catboost')"
   ]
  },
  {
   "cell_type": "code",
   "execution_count": null,
   "metadata": {},
   "outputs": [],
   "source": [
    "interpret_model(estimator=tunned_logreg_model,plot='summary')"
   ]
  },
  {
   "cell_type": "code",
   "execution_count": null,
   "metadata": {},
   "outputs": [],
   "source": [
    "plot_model(estimator=tunned_logreg_model,plot='feature')"
   ]
  },
  {
   "cell_type": "code",
   "execution_count": null,
   "metadata": {},
   "outputs": [],
   "source": []
  }
 ],
 "metadata": {
  "kernelspec": {
   "display_name": "Python 3",
   "language": "python",
   "name": "python3"
  },
  "language_info": {
   "codemirror_mode": {
    "name": "ipython",
    "version": 3
   },
   "file_extension": ".py",
   "mimetype": "text/x-python",
   "name": "python",
   "nbconvert_exporter": "python",
   "pygments_lexer": "ipython3",
   "version": "3.6.10"
  }
 },
 "nbformat": 4,
 "nbformat_minor": 4
}
