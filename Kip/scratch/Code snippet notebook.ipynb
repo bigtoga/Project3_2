{
 "cells": [
  {
   "cell_type": "code",
   "execution_count": null,
   "metadata": {},
   "outputs": [],
   "source": [
    "# Create mapping for the header of the files based on above file format\n",
    "allheaderline = ['id','rptPeriod','sellerName','currIntRate','currUPB','loanAge','monMatur','adjMonMatur',\\\n",
    "              'maturDate','mSA','deliqStatus','modFlag','zeroBalCode','zeroBalDate','lastPdInstDate',\\\n",
    "              'forecloDate','dispDate','forecloCost','propRepCost','recovCosts','miscCost','holdTaxCost',\\\n",
    "              'saleProceed','credEnhProceed','repurchProceed','otherForecloProceed','nonIntUPB',\\\n",
    "              'prinForgivBal','repurchMakeWholeProceedFlg','forecloPrinWriteOffAmnt','servActivIndicator']\n",
    "colchoices = [0,1,3,4,5,6,9,10,12,13,14,15,16,17,18,19,20,21,22,23,24,25,26,27,28,29,30]\n",
    "headerline = ['id','rptPeriod','currIntRate','currUPB','loanAge','monMatur',\\\n",
    "              'mSA','deliqStatus','zeroBalCode','zeroBalDate','lastPdInstDate',\\\n",
    "              'forecloDate','dispDate','forecloCost','propRepCost','recovCosts','miscCost','holdTaxCost',\\\n",
    "              'saleProceed','credEnhProceed','repurchProceed','otherForecloProceed','nonIntUPB',\\\n",
    "              'prinForgivBal','repurchMakeWholeProceedFlg','forecloPrinWriteOffAmnt','servActivIndicator']"
   ]
  },
  {
   "cell_type": "code",
   "execution_count": null,
   "metadata": {},
   "outputs": [],
   "source": [
    "# Change all occurences of columns with 'Y' and 'N' to 0 and 1\n",
    "df.replace('Y',1, inplace=True)\n",
    "df.replace('N',0, inplace=True)"
   ]
  },
  {
   "cell_type": "code",
   "execution_count": null,
   "metadata": {},
   "outputs": [],
   "source": [
    "#df['deliqStatus'] = pd.to_numeric(df['deliqStatus'], errors='coerce')"
   ]
  },
  {
   "cell_type": "code",
   "execution_count": null,
   "metadata": {},
   "outputs": [],
   "source": [
    "def loanagg(x):\n",
    "    d = {}\n",
    "    #d['deliqStatusGoodCnt'] = x['deliqStatus'].mask(df['deliqStatus'].ne(0)).count()\n",
    "    #d['deliqStatusBadCnt'] = x['deliqStatus'].mask(df['deliqStatus'].le(0)).count()\n",
    "    d['deliqStatusMaxInRow'] = x['deliqStatus'].max()\n",
    "    return pd.Series(d,index=['deliqStatusGoodCnt','deliqStatusBadCnt','deliqStatusMaxInRow'])"
   ]
  },
  {
   "cell_type": "code",
   "execution_count": null,
   "metadata": {},
   "outputs": [],
   "source": [
    "# # First cast the int's\n",
    "# df = df.astype({'rptPeriod':'datetime64[ns]','monMatur':'datetime64[ns]','deliqStatus':'int',\\\n",
    "#                'zeroBalDate':'datetime64[ns]','lastPdInstDate':'datetime64[ns]','forecloDate':'datetime64[ns]',\\\n",
    "#                'dispDate':'datetime64[ns]','repurchMakeWholeProceedFlg':'int','servActivIndicator':'int'})"
   ]
  },
  {
   "cell_type": "code",
   "execution_count": null,
   "metadata": {},
   "outputs": [],
   "source": [
    "def loanagg(x):\n",
    "    d = {}\n",
    "    d['deliqStatusGoodCnt'] = x['deliqStatus'].mask(df['deliqStatus'].ne(0)).count()\n",
    "    d['deliqStatusBadCnt'] = x['deliqStatus'].mask(df['deliqStatus'].le(0)).count()\n",
    "    d['deliqStatusMaxInRow'] = x['deliqStatus'].max()\n",
    "    return pd.Series(d,index=['deliqStatusGoodCnt','deliqStatusBadCnt','deliqStatusMaxInRow'])\n",
    "    d['rptPeriodMin'] = x['rptPeriod'].min()\n",
    "    d['rptPeriodMax'] = x['rptPeriod'].max()\n",
    "    d['sellerName'] = x['sellerName'].max()\n",
    "    d['currIntRateMin'] = x['currIntRate'].min()\n",
    "    d['currUPBMin'] = x['currUPB'].min()\n",
    "    d['loanAgeMin'] = x['loanAge'].min()\n",
    "    d['loanAgeMax'] = x['loanAge'].max()\n",
    "    d['monMaturMax'] = x['monMatur'].max()\n",
    "    d['adjMonMaturMin'] = x['adjMonMatur'].min()\n",
    "    d['maturDateMax'] = x['maturDate'].min()\n",
    "    d['mSA'] = x['mSA'].max()\n",
    "\n",
    "    d['modFlagMax'] = x['modFlag'].max()\n",
    "    d['zeroBalCode'] = x['zeroBalCode'].max()\n",
    "    d['zeroBalDate'] = x['zeroBalDate'].max()\n",
    "    d['lastPdInstDate'] = x['lastPdInstDate'].max()\n",
    "    d['forecloDate'] = x['forecloDate'].max()\n",
    "    d['dispDate'] = x['dispDate'].max()\n",
    "    d['forecloCost'] = x['forecloCost'].max()\n",
    "    d['propRepCost'] = x['propRepCost'].max()\n",
    "    d['recovCosts'] = x['recovCosts'].max()\n",
    "    d['miscCost'] = x['miscCost'].max()\n",
    "    d['holdTaxCost'] = x['holdTaxCost'].max()\n",
    "    d['saleProceed'] = x['saleProceed'].max()\n",
    "    d['credEnhProceed'] = x['credEnhProceed'].max()\n",
    "    d['repurchProceed'] = x['repurchProceed'].max()\n",
    "    d['otherForecloProceed'] = x['otherForecloProceed'].max()\n",
    "    d['nonIntUPB'] = x['nonIntUPB'].max()\n",
    "    d['prinForgivBal'] = x['prinForgivBal'].max()\n",
    "    d['repurchMakeWholeProceedFlg'] = x['repurchMakeWholeProceedFlg'].max()\n",
    "    d['forecloPrinWriteOffAmnt'] = x['forecloPrinWriteOffAmnt'].max()\n",
    "    d['servActivIndicator'] = x['servActivIndicator'].max()\n",
    "\n",
    "    return pd.Series(d, index=['rptPeriodMin','rptPeriodMax','currIntRateMin','currUPBMin',\\\n",
    "                              'loanAgeMin','loanAgeMax','monMaturMax','mSA','deliqStatusGoodCnt',\\\n",
    "                              'deliqStatusBadCnt','deliqStatusMaxInRow','zeroBalCode','zeroBalDate',\\\n",
    "                              'lastPdInstDate','forecloDate','dispDate','forecloCost','propRepCost',\\\n",
    "                              'recovCosts','miscCost','holdTaxCost','saleProceed','credEnhProceed',\\\n",
    "                              'repurchProceed','otherForecloProceed','nonIntUPB','prinForgivBal',\\\n",
    "                              'repurchMakeWholeProceedFlg','forecloPrinWriteOffAmnt','servActivIndicator'])"
   ]
  },
  {
   "cell_type": "markdown",
   "metadata": {},
   "source": [
    "# ------------------------------------------------------------------------------------"
   ]
  },
  {
   "cell_type": "markdown",
   "metadata": {},
   "source": [
    "# Section of Process Code"
   ]
  },
  {
   "cell_type": "code",
   "execution_count": 1,
   "metadata": {},
   "outputs": [],
   "source": [
    "import csv\n",
    "from pathlib import Path\n",
    "import pandas as pd\n",
    "import glob\n",
    "from datetime import datetime, timedelta\n",
    "import numpy as np\n",
    "# from sklearn import preprocessing\n",
    "import matplotlib.pyplot as plt\n",
    "# from sklearn.model_selection import train_test_split\n",
    "# from sklearn.linear_model import LinearRegression, RidgeCV\n",
    "# from sklearn.metrics import mean_squared_error\n",
    "import seaborn as sns\n",
    "import pandas_profiling as pp\n",
    "from settings import *\n",
    "# from settings import DATA_DIR"
   ]
  },
  {
   "cell_type": "code",
   "execution_count": 2,
   "metadata": {},
   "outputs": [],
   "source": [
    "outputFileName = 'FMPerfProcessed.csv'\n",
    "DOWNLOAD_DIR = 'D:\\Performance_All'"
   ]
  },
  {
   "cell_type": "code",
   "execution_count": 3,
   "metadata": {},
   "outputs": [],
   "source": [
    "# Create mapping for the header of the files based on above file format\n",
    "allheaderline = ['id','rptPeriod','sellerName','currIntRate','currUPB','loanAge','monMatur','adjMonMatur',\\\n",
    "              'maturDate','mSA','deliqStatus','modFlag','zeroBalCode','zeroBalDate','lastPdInstDate',\\\n",
    "              'forecloDate','dispDate','forecloCost','propRepCost','recovCosts','miscCost','holdTaxCost',\\\n",
    "              'saleProceed','credEnhProceed','repurchProceed','otherForecloProceed','nonIntUPB',\\\n",
    "              'prinForgivBal','repurchMakeWholeProceedFlg','forecloPrinWriteOffAmnt','servActivIndicator']\n",
    "colchoices = [0,1,3,4,5,6,9,10,12,13,14,15,16,17,18,19,20,21,22,23,24,25,26,27,28,29,30]\n",
    "headerline = ['id','rptPeriod','currIntRate','currUPB','loanAge','monMatur',\\\n",
    "              'mSA','deliqStatus','zeroBalCode','zeroBalDate','lastPdInstDate',\\\n",
    "              'forecloDate','dispDate','forecloCost','propRepCost','recovCosts','miscCost','holdTaxCost',\\\n",
    "              'saleProceed','credEnhProceed','repurchProceed','otherForecloProceed','nonIntUPB',\\\n",
    "              'prinForgivBal','repurchMakeWholeProceedFlg','forecloPrinWriteOffAmnt','servActivIndicator']"
   ]
  },
  {
   "cell_type": "code",
   "execution_count": null,
   "metadata": {},
   "outputs": [],
   "source": []
  },
  {
   "cell_type": "code",
   "execution_count": 4,
   "metadata": {},
   "outputs": [],
   "source": [
    "df = pd.read_csv('D:\\Performance_All\\Performance_2008Q1.txt', sep=\"|\", index_col=None, header=None, usecols=colchoices)\n",
    "df.columns=headerline"
   ]
  },
  {
   "cell_type": "code",
   "execution_count": 5,
   "metadata": {},
   "outputs": [],
   "source": [
    "df = df.set_index('id')"
   ]
  },
  {
   "cell_type": "markdown",
   "metadata": {},
   "source": [
    "## Calculate aggregated values for deliqStatus column \n",
    "This was very difficult as we need a FAST way to do this - multiple attempts to do this in a standard way\n",
    " were attempted and the following code does this very fast. This is essential because we need to do this\n",
    " for all 76 *.txt files each with 10M+ rows"
   ]
  },
  {
   "cell_type": "code",
   "execution_count": 6,
   "metadata": {},
   "outputs": [],
   "source": [
    "# Isolate the deliqStatus column to speed up aggregation calculations\n",
    "deliq = df[['deliqStatus']].copy()"
   ]
  },
  {
   "cell_type": "code",
   "execution_count": 7,
   "metadata": {},
   "outputs": [],
   "source": [
    "# deliqStatus has one value of 'X' amongst integer values and NaN values\n",
    "# First replace 'X' values with NaN \n",
    "deliq['deliqStatus'] = deliq['deliqStatus'].replace('X',np.nan).astype(float)"
   ]
  },
  {
   "cell_type": "code",
   "execution_count": 8,
   "metadata": {},
   "outputs": [],
   "source": [
    "# Determine the number of zero (0) values representing successful payments for a loan\n",
    "deliqGood = deliq[deliq['deliqStatus'] == 0].groupby('id').count()\n"
   ]
  },
  {
   "cell_type": "code",
   "execution_count": 9,
   "metadata": {},
   "outputs": [],
   "source": [
    "# Determine the number of values > 0 representing delinquent payments for a loan\n",
    "deliqBad = deliq[deliq['deliqStatus'] > 0].groupby('id').count()"
   ]
  },
  {
   "cell_type": "code",
   "execution_count": 10,
   "metadata": {},
   "outputs": [],
   "source": [
    "# Determine the max() of deliqStatus representing highest numberdelinquent payments in a row for a loan\n",
    "deliqMax = deliq[deliq['deliqStatus'] > 0].groupby('id').max()"
   ]
  },
  {
   "cell_type": "markdown",
   "metadata": {},
   "source": [
    "## Select only rows that have a zeroBalCode with a value\n",
    "The zeroBalCode is only populated once a loan either completes \"successfully\" (a value of 1 = Prepaid or Matured)\n",
    "or it does NOT complete successfully:\n",
    "* 02 = Third Party Sale\n",
    "* 03 = Short Sale (home sells for less than the balance remaining on their mortgage)\n",
    "* 06 = Repurchased (require a lender to repurchase a mortgage loan or an acquired property, or remit a make whole payment, as a result of a breach of the Lender Contract)\n",
    "* 09 = Deed-in-Lieu,REO (Real Estate Owned - Fannie Mae owns the property after a foreclosure)\n",
    "* 15 = Note Sale (A sale of the Non-Performing Mortgage Loan to a third party is a “Note Sale”)\n",
    "* 16 = Reperforming (A reperforming loan is a mortgage that became delinquent because the borrower was behind on payments by at least 90 days, but it is \"performing\" again because the borrower has resumed making payments)"
   ]
  },
  {
   "cell_type": "code",
   "execution_count": 11,
   "metadata": {},
   "outputs": [],
   "source": [
    "zbc_df = df[df['zeroBalCode'].notnull()]"
   ]
  },
  {
   "cell_type": "code",
   "execution_count": 12,
   "metadata": {},
   "outputs": [
    {
     "data": {
      "text/plain": [
       "(350980, 26)"
      ]
     },
     "execution_count": 12,
     "metadata": {},
     "output_type": "execute_result"
    }
   ],
   "source": [
    "zbc_df.shape"
   ]
  },
  {
   "cell_type": "code",
   "execution_count": 13,
   "metadata": {},
   "outputs": [],
   "source": [
    "zbc_df = zbc_df.drop(columns=['deliqStatus'])"
   ]
  },
  {
   "cell_type": "markdown",
   "metadata": {},
   "source": [
    "## Merge the zbc_df with the deliqGood ,deliqBad, deliqMax dataframes \n",
    "This will create an aggregated single line for each loan id that we can then merge to the Acquisition df"
   ]
  },
  {
   "cell_type": "code",
   "execution_count": 14,
   "metadata": {},
   "outputs": [],
   "source": [
    "zbc_merge = pd.merge(zbc_df, deliqGood, on=['id'])\n",
    "zbc_merge = pd.merge(zbc_merge, deliqBad, on=['id'])\n",
    "zbc_merge = pd.merge(zbc_merge, deliqMax, on=['id'])"
   ]
  },
  {
   "cell_type": "code",
   "execution_count": 15,
   "metadata": {},
   "outputs": [
    {
     "data": {
      "text/html": [
       "<div>\n",
       "<style scoped>\n",
       "    .dataframe tbody tr th:only-of-type {\n",
       "        vertical-align: middle;\n",
       "    }\n",
       "\n",
       "    .dataframe tbody tr th {\n",
       "        vertical-align: top;\n",
       "    }\n",
       "\n",
       "    .dataframe thead th {\n",
       "        text-align: right;\n",
       "    }\n",
       "</style>\n",
       "<table border=\"1\" class=\"dataframe\">\n",
       "  <thead>\n",
       "    <tr style=\"text-align: right;\">\n",
       "      <th></th>\n",
       "      <th>rptPeriod</th>\n",
       "      <th>currIntRate</th>\n",
       "      <th>currUPB</th>\n",
       "      <th>loanAge</th>\n",
       "      <th>monMatur</th>\n",
       "      <th>mSA</th>\n",
       "      <th>zeroBalCode</th>\n",
       "      <th>zeroBalDate</th>\n",
       "      <th>lastPdInstDate</th>\n",
       "      <th>forecloDate</th>\n",
       "      <th>...</th>\n",
       "      <th>repurchProceed</th>\n",
       "      <th>otherForecloProceed</th>\n",
       "      <th>nonIntUPB</th>\n",
       "      <th>prinForgivBal</th>\n",
       "      <th>repurchMakeWholeProceedFlg</th>\n",
       "      <th>forecloPrinWriteOffAmnt</th>\n",
       "      <th>servActivIndicator</th>\n",
       "      <th>deliqStatus_x</th>\n",
       "      <th>deliqStatus_y</th>\n",
       "      <th>deliqStatus</th>\n",
       "    </tr>\n",
       "    <tr>\n",
       "      <th>id</th>\n",
       "      <th></th>\n",
       "      <th></th>\n",
       "      <th></th>\n",
       "      <th></th>\n",
       "      <th></th>\n",
       "      <th></th>\n",
       "      <th></th>\n",
       "      <th></th>\n",
       "      <th></th>\n",
       "      <th></th>\n",
       "      <th></th>\n",
       "      <th></th>\n",
       "      <th></th>\n",
       "      <th></th>\n",
       "      <th></th>\n",
       "      <th></th>\n",
       "      <th></th>\n",
       "      <th></th>\n",
       "      <th></th>\n",
       "      <th></th>\n",
       "      <th></th>\n",
       "    </tr>\n",
       "  </thead>\n",
       "  <tbody>\n",
       "    <tr>\n",
       "      <th>100001806951</th>\n",
       "      <td>07/01/2013</td>\n",
       "      <td>6.125</td>\n",
       "      <td>164017.55</td>\n",
       "      <td>65</td>\n",
       "      <td>295</td>\n",
       "      <td>12540</td>\n",
       "      <td>1.0</td>\n",
       "      <td>07/2013</td>\n",
       "      <td>NaN</td>\n",
       "      <td>NaN</td>\n",
       "      <td>...</td>\n",
       "      <td>NaN</td>\n",
       "      <td>NaN</td>\n",
       "      <td>NaN</td>\n",
       "      <td>NaN</td>\n",
       "      <td>N</td>\n",
       "      <td>NaN</td>\n",
       "      <td>NaN</td>\n",
       "      <td>61</td>\n",
       "      <td>4</td>\n",
       "      <td>1.0</td>\n",
       "    </tr>\n",
       "    <tr>\n",
       "      <th>100006270289</th>\n",
       "      <td>04/01/2009</td>\n",
       "      <td>7.500</td>\n",
       "      <td>224727.91</td>\n",
       "      <td>16</td>\n",
       "      <td>344</td>\n",
       "      <td>12540</td>\n",
       "      <td>9.0</td>\n",
       "      <td>04/2009</td>\n",
       "      <td>08/01/2008</td>\n",
       "      <td>04/01/2009</td>\n",
       "      <td>...</td>\n",
       "      <td>128444.43</td>\n",
       "      <td>425.9</td>\n",
       "      <td>NaN</td>\n",
       "      <td>NaN</td>\n",
       "      <td>Y</td>\n",
       "      <td>NaN</td>\n",
       "      <td>NaN</td>\n",
       "      <td>8</td>\n",
       "      <td>7</td>\n",
       "      <td>7.0</td>\n",
       "    </tr>\n",
       "    <tr>\n",
       "      <th>100026834529</th>\n",
       "      <td>11/01/2019</td>\n",
       "      <td>5.625</td>\n",
       "      <td>26740.14</td>\n",
       "      <td>140</td>\n",
       "      <td>40</td>\n",
       "      <td>14460</td>\n",
       "      <td>1.0</td>\n",
       "      <td>11/2019</td>\n",
       "      <td>NaN</td>\n",
       "      <td>NaN</td>\n",
       "      <td>...</td>\n",
       "      <td>NaN</td>\n",
       "      <td>NaN</td>\n",
       "      <td>NaN</td>\n",
       "      <td>NaN</td>\n",
       "      <td>N</td>\n",
       "      <td>NaN</td>\n",
       "      <td>NaN</td>\n",
       "      <td>137</td>\n",
       "      <td>4</td>\n",
       "      <td>1.0</td>\n",
       "    </tr>\n",
       "    <tr>\n",
       "      <th>100038038352</th>\n",
       "      <td>05/01/2009</td>\n",
       "      <td>6.875</td>\n",
       "      <td>102473.29</td>\n",
       "      <td>16</td>\n",
       "      <td>344</td>\n",
       "      <td>47260</td>\n",
       "      <td>1.0</td>\n",
       "      <td>05/2009</td>\n",
       "      <td>NaN</td>\n",
       "      <td>NaN</td>\n",
       "      <td>...</td>\n",
       "      <td>NaN</td>\n",
       "      <td>NaN</td>\n",
       "      <td>NaN</td>\n",
       "      <td>NaN</td>\n",
       "      <td>N</td>\n",
       "      <td>NaN</td>\n",
       "      <td>NaN</td>\n",
       "      <td>3</td>\n",
       "      <td>12</td>\n",
       "      <td>9.0</td>\n",
       "    </tr>\n",
       "    <tr>\n",
       "      <th>100040620517</th>\n",
       "      <td>10/01/2013</td>\n",
       "      <td>5.750</td>\n",
       "      <td>168600.67</td>\n",
       "      <td>68</td>\n",
       "      <td>292</td>\n",
       "      <td>40140</td>\n",
       "      <td>1.0</td>\n",
       "      <td>10/2013</td>\n",
       "      <td>NaN</td>\n",
       "      <td>NaN</td>\n",
       "      <td>...</td>\n",
       "      <td>NaN</td>\n",
       "      <td>NaN</td>\n",
       "      <td>NaN</td>\n",
       "      <td>NaN</td>\n",
       "      <td>N</td>\n",
       "      <td>NaN</td>\n",
       "      <td>NaN</td>\n",
       "      <td>66</td>\n",
       "      <td>2</td>\n",
       "      <td>2.0</td>\n",
       "    </tr>\n",
       "  </tbody>\n",
       "</table>\n",
       "<p>5 rows × 28 columns</p>\n",
       "</div>"
      ],
      "text/plain": [
       "               rptPeriod  currIntRate    currUPB  loanAge  monMatur    mSA  \\\n",
       "id                                                                           \n",
       "100001806951  07/01/2013        6.125  164017.55       65       295  12540   \n",
       "100006270289  04/01/2009        7.500  224727.91       16       344  12540   \n",
       "100026834529  11/01/2019        5.625   26740.14      140        40  14460   \n",
       "100038038352  05/01/2009        6.875  102473.29       16       344  47260   \n",
       "100040620517  10/01/2013        5.750  168600.67       68       292  40140   \n",
       "\n",
       "              zeroBalCode zeroBalDate lastPdInstDate forecloDate  ...  \\\n",
       "id                                                                ...   \n",
       "100001806951          1.0     07/2013            NaN         NaN  ...   \n",
       "100006270289          9.0     04/2009     08/01/2008  04/01/2009  ...   \n",
       "100026834529          1.0     11/2019            NaN         NaN  ...   \n",
       "100038038352          1.0     05/2009            NaN         NaN  ...   \n",
       "100040620517          1.0     10/2013            NaN         NaN  ...   \n",
       "\n",
       "             repurchProceed  otherForecloProceed  nonIntUPB  prinForgivBal  \\\n",
       "id                                                                           \n",
       "100001806951            NaN                  NaN        NaN            NaN   \n",
       "100006270289      128444.43                425.9        NaN            NaN   \n",
       "100026834529            NaN                  NaN        NaN            NaN   \n",
       "100038038352            NaN                  NaN        NaN            NaN   \n",
       "100040620517            NaN                  NaN        NaN            NaN   \n",
       "\n",
       "              repurchMakeWholeProceedFlg  forecloPrinWriteOffAmnt  \\\n",
       "id                                                                  \n",
       "100001806951                           N                      NaN   \n",
       "100006270289                           Y                      NaN   \n",
       "100026834529                           N                      NaN   \n",
       "100038038352                           N                      NaN   \n",
       "100040620517                           N                      NaN   \n",
       "\n",
       "              servActivIndicator  deliqStatus_x  deliqStatus_y  deliqStatus  \n",
       "id                                                                           \n",
       "100001806951                 NaN             61              4          1.0  \n",
       "100006270289                 NaN              8              7          7.0  \n",
       "100026834529                 NaN            137              4          1.0  \n",
       "100038038352                 NaN              3             12          9.0  \n",
       "100040620517                 NaN             66              2          2.0  \n",
       "\n",
       "[5 rows x 28 columns]"
      ]
     },
     "execution_count": 15,
     "metadata": {},
     "output_type": "execute_result"
    }
   ],
   "source": [
    "zbc_merge.head()"
   ]
  },
  {
   "cell_type": "code",
   "execution_count": 16,
   "metadata": {},
   "outputs": [],
   "source": [
    "zbc_merge = zbc_merge.rename(columns={'deliqStatus_x':'deliqGood','deliqStatus_y':'deliqBad','deliqStatus':'deliqMax'})"
   ]
  },
  {
   "cell_type": "code",
   "execution_count": 17,
   "metadata": {
    "scrolled": false
   },
   "outputs": [
    {
     "data": {
      "text/html": [
       "<div>\n",
       "<style scoped>\n",
       "    .dataframe tbody tr th:only-of-type {\n",
       "        vertical-align: middle;\n",
       "    }\n",
       "\n",
       "    .dataframe tbody tr th {\n",
       "        vertical-align: top;\n",
       "    }\n",
       "\n",
       "    .dataframe thead th {\n",
       "        text-align: right;\n",
       "    }\n",
       "</style>\n",
       "<table border=\"1\" class=\"dataframe\">\n",
       "  <thead>\n",
       "    <tr style=\"text-align: right;\">\n",
       "      <th></th>\n",
       "      <th>rptPeriod</th>\n",
       "      <th>currIntRate</th>\n",
       "      <th>currUPB</th>\n",
       "      <th>loanAge</th>\n",
       "      <th>monMatur</th>\n",
       "      <th>mSA</th>\n",
       "      <th>zeroBalCode</th>\n",
       "      <th>zeroBalDate</th>\n",
       "      <th>lastPdInstDate</th>\n",
       "      <th>forecloDate</th>\n",
       "      <th>...</th>\n",
       "      <th>repurchProceed</th>\n",
       "      <th>otherForecloProceed</th>\n",
       "      <th>nonIntUPB</th>\n",
       "      <th>prinForgivBal</th>\n",
       "      <th>repurchMakeWholeProceedFlg</th>\n",
       "      <th>forecloPrinWriteOffAmnt</th>\n",
       "      <th>servActivIndicator</th>\n",
       "      <th>deliqGood</th>\n",
       "      <th>deliqBad</th>\n",
       "      <th>deliqMax</th>\n",
       "    </tr>\n",
       "    <tr>\n",
       "      <th>id</th>\n",
       "      <th></th>\n",
       "      <th></th>\n",
       "      <th></th>\n",
       "      <th></th>\n",
       "      <th></th>\n",
       "      <th></th>\n",
       "      <th></th>\n",
       "      <th></th>\n",
       "      <th></th>\n",
       "      <th></th>\n",
       "      <th></th>\n",
       "      <th></th>\n",
       "      <th></th>\n",
       "      <th></th>\n",
       "      <th></th>\n",
       "      <th></th>\n",
       "      <th></th>\n",
       "      <th></th>\n",
       "      <th></th>\n",
       "      <th></th>\n",
       "      <th></th>\n",
       "    </tr>\n",
       "  </thead>\n",
       "  <tbody>\n",
       "    <tr>\n",
       "      <th>100001806951</th>\n",
       "      <td>07/01/2013</td>\n",
       "      <td>6.125</td>\n",
       "      <td>164017.55</td>\n",
       "      <td>65</td>\n",
       "      <td>295</td>\n",
       "      <td>12540</td>\n",
       "      <td>1.0</td>\n",
       "      <td>07/2013</td>\n",
       "      <td>NaN</td>\n",
       "      <td>NaN</td>\n",
       "      <td>...</td>\n",
       "      <td>NaN</td>\n",
       "      <td>NaN</td>\n",
       "      <td>NaN</td>\n",
       "      <td>NaN</td>\n",
       "      <td>N</td>\n",
       "      <td>NaN</td>\n",
       "      <td>NaN</td>\n",
       "      <td>61</td>\n",
       "      <td>4</td>\n",
       "      <td>1.0</td>\n",
       "    </tr>\n",
       "    <tr>\n",
       "      <th>100006270289</th>\n",
       "      <td>04/01/2009</td>\n",
       "      <td>7.500</td>\n",
       "      <td>224727.91</td>\n",
       "      <td>16</td>\n",
       "      <td>344</td>\n",
       "      <td>12540</td>\n",
       "      <td>9.0</td>\n",
       "      <td>04/2009</td>\n",
       "      <td>08/01/2008</td>\n",
       "      <td>04/01/2009</td>\n",
       "      <td>...</td>\n",
       "      <td>128444.43</td>\n",
       "      <td>425.9</td>\n",
       "      <td>NaN</td>\n",
       "      <td>NaN</td>\n",
       "      <td>Y</td>\n",
       "      <td>NaN</td>\n",
       "      <td>NaN</td>\n",
       "      <td>8</td>\n",
       "      <td>7</td>\n",
       "      <td>7.0</td>\n",
       "    </tr>\n",
       "    <tr>\n",
       "      <th>100026834529</th>\n",
       "      <td>11/01/2019</td>\n",
       "      <td>5.625</td>\n",
       "      <td>26740.14</td>\n",
       "      <td>140</td>\n",
       "      <td>40</td>\n",
       "      <td>14460</td>\n",
       "      <td>1.0</td>\n",
       "      <td>11/2019</td>\n",
       "      <td>NaN</td>\n",
       "      <td>NaN</td>\n",
       "      <td>...</td>\n",
       "      <td>NaN</td>\n",
       "      <td>NaN</td>\n",
       "      <td>NaN</td>\n",
       "      <td>NaN</td>\n",
       "      <td>N</td>\n",
       "      <td>NaN</td>\n",
       "      <td>NaN</td>\n",
       "      <td>137</td>\n",
       "      <td>4</td>\n",
       "      <td>1.0</td>\n",
       "    </tr>\n",
       "    <tr>\n",
       "      <th>100038038352</th>\n",
       "      <td>05/01/2009</td>\n",
       "      <td>6.875</td>\n",
       "      <td>102473.29</td>\n",
       "      <td>16</td>\n",
       "      <td>344</td>\n",
       "      <td>47260</td>\n",
       "      <td>1.0</td>\n",
       "      <td>05/2009</td>\n",
       "      <td>NaN</td>\n",
       "      <td>NaN</td>\n",
       "      <td>...</td>\n",
       "      <td>NaN</td>\n",
       "      <td>NaN</td>\n",
       "      <td>NaN</td>\n",
       "      <td>NaN</td>\n",
       "      <td>N</td>\n",
       "      <td>NaN</td>\n",
       "      <td>NaN</td>\n",
       "      <td>3</td>\n",
       "      <td>12</td>\n",
       "      <td>9.0</td>\n",
       "    </tr>\n",
       "    <tr>\n",
       "      <th>100040620517</th>\n",
       "      <td>10/01/2013</td>\n",
       "      <td>5.750</td>\n",
       "      <td>168600.67</td>\n",
       "      <td>68</td>\n",
       "      <td>292</td>\n",
       "      <td>40140</td>\n",
       "      <td>1.0</td>\n",
       "      <td>10/2013</td>\n",
       "      <td>NaN</td>\n",
       "      <td>NaN</td>\n",
       "      <td>...</td>\n",
       "      <td>NaN</td>\n",
       "      <td>NaN</td>\n",
       "      <td>NaN</td>\n",
       "      <td>NaN</td>\n",
       "      <td>N</td>\n",
       "      <td>NaN</td>\n",
       "      <td>NaN</td>\n",
       "      <td>66</td>\n",
       "      <td>2</td>\n",
       "      <td>2.0</td>\n",
       "    </tr>\n",
       "  </tbody>\n",
       "</table>\n",
       "<p>5 rows × 28 columns</p>\n",
       "</div>"
      ],
      "text/plain": [
       "               rptPeriod  currIntRate    currUPB  loanAge  monMatur    mSA  \\\n",
       "id                                                                           \n",
       "100001806951  07/01/2013        6.125  164017.55       65       295  12540   \n",
       "100006270289  04/01/2009        7.500  224727.91       16       344  12540   \n",
       "100026834529  11/01/2019        5.625   26740.14      140        40  14460   \n",
       "100038038352  05/01/2009        6.875  102473.29       16       344  47260   \n",
       "100040620517  10/01/2013        5.750  168600.67       68       292  40140   \n",
       "\n",
       "              zeroBalCode zeroBalDate lastPdInstDate forecloDate  ...  \\\n",
       "id                                                                ...   \n",
       "100001806951          1.0     07/2013            NaN         NaN  ...   \n",
       "100006270289          9.0     04/2009     08/01/2008  04/01/2009  ...   \n",
       "100026834529          1.0     11/2019            NaN         NaN  ...   \n",
       "100038038352          1.0     05/2009            NaN         NaN  ...   \n",
       "100040620517          1.0     10/2013            NaN         NaN  ...   \n",
       "\n",
       "             repurchProceed  otherForecloProceed  nonIntUPB  prinForgivBal  \\\n",
       "id                                                                           \n",
       "100001806951            NaN                  NaN        NaN            NaN   \n",
       "100006270289      128444.43                425.9        NaN            NaN   \n",
       "100026834529            NaN                  NaN        NaN            NaN   \n",
       "100038038352            NaN                  NaN        NaN            NaN   \n",
       "100040620517            NaN                  NaN        NaN            NaN   \n",
       "\n",
       "              repurchMakeWholeProceedFlg  forecloPrinWriteOffAmnt  \\\n",
       "id                                                                  \n",
       "100001806951                           N                      NaN   \n",
       "100006270289                           Y                      NaN   \n",
       "100026834529                           N                      NaN   \n",
       "100038038352                           N                      NaN   \n",
       "100040620517                           N                      NaN   \n",
       "\n",
       "              servActivIndicator  deliqGood  deliqBad  deliqMax  \n",
       "id                                                               \n",
       "100001806951                 NaN         61         4       1.0  \n",
       "100006270289                 NaN          8         7       7.0  \n",
       "100026834529                 NaN        137         4       1.0  \n",
       "100038038352                 NaN          3        12       9.0  \n",
       "100040620517                 NaN         66         2       2.0  \n",
       "\n",
       "[5 rows x 28 columns]"
      ]
     },
     "execution_count": 17,
     "metadata": {},
     "output_type": "execute_result"
    }
   ],
   "source": [
    "zbc_merge.head()"
   ]
  },
  {
   "cell_type": "code",
   "execution_count": 18,
   "metadata": {},
   "outputs": [
    {
     "data": {
      "text/plain": [
       "(78285, 28)"
      ]
     },
     "execution_count": 18,
     "metadata": {},
     "output_type": "execute_result"
    }
   ],
   "source": [
    "zbc_merge.shape"
   ]
  },
  {
   "cell_type": "markdown",
   "metadata": {},
   "source": [
    "# ------------------------------------------------------------------------------"
   ]
  },
  {
   "cell_type": "markdown",
   "metadata": {},
   "source": [
    "### Filter out records with values we aren't interested in examining:"
   ]
  },
  {
   "cell_type": "code",
   "execution_count": null,
   "metadata": {},
   "outputs": [],
   "source": []
  },
  {
   "cell_type": "markdown",
   "metadata": {},
   "source": [
    "Using the [Glossary](https://loanperformancedata.fanniemae.com/lppub-docs/FNMA_SF_Loan_Performance_Glossary.pdf) of column names we made the following selections:\n",
    "![Property Type](images/propertyType.jpg)\n",
    "* Property type: only want 'SF' - 'Single Family'"
   ]
  },
  {
   "cell_type": "code",
   "execution_count": 10,
   "metadata": {},
   "outputs": [
    {
     "data": {
      "text/plain": [
       "(30093769, 25)"
      ]
     },
     "execution_count": 10,
     "metadata": {},
     "output_type": "execute_result"
    }
   ],
   "source": [
    "propTypeFilter = ['SF']\n",
    "df = df[df.propType.isin(propTypeFilter)]\n",
    "df.shape"
   ]
  },
  {
   "cell_type": "markdown",
   "metadata": {},
   "source": [
    "![Number of Units](images/numUnits.jpg)\n",
    "* Number of Units: only want '1'"
   ]
  },
  {
   "cell_type": "code",
   "execution_count": 11,
   "metadata": {},
   "outputs": [
    {
     "data": {
      "text/plain": [
       "(29072952, 25)"
      ]
     },
     "execution_count": 11,
     "metadata": {},
     "output_type": "execute_result"
    }
   ],
   "source": [
    "numUnitsFilter = [1]\n",
    "df = df[df.numUnits.isin(numUnitsFilter)]\n",
    "df.shape"
   ]
  },
  {
   "cell_type": "markdown",
   "metadata": {},
   "source": [
    "![Number of Units](images/occType.jpg)\n",
    "* Number of Units: only want 'P'"
   ]
  },
  {
   "cell_type": "code",
   "execution_count": 12,
   "metadata": {},
   "outputs": [
    {
     "data": {
      "text/plain": [
       "(26581922, 25)"
      ]
     },
     "execution_count": 12,
     "metadata": {},
     "output_type": "execute_result"
    }
   ],
   "source": [
    "occTypeFilter = ['P']\n",
    "df = df[df.occType.isin(occTypeFilter)]\n",
    "df.shape"
   ]
  },
  {
   "cell_type": "markdown",
   "metadata": {},
   "source": [
    "![Number of Units](images/loanPurp.jpg)\n",
    "* Number of Units: only want 'C,R,U'"
   ]
  },
  {
   "cell_type": "code",
   "execution_count": 13,
   "metadata": {},
   "outputs": [
    {
     "data": {
      "text/plain": [
       "(18724184, 25)"
      ]
     },
     "execution_count": 13,
     "metadata": {},
     "output_type": "execute_result"
    }
   ],
   "source": [
    "loanPurpFilter = ['C','R','U']\n",
    "df = df[df.loanPurp.isin(loanPurpFilter)]\n",
    "df.shape"
   ]
  },
  {
   "cell_type": "markdown",
   "metadata": {},
   "source": [
    "![Number of Units](images/origLoanTerm.jpg)\n",
    "* Number of Units: only want '360'"
   ]
  },
  {
   "cell_type": "code",
   "execution_count": 14,
   "metadata": {},
   "outputs": [
    {
     "data": {
      "text/plain": [
       "(10715674, 25)"
      ]
     },
     "execution_count": 14,
     "metadata": {},
     "output_type": "execute_result"
    }
   ],
   "source": [
    "origLoanTermFilter = [360]\n",
    "df = df[df.origLoanTerm.isin(origLoanTermFilter)]\n",
    "df.shape"
   ]
  },
  {
   "cell_type": "markdown",
   "metadata": {},
   "source": [
    "### Fill null values with 0 for the following columns\n",
    "We can't have NaN or Null values for the machine learning part to come"
   ]
  },
  {
   "cell_type": "code",
   "execution_count": 15,
   "metadata": {},
   "outputs": [],
   "source": [
    "df['mortInsType'] = df['mortInsType'].fillna(0)\n",
    "df['pMIperct'] = df['pMIperct'].fillna(0)\n",
    "df['origCLTV'] = df['origCLTV'].fillna(0)"
   ]
  },
  {
   "cell_type": "markdown",
   "metadata": {},
   "source": [
    "## Calculate the 'Best', 'Worst' and 'Avg' Credit Score\n",
    "Given that there is a Borrower Credit Score and a Co-Borrower Credit Score and that there are Null values for each we want to create calculated columns where no Null values exist and then drop the original columns"
   ]
  },
  {
   "cell_type": "code",
   "execution_count": 16,
   "metadata": {},
   "outputs": [],
   "source": [
    "df['bestCreditScore'] = df[['borrCreditScore','coborrCreditScore']].max(axis=1)\n",
    "df['worstCreditScore'] = df[['borrCreditScore','coborrCreditScore']].min(axis=1)\n",
    "df['avgCreditScore'] = df[['borrCreditScore','coborrCreditScore']].mean(axis=1)"
   ]
  },
  {
   "cell_type": "markdown",
   "metadata": {},
   "source": [
    "### Get rid of records where there are NaN or NULL values for:\n",
    "* 'Borrower Credit Score'\n",
    "* 'Debt to Income Ratio'\n",
    "* 'Number of Borrowers'"
   ]
  },
  {
   "cell_type": "code",
   "execution_count": 17,
   "metadata": {},
   "outputs": [],
   "source": [
    "df = df[df['borrCreditScore'].notna() &\\\n",
    "        df['origDebtIncRatio'].notna() &\\\n",
    "        df['numBorrowers'].notna()]"
   ]
  },
  {
   "cell_type": "markdown",
   "metadata": {},
   "source": [
    "### Drop all columns where there is only a single value (and coborrower Credit Score)"
   ]
  },
  {
   "cell_type": "code",
   "execution_count": 18,
   "metadata": {
    "scrolled": false
   },
   "outputs": [],
   "source": [
    "df = df.drop(['prodType','firstTHBI','relocMortInd','occType','numUnits','origLoanTerm','coborrCreditScore','propType'], axis=1)"
   ]
  },
  {
   "cell_type": "markdown",
   "metadata": {},
   "source": [
    "### Map text values to integers (Machine Learning will require this later)\n",
    "\n",
    "![OrigChannel](images/origChannel.jpg)"
   ]
  },
  {
   "cell_type": "code",
   "execution_count": 19,
   "metadata": {},
   "outputs": [],
   "source": [
    "df['origChannel'] = df['origChannel'].replace(['R','B','C'],[1,2,3])\n",
    "df['origChannel'] = pd.to_numeric(df['origChannel'])"
   ]
  },
  {
   "cell_type": "markdown",
   "metadata": {},
   "source": [
    "![Loan Purpose](images/loanPurp.jpg)"
   ]
  },
  {
   "cell_type": "code",
   "execution_count": 20,
   "metadata": {},
   "outputs": [],
   "source": [
    "df['loanPurp'] = df['loanPurp'].replace(['C','R','U'],[1,2,3])\n",
    "df['loanPurp'] = pd.to_numeric(df['loanPurp'])"
   ]
  },
  {
   "cell_type": "code",
   "execution_count": 21,
   "metadata": {},
   "outputs": [
    {
     "data": {
      "text/plain": [
       "array([2, 1, 3], dtype=int64)"
      ]
     },
     "execution_count": 21,
     "metadata": {},
     "output_type": "execute_result"
    }
   ],
   "source": [
    "df['loanPurp'].unique()"
   ]
  },
  {
   "cell_type": "code",
   "execution_count": 22,
   "metadata": {},
   "outputs": [
    {
     "name": "stdout",
     "output_type": "stream",
     "text": [
      "<class 'pandas.core.frame.DataFrame'>\n",
      "Int64Index: 10464607 entries, 0 to 40887331\n",
      "Data columns (total 20 columns):\n",
      "loanIdentifier      int64\n",
      "origChannel         int64\n",
      "sellerName          object\n",
      "origIntRate         float64\n",
      "origUPB             int64\n",
      "origDate            datetime64[ns]\n",
      "firstPmtDate        datetime64[ns]\n",
      "origLTV             float64\n",
      "origCLTV            float64\n",
      "numBorrowers        float64\n",
      "origDebtIncRatio    float64\n",
      "borrCreditScore     float64\n",
      "loanPurp            int64\n",
      "propState           object\n",
      "zipCode             int64\n",
      "pMIperct            float64\n",
      "mortInsType         float64\n",
      "bestCreditScore     float64\n",
      "worstCreditScore    float64\n",
      "avgCreditScore      float64\n",
      "dtypes: datetime64[ns](2), float64(11), int64(5), object(2)\n",
      "memory usage: 1.6+ GB\n"
     ]
    }
   ],
   "source": [
    "df.info()"
   ]
  },
  {
   "cell_type": "code",
   "execution_count": 23,
   "metadata": {},
   "outputs": [
    {
     "data": {
      "text/html": [
       "<div>\n",
       "<style scoped>\n",
       "    .dataframe tbody tr th:only-of-type {\n",
       "        vertical-align: middle;\n",
       "    }\n",
       "\n",
       "    .dataframe tbody tr th {\n",
       "        vertical-align: top;\n",
       "    }\n",
       "\n",
       "    .dataframe thead th {\n",
       "        text-align: right;\n",
       "    }\n",
       "</style>\n",
       "<table border=\"1\" class=\"dataframe\">\n",
       "  <thead>\n",
       "    <tr style=\"text-align: right;\">\n",
       "      <th></th>\n",
       "      <th>loanIdentifier</th>\n",
       "      <th>origChannel</th>\n",
       "      <th>sellerName</th>\n",
       "      <th>origIntRate</th>\n",
       "      <th>origUPB</th>\n",
       "      <th>origDate</th>\n",
       "      <th>firstPmtDate</th>\n",
       "      <th>origLTV</th>\n",
       "      <th>origCLTV</th>\n",
       "      <th>numBorrowers</th>\n",
       "      <th>origDebtIncRatio</th>\n",
       "      <th>borrCreditScore</th>\n",
       "      <th>loanPurp</th>\n",
       "      <th>propState</th>\n",
       "      <th>zipCode</th>\n",
       "      <th>pMIperct</th>\n",
       "      <th>mortInsType</th>\n",
       "      <th>bestCreditScore</th>\n",
       "      <th>worstCreditScore</th>\n",
       "      <th>avgCreditScore</th>\n",
       "    </tr>\n",
       "  </thead>\n",
       "  <tbody>\n",
       "    <tr>\n",
       "      <th>0</th>\n",
       "      <td>100007365142</td>\n",
       "      <td>1</td>\n",
       "      <td>JPMORGAN CHASE BANK, NA</td>\n",
       "      <td>8.000</td>\n",
       "      <td>75000</td>\n",
       "      <td>1999-12-01</td>\n",
       "      <td>2000-02-01</td>\n",
       "      <td>79.0</td>\n",
       "      <td>0.0</td>\n",
       "      <td>1.0</td>\n",
       "      <td>62.0</td>\n",
       "      <td>763.0</td>\n",
       "      <td>2</td>\n",
       "      <td>PA</td>\n",
       "      <td>173</td>\n",
       "      <td>0.0</td>\n",
       "      <td>0.0</td>\n",
       "      <td>763.0</td>\n",
       "      <td>763.0</td>\n",
       "      <td>763.0</td>\n",
       "    </tr>\n",
       "    <tr>\n",
       "      <th>25</th>\n",
       "      <td>100094030068</td>\n",
       "      <td>3</td>\n",
       "      <td>CITIMORTGAGE, INC.</td>\n",
       "      <td>7.750</td>\n",
       "      <td>152000</td>\n",
       "      <td>1999-11-01</td>\n",
       "      <td>2000-01-01</td>\n",
       "      <td>85.0</td>\n",
       "      <td>0.0</td>\n",
       "      <td>1.0</td>\n",
       "      <td>41.0</td>\n",
       "      <td>604.0</td>\n",
       "      <td>2</td>\n",
       "      <td>NV</td>\n",
       "      <td>891</td>\n",
       "      <td>25.0</td>\n",
       "      <td>1.0</td>\n",
       "      <td>604.0</td>\n",
       "      <td>604.0</td>\n",
       "      <td>604.0</td>\n",
       "    </tr>\n",
       "    <tr>\n",
       "      <th>30</th>\n",
       "      <td>100118647578</td>\n",
       "      <td>2</td>\n",
       "      <td>JPMORGAN CHASE BANK, NA</td>\n",
       "      <td>7.750</td>\n",
       "      <td>106000</td>\n",
       "      <td>1999-11-01</td>\n",
       "      <td>2000-01-01</td>\n",
       "      <td>80.0</td>\n",
       "      <td>0.0</td>\n",
       "      <td>2.0</td>\n",
       "      <td>27.0</td>\n",
       "      <td>652.0</td>\n",
       "      <td>2</td>\n",
       "      <td>OR</td>\n",
       "      <td>972</td>\n",
       "      <td>0.0</td>\n",
       "      <td>0.0</td>\n",
       "      <td>696.0</td>\n",
       "      <td>652.0</td>\n",
       "      <td>674.0</td>\n",
       "    </tr>\n",
       "    <tr>\n",
       "      <th>32</th>\n",
       "      <td>100122555751</td>\n",
       "      <td>1</td>\n",
       "      <td>GMAC MORTGAGE, LLC</td>\n",
       "      <td>8.250</td>\n",
       "      <td>191000</td>\n",
       "      <td>2000-02-01</td>\n",
       "      <td>2000-04-01</td>\n",
       "      <td>78.0</td>\n",
       "      <td>0.0</td>\n",
       "      <td>1.0</td>\n",
       "      <td>52.0</td>\n",
       "      <td>676.0</td>\n",
       "      <td>1</td>\n",
       "      <td>CA</td>\n",
       "      <td>921</td>\n",
       "      <td>0.0</td>\n",
       "      <td>0.0</td>\n",
       "      <td>676.0</td>\n",
       "      <td>676.0</td>\n",
       "      <td>676.0</td>\n",
       "    </tr>\n",
       "    <tr>\n",
       "      <th>34</th>\n",
       "      <td>100123116925</td>\n",
       "      <td>3</td>\n",
       "      <td>BANK OF AMERICA, N.A.</td>\n",
       "      <td>7.875</td>\n",
       "      <td>240000</td>\n",
       "      <td>1999-12-01</td>\n",
       "      <td>2000-02-01</td>\n",
       "      <td>74.0</td>\n",
       "      <td>0.0</td>\n",
       "      <td>3.0</td>\n",
       "      <td>40.0</td>\n",
       "      <td>718.0</td>\n",
       "      <td>2</td>\n",
       "      <td>CA</td>\n",
       "      <td>940</td>\n",
       "      <td>0.0</td>\n",
       "      <td>0.0</td>\n",
       "      <td>718.0</td>\n",
       "      <td>685.0</td>\n",
       "      <td>701.5</td>\n",
       "    </tr>\n",
       "  </tbody>\n",
       "</table>\n",
       "</div>"
      ],
      "text/plain": [
       "    loanIdentifier  origChannel               sellerName  origIntRate  \\\n",
       "0     100007365142            1  JPMORGAN CHASE BANK, NA        8.000   \n",
       "25    100094030068            3       CITIMORTGAGE, INC.        7.750   \n",
       "30    100118647578            2  JPMORGAN CHASE BANK, NA        7.750   \n",
       "32    100122555751            1       GMAC MORTGAGE, LLC        8.250   \n",
       "34    100123116925            3    BANK OF AMERICA, N.A.        7.875   \n",
       "\n",
       "    origUPB   origDate firstPmtDate  origLTV  origCLTV  numBorrowers  \\\n",
       "0     75000 1999-12-01   2000-02-01     79.0       0.0           1.0   \n",
       "25   152000 1999-11-01   2000-01-01     85.0       0.0           1.0   \n",
       "30   106000 1999-11-01   2000-01-01     80.0       0.0           2.0   \n",
       "32   191000 2000-02-01   2000-04-01     78.0       0.0           1.0   \n",
       "34   240000 1999-12-01   2000-02-01     74.0       0.0           3.0   \n",
       "\n",
       "    origDebtIncRatio  borrCreditScore  loanPurp propState  zipCode  pMIperct  \\\n",
       "0               62.0            763.0         2        PA      173       0.0   \n",
       "25              41.0            604.0         2        NV      891      25.0   \n",
       "30              27.0            652.0         2        OR      972       0.0   \n",
       "32              52.0            676.0         1        CA      921       0.0   \n",
       "34              40.0            718.0         2        CA      940       0.0   \n",
       "\n",
       "    mortInsType  bestCreditScore  worstCreditScore  avgCreditScore  \n",
       "0           0.0            763.0             763.0           763.0  \n",
       "25          1.0            604.0             604.0           604.0  \n",
       "30          0.0            696.0             652.0           674.0  \n",
       "32          0.0            676.0             676.0           676.0  \n",
       "34          0.0            718.0             685.0           701.5  "
      ]
     },
     "execution_count": 23,
     "metadata": {},
     "output_type": "execute_result"
    }
   ],
   "source": [
    "df.head()"
   ]
  },
  {
   "cell_type": "code",
   "execution_count": 24,
   "metadata": {},
   "outputs": [
    {
     "data": {
      "text/plain": [
       "10464607"
      ]
     },
     "execution_count": 24,
     "metadata": {},
     "output_type": "execute_result"
    }
   ],
   "source": [
    "# Check if updated files from Fannie Mae have created duplicate entries for a given loan Identifier \n",
    "#(number should equal the number of records if there are no duplicates)\n",
    "df.groupby('loanIdentifier').loanIdentifier.nunique().sum()"
   ]
  },
  {
   "cell_type": "code",
   "execution_count": 25,
   "metadata": {},
   "outputs": [],
   "source": [
    "sellerNames = df['sellerName'].unique()\n",
    "statesList = df['propState'].unique()\n",
    "#sellerNames"
   ]
  },
  {
   "cell_type": "code",
   "execution_count": 26,
   "metadata": {},
   "outputs": [],
   "source": [
    "#sellerNames"
   ]
  },
  {
   "cell_type": "code",
   "execution_count": 33,
   "metadata": {},
   "outputs": [
    {
     "data": {
      "text/plain": [
       "'data/FMAcqProcessed.csv'"
      ]
     },
     "execution_count": 33,
     "metadata": {},
     "output_type": "execute_result"
    }
   ],
   "source": [
    "pathparts = (DATA_DIR,outputFileName)\n",
    "outpath = \"/\".join(pathparts)\n",
    "outpath"
   ]
  },
  {
   "cell_type": "markdown",
   "metadata": {},
   "source": [
    "Using the [Glossary](https://loanperformancedata.fanniemae.com/lppub-docs/FNMA_SF_Loan_Performance_Glossary.pdf) of column names we made the following selections:\n",
    "![Property Type](images/propertyType.jpg)\n",
    "* Property type: only want 'SF' - 'Single Family'"
   ]
  },
  {
   "cell_type": "code",
   "execution_count": 10,
   "metadata": {},
   "outputs": [
    {
     "data": {
      "text/plain": [
       "(30093769, 25)"
      ]
     },
     "execution_count": 10,
     "metadata": {},
     "output_type": "execute_result"
    }
   ],
   "source": [
    "propTypeFilter = ['SF']\n",
    "df = df[df.propType.isin(propTypeFilter)]\n",
    "df.shape"
   ]
  },
  {
   "cell_type": "markdown",
   "metadata": {},
   "source": [
    "![Number of Units](images/numUnits.jpg)\n",
    "* Number of Units: only want '1'"
   ]
  },
  {
   "cell_type": "code",
   "execution_count": 11,
   "metadata": {},
   "outputs": [
    {
     "data": {
      "text/plain": [
       "(29072952, 25)"
      ]
     },
     "execution_count": 11,
     "metadata": {},
     "output_type": "execute_result"
    }
   ],
   "source": [
    "numUnitsFilter = [1]\n",
    "df = df[df.numUnits.isin(numUnitsFilter)]\n",
    "df.shape"
   ]
  },
  {
   "cell_type": "markdown",
   "metadata": {},
   "source": [
    "![Number of Units](images/occType.jpg)\n",
    "* Number of Units: only want 'P'"
   ]
  },
  {
   "cell_type": "code",
   "execution_count": 12,
   "metadata": {},
   "outputs": [
    {
     "data": {
      "text/plain": [
       "(26581922, 25)"
      ]
     },
     "execution_count": 12,
     "metadata": {},
     "output_type": "execute_result"
    }
   ],
   "source": [
    "occTypeFilter = ['P']\n",
    "df = df[df.occType.isin(occTypeFilter)]\n",
    "df.shape"
   ]
  },
  {
   "cell_type": "markdown",
   "metadata": {},
   "source": [
    "![Number of Units](images/loanPurp.jpg)\n",
    "* Number of Units: only want 'C,R,U'"
   ]
  },
  {
   "cell_type": "code",
   "execution_count": 13,
   "metadata": {},
   "outputs": [
    {
     "data": {
      "text/plain": [
       "(18724184, 25)"
      ]
     },
     "execution_count": 13,
     "metadata": {},
     "output_type": "execute_result"
    }
   ],
   "source": [
    "loanPurpFilter = ['C','R','U']\n",
    "df = df[df.loanPurp.isin(loanPurpFilter)]\n",
    "df.shape"
   ]
  },
  {
   "cell_type": "markdown",
   "metadata": {},
   "source": [
    "![Number of Units](images/origLoanTerm.jpg)\n",
    "* Number of Units: only want '360'"
   ]
  },
  {
   "cell_type": "code",
   "execution_count": 14,
   "metadata": {},
   "outputs": [
    {
     "data": {
      "text/plain": [
       "(10715674, 25)"
      ]
     },
     "execution_count": 14,
     "metadata": {},
     "output_type": "execute_result"
    }
   ],
   "source": [
    "origLoanTermFilter = [360]\n",
    "df = df[df.origLoanTerm.isin(origLoanTermFilter)]\n",
    "df.shape"
   ]
  },
  {
   "cell_type": "markdown",
   "metadata": {},
   "source": [
    "### Fill null values with 0 for the following columns\n",
    "We can't have NaN or Null values for the machine learning part to come"
   ]
  },
  {
   "cell_type": "code",
   "execution_count": 15,
   "metadata": {},
   "outputs": [],
   "source": [
    "df['mortInsType'] = df['mortInsType'].fillna(0)\n",
    "df['pMIperct'] = df['pMIperct'].fillna(0)\n",
    "df['origCLTV'] = df['origCLTV'].fillna(0)"
   ]
  },
  {
   "cell_type": "markdown",
   "metadata": {},
   "source": [
    "## Calculate the 'Best', 'Worst' and 'Avg' Credit Score\n",
    "Given that there is a Borrower Credit Score and a Co-Borrower Credit Score and that there are Null values for each we want to create calculated columns where no Null values exist and then drop the original columns"
   ]
  },
  {
   "cell_type": "code",
   "execution_count": 16,
   "metadata": {},
   "outputs": [],
   "source": [
    "df['bestCreditScore'] = df[['borrCreditScore','coborrCreditScore']].max(axis=1)\n",
    "df['worstCreditScore'] = df[['borrCreditScore','coborrCreditScore']].min(axis=1)\n",
    "df['avgCreditScore'] = df[['borrCreditScore','coborrCreditScore']].mean(axis=1)"
   ]
  },
  {
   "cell_type": "markdown",
   "metadata": {},
   "source": [
    "### Get rid of records where there are NaN or NULL values for:\n",
    "* 'Borrower Credit Score'\n",
    "* 'Debt to Income Ratio'\n",
    "* 'Number of Borrowers'"
   ]
  },
  {
   "cell_type": "code",
   "execution_count": 17,
   "metadata": {},
   "outputs": [],
   "source": [
    "df = df[df['borrCreditScore'].notna() &\\\n",
    "        df['origDebtIncRatio'].notna() &\\\n",
    "        df['numBorrowers'].notna()]"
   ]
  },
  {
   "cell_type": "markdown",
   "metadata": {},
   "source": [
    "### Drop all columns where there is only a single value (and coborrower Credit Score)"
   ]
  },
  {
   "cell_type": "code",
   "execution_count": 18,
   "metadata": {
    "scrolled": false
   },
   "outputs": [],
   "source": [
    "df = df.drop(['prodType','firstTHBI','relocMortInd','occType','numUnits','origLoanTerm','coborrCreditScore','propType'], axis=1)"
   ]
  },
  {
   "cell_type": "markdown",
   "metadata": {},
   "source": [
    "### Map text values to integers (Machine Learning will require this later)\n",
    "\n",
    "![OrigChannel](images/origChannel.jpg)"
   ]
  },
  {
   "cell_type": "code",
   "execution_count": 19,
   "metadata": {},
   "outputs": [],
   "source": [
    "df['origChannel'] = df['origChannel'].replace(['R','B','C'],[1,2,3])\n",
    "df['origChannel'] = pd.to_numeric(df['origChannel'])"
   ]
  },
  {
   "cell_type": "markdown",
   "metadata": {},
   "source": [
    "![Loan Purpose](images/loanPurp.jpg)"
   ]
  },
  {
   "cell_type": "code",
   "execution_count": 20,
   "metadata": {},
   "outputs": [],
   "source": [
    "df['loanPurp'] = df['loanPurp'].replace(['C','R','U'],[1,2,3])\n",
    "df['loanPurp'] = pd.to_numeric(df['loanPurp'])"
   ]
  },
  {
   "cell_type": "code",
   "execution_count": 21,
   "metadata": {},
   "outputs": [
    {
     "data": {
      "text/plain": [
       "array([2, 1, 3], dtype=int64)"
      ]
     },
     "execution_count": 21,
     "metadata": {},
     "output_type": "execute_result"
    }
   ],
   "source": [
    "df['loanPurp'].unique()"
   ]
  },
  {
   "cell_type": "code",
   "execution_count": 22,
   "metadata": {},
   "outputs": [
    {
     "name": "stdout",
     "output_type": "stream",
     "text": [
      "<class 'pandas.core.frame.DataFrame'>\n",
      "Int64Index: 10464607 entries, 0 to 40887331\n",
      "Data columns (total 20 columns):\n",
      "loanIdentifier      int64\n",
      "origChannel         int64\n",
      "sellerName          object\n",
      "origIntRate         float64\n",
      "origUPB             int64\n",
      "origDate            datetime64[ns]\n",
      "firstPmtDate        datetime64[ns]\n",
      "origLTV             float64\n",
      "origCLTV            float64\n",
      "numBorrowers        float64\n",
      "origDebtIncRatio    float64\n",
      "borrCreditScore     float64\n",
      "loanPurp            int64\n",
      "propState           object\n",
      "zipCode             int64\n",
      "pMIperct            float64\n",
      "mortInsType         float64\n",
      "bestCreditScore     float64\n",
      "worstCreditScore    float64\n",
      "avgCreditScore      float64\n",
      "dtypes: datetime64[ns](2), float64(11), int64(5), object(2)\n",
      "memory usage: 1.6+ GB\n"
     ]
    }
   ],
   "source": [
    "df.info()"
   ]
  },
  {
   "cell_type": "code",
   "execution_count": 23,
   "metadata": {},
   "outputs": [
    {
     "data": {
      "text/html": [
       "<div>\n",
       "<style scoped>\n",
       "    .dataframe tbody tr th:only-of-type {\n",
       "        vertical-align: middle;\n",
       "    }\n",
       "\n",
       "    .dataframe tbody tr th {\n",
       "        vertical-align: top;\n",
       "    }\n",
       "\n",
       "    .dataframe thead th {\n",
       "        text-align: right;\n",
       "    }\n",
       "</style>\n",
       "<table border=\"1\" class=\"dataframe\">\n",
       "  <thead>\n",
       "    <tr style=\"text-align: right;\">\n",
       "      <th></th>\n",
       "      <th>loanIdentifier</th>\n",
       "      <th>origChannel</th>\n",
       "      <th>sellerName</th>\n",
       "      <th>origIntRate</th>\n",
       "      <th>origUPB</th>\n",
       "      <th>origDate</th>\n",
       "      <th>firstPmtDate</th>\n",
       "      <th>origLTV</th>\n",
       "      <th>origCLTV</th>\n",
       "      <th>numBorrowers</th>\n",
       "      <th>origDebtIncRatio</th>\n",
       "      <th>borrCreditScore</th>\n",
       "      <th>loanPurp</th>\n",
       "      <th>propState</th>\n",
       "      <th>zipCode</th>\n",
       "      <th>pMIperct</th>\n",
       "      <th>mortInsType</th>\n",
       "      <th>bestCreditScore</th>\n",
       "      <th>worstCreditScore</th>\n",
       "      <th>avgCreditScore</th>\n",
       "    </tr>\n",
       "  </thead>\n",
       "  <tbody>\n",
       "    <tr>\n",
       "      <th>0</th>\n",
       "      <td>100007365142</td>\n",
       "      <td>1</td>\n",
       "      <td>JPMORGAN CHASE BANK, NA</td>\n",
       "      <td>8.000</td>\n",
       "      <td>75000</td>\n",
       "      <td>1999-12-01</td>\n",
       "      <td>2000-02-01</td>\n",
       "      <td>79.0</td>\n",
       "      <td>0.0</td>\n",
       "      <td>1.0</td>\n",
       "      <td>62.0</td>\n",
       "      <td>763.0</td>\n",
       "      <td>2</td>\n",
       "      <td>PA</td>\n",
       "      <td>173</td>\n",
       "      <td>0.0</td>\n",
       "      <td>0.0</td>\n",
       "      <td>763.0</td>\n",
       "      <td>763.0</td>\n",
       "      <td>763.0</td>\n",
       "    </tr>\n",
       "    <tr>\n",
       "      <th>25</th>\n",
       "      <td>100094030068</td>\n",
       "      <td>3</td>\n",
       "      <td>CITIMORTGAGE, INC.</td>\n",
       "      <td>7.750</td>\n",
       "      <td>152000</td>\n",
       "      <td>1999-11-01</td>\n",
       "      <td>2000-01-01</td>\n",
       "      <td>85.0</td>\n",
       "      <td>0.0</td>\n",
       "      <td>1.0</td>\n",
       "      <td>41.0</td>\n",
       "      <td>604.0</td>\n",
       "      <td>2</td>\n",
       "      <td>NV</td>\n",
       "      <td>891</td>\n",
       "      <td>25.0</td>\n",
       "      <td>1.0</td>\n",
       "      <td>604.0</td>\n",
       "      <td>604.0</td>\n",
       "      <td>604.0</td>\n",
       "    </tr>\n",
       "    <tr>\n",
       "      <th>30</th>\n",
       "      <td>100118647578</td>\n",
       "      <td>2</td>\n",
       "      <td>JPMORGAN CHASE BANK, NA</td>\n",
       "      <td>7.750</td>\n",
       "      <td>106000</td>\n",
       "      <td>1999-11-01</td>\n",
       "      <td>2000-01-01</td>\n",
       "      <td>80.0</td>\n",
       "      <td>0.0</td>\n",
       "      <td>2.0</td>\n",
       "      <td>27.0</td>\n",
       "      <td>652.0</td>\n",
       "      <td>2</td>\n",
       "      <td>OR</td>\n",
       "      <td>972</td>\n",
       "      <td>0.0</td>\n",
       "      <td>0.0</td>\n",
       "      <td>696.0</td>\n",
       "      <td>652.0</td>\n",
       "      <td>674.0</td>\n",
       "    </tr>\n",
       "    <tr>\n",
       "      <th>32</th>\n",
       "      <td>100122555751</td>\n",
       "      <td>1</td>\n",
       "      <td>GMAC MORTGAGE, LLC</td>\n",
       "      <td>8.250</td>\n",
       "      <td>191000</td>\n",
       "      <td>2000-02-01</td>\n",
       "      <td>2000-04-01</td>\n",
       "      <td>78.0</td>\n",
       "      <td>0.0</td>\n",
       "      <td>1.0</td>\n",
       "      <td>52.0</td>\n",
       "      <td>676.0</td>\n",
       "      <td>1</td>\n",
       "      <td>CA</td>\n",
       "      <td>921</td>\n",
       "      <td>0.0</td>\n",
       "      <td>0.0</td>\n",
       "      <td>676.0</td>\n",
       "      <td>676.0</td>\n",
       "      <td>676.0</td>\n",
       "    </tr>\n",
       "    <tr>\n",
       "      <th>34</th>\n",
       "      <td>100123116925</td>\n",
       "      <td>3</td>\n",
       "      <td>BANK OF AMERICA, N.A.</td>\n",
       "      <td>7.875</td>\n",
       "      <td>240000</td>\n",
       "      <td>1999-12-01</td>\n",
       "      <td>2000-02-01</td>\n",
       "      <td>74.0</td>\n",
       "      <td>0.0</td>\n",
       "      <td>3.0</td>\n",
       "      <td>40.0</td>\n",
       "      <td>718.0</td>\n",
       "      <td>2</td>\n",
       "      <td>CA</td>\n",
       "      <td>940</td>\n",
       "      <td>0.0</td>\n",
       "      <td>0.0</td>\n",
       "      <td>718.0</td>\n",
       "      <td>685.0</td>\n",
       "      <td>701.5</td>\n",
       "    </tr>\n",
       "  </tbody>\n",
       "</table>\n",
       "</div>"
      ],
      "text/plain": [
       "    loanIdentifier  origChannel               sellerName  origIntRate  \\\n",
       "0     100007365142            1  JPMORGAN CHASE BANK, NA        8.000   \n",
       "25    100094030068            3       CITIMORTGAGE, INC.        7.750   \n",
       "30    100118647578            2  JPMORGAN CHASE BANK, NA        7.750   \n",
       "32    100122555751            1       GMAC MORTGAGE, LLC        8.250   \n",
       "34    100123116925            3    BANK OF AMERICA, N.A.        7.875   \n",
       "\n",
       "    origUPB   origDate firstPmtDate  origLTV  origCLTV  numBorrowers  \\\n",
       "0     75000 1999-12-01   2000-02-01     79.0       0.0           1.0   \n",
       "25   152000 1999-11-01   2000-01-01     85.0       0.0           1.0   \n",
       "30   106000 1999-11-01   2000-01-01     80.0       0.0           2.0   \n",
       "32   191000 2000-02-01   2000-04-01     78.0       0.0           1.0   \n",
       "34   240000 1999-12-01   2000-02-01     74.0       0.0           3.0   \n",
       "\n",
       "    origDebtIncRatio  borrCreditScore  loanPurp propState  zipCode  pMIperct  \\\n",
       "0               62.0            763.0         2        PA      173       0.0   \n",
       "25              41.0            604.0         2        NV      891      25.0   \n",
       "30              27.0            652.0         2        OR      972       0.0   \n",
       "32              52.0            676.0         1        CA      921       0.0   \n",
       "34              40.0            718.0         2        CA      940       0.0   \n",
       "\n",
       "    mortInsType  bestCreditScore  worstCreditScore  avgCreditScore  \n",
       "0           0.0            763.0             763.0           763.0  \n",
       "25          1.0            604.0             604.0           604.0  \n",
       "30          0.0            696.0             652.0           674.0  \n",
       "32          0.0            676.0             676.0           676.0  \n",
       "34          0.0            718.0             685.0           701.5  "
      ]
     },
     "execution_count": 23,
     "metadata": {},
     "output_type": "execute_result"
    }
   ],
   "source": [
    "df.head()"
   ]
  },
  {
   "cell_type": "code",
   "execution_count": 24,
   "metadata": {},
   "outputs": [
    {
     "data": {
      "text/plain": [
       "10464607"
      ]
     },
     "execution_count": 24,
     "metadata": {},
     "output_type": "execute_result"
    }
   ],
   "source": [
    "# Check if updated files from Fannie Mae have created duplicate entries for a given loan Identifier \n",
    "#(number should equal the number of records if there are no duplicates)\n",
    "df.groupby('loanIdentifier').loanIdentifier.nunique().sum()"
   ]
  },
  {
   "cell_type": "code",
   "execution_count": 25,
   "metadata": {},
   "outputs": [],
   "source": [
    "sellerNames = df['sellerName'].unique()\n",
    "statesList = df['propState'].unique()\n",
    "#sellerNames"
   ]
  },
  {
   "cell_type": "code",
   "execution_count": 26,
   "metadata": {},
   "outputs": [],
   "source": [
    "#sellerNames"
   ]
  },
  {
   "cell_type": "code",
   "execution_count": 33,
   "metadata": {},
   "outputs": [
    {
     "data": {
      "text/plain": [
       "'data/FMAcqProcessed.csv'"
      ]
     },
     "execution_count": 33,
     "metadata": {},
     "output_type": "execute_result"
    }
   ],
   "source": [
    "pathparts = (DATA_DIR,outputFileName)\n",
    "outpath = \"/\".join(pathparts)\n",
    "outpath"
   ]
  },
  {
   "cell_type": "code",
   "execution_count": null,
   "metadata": {},
   "outputs": [],
   "source": []
  },
  {
   "cell_type": "code",
   "execution_count": null,
   "metadata": {},
   "outputs": [],
   "source": []
  },
  {
   "cell_type": "code",
   "execution_count": null,
   "metadata": {},
   "outputs": [],
   "source": []
  },
  {
   "cell_type": "code",
   "execution_count": null,
   "metadata": {},
   "outputs": [],
   "source": []
  },
  {
   "cell_type": "code",
   "execution_count": null,
   "metadata": {},
   "outputs": [],
   "source": []
  },
  {
   "cell_type": "code",
   "execution_count": null,
   "metadata": {},
   "outputs": [],
   "source": []
  },
  {
   "cell_type": "code",
   "execution_count": null,
   "metadata": {},
   "outputs": [],
   "source": []
  },
  {
   "cell_type": "code",
   "execution_count": null,
   "metadata": {},
   "outputs": [],
   "source": []
  },
  {
   "cell_type": "code",
   "execution_count": null,
   "metadata": {},
   "outputs": [],
   "source": []
  },
  {
   "cell_type": "code",
   "execution_count": null,
   "metadata": {},
   "outputs": [],
   "source": []
  },
  {
   "cell_type": "code",
   "execution_count": null,
   "metadata": {},
   "outputs": [],
   "source": []
  },
  {
   "cell_type": "code",
   "execution_count": null,
   "metadata": {},
   "outputs": [],
   "source": []
  },
  {
   "cell_type": "code",
   "execution_count": null,
   "metadata": {},
   "outputs": [],
   "source": []
  },
  {
   "cell_type": "code",
   "execution_count": null,
   "metadata": {},
   "outputs": [],
   "source": []
  },
  {
   "cell_type": "code",
   "execution_count": null,
   "metadata": {},
   "outputs": [],
   "source": []
  },
  {
   "cell_type": "code",
   "execution_count": null,
   "metadata": {},
   "outputs": [],
   "source": []
  },
  {
   "cell_type": "code",
   "execution_count": null,
   "metadata": {},
   "outputs": [],
   "source": []
  },
  {
   "cell_type": "code",
   "execution_count": null,
   "metadata": {},
   "outputs": [],
   "source": []
  }
 ],
 "metadata": {
  "kernelspec": {
   "display_name": "Python 3",
   "language": "python",
   "name": "python3"
  },
  "language_info": {
   "codemirror_mode": {
    "name": "ipython",
    "version": 3
   },
   "file_extension": ".py",
   "mimetype": "text/x-python",
   "name": "python",
   "nbconvert_exporter": "python",
   "pygments_lexer": "ipython3",
   "version": "3.7.3"
  }
 },
 "nbformat": 4,
 "nbformat_minor": 2
}
