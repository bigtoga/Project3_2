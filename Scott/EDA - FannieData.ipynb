{
 "cells": [
  {
   "cell_type": "markdown",
   "metadata": {},
   "source": [
    "# Fannie Mae loan performance data\n",
    "Source: [Single-Family Fixed Rate Mortgage Dataset](https://loanperformancedata.fanniemae.com/lppub/index.html#Portfolio)\n",
    "\n",
    "Three files:\n",
    "1. An **acquisitions file** - static mortgage loan data for mortgage loans included in our historical dataset that were initially acquired by Fannie Mae that were subsequently refinanced through HARP.\n",
    "2. A **performance file** that provides monthly performance data. \n",
    "3. A **loan mapping file**, which enables users to map the loan refinanced through HARP to its corresponding original loan in the historical research dataset.\n",
    "\n",
    "# Questions\n",
    "1. If we want to map acquisition data, it has anonymized zip codes. The performance data has the MSA (Metropolitan Statistical Areas) code though."
   ]
  },
  {
   "cell_type": "code",
   "execution_count": 3,
   "metadata": {},
   "outputs": [
    {
     "name": "stdout",
     "output_type": "stream",
     "text": [
      "['Acquisition_2019Q1.csv', 'Acquisition_2019Q1.txt', 'Fannie10Q1_refi.csv', 'Fannie19Q1_refi2.csv', 'Fannie19Q1_refi_avgfico.csv']\n"
     ]
    }
   ],
   "source": [
    "import csv\n",
    "from pathlib import Path\n",
    "import pandas as pd\n",
    "import glob\n",
    "import os\n",
    "import getpass\n",
    "\n",
    "data_dir = \"data/Acquisition\"\n",
    "print(os.listdir(data_dir))"
   ]
  },
  {
   "cell_type": "code",
   "execution_count": 23,
   "metadata": {},
   "outputs": [],
   "source": [
    "headerline = [\n",
    "    'loanIdentifier'\n",
    "    ,'origChannel'\n",
    "    ,'sellerName'\n",
    "    ,'origIntRate'\n",
    "    ,'origUPB'\n",
    "    ,'origLoanTerm'\n",
    "    ,'origDate'\n",
    "    ,'firstPmtDate'\n",
    "    ,'origLTV'\n",
    "    ,'origCLTV'\n",
    "    ,'numBorrowers'\n",
    "    ,'origDebtIncRatio'\n",
    "    ,'borrCreditScore'\n",
    "    ,'firstTHBI'\n",
    "    ,'loanPurp'\n",
    "    ,'propType'\n",
    "    ,'numUnits'\n",
    "    ,'occType'\n",
    "    ,'propState'\n",
    "    ,'zipCode'\n",
    "    ,'pMIperct'\n",
    "    ,'prodType'\n",
    "    ,'coborrCreditScore'\n",
    "    ,'mortInsType'\n",
    "    ,'relocMortInd'\n",
    "]"
   ]
  },
  {
   "cell_type": "code",
   "execution_count": 30,
   "metadata": {},
   "outputs": [],
   "source": [
    "# Get each *.txt file, convert it to CSV, and store as same file name.CSV\n",
    "for in_path in Path(data_dir).glob('*.txt'):\n",
    "     out_path = in_path.with_suffix('.csv')\n",
    "     #print(f'in path: {in_path}')\n",
    "     with in_path.open('r') as fin, out_path.open('w', newline='') as fout:\n",
    "        reader = csv.DictReader(fin, fieldnames=headerline,delimiter=\"|\")\n",
    "        #print(f'reader fieldnames: {reader.fieldnames}')\n",
    "        writer = csv.DictWriter(fout, reader.fieldnames, delimiter=\",\")\n",
    "        \n",
    "        writer.writeheader()\n",
    "        writer.writerows(reader)"
   ]
  },
  {
   "cell_type": "code",
   "execution_count": 35,
   "metadata": {},
   "outputs": [],
   "source": [
    "li = []\n",
    "\n",
    "for in_path in Path(data_dir).glob('*.csv'):\n",
    "    temp = pd.read_csv(in_path, index_col=None, header=0)\n",
    "    li.append(temp)\n",
    "\n",
    "df = pd.concat(li, axis=0, ignore_index=True, sort=False)"
   ]
  },
  {
   "cell_type": "code",
   "execution_count": 40,
   "metadata": {},
   "outputs": [
    {
     "name": "stdout",
     "output_type": "stream",
     "text": [
      "(384278, 52)\n"
     ]
    }
   ],
   "source": [
    "df.head()\n",
    "print(df.shape)"
   ]
  },
  {
   "cell_type": "code",
   "execution_count": 41,
   "metadata": {},
   "outputs": [],
   "source": [
    "df.to_csv('FannieAcq2000-19Q1.csv')"
   ]
  },
  {
   "cell_type": "code",
   "execution_count": 42,
   "metadata": {},
   "outputs": [
    {
     "name": "stdout",
     "output_type": "stream",
     "text": [
      "<class 'pandas.core.frame.DataFrame'>\n",
      "RangeIndex: 384278 entries, 0 to 384277\n",
      "Data columns (total 52 columns):\n",
      "loanIdentifier         297452 non-null float64\n",
      "origChannel            355330 non-null object\n",
      "sellerName             355330 non-null object\n",
      "origIntRate            355330 non-null float64\n",
      "origUPB                355330 non-null float64\n",
      "origLoanTerm           297452 non-null float64\n",
      "origDate               355330 non-null object\n",
      "firstPmtDate           355330 non-null object\n",
      "origLTV                355330 non-null float64\n",
      "origCLTV               355330 non-null float64\n",
      "numBorrowers           355330 non-null float64\n",
      "origDebtIncRatio       355234 non-null float64\n",
      "borrCreditScore        354945 non-null float64\n",
      "firstTHBI              297452 non-null object\n",
      "loanPurp               355330 non-null object\n",
      "propType               297452 non-null object\n",
      "numUnits               297452 non-null float64\n",
      "occType                297452 non-null object\n",
      "propState              355330 non-null object\n",
      "zipCode                355330 non-null float64\n",
      "pMIperct               169429 non-null float64\n",
      "prodType               297452 non-null object\n",
      "coborrCreditScore      130687 non-null float64\n",
      "mortInsType            169429 non-null float64\n",
      "relocMortInd           297452 non-null object\n",
      "Number of Records      28948 non-null float64\n",
      "Borr Credit Score      28939 non-null float64\n",
      "Coborr Credit Score    12478 non-null float64\n",
      "First Pmt Date         28948 non-null object\n",
      "Loan Identifier        28948 non-null float64\n",
      "Loan Purp              28948 non-null object\n",
      "Mort Ins Type          28948 non-null float64\n",
      "Num Borrowers          28948 non-null float64\n",
      "Num Units              28948 non-null float64\n",
      "Occ Type               28948 non-null object\n",
      "Orig CLTV              28948 non-null float64\n",
      "Orig Channel           28948 non-null object\n",
      "Orig Date              28948 non-null object\n",
      "Orig Debt Inc Ratio    28948 non-null float64\n",
      "Orig Int Rate          28948 non-null object\n",
      "Orig LTV               28948 non-null float64\n",
      "Orig Loan Term         28948 non-null float64\n",
      "Orig UPB               28948 non-null float64\n",
      "P M Iperct             2617 non-null float64\n",
      "Prop State             28948 non-null object\n",
      "Prop Type              28948 non-null object\n",
      "Reloc Mort Ind         28948 non-null object\n",
      "Seller Name            28948 non-null object\n",
      "Zip Code               28948 non-null float64\n",
      "BestCreditScore        57878 non-null float64\n",
      "WorstCreditScore       28939 non-null float64\n",
      "AvgCreditScore         28939 non-null float64\n",
      "dtypes: float64(31), object(21)\n",
      "memory usage: 152.5+ MB\n"
     ]
    }
   ],
   "source": [
    "df.info()"
   ]
  },
  {
   "cell_type": "code",
   "execution_count": null,
   "metadata": {},
   "outputs": [],
   "source": []
  }
 ],
 "metadata": {
  "kernelspec": {
   "display_name": "Python 3",
   "language": "python",
   "name": "python3"
  },
  "language_info": {
   "codemirror_mode": {
    "name": "ipython",
    "version": 3
   },
   "file_extension": ".py",
   "mimetype": "text/x-python",
   "name": "python",
   "nbconvert_exporter": "python",
   "pygments_lexer": "ipython3",
   "version": "3.7.3"
  }
 },
 "nbformat": 4,
 "nbformat_minor": 2
}
