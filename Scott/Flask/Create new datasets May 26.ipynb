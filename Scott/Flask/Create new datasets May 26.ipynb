{
 "cells": [
  {
   "cell_type": "code",
   "execution_count": 1,
   "metadata": {},
   "outputs": [],
   "source": [
    "import pandas as pd\n",
    "pd.set_option('display.max_rows', 25)\n",
    "pd.set_option('display.max_columns', 50)\n",
    "\n",
    "import numpy as np\n",
    "\n",
    "from sklearn.model_selection import train_test_split\n",
    "\n",
    "import os\n",
    "import winsound\n",
    "\n",
    "# Tell Jupyter to display all text, not just \"the last\" and print()\n",
    "from IPython.core.interactiveshell import InteractiveShell\n",
    "InteractiveShell.ast_node_interactivity = 'all'\n",
    "\n",
    "%pwd\n",
    "\n",
    "def DoneNotice(duration_ms = 1000):\n",
    "    duration = duration_ms  # milliseconds\n",
    "    freq = 440  #Hz\n",
    "    winsound.Beep(freq, duration)\n",
    "\n",
    "from IPython.display import Markdown, display\n",
    "def Important(html_tag, message, color):\n",
    "    colorstr = f\"<{html_tag} style='color:{color}'>{message}</{html_tag}>\"\n",
    "    display(Markdown(colorstr))"
   ]
  },
  {
   "cell_type": "code",
   "execution_count": 2,
   "metadata": {},
   "outputs": [
    {
     "name": "stdout",
     "output_type": "stream",
     "text": [
      "How many files do you want to generate? 5\n",
      "How many rows do you want in each file? 10\n",
      "What name do you want to give the files? testing\n"
     ]
    },
    {
     "data": {
      "text/markdown": [
       "<h1 style='color:blue'>Thank you! Generating your files now...</h1>"
      ],
      "text/plain": [
       "<IPython.core.display.Markdown object>"
      ]
     },
     "metadata": {},
     "output_type": "display_data"
    },
    {
     "name": "stdout",
     "output_type": "stream",
     "text": [
      "   Generating 5 with 10 rows each\n",
      "   Headers will be included\n",
      "   File names will begin with testing and be sequentially numbered\n",
      "      - testing01.csv\n",
      "      - testing02.csv\n",
      "      - testing03.csv\n",
      "...\n",
      "\n"
     ]
    }
   ],
   "source": [
    "# Parameters\n",
    "holdoutData = r'../data/DataPre-01-Feature-EEE-2012.csv'\n",
    "target = 'zeroBalCode'\n",
    "\n",
    "# How many files do you want to generate?\n",
    "files = int(input('How many files do you want to generate? '))\n",
    "\n",
    "# How many rows in each file? \n",
    "rows_per_file = int(input('How many rows do you want in each file? '))\n",
    "\n",
    "# What name do you want to give the files?\n",
    "fileName = input('What name do you want to give the files? ')\n",
    "\n",
    "Important('h1', f'Thank you! Generating your files now...', 'blue')\n",
    "print(f'   Generating {files} with {rows_per_file:,} rows each')\n",
    "print(f'   Headers will be included')\n",
    "print(f'   File names will begin with {fileName} and be sequentially numbered')\n",
    "print(f'      - {fileName}01.csv')\n",
    "print(f'      - {fileName}02.csv')\n",
    "print(f'      - {fileName}03.csv')\n",
    "print('...')\n",
    "print('')"
   ]
  },
  {
   "cell_type": "markdown",
   "metadata": {},
   "source": [
    "# Load in holdout data"
   ]
  },
  {
   "cell_type": "code",
   "execution_count": 3,
   "metadata": {
    "scrolled": true
   },
   "outputs": [
    {
     "data": {
      "text/markdown": [
       "<h1 style='color:blue'>Full dataset loaded into `df`</h1>"
      ],
      "text/plain": [
       "<IPython.core.display.Markdown object>"
      ]
     },
     "metadata": {},
     "output_type": "display_data"
    },
    {
     "name": "stdout",
     "output_type": "stream",
     "text": [
      "Full dataset has 15,148 rows with 13 columns/features\n",
      "Wall time: 133 ms\n"
     ]
    }
   ],
   "source": [
    "%%time \n",
    "\n",
    "# Load the full Epoch 2 dataset\n",
    "df = pd.read_csv(holdoutData)\n",
    "\n",
    "DoneNotice(100)\n",
    "\n",
    "Important(\"h1\", \"Full dataset loaded into `df`\", 'blue')\n",
    "rows, cols = df.shape\n",
    "print(f'Full dataset has {rows:,} rows with {cols:,} columns/features')"
   ]
  },
  {
   "cell_type": "code",
   "execution_count": 4,
   "metadata": {},
   "outputs": [
    {
     "name": "stdout",
     "output_type": "stream",
     "text": [
      "Wall time: 19 ms\n"
     ]
    }
   ],
   "source": [
    "%%time \n",
    "# Let's create text files containing random data using pandas sample()\n",
    "\n",
    "i = 1\n",
    "while i <= files:\n",
    "    baseFolder = \"../data/RandomSamples\"\n",
    "    \n",
    "    # Make sortable filenames (01, 02, 03 instead of 1, 2, 3)\n",
    "    namingNumber = \"01\"\n",
    "    if i < 10:\n",
    "        namingNumber = \"0\" + str(i)\n",
    "    else:\n",
    "        namingNumber = str(i)\n",
    "        \n",
    "    try:\n",
    "        # Step 1: Let's delete any previous runs' files first:\n",
    "        os.remove(f'{baseFolder}/{fileName}{namingNumber}.csv')\n",
    "    except:\n",
    "        pass # How to do an empty except in Python\n",
    "        \n",
    "    df.sample(rows_per_file).to_csv(f'{baseFolder}/{fileName}{namingNumber}.csv')\n",
    "    i = i+1"
   ]
  }
 ],
 "metadata": {
  "kernelspec": {
   "display_name": "Python 3",
   "language": "python",
   "name": "python3"
  },
  "language_info": {
   "codemirror_mode": {
    "name": "ipython",
    "version": 3
   },
   "file_extension": ".py",
   "mimetype": "text/x-python",
   "name": "python",
   "nbconvert_exporter": "python",
   "pygments_lexer": "ipython3",
   "version": "3.7.3"
  }
 },
 "nbformat": 4,
 "nbformat_minor": 2
}
