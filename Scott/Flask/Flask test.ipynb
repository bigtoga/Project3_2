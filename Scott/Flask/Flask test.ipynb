{
 "cells": [
  {
   "cell_type": "code",
   "execution_count": 1,
   "metadata": {},
   "outputs": [],
   "source": [
    "import numpy as np\n",
    "import pandas as pd\n",
    "from pycaret.classification import *\n",
    "from flask import Flask, request, jsonify, make_response"
   ]
  },
  {
   "cell_type": "code",
   "execution_count": 2,
   "metadata": {},
   "outputs": [
    {
     "name": "stdout",
     "output_type": "stream",
     "text": [
      "Transformation Pipeline and Model Sucessfully Loaded\n"
     ]
    },
    {
     "data": {
      "text/html": [
       "<style type='text/css'>\n",
       ".datatable table.frame { margin-bottom: 0; }\n",
       ".datatable table.frame thead { border-bottom: none; }\n",
       ".datatable table.frame tr.coltypes td {  color: #FFFFFF;  line-height: 6px;  padding: 0 0.5em;}\n",
       ".datatable .boolean { background: #DDDD99; }\n",
       ".datatable .object  { background: #565656; }\n",
       ".datatable .integer { background: #5D9E5D; }\n",
       ".datatable .float   { background: #4040CC; }\n",
       ".datatable .string  { background: #CC4040; }\n",
       ".datatable .row_index {  background: var(--jp-border-color3);  border-right: 1px solid var(--jp-border-color0);  color: var(--jp-ui-font-color3);  font-size: 9px;}\n",
       ".datatable .frame tr.coltypes .row_index {  background: var(--jp-border-color0);}\n",
       ".datatable th:nth-child(2) { padding-left: 12px; }\n",
       ".datatable .hellipsis {  color: var(--jp-cell-editor-border-color);}\n",
       ".datatable .vellipsis {  background: var(--jp-layout-color0);  color: var(--jp-cell-editor-border-color);}\n",
       ".datatable .na {  color: var(--jp-cell-editor-border-color);  font-size: 80%;}\n",
       ".datatable .footer { font-size: 9px; }\n",
       ".datatable .frame_dimensions {  background: var(--jp-border-color3);  border-top: 1px solid var(--jp-border-color0);  color: var(--jp-ui-font-color3);  display: inline-block;  opacity: 0.6;  padding: 1px 10px 1px 5px;}\n",
       "</style>\n"
      ],
      "text/plain": [
       "<IPython.core.display.HTML object>"
      ]
     },
     "metadata": {},
     "output_type": "display_data"
    }
   ],
   "source": [
    "\n",
    "model = load_model('../models/et20200526_2010')\n",
    "\n",
    "# Holdout data\n",
    "holdoutData = '../data/DataPre-01-Feature-EEE-2012.csv'\n",
    "\n",
    "# Random generated data\n",
    "baseFolder = \"../data/RandomSamples\"\n",
    "\n",
    "# Target column\n",
    "target = 'zeroBalCode'"
   ]
  },
  {
   "cell_type": "code",
   "execution_count": 3,
   "metadata": {},
   "outputs": [],
   "source": [
    "chosenFile = \"../data/RandomSamples/testing02.csv\""
   ]
  },
  {
   "cell_type": "code",
   "execution_count": 14,
   "metadata": {},
   "outputs": [],
   "source": [
    "try:\n",
    "   data_unseen = pd.read_csv(chosenFile)\n",
    "\n",
    "except:\n",
    "    response = jsonify({\n",
    "        \"statusCode\": 404,\n",
    "        \"status\": f\"Unable to find file '{chosen_file}'\"\n",
    "    })\n",
    "    print(response)"
   ]
  },
  {
   "cell_type": "code",
   "execution_count": 19,
   "metadata": {},
   "outputs": [],
   "source": [
    "dfPredictions = predict_model(model, data=data_unseen)\n",
    "# prediction = int(prediction.Label[0])    \n",
    "# output = prediction.Label[0]\n",
    "\n",
    "# Remove the previous index column\n",
    "dfPredictions.drop(['Unnamed: 0'], 1, inplace=True)\n",
    "dfPredictions.drop(['Unnamed: 0.1'], 1, inplace=True)"
   ]
  },
  {
   "cell_type": "code",
   "execution_count": 20,
   "metadata": {},
   "outputs": [
    {
     "data": {
      "text/html": [
       "<div>\n",
       "<style scoped>\n",
       "    .dataframe tbody tr th:only-of-type {\n",
       "        vertical-align: middle;\n",
       "    }\n",
       "\n",
       "    .dataframe tbody tr th {\n",
       "        vertical-align: top;\n",
       "    }\n",
       "\n",
       "    .dataframe thead th {\n",
       "        text-align: right;\n",
       "    }\n",
       "</style>\n",
       "<table border=\"1\" class=\"dataframe\">\n",
       "  <thead>\n",
       "    <tr style=\"text-align: right;\">\n",
       "      <th></th>\n",
       "      <th>origChannel</th>\n",
       "      <th>origIntRate</th>\n",
       "      <th>origUPB</th>\n",
       "      <th>origLTV</th>\n",
       "      <th>numBorrowers</th>\n",
       "      <th>origDebtIncRatio</th>\n",
       "      <th>loanPurp</th>\n",
       "      <th>worstCreditScore</th>\n",
       "      <th>bankNumber</th>\n",
       "      <th>stateNumber</th>\n",
       "      <th>mSA</th>\n",
       "      <th>zeroBalCode</th>\n",
       "      <th>Label</th>\n",
       "      <th>Score</th>\n",
       "    </tr>\n",
       "  </thead>\n",
       "  <tbody>\n",
       "    <tr>\n",
       "      <th>0</th>\n",
       "      <td>1</td>\n",
       "      <td>4.125</td>\n",
       "      <td>255000</td>\n",
       "      <td>73</td>\n",
       "      <td>1</td>\n",
       "      <td>30</td>\n",
       "      <td>2</td>\n",
       "      <td>708</td>\n",
       "      <td>80</td>\n",
       "      <td>35</td>\n",
       "      <td>35620</td>\n",
       "      <td>1</td>\n",
       "      <td>0</td>\n",
       "      <td>0.34</td>\n",
       "    </tr>\n",
       "    <tr>\n",
       "      <th>1</th>\n",
       "      <td>1</td>\n",
       "      <td>4.750</td>\n",
       "      <td>86000</td>\n",
       "      <td>80</td>\n",
       "      <td>1</td>\n",
       "      <td>23</td>\n",
       "      <td>2</td>\n",
       "      <td>740</td>\n",
       "      <td>80</td>\n",
       "      <td>28</td>\n",
       "      <td>25860</td>\n",
       "      <td>1</td>\n",
       "      <td>1</td>\n",
       "      <td>0.71</td>\n",
       "    </tr>\n",
       "    <tr>\n",
       "      <th>2</th>\n",
       "      <td>1</td>\n",
       "      <td>3.990</td>\n",
       "      <td>70000</td>\n",
       "      <td>29</td>\n",
       "      <td>2</td>\n",
       "      <td>35</td>\n",
       "      <td>1</td>\n",
       "      <td>771</td>\n",
       "      <td>54</td>\n",
       "      <td>38</td>\n",
       "      <td>38900</td>\n",
       "      <td>0</td>\n",
       "      <td>0</td>\n",
       "      <td>0.03</td>\n",
       "    </tr>\n",
       "    <tr>\n",
       "      <th>3</th>\n",
       "      <td>1</td>\n",
       "      <td>4.250</td>\n",
       "      <td>285000</td>\n",
       "      <td>77</td>\n",
       "      <td>1</td>\n",
       "      <td>44</td>\n",
       "      <td>2</td>\n",
       "      <td>686</td>\n",
       "      <td>54</td>\n",
       "      <td>45</td>\n",
       "      <td>26420</td>\n",
       "      <td>0</td>\n",
       "      <td>0</td>\n",
       "      <td>0.19</td>\n",
       "    </tr>\n",
       "    <tr>\n",
       "      <th>4</th>\n",
       "      <td>1</td>\n",
       "      <td>3.875</td>\n",
       "      <td>392000</td>\n",
       "      <td>80</td>\n",
       "      <td>1</td>\n",
       "      <td>38</td>\n",
       "      <td>2</td>\n",
       "      <td>774</td>\n",
       "      <td>8</td>\n",
       "      <td>4</td>\n",
       "      <td>40900</td>\n",
       "      <td>0</td>\n",
       "      <td>0</td>\n",
       "      <td>0.13</td>\n",
       "    </tr>\n",
       "  </tbody>\n",
       "</table>\n",
       "</div>"
      ],
      "text/plain": [
       "   origChannel  origIntRate  origUPB  origLTV  numBorrowers  origDebtIncRatio  \\\n",
       "0            1        4.125   255000       73             1                30   \n",
       "1            1        4.750    86000       80             1                23   \n",
       "2            1        3.990    70000       29             2                35   \n",
       "3            1        4.250   285000       77             1                44   \n",
       "4            1        3.875   392000       80             1                38   \n",
       "\n",
       "   loanPurp  worstCreditScore  bankNumber  stateNumber    mSA  zeroBalCode  \\\n",
       "0         2               708          80           35  35620            1   \n",
       "1         2               740          80           28  25860            1   \n",
       "2         1               771          54           38  38900            0   \n",
       "3         2               686          54           45  26420            0   \n",
       "4         2               774           8            4  40900            0   \n",
       "\n",
       "   Label  Score  \n",
       "0      0   0.34  \n",
       "1      1   0.71  \n",
       "2      0   0.03  \n",
       "3      0   0.19  \n",
       "4      0   0.13  "
      ]
     },
     "execution_count": 20,
     "metadata": {},
     "output_type": "execute_result"
    }
   ],
   "source": [
    "dfPredictions.head()"
   ]
  },
  {
   "cell_type": "code",
   "execution_count": 21,
   "metadata": {},
   "outputs": [
    {
     "data": {
      "text/plain": [
       "'{\"origChannel\":{\"0\":1,\"1\":1,\"2\":1,\"3\":1,\"4\":1,\"5\":2,\"6\":1,\"7\":2,\"8\":2,\"9\":1},\"origIntRate\":{\"0\":4.125,\"1\":4.75,\"2\":3.99,\"3\":4.25,\"4\":3.875,\"5\":4.0,\"6\":3.5,\"7\":3.99,\"8\":3.25,\"9\":4.125},\"origUPB\":{\"0\":255000,\"1\":86000,\"2\":70000,\"3\":285000,\"4\":392000,\"5\":404000,\"6\":315000,\"7\":150000,\"8\":170000,\"9\":165000},\"origLTV\":{\"0\":73,\"1\":80,\"2\":29,\"3\":77,\"4\":80,\"5\":80,\"6\":23,\"7\":50,\"8\":31,\"9\":62},\"numBorrowers\":{\"0\":1,\"1\":1,\"2\":2,\"3\":1,\"4\":1,\"5\":2,\"6\":2,\"7\":1,\"8\":1,\"9\":1},\"origDebtIncRatio\":{\"0\":30,\"1\":23,\"2\":35,\"3\":44,\"4\":38,\"5\":43,\"6\":28,\"7\":42,\"8\":38,\"9\":34},\"loanPurp\":{\"0\":2,\"1\":2,\"2\":1,\"3\":2,\"4\":2,\"5\":1,\"6\":2,\"7\":1,\"8\":2,\"9\":2},\"worstCreditScore\":{\"0\":708,\"1\":740,\"2\":771,\"3\":686,\"4\":774,\"5\":725,\"6\":807,\"7\":625,\"8\":804,\"9\":712},\"bankNumber\":{\"0\":80,\"1\":80,\"2\":54,\"3\":54,\"4\":8,\"5\":54,\"6\":54,\"7\":54,\"8\":66,\"9\":54},\"stateNumber\":{\"0\":35,\"1\":28,\"2\":38,\"3\":45,\"4\":4,\"5\":4,\"6\":32,\"7\":4,\"8\":4,\"9\":45},\"mSA\":{\"0\":35620,\"1\":25860,\"2\":38900,\"3\":26420,\"4\":40900,\"5\":41740,\"6\":35620,\"7\":42020,\"8\":31080,\"9\":32580},\"zeroBalCode\":{\"0\":1,\"1\":1,\"2\":0,\"3\":0,\"4\":0,\"5\":0,\"6\":0,\"7\":0,\"8\":0,\"9\":0},\"Label\":{\"0\":0,\"1\":1,\"2\":0,\"3\":0,\"4\":0,\"5\":0,\"6\":0,\"7\":0,\"8\":0,\"9\":0},\"Score\":{\"0\":0.34,\"1\":0.71,\"2\":0.03,\"3\":0.19,\"4\":0.13,\"5\":0.19,\"6\":0.03,\"7\":0.3,\"8\":0.14,\"9\":0.19}}'"
      ]
     },
     "execution_count": 21,
     "metadata": {},
     "output_type": "execute_result"
    }
   ],
   "source": [
    "dfPredictions.to_json()"
   ]
  },
  {
   "cell_type": "code",
   "execution_count": 28,
   "metadata": {},
   "outputs": [],
   "source": [
    "# Required to use Flask inside Jupyter notebooks\n",
    "app = Flask(__name__)\n",
    "my_context = app.app_context()\n",
    "my_context.push()\n",
    "\n",
    "json_results = dfPredictions.to_json()\n",
    "response = jsonify({\n",
    "    \"statusCode\": 200,\n",
    "    \"data\": json_results\n",
    "})"
   ]
  },
  {
   "cell_type": "code",
   "execution_count": 29,
   "metadata": {},
   "outputs": [
    {
     "data": {
      "text/plain": [
       "<Response 1584 bytes [200 OK]>"
      ]
     },
     "execution_count": 29,
     "metadata": {},
     "output_type": "execute_result"
    }
   ],
   "source": [
    "response"
   ]
  },
  {
   "cell_type": "code",
   "execution_count": 30,
   "metadata": {},
   "outputs": [
    {
     "data": {
      "text/plain": [
       "flask.wrappers.Response"
      ]
     },
     "execution_count": 30,
     "metadata": {},
     "output_type": "execute_result"
    }
   ],
   "source": [
    "type(response)"
   ]
  },
  {
   "cell_type": "code",
   "execution_count": 31,
   "metadata": {},
   "outputs": [
    {
     "data": {
      "text/plain": [
       "{'data': '{\"origChannel\":{\"0\":1,\"1\":1,\"2\":1,\"3\":1,\"4\":1,\"5\":2,\"6\":1,\"7\":2,\"8\":2,\"9\":1},\"origIntRate\":{\"0\":4.125,\"1\":4.75,\"2\":3.99,\"3\":4.25,\"4\":3.875,\"5\":4.0,\"6\":3.5,\"7\":3.99,\"8\":3.25,\"9\":4.125},\"origUPB\":{\"0\":255000,\"1\":86000,\"2\":70000,\"3\":285000,\"4\":392000,\"5\":404000,\"6\":315000,\"7\":150000,\"8\":170000,\"9\":165000},\"origLTV\":{\"0\":73,\"1\":80,\"2\":29,\"3\":77,\"4\":80,\"5\":80,\"6\":23,\"7\":50,\"8\":31,\"9\":62},\"numBorrowers\":{\"0\":1,\"1\":1,\"2\":2,\"3\":1,\"4\":1,\"5\":2,\"6\":2,\"7\":1,\"8\":1,\"9\":1},\"origDebtIncRatio\":{\"0\":30,\"1\":23,\"2\":35,\"3\":44,\"4\":38,\"5\":43,\"6\":28,\"7\":42,\"8\":38,\"9\":34},\"loanPurp\":{\"0\":2,\"1\":2,\"2\":1,\"3\":2,\"4\":2,\"5\":1,\"6\":2,\"7\":1,\"8\":2,\"9\":2},\"worstCreditScore\":{\"0\":708,\"1\":740,\"2\":771,\"3\":686,\"4\":774,\"5\":725,\"6\":807,\"7\":625,\"8\":804,\"9\":712},\"bankNumber\":{\"0\":80,\"1\":80,\"2\":54,\"3\":54,\"4\":8,\"5\":54,\"6\":54,\"7\":54,\"8\":66,\"9\":54},\"stateNumber\":{\"0\":35,\"1\":28,\"2\":38,\"3\":45,\"4\":4,\"5\":4,\"6\":32,\"7\":4,\"8\":4,\"9\":45},\"mSA\":{\"0\":35620,\"1\":25860,\"2\":38900,\"3\":26420,\"4\":40900,\"5\":41740,\"6\":35620,\"7\":42020,\"8\":31080,\"9\":32580},\"zeroBalCode\":{\"0\":1,\"1\":1,\"2\":0,\"3\":0,\"4\":0,\"5\":0,\"6\":0,\"7\":0,\"8\":0,\"9\":0},\"Label\":{\"0\":0,\"1\":1,\"2\":0,\"3\":0,\"4\":0,\"5\":0,\"6\":0,\"7\":0,\"8\":0,\"9\":0},\"Score\":{\"0\":0.34,\"1\":0.71,\"2\":0.03,\"3\":0.19,\"4\":0.13,\"5\":0.19,\"6\":0.03,\"7\":0.3,\"8\":0.14,\"9\":0.19}}',\n",
       " 'statusCode': 200}"
      ]
     },
     "execution_count": 31,
     "metadata": {},
     "output_type": "execute_result"
    }
   ],
   "source": [
    "response.get_json()"
   ]
  },
  {
   "cell_type": "code",
   "execution_count": null,
   "metadata": {},
   "outputs": [],
   "source": []
  }
 ],
 "metadata": {
  "kernelspec": {
   "display_name": "Python 3",
   "language": "python",
   "name": "python3"
  },
  "language_info": {
   "codemirror_mode": {
    "name": "ipython",
    "version": 3
   },
   "file_extension": ".py",
   "mimetype": "text/x-python",
   "name": "python",
   "nbconvert_exporter": "python",
   "pygments_lexer": "ipython3",
   "version": "3.7.3"
  }
 },
 "nbformat": 4,
 "nbformat_minor": 2
}
