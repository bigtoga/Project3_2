{
 "cells": [
  {
   "cell_type": "markdown",
   "metadata": {},
   "source": [
    "# Goal: predict whether a loan will end up with maximum profits or not\n",
    "\n",
    "---\n",
    "#### Target variable: `outcome` \n",
    "* Type: **Categorical** \n",
    "* Model type: Classification \n",
    "* Sourced from: `zeroBalCode`\n",
    "* Data: \n",
    "    - \"0\" means \"Closed\" (i.e. a successful outcome for Fannie Mae)\n",
    "    - \"1\" means \"Default\" (i.e. a negative outcome)\n",
    "    \n",
    "---\n",
    "#### This Notebook:\n",
    "* Input required: The output file from \"Scott - Data Pre - 1 - Feature EEE\" notebook\n",
    "* Outputs generated: csv of 1 dataframe that has training data: `data/20200524/DataPre-2-5050-split.csv`\n",
    "\n",
    "#### Expected Workflow\n",
    "1. Scott - Data Pre - 1 - Feature EEE\n",
    "2. Scott - Data Pre - 2 - 50 50 split train test\n",
    "3. Scott - Data Pre - 3 - PyCaret Setup\n",
    "4. Scott - Data Pre - 4 - PyCaret Model Tests\n",
    "5. Scott - Model - 1 - Model Cross Validation\n",
    "6. Scott - Model - 2 - Generate pkl file"
   ]
  },
  {
   "cell_type": "code",
   "execution_count": 1,
   "metadata": {},
   "outputs": [],
   "source": [
    "import pandas as pd\n",
    "import numpy as np\n",
    "import matplotlib.pyplot as plt\n",
    "from pycaret.classification import *\n",
    "#!pip install pycaret\n",
    "\n",
    "from sklearn.feature_selection import VarianceThreshold"
   ]
  },
  {
   "cell_type": "markdown",
   "metadata": {},
   "source": [
    "# Importing the data"
   ]
  },
  {
   "cell_type": "code",
   "execution_count": 2,
   "metadata": {},
   "outputs": [
    {
     "name": "stdout",
     "output_type": "stream",
     "text": [
      "Epoch 2: [2009, 2010, 2011, 2012, 2013]\n"
     ]
    }
   ],
   "source": [
    "dforig=pd.read_csv(\"data/20200524/DataPre-01-Feature-EEE.csv\")\n",
    "df = dforig.copy()\n",
    "print(f'Epoch 2: {df.origYear.unique().tolist()}')\n",
    "\n",
    "# Remove the weird unnamed column\n",
    "df.drop(['Unnamed: 0'], 1, inplace=True)"
   ]
  },
  {
   "cell_type": "code",
   "execution_count": 3,
   "metadata": {},
   "outputs": [
    {
     "data": {
      "text/html": [
       "<div>\n",
       "<style scoped>\n",
       "    .dataframe tbody tr th:only-of-type {\n",
       "        vertical-align: middle;\n",
       "    }\n",
       "\n",
       "    .dataframe tbody tr th {\n",
       "        vertical-align: top;\n",
       "    }\n",
       "\n",
       "    .dataframe thead th {\n",
       "        text-align: right;\n",
       "    }\n",
       "</style>\n",
       "<table border=\"1\" class=\"dataframe\">\n",
       "  <thead>\n",
       "    <tr style=\"text-align: right;\">\n",
       "      <th></th>\n",
       "      <th>origChannel</th>\n",
       "      <th>origIntRate</th>\n",
       "      <th>origUPB</th>\n",
       "      <th>origLTV</th>\n",
       "      <th>numBorrowers</th>\n",
       "      <th>origDebtIncRatio</th>\n",
       "      <th>loanPurp</th>\n",
       "      <th>zipCode</th>\n",
       "      <th>pMIperct</th>\n",
       "      <th>worstCreditScore</th>\n",
       "      <th>bankNumber</th>\n",
       "      <th>stateNumber</th>\n",
       "      <th>mSA</th>\n",
       "      <th>zeroBalCode</th>\n",
       "      <th>fmacRateMin</th>\n",
       "      <th>fredRate</th>\n",
       "      <th>rateDiffAbovePct</th>\n",
       "      <th>origYear</th>\n",
       "      <th>origMonth</th>\n",
       "    </tr>\n",
       "  </thead>\n",
       "  <tbody>\n",
       "    <tr>\n",
       "      <th>0</th>\n",
       "      <td>3</td>\n",
       "      <td>4.625</td>\n",
       "      <td>195000</td>\n",
       "      <td>52</td>\n",
       "      <td>2</td>\n",
       "      <td>54</td>\n",
       "      <td>1</td>\n",
       "      <td>82</td>\n",
       "      <td>0.0</td>\n",
       "      <td>703</td>\n",
       "      <td>4</td>\n",
       "      <td>32</td>\n",
       "      <td>12100</td>\n",
       "      <td>0</td>\n",
       "      <td>5.04</td>\n",
       "      <td>2.87</td>\n",
       "      <td>-0.119048</td>\n",
       "      <td>2009</td>\n",
       "      <td>2</td>\n",
       "    </tr>\n",
       "    <tr>\n",
       "      <th>1</th>\n",
       "      <td>2</td>\n",
       "      <td>4.875</td>\n",
       "      <td>342000</td>\n",
       "      <td>80</td>\n",
       "      <td>1</td>\n",
       "      <td>54</td>\n",
       "      <td>1</td>\n",
       "      <td>981</td>\n",
       "      <td>0.0</td>\n",
       "      <td>746</td>\n",
       "      <td>3</td>\n",
       "      <td>50</td>\n",
       "      <td>42660</td>\n",
       "      <td>0</td>\n",
       "      <td>5.04</td>\n",
       "      <td>2.87</td>\n",
       "      <td>-0.071429</td>\n",
       "      <td>2009</td>\n",
       "      <td>2</td>\n",
       "    </tr>\n",
       "    <tr>\n",
       "      <th>2</th>\n",
       "      <td>1</td>\n",
       "      <td>5.375</td>\n",
       "      <td>93000</td>\n",
       "      <td>70</td>\n",
       "      <td>1</td>\n",
       "      <td>50</td>\n",
       "      <td>1</td>\n",
       "      <td>496</td>\n",
       "      <td>0.0</td>\n",
       "      <td>780</td>\n",
       "      <td>54</td>\n",
       "      <td>23</td>\n",
       "      <td>0</td>\n",
       "      <td>1</td>\n",
       "      <td>5.04</td>\n",
       "      <td>2.87</td>\n",
       "      <td>0.023810</td>\n",
       "      <td>2009</td>\n",
       "      <td>2</td>\n",
       "    </tr>\n",
       "    <tr>\n",
       "      <th>3</th>\n",
       "      <td>1</td>\n",
       "      <td>4.875</td>\n",
       "      <td>182000</td>\n",
       "      <td>76</td>\n",
       "      <td>2</td>\n",
       "      <td>22</td>\n",
       "      <td>1</td>\n",
       "      <td>18</td>\n",
       "      <td>0.0</td>\n",
       "      <td>776</td>\n",
       "      <td>45</td>\n",
       "      <td>20</td>\n",
       "      <td>14460</td>\n",
       "      <td>0</td>\n",
       "      <td>5.04</td>\n",
       "      <td>2.87</td>\n",
       "      <td>-0.071429</td>\n",
       "      <td>2009</td>\n",
       "      <td>2</td>\n",
       "    </tr>\n",
       "    <tr>\n",
       "      <th>4</th>\n",
       "      <td>3</td>\n",
       "      <td>5.000</td>\n",
       "      <td>149000</td>\n",
       "      <td>75</td>\n",
       "      <td>2</td>\n",
       "      <td>22</td>\n",
       "      <td>1</td>\n",
       "      <td>630</td>\n",
       "      <td>0.0</td>\n",
       "      <td>697</td>\n",
       "      <td>45</td>\n",
       "      <td>25</td>\n",
       "      <td>41180</td>\n",
       "      <td>0</td>\n",
       "      <td>5.04</td>\n",
       "      <td>2.87</td>\n",
       "      <td>-0.047619</td>\n",
       "      <td>2009</td>\n",
       "      <td>2</td>\n",
       "    </tr>\n",
       "  </tbody>\n",
       "</table>\n",
       "</div>"
      ],
      "text/plain": [
       "   origChannel  origIntRate  origUPB  origLTV  numBorrowers  origDebtIncRatio  \\\n",
       "0            3        4.625   195000       52             2                54   \n",
       "1            2        4.875   342000       80             1                54   \n",
       "2            1        5.375    93000       70             1                50   \n",
       "3            1        4.875   182000       76             2                22   \n",
       "4            3        5.000   149000       75             2                22   \n",
       "\n",
       "   loanPurp  zipCode  pMIperct  worstCreditScore  bankNumber  stateNumber  \\\n",
       "0         1       82       0.0               703           4           32   \n",
       "1         1      981       0.0               746           3           50   \n",
       "2         1      496       0.0               780          54           23   \n",
       "3         1       18       0.0               776          45           20   \n",
       "4         1      630       0.0               697          45           25   \n",
       "\n",
       "     mSA  zeroBalCode  fmacRateMin  fredRate  rateDiffAbovePct  origYear  \\\n",
       "0  12100            0         5.04      2.87         -0.119048      2009   \n",
       "1  42660            0         5.04      2.87         -0.071429      2009   \n",
       "2      0            1         5.04      2.87          0.023810      2009   \n",
       "3  14460            0         5.04      2.87         -0.071429      2009   \n",
       "4  41180            0         5.04      2.87         -0.047619      2009   \n",
       "\n",
       "   origMonth  \n",
       "0          2  \n",
       "1          2  \n",
       "2          2  \n",
       "3          2  \n",
       "4          2  "
      ]
     },
     "execution_count": 3,
     "metadata": {},
     "output_type": "execute_result"
    }
   ],
   "source": [
    "df.head()"
   ]
  },
  {
   "cell_type": "code",
   "execution_count": 4,
   "metadata": {},
   "outputs": [
    {
     "data": {
      "text/plain": [
       "origChannel           int64\n",
       "origIntRate         float64\n",
       "origUPB               int64\n",
       "origLTV               int64\n",
       "numBorrowers          int64\n",
       "origDebtIncRatio      int64\n",
       "loanPurp              int64\n",
       "zipCode               int64\n",
       "pMIperct            float64\n",
       "worstCreditScore      int64\n",
       "bankNumber            int64\n",
       "stateNumber           int64\n",
       "mSA                   int64\n",
       "zeroBalCode           int64\n",
       "fmacRateMin         float64\n",
       "fredRate            float64\n",
       "rateDiffAbovePct    float64\n",
       "origYear              int64\n",
       "origMonth             int64\n",
       "dtype: object"
      ]
     },
     "execution_count": 4,
     "metadata": {},
     "output_type": "execute_result"
    }
   ],
   "source": [
    "df.dtypes"
   ]
  },
  {
   "cell_type": "markdown",
   "metadata": {},
   "source": [
    "# For `zeroBalCode`, we want highest possible Recall score\n",
    "Recall is 0 (lowest) to 1 (highest = Perfect Recall)\n",
    "\n",
    "If Recall is low, that means that if you deploy this and try it against newer/incoming data, it will not be able to have good results.\n",
    "\n",
    "Our target variable is categorical/dichotomous (0 / 1) in which 95% of the data is \"0\". If we use a random training set, the model will incorrectly weight the results and result in a low Recall score. \n",
    "\n",
    "To fix this, use an oversampling technique - create 50/50 split of train so the model can figure out how to differentiate better.\n",
    "\n",
    "https://imbalanced-learn.readthedocs.io/en/stable/auto_examples/plot_sampling_strategy_usage.html"
   ]
  },
  {
   "cell_type": "code",
   "execution_count": 5,
   "metadata": {},
   "outputs": [
    {
     "name": "stdout",
     "output_type": "stream",
     "text": [
      "We have 6.46% negative outcomes in our dataset\n"
     ]
    }
   ],
   "source": [
    "good = df.zeroBalCode.value_counts()[0]\n",
    "bad = df.zeroBalCode.value_counts()[1]\n",
    "perct_bad = round(good/bad,2)\n",
    "print(f'We have {perct_bad}% negative outcomes in our dataset')"
   ]
  },
  {
   "cell_type": "code",
   "execution_count": 6,
   "metadata": {},
   "outputs": [],
   "source": [
    "from sklearn.model_selection import train_test_split\n",
    "\n",
    "training_features, test_features, \\\n",
    "training_target, test_target, = train_test_split(\n",
    "    df.drop(['zeroBalCode'], axis=1)\n",
    "    , df['zeroBalCode']\n",
    "    , test_size = .1\n",
    "    , random_state=12\n",
    ")"
   ]
  },
  {
   "cell_type": "code",
   "execution_count": 7,
   "metadata": {},
   "outputs": [],
   "source": [
    "# Further split the training data into training/test\n",
    "x_train, x_val, y_train, y_val = train_test_split(\n",
    "    training_features\n",
    "    , training_target\n",
    "    , test_size = .1\n",
    "    ,random_state=12\n",
    ")"
   ]
  },
  {
   "cell_type": "code",
   "execution_count": 8,
   "metadata": {},
   "outputs": [],
   "source": [
    "# For the training data, randomly sample \n",
    "from imblearn.over_sampling import RandomOverSampler\n",
    "\n",
    "ros = RandomOverSampler(sampling_strategy='minority')\n",
    "x_train_res, y_train_res = ros.fit_sample(x_train, y_train)"
   ]
  },
  {
   "cell_type": "code",
   "execution_count": 9,
   "metadata": {
    "scrolled": true
   },
   "outputs": [
    {
     "name": "stdout",
     "output_type": "stream",
     "text": [
      "#############################################\n",
      "Before oversampling: \"Successful outcome\" crushes \"Negative outcome\" and causes issues:\n",
      "0    76867\n",
      "1    11875\n",
      "Name: zeroBalCode, dtype: int64\n",
      "\n",
      "Before oversampling: \"Successful outcome\" and \"Negative outcome\" are equal\n",
      "1    69206\n",
      "0    69206\n",
      "Name: zeroBalCode, dtype: int64\n"
     ]
    }
   ],
   "source": [
    "print('#############################################')\n",
    "print('Before oversampling: \"Successful outcome\" crushes \"Negative outcome\" and causes issues:')\n",
    "print(training_target.value_counts())\n",
    "print('')\n",
    "print('Before oversampling: \"Successful outcome\" and \"Negative outcome\" are equal')\n",
    "print(y_train_res.value_counts())"
   ]
  },
  {
   "cell_type": "code",
   "execution_count": 10,
   "metadata": {},
   "outputs": [],
   "source": [
    "# Convert to DataFrame to make it easier to export\n",
    "dfFinal = pd.DataFrame(x_train_res)\n",
    "dfFinal['outcome'] = y_train_res\n",
    "\n",
    "# Export the 50 50 train and test dataset\n",
    "dfFinal.to_csv(r'data/20200524/DataPre-2-5050-split.csv')"
   ]
  },
  {
   "cell_type": "code",
   "execution_count": 11,
   "metadata": {},
   "outputs": [
    {
     "name": "stdout",
     "output_type": "stream",
     "text": [
      "#############################################\n",
      "Training set: 138412 rows and 19 columns\n"
     ]
    }
   ],
   "source": [
    "print('#############################################')\n",
    "rows3, cols3 = dfFinal.shape\n",
    "print(f'Training set: {rows3} rows and {cols3} columns')"
   ]
  }
 ],
 "metadata": {
  "kernelspec": {
   "display_name": "Python 3",
   "language": "python",
   "name": "python3"
  },
  "language_info": {
   "codemirror_mode": {
    "name": "ipython",
    "version": 3
   },
   "file_extension": ".py",
   "mimetype": "text/x-python",
   "name": "python",
   "nbconvert_exporter": "python",
   "pygments_lexer": "ipython3",
   "version": "3.7.3"
  }
 },
 "nbformat": 4,
 "nbformat_minor": 2
}
