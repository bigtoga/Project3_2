{
 "cells": [
  {
   "cell_type": "markdown",
   "metadata": {},
   "source": [
    "# Goal: predict whether a loan will end up with maximum profits or not\n",
    "\n",
    "---\n",
    "#### Target variable: `outcome` \n",
    "* Type: **Categorical** \n",
    "* Model type: Classification \n",
    "* Sourced from: `zeroBalCode`\n",
    "* Data: \n",
    "    - \"0\" means \"Closed\" (i.e. a successful outcome for Fannie Mae)\n",
    "    - \"1\" means \"Default\" (i.e. a negative outcome)\n",
    "    \n",
    "---\n",
    "#### This Notebook:\n",
    "* Input required: The output file from \"Scott - Data Pre - 1 - Feature EEE\" notebook\n",
    "    * ../data/DataPre-01-Feature-EEE-2011.csv (train/test)\n",
    "    * ../data/DataPre-01-Feature-EEE-2012.csv (holdout)\n",
    "* Outputs generated: csv of 1 dataframe that has training data: `data/20200524/DataPre-2-5050-split.csv`\n",
    "\n",
    "#### Expected Workflow\n",
    "1. Scott - Data Pre - 1 - Feature EEE\n",
    "2. Scott - Data Pre - 2 - 50 50 split train test\n",
    "3. Scott - Data Pre - 3 - PyCaret Setup\n",
    "4. Scott - Data Pre - 4 - PyCaret Model Tests\n",
    "5. Scott - Model - 1 - Model Cross Validation\n",
    "6. Scott - Model - 2 - Generate pkl file"
   ]
  },
  {
   "cell_type": "code",
   "execution_count": 2,
   "metadata": {},
   "outputs": [],
   "source": [
    "import pandas as pd\n",
    "import numpy as np\n",
    "import matplotlib.pyplot as plt\n",
    "from pycaret.classification import *\n",
    "#!pip install pycaret\n",
    "\n",
    "from sklearn.feature_selection import VarianceThreshold\n",
    "import winsound\n",
    "\n",
    "# Tell Jupyter to display all text, not just \"the last\" and print()\n",
    "from IPython.core.interactiveshell import InteractiveShell\n",
    "InteractiveShell.ast_node_interactivity = 'all'\n",
    "\n",
    "%pwd\n",
    "\n",
    "def DoneNotice(duration_ms = 1000):\n",
    "    duration = duration_ms  # milliseconds\n",
    "    freq = 440  #Hz\n",
    "    winsound.Beep(freq, duration)\n",
    "\n",
    "from IPython.display import Markdown, display\n",
    "def Important(html_tag, message, color):\n",
    "    colorstr = f\"<{html_tag} style='color:{color}'>{message}</{html_tag}>\"\n",
    "    display(Markdown(colorstr))"
   ]
  },
  {
   "cell_type": "markdown",
   "metadata": {},
   "source": [
    "# Importing the data"
   ]
  },
  {
   "cell_type": "code",
   "execution_count": 4,
   "metadata": {},
   "outputs": [],
   "source": [
    "dforig=pd.read_csv(\"../data/DataPre-01-Feature-EEE-2011.csv\")\n",
    "df = dforig.copy()\n",
    "\n",
    "# Remove the weird unnamed column\n",
    "df.drop(['Unnamed: 0'], 1, inplace=True)"
   ]
  },
  {
   "cell_type": "code",
   "execution_count": 5,
   "metadata": {},
   "outputs": [
    {
     "data": {
      "text/html": [
       "<div>\n",
       "<style scoped>\n",
       "    .dataframe tbody tr th:only-of-type {\n",
       "        vertical-align: middle;\n",
       "    }\n",
       "\n",
       "    .dataframe tbody tr th {\n",
       "        vertical-align: top;\n",
       "    }\n",
       "\n",
       "    .dataframe thead th {\n",
       "        text-align: right;\n",
       "    }\n",
       "</style>\n",
       "<table border=\"1\" class=\"dataframe\">\n",
       "  <thead>\n",
       "    <tr style=\"text-align: right;\">\n",
       "      <th></th>\n",
       "      <th>origChannel</th>\n",
       "      <th>origIntRate</th>\n",
       "      <th>origUPB</th>\n",
       "      <th>origLTV</th>\n",
       "      <th>numBorrowers</th>\n",
       "      <th>origDebtIncRatio</th>\n",
       "      <th>loanPurp</th>\n",
       "      <th>worstCreditScore</th>\n",
       "      <th>bankNumber</th>\n",
       "      <th>stateNumber</th>\n",
       "      <th>mSA</th>\n",
       "      <th>zeroBalCode</th>\n",
       "    </tr>\n",
       "  </thead>\n",
       "  <tbody>\n",
       "    <tr>\n",
       "      <th>0</th>\n",
       "      <td>3</td>\n",
       "      <td>4.750</td>\n",
       "      <td>112000</td>\n",
       "      <td>80</td>\n",
       "      <td>1</td>\n",
       "      <td>36</td>\n",
       "      <td>2</td>\n",
       "      <td>697</td>\n",
       "      <td>54</td>\n",
       "      <td>15</td>\n",
       "      <td>28100</td>\n",
       "      <td>0</td>\n",
       "    </tr>\n",
       "    <tr>\n",
       "      <th>1</th>\n",
       "      <td>1</td>\n",
       "      <td>4.600</td>\n",
       "      <td>101000</td>\n",
       "      <td>60</td>\n",
       "      <td>1</td>\n",
       "      <td>32</td>\n",
       "      <td>1</td>\n",
       "      <td>704</td>\n",
       "      <td>54</td>\n",
       "      <td>51</td>\n",
       "      <td>20740</td>\n",
       "      <td>0</td>\n",
       "    </tr>\n",
       "    <tr>\n",
       "      <th>2</th>\n",
       "      <td>1</td>\n",
       "      <td>5.375</td>\n",
       "      <td>123000</td>\n",
       "      <td>70</td>\n",
       "      <td>1</td>\n",
       "      <td>30</td>\n",
       "      <td>1</td>\n",
       "      <td>681</td>\n",
       "      <td>80</td>\n",
       "      <td>15</td>\n",
       "      <td>16980</td>\n",
       "      <td>0</td>\n",
       "    </tr>\n",
       "    <tr>\n",
       "      <th>3</th>\n",
       "      <td>1</td>\n",
       "      <td>4.375</td>\n",
       "      <td>185000</td>\n",
       "      <td>79</td>\n",
       "      <td>1</td>\n",
       "      <td>31</td>\n",
       "      <td>1</td>\n",
       "      <td>804</td>\n",
       "      <td>54</td>\n",
       "      <td>39</td>\n",
       "      <td>37980</td>\n",
       "      <td>0</td>\n",
       "    </tr>\n",
       "    <tr>\n",
       "      <th>4</th>\n",
       "      <td>3</td>\n",
       "      <td>4.375</td>\n",
       "      <td>176000</td>\n",
       "      <td>78</td>\n",
       "      <td>2</td>\n",
       "      <td>30</td>\n",
       "      <td>2</td>\n",
       "      <td>712</td>\n",
       "      <td>73</td>\n",
       "      <td>17</td>\n",
       "      <td>48620</td>\n",
       "      <td>0</td>\n",
       "    </tr>\n",
       "  </tbody>\n",
       "</table>\n",
       "</div>"
      ],
      "text/plain": [
       "   origChannel  origIntRate  origUPB  origLTV  numBorrowers  origDebtIncRatio  \\\n",
       "0            3        4.750   112000       80             1                36   \n",
       "1            1        4.600   101000       60             1                32   \n",
       "2            1        5.375   123000       70             1                30   \n",
       "3            1        4.375   185000       79             1                31   \n",
       "4            3        4.375   176000       78             2                30   \n",
       "\n",
       "   loanPurp  worstCreditScore  bankNumber  stateNumber    mSA  zeroBalCode  \n",
       "0         2               697          54           15  28100            0  \n",
       "1         1               704          54           51  20740            0  \n",
       "2         1               681          80           15  16980            0  \n",
       "3         1               804          54           39  37980            0  \n",
       "4         2               712          73           17  48620            0  "
      ]
     },
     "execution_count": 5,
     "metadata": {},
     "output_type": "execute_result"
    }
   ],
   "source": [
    "df.head()"
   ]
  },
  {
   "cell_type": "code",
   "execution_count": 6,
   "metadata": {},
   "outputs": [
    {
     "data": {
      "text/plain": [
       "origChannel           int64\n",
       "origIntRate         float64\n",
       "origUPB               int64\n",
       "origLTV               int64\n",
       "numBorrowers          int64\n",
       "origDebtIncRatio      int64\n",
       "loanPurp              int64\n",
       "worstCreditScore      int64\n",
       "bankNumber            int64\n",
       "stateNumber           int64\n",
       "mSA                   int64\n",
       "zeroBalCode           int64\n",
       "dtype: object"
      ]
     },
     "execution_count": 6,
     "metadata": {},
     "output_type": "execute_result"
    }
   ],
   "source": [
    "df.dtypes"
   ]
  },
  {
   "cell_type": "markdown",
   "metadata": {},
   "source": [
    "# For `zeroBalCode`, we want highest possible Recall score\n",
    "Recall is 0 (lowest) to 1 (highest = Perfect Recall)\n",
    "\n",
    "If Recall is low, that means that if you deploy this and try it against newer/incoming data, it will not be able to have good results.\n",
    "\n",
    "Our target variable is categorical/dichotomous (0 / 1) in which 95% of the data is \"0\". If we use a random training set, the model will incorrectly weight the results and result in a low Recall score. \n",
    "\n",
    "To fix this, use an oversampling technique - create 50/50 split of train so the model can figure out how to differentiate better.\n",
    "\n",
    "https://imbalanced-learn.readthedocs.io/en/stable/auto_examples/plot_sampling_strategy_usage.html"
   ]
  },
  {
   "cell_type": "code",
   "execution_count": 7,
   "metadata": {},
   "outputs": [
    {
     "name": "stdout",
     "output_type": "stream",
     "text": [
      "We have 7.04% negative outcomes in our dataset\n"
     ]
    }
   ],
   "source": [
    "good = df.zeroBalCode.value_counts()[0]\n",
    "bad = df.zeroBalCode.value_counts()[1]\n",
    "perct_bad = round(good/bad,2)\n",
    "print(f'We have {perct_bad}% negative outcomes in our dataset')"
   ]
  },
  {
   "cell_type": "code",
   "execution_count": 8,
   "metadata": {},
   "outputs": [],
   "source": [
    "from sklearn.model_selection import train_test_split\n",
    "\n",
    "training_features, test_features, \\\n",
    "training_target, test_target, = train_test_split(\n",
    "    df.drop(['zeroBalCode'], axis=1)\n",
    "    , df['zeroBalCode']\n",
    "    , test_size = .1\n",
    "    , random_state=12\n",
    ")"
   ]
  },
  {
   "cell_type": "code",
   "execution_count": 9,
   "metadata": {},
   "outputs": [],
   "source": [
    "# Further split the training data into training/test\n",
    "x_train, x_val, y_train, y_val = train_test_split(\n",
    "    training_features\n",
    "    , training_target\n",
    "    , test_size = .1\n",
    "    ,random_state=12\n",
    ")"
   ]
  },
  {
   "cell_type": "code",
   "execution_count": 12,
   "metadata": {},
   "outputs": [
    {
     "data": {
      "text/markdown": [
       "<h1 style='color:blue'>Oversampling done</h1>"
      ],
      "text/plain": [
       "<IPython.core.display.Markdown object>"
      ]
     },
     "metadata": {},
     "output_type": "display_data"
    }
   ],
   "source": [
    "# For the training data, randomly sample \n",
    "from imblearn.over_sampling import RandomOverSampler\n",
    "\n",
    "ros = RandomOverSampler(sampling_strategy='minority')\n",
    "x_train_res, y_train_res = ros.fit_sample(x_train, y_train)\n",
    "\n",
    "DoneNotice(1000)\n",
    "\n",
    "Important(\"h1\", \"Oversampling done\", 'blue')"
   ]
  },
  {
   "cell_type": "code",
   "execution_count": 13,
   "metadata": {
    "scrolled": true
   },
   "outputs": [
    {
     "name": "stdout",
     "output_type": "stream",
     "text": [
      "#############################################\n",
      "Before oversampling: \"Successful outcome\" crushes \"Negative outcome\" and causes issues:\n",
      "0    9587\n",
      "1    1362\n",
      "Name: zeroBalCode, dtype: int64\n",
      "\n",
      "Before oversampling: \"Successful outcome\" and \"Negative outcome\" are equal\n",
      "1    8614\n",
      "0    8614\n",
      "Name: zeroBalCode, dtype: int64\n"
     ]
    }
   ],
   "source": [
    "print('#############################################')\n",
    "print('Before oversampling: \"Successful outcome\" crushes \"Negative outcome\" and causes issues:')\n",
    "print(training_target.value_counts())\n",
    "print('')\n",
    "print('Before oversampling: \"Successful outcome\" and \"Negative outcome\" are equal')\n",
    "print(y_train_res.value_counts())"
   ]
  },
  {
   "cell_type": "code",
   "execution_count": 14,
   "metadata": {},
   "outputs": [],
   "source": [
    "# Convert to DataFrame to make it easier to export\n",
    "dfFinal = pd.DataFrame(x_train_res)\n",
    "dfFinal['zeroBalCode'] = y_train_res\n",
    "\n",
    "# Export the 50 50 train and test dataset\n",
    "dfFinal.to_csv(r'../data/DataPre-2-5050-split-2011-test.csv')"
   ]
  },
  {
   "cell_type": "code",
   "execution_count": 15,
   "metadata": {},
   "outputs": [
    {
     "name": "stdout",
     "output_type": "stream",
     "text": [
      "#############################################\n",
      "Training set: 17228 rows and 12 columns\n"
     ]
    }
   ],
   "source": [
    "print('#############################################')\n",
    "rows3, cols3 = dfFinal.shape\n",
    "print(f'Training set: {rows3} rows and {cols3} columns')"
   ]
  },
  {
   "cell_type": "code",
   "execution_count": null,
   "metadata": {},
   "outputs": [],
   "source": []
  }
 ],
 "metadata": {
  "kernelspec": {
   "display_name": "Python 3",
   "language": "python",
   "name": "python3"
  },
  "language_info": {
   "codemirror_mode": {
    "name": "ipython",
    "version": 3
   },
   "file_extension": ".py",
   "mimetype": "text/x-python",
   "name": "python",
   "nbconvert_exporter": "python",
   "pygments_lexer": "ipython3",
   "version": "3.7.3"
  }
 },
 "nbformat": 4,
 "nbformat_minor": 2
}
