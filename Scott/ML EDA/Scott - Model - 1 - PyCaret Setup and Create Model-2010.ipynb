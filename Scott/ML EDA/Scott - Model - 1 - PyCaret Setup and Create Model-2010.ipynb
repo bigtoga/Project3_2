{
 "cells": [
  {
   "cell_type": "markdown",
   "metadata": {},
   "source": [
    "# Goal: predict whether a loan will end up with maximum profits or not\n",
    "\n",
    "---\n",
    "#### Target variable: `zeroBalCode` \n",
    "* Type: **Categorical** \n",
    "* Model type: Classification \n",
    "* Sourced from: `zeroBalCode`\n",
    "* Data: \n",
    "    - \"0\" means \"Successful outcome for Fannie Mae\"\n",
    "    - \"1\" means \"Negative outcome for Fannie Mae\"\n",
    "    \n",
    "#### This Notebook:\n",
    "* Input required: The output files from \"Scott - Data Pre - 2 - 50 50 split train test\" notebook\n",
    "    - ../data/DataPre-2-5050-split-2011-test.csv\n",
    "* Outputs generated: Decision on what model to use\n",
    "\n",
    "#### Expected Workflow\n",
    "1. Scott - Data Pre - 1 - Feature EEE\n",
    "2. Scott - Data Pre - 2 - 50 50 split train test\n",
    "3. Scott - Model - 1- PyCaret Setup and Create Model\n",
    "4. Scott - Predict - 1 - Holdout Data"
   ]
  },
  {
   "cell_type": "code",
   "execution_count": 1,
   "metadata": {},
   "outputs": [],
   "source": [
    "import pandas as pd\n",
    "import numpy as np\n",
    "import matplotlib.pyplot as plt\n",
    "from pycaret.classification import *\n",
    "#!pip install pycaret\n",
    "\n",
    "from sklearn.feature_selection import VarianceThreshold\n",
    "\n",
    "import winsound\n",
    "\n",
    "# Tell Jupyter to display all text, not just \"the last\" and print()\n",
    "from IPython.core.interactiveshell import InteractiveShell\n",
    "InteractiveShell.ast_node_interactivity = 'all'\n",
    "\n",
    "%pwd\n",
    "\n",
    "def DoneNotice(duration_ms = 1000):\n",
    "    duration = duration_ms  # milliseconds\n",
    "    freq = 440  #Hz\n",
    "    winsound.Beep(freq, duration)\n",
    "\n",
    "from IPython.display import Markdown, display\n",
    "def Important(html_tag, message, color):\n",
    "    colorstr = f\"<{html_tag} style='color:{color}'>{message}</{html_tag}>\"\n",
    "    display(Markdown(colorstr))"
   ]
  },
  {
   "cell_type": "markdown",
   "metadata": {},
   "source": [
    "# Importing the data"
   ]
  },
  {
   "cell_type": "code",
   "execution_count": 2,
   "metadata": {},
   "outputs": [
    {
     "name": "stdout",
     "output_type": "stream",
     "text": [
      "(27888, 12)\n"
     ]
    },
    {
     "data": {
      "text/html": [
       "<div>\n",
       "<style scoped>\n",
       "    .dataframe tbody tr th:only-of-type {\n",
       "        vertical-align: middle;\n",
       "    }\n",
       "\n",
       "    .dataframe tbody tr th {\n",
       "        vertical-align: top;\n",
       "    }\n",
       "\n",
       "    .dataframe thead th {\n",
       "        text-align: right;\n",
       "    }\n",
       "</style>\n",
       "<table border=\"1\" class=\"dataframe\">\n",
       "  <thead>\n",
       "    <tr style=\"text-align: right;\">\n",
       "      <th></th>\n",
       "      <th>origChannel</th>\n",
       "      <th>origIntRate</th>\n",
       "      <th>origUPB</th>\n",
       "      <th>origLTV</th>\n",
       "      <th>numBorrowers</th>\n",
       "      <th>origDebtIncRatio</th>\n",
       "      <th>loanPurp</th>\n",
       "      <th>worstCreditScore</th>\n",
       "      <th>bankNumber</th>\n",
       "      <th>stateNumber</th>\n",
       "      <th>mSA</th>\n",
       "      <th>zeroBalCode</th>\n",
       "    </tr>\n",
       "  </thead>\n",
       "  <tbody>\n",
       "    <tr>\n",
       "      <th>4578</th>\n",
       "      <td>1</td>\n",
       "      <td>4.500</td>\n",
       "      <td>213000</td>\n",
       "      <td>57</td>\n",
       "      <td>1</td>\n",
       "      <td>30</td>\n",
       "      <td>1</td>\n",
       "      <td>695</td>\n",
       "      <td>54</td>\n",
       "      <td>4</td>\n",
       "      <td>41860</td>\n",
       "      <td>0</td>\n",
       "    </tr>\n",
       "    <tr>\n",
       "      <th>19471</th>\n",
       "      <td>3</td>\n",
       "      <td>4.500</td>\n",
       "      <td>112000</td>\n",
       "      <td>69</td>\n",
       "      <td>1</td>\n",
       "      <td>35</td>\n",
       "      <td>2</td>\n",
       "      <td>805</td>\n",
       "      <td>45</td>\n",
       "      <td>6</td>\n",
       "      <td>35300</td>\n",
       "      <td>1</td>\n",
       "    </tr>\n",
       "    <tr>\n",
       "      <th>13769</th>\n",
       "      <td>3</td>\n",
       "      <td>4.875</td>\n",
       "      <td>288000</td>\n",
       "      <td>80</td>\n",
       "      <td>1</td>\n",
       "      <td>33</td>\n",
       "      <td>2</td>\n",
       "      <td>795</td>\n",
       "      <td>45</td>\n",
       "      <td>20</td>\n",
       "      <td>44140</td>\n",
       "      <td>0</td>\n",
       "    </tr>\n",
       "    <tr>\n",
       "      <th>18285</th>\n",
       "      <td>1</td>\n",
       "      <td>5.875</td>\n",
       "      <td>107000</td>\n",
       "      <td>77</td>\n",
       "      <td>2</td>\n",
       "      <td>40</td>\n",
       "      <td>2</td>\n",
       "      <td>634</td>\n",
       "      <td>80</td>\n",
       "      <td>51</td>\n",
       "      <td>11540</td>\n",
       "      <td>1</td>\n",
       "    </tr>\n",
       "    <tr>\n",
       "      <th>6574</th>\n",
       "      <td>3</td>\n",
       "      <td>5.250</td>\n",
       "      <td>100000</td>\n",
       "      <td>40</td>\n",
       "      <td>1</td>\n",
       "      <td>42</td>\n",
       "      <td>1</td>\n",
       "      <td>754</td>\n",
       "      <td>4</td>\n",
       "      <td>23</td>\n",
       "      <td>19820</td>\n",
       "      <td>1</td>\n",
       "    </tr>\n",
       "  </tbody>\n",
       "</table>\n",
       "</div>"
      ],
      "text/plain": [
       "       origChannel  origIntRate  origUPB  origLTV  numBorrowers  \\\n",
       "4578             1        4.500   213000       57             1   \n",
       "19471            3        4.500   112000       69             1   \n",
       "13769            3        4.875   288000       80             1   \n",
       "18285            1        5.875   107000       77             2   \n",
       "6574             3        5.250   100000       40             1   \n",
       "\n",
       "       origDebtIncRatio  loanPurp  worstCreditScore  bankNumber  stateNumber  \\\n",
       "4578                 30         1               695          54            4   \n",
       "19471                35         2               805          45            6   \n",
       "13769                33         2               795          45           20   \n",
       "18285                40         2               634          80           51   \n",
       "6574                 42         1               754           4           23   \n",
       "\n",
       "         mSA  zeroBalCode  \n",
       "4578   41860            0  \n",
       "19471  35300            1  \n",
       "13769  44140            0  \n",
       "18285  11540            1  \n",
       "6574   19820            1  "
      ]
     },
     "execution_count": 2,
     "metadata": {},
     "output_type": "execute_result"
    }
   ],
   "source": [
    "df = pd.read_csv(\"../data/DataPre-2-5050-split-2010-test.csv\")\n",
    "\n",
    "# Remove the weird unnamed column\n",
    "df.drop(['Unnamed: 0'], 1, inplace=True)\n",
    "\n",
    "print(df.shape)\n",
    "\n",
    "df.sample(5)"
   ]
  },
  {
   "cell_type": "markdown",
   "metadata": {},
   "source": [
    "# Pycaret - Setup with categorical definition\n",
    "\n",
    "#### Normalization\n",
    "https://pycaret.org/normalization/\n",
    "\n",
    "> `normalize: bool, default = False` - When set to True, the feature space is transformed using the normalized_method param. **Generally, linear algorithms perform better with normalized data** however, the results may vary and it is advised to run multiple experiments to evaluate the benefit of normalization."
   ]
  },
  {
   "cell_type": "code",
   "execution_count": 4,
   "metadata": {
    "scrolled": true
   },
   "outputs": [
    {
     "name": "stdout",
     "output_type": "stream",
     "text": [
      " \n",
      "Setup Succesfully Completed!\n"
     ]
    },
    {
     "data": {
      "text/html": [
       "<style  type=\"text/css\" >\n",
       "    #T_d53ac1d4_9f88_11ea_86b0_6c0b84b3712brow15_col1 {\n",
       "            background-color:  lightgreen;\n",
       "        }</style><table id=\"T_d53ac1d4_9f88_11ea_86b0_6c0b84b3712b\" ><thead>    <tr>        <th class=\"blank level0\" ></th>        <th class=\"col_heading level0 col0\" >Description</th>        <th class=\"col_heading level0 col1\" >Value</th>    </tr></thead><tbody>\n",
       "                <tr>\n",
       "                        <th id=\"T_d53ac1d4_9f88_11ea_86b0_6c0b84b3712blevel0_row0\" class=\"row_heading level0 row0\" >0</th>\n",
       "                        <td id=\"T_d53ac1d4_9f88_11ea_86b0_6c0b84b3712brow0_col0\" class=\"data row0 col0\" >session_id</td>\n",
       "                        <td id=\"T_d53ac1d4_9f88_11ea_86b0_6c0b84b3712brow0_col1\" class=\"data row0 col1\" >3674</td>\n",
       "            </tr>\n",
       "            <tr>\n",
       "                        <th id=\"T_d53ac1d4_9f88_11ea_86b0_6c0b84b3712blevel0_row1\" class=\"row_heading level0 row1\" >1</th>\n",
       "                        <td id=\"T_d53ac1d4_9f88_11ea_86b0_6c0b84b3712brow1_col0\" class=\"data row1 col0\" >Target Type</td>\n",
       "                        <td id=\"T_d53ac1d4_9f88_11ea_86b0_6c0b84b3712brow1_col1\" class=\"data row1 col1\" >Binary</td>\n",
       "            </tr>\n",
       "            <tr>\n",
       "                        <th id=\"T_d53ac1d4_9f88_11ea_86b0_6c0b84b3712blevel0_row2\" class=\"row_heading level0 row2\" >2</th>\n",
       "                        <td id=\"T_d53ac1d4_9f88_11ea_86b0_6c0b84b3712brow2_col0\" class=\"data row2 col0\" >Label Encoded</td>\n",
       "                        <td id=\"T_d53ac1d4_9f88_11ea_86b0_6c0b84b3712brow2_col1\" class=\"data row2 col1\" >None</td>\n",
       "            </tr>\n",
       "            <tr>\n",
       "                        <th id=\"T_d53ac1d4_9f88_11ea_86b0_6c0b84b3712blevel0_row3\" class=\"row_heading level0 row3\" >3</th>\n",
       "                        <td id=\"T_d53ac1d4_9f88_11ea_86b0_6c0b84b3712brow3_col0\" class=\"data row3 col0\" >Original Data</td>\n",
       "                        <td id=\"T_d53ac1d4_9f88_11ea_86b0_6c0b84b3712brow3_col1\" class=\"data row3 col1\" >(27888, 12)</td>\n",
       "            </tr>\n",
       "            <tr>\n",
       "                        <th id=\"T_d53ac1d4_9f88_11ea_86b0_6c0b84b3712blevel0_row4\" class=\"row_heading level0 row4\" >4</th>\n",
       "                        <td id=\"T_d53ac1d4_9f88_11ea_86b0_6c0b84b3712brow4_col0\" class=\"data row4 col0\" >Missing Values </td>\n",
       "                        <td id=\"T_d53ac1d4_9f88_11ea_86b0_6c0b84b3712brow4_col1\" class=\"data row4 col1\" >False</td>\n",
       "            </tr>\n",
       "            <tr>\n",
       "                        <th id=\"T_d53ac1d4_9f88_11ea_86b0_6c0b84b3712blevel0_row5\" class=\"row_heading level0 row5\" >5</th>\n",
       "                        <td id=\"T_d53ac1d4_9f88_11ea_86b0_6c0b84b3712brow5_col0\" class=\"data row5 col0\" >Numeric Features </td>\n",
       "                        <td id=\"T_d53ac1d4_9f88_11ea_86b0_6c0b84b3712brow5_col1\" class=\"data row5 col1\" >6</td>\n",
       "            </tr>\n",
       "            <tr>\n",
       "                        <th id=\"T_d53ac1d4_9f88_11ea_86b0_6c0b84b3712blevel0_row6\" class=\"row_heading level0 row6\" >6</th>\n",
       "                        <td id=\"T_d53ac1d4_9f88_11ea_86b0_6c0b84b3712brow6_col0\" class=\"data row6 col0\" >Categorical Features </td>\n",
       "                        <td id=\"T_d53ac1d4_9f88_11ea_86b0_6c0b84b3712brow6_col1\" class=\"data row6 col1\" >5</td>\n",
       "            </tr>\n",
       "            <tr>\n",
       "                        <th id=\"T_d53ac1d4_9f88_11ea_86b0_6c0b84b3712blevel0_row7\" class=\"row_heading level0 row7\" >7</th>\n",
       "                        <td id=\"T_d53ac1d4_9f88_11ea_86b0_6c0b84b3712brow7_col0\" class=\"data row7 col0\" >Ordinal Features </td>\n",
       "                        <td id=\"T_d53ac1d4_9f88_11ea_86b0_6c0b84b3712brow7_col1\" class=\"data row7 col1\" >False</td>\n",
       "            </tr>\n",
       "            <tr>\n",
       "                        <th id=\"T_d53ac1d4_9f88_11ea_86b0_6c0b84b3712blevel0_row8\" class=\"row_heading level0 row8\" >8</th>\n",
       "                        <td id=\"T_d53ac1d4_9f88_11ea_86b0_6c0b84b3712brow8_col0\" class=\"data row8 col0\" >High Cardinality Features </td>\n",
       "                        <td id=\"T_d53ac1d4_9f88_11ea_86b0_6c0b84b3712brow8_col1\" class=\"data row8 col1\" >False</td>\n",
       "            </tr>\n",
       "            <tr>\n",
       "                        <th id=\"T_d53ac1d4_9f88_11ea_86b0_6c0b84b3712blevel0_row9\" class=\"row_heading level0 row9\" >9</th>\n",
       "                        <td id=\"T_d53ac1d4_9f88_11ea_86b0_6c0b84b3712brow9_col0\" class=\"data row9 col0\" >High Cardinality Method </td>\n",
       "                        <td id=\"T_d53ac1d4_9f88_11ea_86b0_6c0b84b3712brow9_col1\" class=\"data row9 col1\" >None</td>\n",
       "            </tr>\n",
       "            <tr>\n",
       "                        <th id=\"T_d53ac1d4_9f88_11ea_86b0_6c0b84b3712blevel0_row10\" class=\"row_heading level0 row10\" >10</th>\n",
       "                        <td id=\"T_d53ac1d4_9f88_11ea_86b0_6c0b84b3712brow10_col0\" class=\"data row10 col0\" >Sampled Data</td>\n",
       "                        <td id=\"T_d53ac1d4_9f88_11ea_86b0_6c0b84b3712brow10_col1\" class=\"data row10 col1\" >(16732, 12)</td>\n",
       "            </tr>\n",
       "            <tr>\n",
       "                        <th id=\"T_d53ac1d4_9f88_11ea_86b0_6c0b84b3712blevel0_row11\" class=\"row_heading level0 row11\" >11</th>\n",
       "                        <td id=\"T_d53ac1d4_9f88_11ea_86b0_6c0b84b3712brow11_col0\" class=\"data row11 col0\" >Transformed Train Set</td>\n",
       "                        <td id=\"T_d53ac1d4_9f88_11ea_86b0_6c0b84b3712brow11_col1\" class=\"data row11 col1\" >(11712, 481)</td>\n",
       "            </tr>\n",
       "            <tr>\n",
       "                        <th id=\"T_d53ac1d4_9f88_11ea_86b0_6c0b84b3712blevel0_row12\" class=\"row_heading level0 row12\" >12</th>\n",
       "                        <td id=\"T_d53ac1d4_9f88_11ea_86b0_6c0b84b3712brow12_col0\" class=\"data row12 col0\" >Transformed Test Set</td>\n",
       "                        <td id=\"T_d53ac1d4_9f88_11ea_86b0_6c0b84b3712brow12_col1\" class=\"data row12 col1\" >(5020, 481)</td>\n",
       "            </tr>\n",
       "            <tr>\n",
       "                        <th id=\"T_d53ac1d4_9f88_11ea_86b0_6c0b84b3712blevel0_row13\" class=\"row_heading level0 row13\" >13</th>\n",
       "                        <td id=\"T_d53ac1d4_9f88_11ea_86b0_6c0b84b3712brow13_col0\" class=\"data row13 col0\" >Numeric Imputer </td>\n",
       "                        <td id=\"T_d53ac1d4_9f88_11ea_86b0_6c0b84b3712brow13_col1\" class=\"data row13 col1\" >mean</td>\n",
       "            </tr>\n",
       "            <tr>\n",
       "                        <th id=\"T_d53ac1d4_9f88_11ea_86b0_6c0b84b3712blevel0_row14\" class=\"row_heading level0 row14\" >14</th>\n",
       "                        <td id=\"T_d53ac1d4_9f88_11ea_86b0_6c0b84b3712brow14_col0\" class=\"data row14 col0\" >Categorical Imputer </td>\n",
       "                        <td id=\"T_d53ac1d4_9f88_11ea_86b0_6c0b84b3712brow14_col1\" class=\"data row14 col1\" >constant</td>\n",
       "            </tr>\n",
       "            <tr>\n",
       "                        <th id=\"T_d53ac1d4_9f88_11ea_86b0_6c0b84b3712blevel0_row15\" class=\"row_heading level0 row15\" >15</th>\n",
       "                        <td id=\"T_d53ac1d4_9f88_11ea_86b0_6c0b84b3712brow15_col0\" class=\"data row15 col0\" >Normalize </td>\n",
       "                        <td id=\"T_d53ac1d4_9f88_11ea_86b0_6c0b84b3712brow15_col1\" class=\"data row15 col1\" >True</td>\n",
       "            </tr>\n",
       "            <tr>\n",
       "                        <th id=\"T_d53ac1d4_9f88_11ea_86b0_6c0b84b3712blevel0_row16\" class=\"row_heading level0 row16\" >16</th>\n",
       "                        <td id=\"T_d53ac1d4_9f88_11ea_86b0_6c0b84b3712brow16_col0\" class=\"data row16 col0\" >Normalize Method </td>\n",
       "                        <td id=\"T_d53ac1d4_9f88_11ea_86b0_6c0b84b3712brow16_col1\" class=\"data row16 col1\" >zscore</td>\n",
       "            </tr>\n",
       "            <tr>\n",
       "                        <th id=\"T_d53ac1d4_9f88_11ea_86b0_6c0b84b3712blevel0_row17\" class=\"row_heading level0 row17\" >17</th>\n",
       "                        <td id=\"T_d53ac1d4_9f88_11ea_86b0_6c0b84b3712brow17_col0\" class=\"data row17 col0\" >Transformation </td>\n",
       "                        <td id=\"T_d53ac1d4_9f88_11ea_86b0_6c0b84b3712brow17_col1\" class=\"data row17 col1\" >False</td>\n",
       "            </tr>\n",
       "            <tr>\n",
       "                        <th id=\"T_d53ac1d4_9f88_11ea_86b0_6c0b84b3712blevel0_row18\" class=\"row_heading level0 row18\" >18</th>\n",
       "                        <td id=\"T_d53ac1d4_9f88_11ea_86b0_6c0b84b3712brow18_col0\" class=\"data row18 col0\" >Transformation Method </td>\n",
       "                        <td id=\"T_d53ac1d4_9f88_11ea_86b0_6c0b84b3712brow18_col1\" class=\"data row18 col1\" >None</td>\n",
       "            </tr>\n",
       "            <tr>\n",
       "                        <th id=\"T_d53ac1d4_9f88_11ea_86b0_6c0b84b3712blevel0_row19\" class=\"row_heading level0 row19\" >19</th>\n",
       "                        <td id=\"T_d53ac1d4_9f88_11ea_86b0_6c0b84b3712brow19_col0\" class=\"data row19 col0\" >PCA </td>\n",
       "                        <td id=\"T_d53ac1d4_9f88_11ea_86b0_6c0b84b3712brow19_col1\" class=\"data row19 col1\" >False</td>\n",
       "            </tr>\n",
       "            <tr>\n",
       "                        <th id=\"T_d53ac1d4_9f88_11ea_86b0_6c0b84b3712blevel0_row20\" class=\"row_heading level0 row20\" >20</th>\n",
       "                        <td id=\"T_d53ac1d4_9f88_11ea_86b0_6c0b84b3712brow20_col0\" class=\"data row20 col0\" >PCA Method </td>\n",
       "                        <td id=\"T_d53ac1d4_9f88_11ea_86b0_6c0b84b3712brow20_col1\" class=\"data row20 col1\" >None</td>\n",
       "            </tr>\n",
       "            <tr>\n",
       "                        <th id=\"T_d53ac1d4_9f88_11ea_86b0_6c0b84b3712blevel0_row21\" class=\"row_heading level0 row21\" >21</th>\n",
       "                        <td id=\"T_d53ac1d4_9f88_11ea_86b0_6c0b84b3712brow21_col0\" class=\"data row21 col0\" >PCA Components </td>\n",
       "                        <td id=\"T_d53ac1d4_9f88_11ea_86b0_6c0b84b3712brow21_col1\" class=\"data row21 col1\" >None</td>\n",
       "            </tr>\n",
       "            <tr>\n",
       "                        <th id=\"T_d53ac1d4_9f88_11ea_86b0_6c0b84b3712blevel0_row22\" class=\"row_heading level0 row22\" >22</th>\n",
       "                        <td id=\"T_d53ac1d4_9f88_11ea_86b0_6c0b84b3712brow22_col0\" class=\"data row22 col0\" >Ignore Low Variance </td>\n",
       "                        <td id=\"T_d53ac1d4_9f88_11ea_86b0_6c0b84b3712brow22_col1\" class=\"data row22 col1\" >False</td>\n",
       "            </tr>\n",
       "            <tr>\n",
       "                        <th id=\"T_d53ac1d4_9f88_11ea_86b0_6c0b84b3712blevel0_row23\" class=\"row_heading level0 row23\" >23</th>\n",
       "                        <td id=\"T_d53ac1d4_9f88_11ea_86b0_6c0b84b3712brow23_col0\" class=\"data row23 col0\" >Combine Rare Levels </td>\n",
       "                        <td id=\"T_d53ac1d4_9f88_11ea_86b0_6c0b84b3712brow23_col1\" class=\"data row23 col1\" >False</td>\n",
       "            </tr>\n",
       "            <tr>\n",
       "                        <th id=\"T_d53ac1d4_9f88_11ea_86b0_6c0b84b3712blevel0_row24\" class=\"row_heading level0 row24\" >24</th>\n",
       "                        <td id=\"T_d53ac1d4_9f88_11ea_86b0_6c0b84b3712brow24_col0\" class=\"data row24 col0\" >Rare Level Threshold </td>\n",
       "                        <td id=\"T_d53ac1d4_9f88_11ea_86b0_6c0b84b3712brow24_col1\" class=\"data row24 col1\" >None</td>\n",
       "            </tr>\n",
       "            <tr>\n",
       "                        <th id=\"T_d53ac1d4_9f88_11ea_86b0_6c0b84b3712blevel0_row25\" class=\"row_heading level0 row25\" >25</th>\n",
       "                        <td id=\"T_d53ac1d4_9f88_11ea_86b0_6c0b84b3712brow25_col0\" class=\"data row25 col0\" >Numeric Binning </td>\n",
       "                        <td id=\"T_d53ac1d4_9f88_11ea_86b0_6c0b84b3712brow25_col1\" class=\"data row25 col1\" >False</td>\n",
       "            </tr>\n",
       "            <tr>\n",
       "                        <th id=\"T_d53ac1d4_9f88_11ea_86b0_6c0b84b3712blevel0_row26\" class=\"row_heading level0 row26\" >26</th>\n",
       "                        <td id=\"T_d53ac1d4_9f88_11ea_86b0_6c0b84b3712brow26_col0\" class=\"data row26 col0\" >Remove Outliers </td>\n",
       "                        <td id=\"T_d53ac1d4_9f88_11ea_86b0_6c0b84b3712brow26_col1\" class=\"data row26 col1\" >False</td>\n",
       "            </tr>\n",
       "            <tr>\n",
       "                        <th id=\"T_d53ac1d4_9f88_11ea_86b0_6c0b84b3712blevel0_row27\" class=\"row_heading level0 row27\" >27</th>\n",
       "                        <td id=\"T_d53ac1d4_9f88_11ea_86b0_6c0b84b3712brow27_col0\" class=\"data row27 col0\" >Outliers Threshold </td>\n",
       "                        <td id=\"T_d53ac1d4_9f88_11ea_86b0_6c0b84b3712brow27_col1\" class=\"data row27 col1\" >None</td>\n",
       "            </tr>\n",
       "            <tr>\n",
       "                        <th id=\"T_d53ac1d4_9f88_11ea_86b0_6c0b84b3712blevel0_row28\" class=\"row_heading level0 row28\" >28</th>\n",
       "                        <td id=\"T_d53ac1d4_9f88_11ea_86b0_6c0b84b3712brow28_col0\" class=\"data row28 col0\" >Remove Multicollinearity </td>\n",
       "                        <td id=\"T_d53ac1d4_9f88_11ea_86b0_6c0b84b3712brow28_col1\" class=\"data row28 col1\" >False</td>\n",
       "            </tr>\n",
       "            <tr>\n",
       "                        <th id=\"T_d53ac1d4_9f88_11ea_86b0_6c0b84b3712blevel0_row29\" class=\"row_heading level0 row29\" >29</th>\n",
       "                        <td id=\"T_d53ac1d4_9f88_11ea_86b0_6c0b84b3712brow29_col0\" class=\"data row29 col0\" >Multicollinearity Threshold </td>\n",
       "                        <td id=\"T_d53ac1d4_9f88_11ea_86b0_6c0b84b3712brow29_col1\" class=\"data row29 col1\" >None</td>\n",
       "            </tr>\n",
       "            <tr>\n",
       "                        <th id=\"T_d53ac1d4_9f88_11ea_86b0_6c0b84b3712blevel0_row30\" class=\"row_heading level0 row30\" >30</th>\n",
       "                        <td id=\"T_d53ac1d4_9f88_11ea_86b0_6c0b84b3712brow30_col0\" class=\"data row30 col0\" >Clustering </td>\n",
       "                        <td id=\"T_d53ac1d4_9f88_11ea_86b0_6c0b84b3712brow30_col1\" class=\"data row30 col1\" >False</td>\n",
       "            </tr>\n",
       "            <tr>\n",
       "                        <th id=\"T_d53ac1d4_9f88_11ea_86b0_6c0b84b3712blevel0_row31\" class=\"row_heading level0 row31\" >31</th>\n",
       "                        <td id=\"T_d53ac1d4_9f88_11ea_86b0_6c0b84b3712brow31_col0\" class=\"data row31 col0\" >Clustering Iteration </td>\n",
       "                        <td id=\"T_d53ac1d4_9f88_11ea_86b0_6c0b84b3712brow31_col1\" class=\"data row31 col1\" >None</td>\n",
       "            </tr>\n",
       "            <tr>\n",
       "                        <th id=\"T_d53ac1d4_9f88_11ea_86b0_6c0b84b3712blevel0_row32\" class=\"row_heading level0 row32\" >32</th>\n",
       "                        <td id=\"T_d53ac1d4_9f88_11ea_86b0_6c0b84b3712brow32_col0\" class=\"data row32 col0\" >Polynomial Features </td>\n",
       "                        <td id=\"T_d53ac1d4_9f88_11ea_86b0_6c0b84b3712brow32_col1\" class=\"data row32 col1\" >False</td>\n",
       "            </tr>\n",
       "            <tr>\n",
       "                        <th id=\"T_d53ac1d4_9f88_11ea_86b0_6c0b84b3712blevel0_row33\" class=\"row_heading level0 row33\" >33</th>\n",
       "                        <td id=\"T_d53ac1d4_9f88_11ea_86b0_6c0b84b3712brow33_col0\" class=\"data row33 col0\" >Polynomial Degree </td>\n",
       "                        <td id=\"T_d53ac1d4_9f88_11ea_86b0_6c0b84b3712brow33_col1\" class=\"data row33 col1\" >None</td>\n",
       "            </tr>\n",
       "            <tr>\n",
       "                        <th id=\"T_d53ac1d4_9f88_11ea_86b0_6c0b84b3712blevel0_row34\" class=\"row_heading level0 row34\" >34</th>\n",
       "                        <td id=\"T_d53ac1d4_9f88_11ea_86b0_6c0b84b3712brow34_col0\" class=\"data row34 col0\" >Trignometry Features </td>\n",
       "                        <td id=\"T_d53ac1d4_9f88_11ea_86b0_6c0b84b3712brow34_col1\" class=\"data row34 col1\" >False</td>\n",
       "            </tr>\n",
       "            <tr>\n",
       "                        <th id=\"T_d53ac1d4_9f88_11ea_86b0_6c0b84b3712blevel0_row35\" class=\"row_heading level0 row35\" >35</th>\n",
       "                        <td id=\"T_d53ac1d4_9f88_11ea_86b0_6c0b84b3712brow35_col0\" class=\"data row35 col0\" >Polynomial Threshold </td>\n",
       "                        <td id=\"T_d53ac1d4_9f88_11ea_86b0_6c0b84b3712brow35_col1\" class=\"data row35 col1\" >None</td>\n",
       "            </tr>\n",
       "            <tr>\n",
       "                        <th id=\"T_d53ac1d4_9f88_11ea_86b0_6c0b84b3712blevel0_row36\" class=\"row_heading level0 row36\" >36</th>\n",
       "                        <td id=\"T_d53ac1d4_9f88_11ea_86b0_6c0b84b3712brow36_col0\" class=\"data row36 col0\" >Group Features </td>\n",
       "                        <td id=\"T_d53ac1d4_9f88_11ea_86b0_6c0b84b3712brow36_col1\" class=\"data row36 col1\" >False</td>\n",
       "            </tr>\n",
       "            <tr>\n",
       "                        <th id=\"T_d53ac1d4_9f88_11ea_86b0_6c0b84b3712blevel0_row37\" class=\"row_heading level0 row37\" >37</th>\n",
       "                        <td id=\"T_d53ac1d4_9f88_11ea_86b0_6c0b84b3712brow37_col0\" class=\"data row37 col0\" >Feature Selection </td>\n",
       "                        <td id=\"T_d53ac1d4_9f88_11ea_86b0_6c0b84b3712brow37_col1\" class=\"data row37 col1\" >False</td>\n",
       "            </tr>\n",
       "            <tr>\n",
       "                        <th id=\"T_d53ac1d4_9f88_11ea_86b0_6c0b84b3712blevel0_row38\" class=\"row_heading level0 row38\" >38</th>\n",
       "                        <td id=\"T_d53ac1d4_9f88_11ea_86b0_6c0b84b3712brow38_col0\" class=\"data row38 col0\" >Features Selection Threshold </td>\n",
       "                        <td id=\"T_d53ac1d4_9f88_11ea_86b0_6c0b84b3712brow38_col1\" class=\"data row38 col1\" >None</td>\n",
       "            </tr>\n",
       "            <tr>\n",
       "                        <th id=\"T_d53ac1d4_9f88_11ea_86b0_6c0b84b3712blevel0_row39\" class=\"row_heading level0 row39\" >39</th>\n",
       "                        <td id=\"T_d53ac1d4_9f88_11ea_86b0_6c0b84b3712brow39_col0\" class=\"data row39 col0\" >Feature Interaction </td>\n",
       "                        <td id=\"T_d53ac1d4_9f88_11ea_86b0_6c0b84b3712brow39_col1\" class=\"data row39 col1\" >False</td>\n",
       "            </tr>\n",
       "            <tr>\n",
       "                        <th id=\"T_d53ac1d4_9f88_11ea_86b0_6c0b84b3712blevel0_row40\" class=\"row_heading level0 row40\" >40</th>\n",
       "                        <td id=\"T_d53ac1d4_9f88_11ea_86b0_6c0b84b3712brow40_col0\" class=\"data row40 col0\" >Feature Ratio </td>\n",
       "                        <td id=\"T_d53ac1d4_9f88_11ea_86b0_6c0b84b3712brow40_col1\" class=\"data row40 col1\" >False</td>\n",
       "            </tr>\n",
       "            <tr>\n",
       "                        <th id=\"T_d53ac1d4_9f88_11ea_86b0_6c0b84b3712blevel0_row41\" class=\"row_heading level0 row41\" >41</th>\n",
       "                        <td id=\"T_d53ac1d4_9f88_11ea_86b0_6c0b84b3712brow41_col0\" class=\"data row41 col0\" >Interaction Threshold </td>\n",
       "                        <td id=\"T_d53ac1d4_9f88_11ea_86b0_6c0b84b3712brow41_col1\" class=\"data row41 col1\" >None</td>\n",
       "            </tr>\n",
       "    </tbody></table>"
      ],
      "text/plain": [
       "<pandas.io.formats.style.Styler at 0x22404ef5eb8>"
      ]
     },
     "metadata": {},
     "output_type": "display_data"
    },
    {
     "data": {
      "text/markdown": [
       "<h1 style='color:blue'>PyCaret setup completed</h1>"
      ],
      "text/plain": [
       "<IPython.core.display.Markdown object>"
      ]
     },
     "metadata": {},
     "output_type": "display_data"
    },
    {
     "name": "stdout",
     "output_type": "stream",
     "text": [
      "Wall time: 49.9 s\n"
     ]
    }
   ],
   "source": [
    "%%time\n",
    "\n",
    "model_setup = setup(\n",
    "    df\n",
    "    , target = 'zeroBalCode' # PyCaret will list this as \"Label\"\n",
    "    , pca = False \n",
    "    # , ignore_low_variance = True # Variance is calculated using the ratio of unique values to the number of samples, and the ratio of the most common value to the frequency of the second most common value.\n",
    "    , normalize = True\n",
    "    , ignore_features = None\n",
    "    # , remove_outliers = True # outliers from the training data are removed using PCA linear dimensionality reduction using the Singular Value Decomposition technique.\n",
    "    , silent = True\n",
    "    , profile = False\n",
    "    , categorical_features = [\n",
    "            'origChannel'\n",
    "            , 'loanPurp'\n",
    "            , 'bankNumber'\n",
    "            , 'stateNumber'\n",
    "            , 'mSA'\n",
    "        ]\n",
    "    , numeric_features = [\n",
    "        'origIntRate'\n",
    "        , 'origUPB'\n",
    "        , 'origLTV'\n",
    "        , 'numBorrowers'\n",
    "        , 'origDebtIncRatio'\n",
    "        , 'worstCreditScore'\n",
    "    ]\n",
    ")\n",
    "\n",
    "DoneNotice(2000)\n",
    "\n",
    "Important(\"h1\", \"PyCaret setup completed\", 'blue')\n",
    "\n",
    "# session_id - if you ever want to reprint the results later, pass the session_id to setup()\n",
    "#      and it will run the setup using the same split of test/train"
   ]
  },
  {
   "cell_type": "markdown",
   "metadata": {},
   "source": [
    "# Decide which model to use"
   ]
  },
  {
   "cell_type": "code",
   "execution_count": 5,
   "metadata": {},
   "outputs": [
    {
     "name": "stdout",
     "output_type": "stream",
     "text": [
      "Wall time: 5min 42s\n"
     ]
    }
   ],
   "source": [
    "%%time\n",
    "\n",
    "# Can influence performance by reducing # of folds (10 is def.) or adding blacklists/exclusions\n",
    "# Regression has about 21 models\n",
    "# Classification has about 15 models\n",
    "# Logistic Regression - ‘lr’\n",
    "# K Nearest Neighbour - ‘knn’\n",
    "# Naives Bayes - ‘nb’\n",
    "# Decision Tree - ‘dt’\n",
    "# SVM (Linear) - ‘svm’\n",
    "# Gaussian Process - ‘gpc’\n",
    "# Ridge Classifier - ‘ridge’\n",
    "# Random Forest - ‘rf’\n",
    "# Quadratic Disc. Analysis - ‘qda’\n",
    "# AdaBoost - ‘ada’\n",
    "# Linear Disc. Analysis - ‘lda’\n",
    "# Extra Trees Classifier - ‘et’\n",
    "# Extreme Gradient Boosting - ‘xgboost’\n",
    "# Light Gradient Boosting - ‘lightgbm’\n",
    "# Cat Boost Classifier - ‘catboost’\n",
    "####### Off by default (enable w \"turbo = False\")\n",
    "# Multi Level Perceptron - ‘mlp’\n",
    "# Gradient Boosting Classifier - ‘gbc’\n",
    "# SVM (RBF) - ‘rbfsvm’\n",
    "# \n",
    "# compare_models(blacklist=['catboost', 'xgboost', 'lightgbm'])\n",
    "# \n",
    "# Slow: \n",
    "#    - Gaussian Process Classifier\n",
    "#    - \n",
    "\n",
    "model_results=compare_models(\n",
    "    fold=10\n",
    "    , blacklist = [\n",
    "            'ada'\n",
    "            , 'knn'\n",
    "            , 'lda'\n",
    "            , 'lr'\n",
    "            , 'nb'\n",
    "            , 'svm'\n",
    "            , 'qda'\n",
    "            , 'rf'\n",
    "            , 'ridge'\n",
    "            , 'gbc'  # let xgboost and lightgbm \n",
    "        ] \n",
    "    ,  round = 4 # number of decimal places to round to. 4 is default\n",
    "    ,  sort = 'Recall'\n",
    "    , turbo = True # True by default. Auto blacklists models that have longer training times. When True, rbfsvm, gpc and mlp are excluded due to longer training times. If you set to False, could take a long time\n",
    ")\n",
    "model_results\n",
    "\n",
    "DoneNotice(2000)"
   ]
  },
  {
   "cell_type": "code",
   "execution_count": 5,
   "metadata": {},
   "outputs": [
    {
     "data": {
      "text/html": [
       "<div>\n",
       "<style scoped>\n",
       "    .dataframe tbody tr th:only-of-type {\n",
       "        vertical-align: middle;\n",
       "    }\n",
       "\n",
       "    .dataframe tbody tr th {\n",
       "        vertical-align: top;\n",
       "    }\n",
       "\n",
       "    .dataframe thead th {\n",
       "        text-align: right;\n",
       "    }\n",
       "</style>\n",
       "<table border=\"1\" class=\"dataframe\">\n",
       "  <thead>\n",
       "    <tr style=\"text-align: right;\">\n",
       "      <th></th>\n",
       "      <th>Accuracy</th>\n",
       "      <th>AUC</th>\n",
       "      <th>Recall</th>\n",
       "      <th>Prec.</th>\n",
       "      <th>F1</th>\n",
       "      <th>Kappa</th>\n",
       "    </tr>\n",
       "  </thead>\n",
       "  <tbody>\n",
       "    <tr>\n",
       "      <th>0</th>\n",
       "      <td>0.9189</td>\n",
       "      <td>0.9711</td>\n",
       "      <td>0.9267</td>\n",
       "      <td>0.9125</td>\n",
       "      <td>0.9195</td>\n",
       "      <td>0.8378</td>\n",
       "    </tr>\n",
       "    <tr>\n",
       "      <th>1</th>\n",
       "      <td>0.9244</td>\n",
       "      <td>0.9777</td>\n",
       "      <td>0.9297</td>\n",
       "      <td>0.9199</td>\n",
       "      <td>0.9248</td>\n",
       "      <td>0.8487</td>\n",
       "    </tr>\n",
       "    <tr>\n",
       "      <th>Mean</th>\n",
       "      <td>0.9216</td>\n",
       "      <td>0.9744</td>\n",
       "      <td>0.9282</td>\n",
       "      <td>0.9162</td>\n",
       "      <td>0.9222</td>\n",
       "      <td>0.8433</td>\n",
       "    </tr>\n",
       "    <tr>\n",
       "      <th>SD</th>\n",
       "      <td>0.0027</td>\n",
       "      <td>0.0033</td>\n",
       "      <td>0.0015</td>\n",
       "      <td>0.0037</td>\n",
       "      <td>0.0026</td>\n",
       "      <td>0.0055</td>\n",
       "    </tr>\n",
       "  </tbody>\n",
       "</table>\n",
       "</div>"
      ],
      "text/plain": [
       "      Accuracy     AUC  Recall   Prec.      F1   Kappa\n",
       "0       0.9189  0.9711  0.9267  0.9125  0.9195  0.8378\n",
       "1       0.9244  0.9777  0.9297  0.9199  0.9248  0.8487\n",
       "Mean    0.9216  0.9744  0.9282  0.9162  0.9222  0.8433\n",
       "SD      0.0027  0.0033  0.0015  0.0037  0.0026  0.0055"
      ]
     },
     "metadata": {},
     "output_type": "display_data"
    }
   ],
   "source": [
    "%%time \n",
    "\n",
    "# Extra Trees Classifier has best balance\n",
    "et = create_model(\n",
    "    'et'\n",
    "    , ensemble = False\n",
    "    , method = None # if ensemble, choose 'Bagging' or 'Boosting'\n",
    "    , fold = 2\n",
    "    , round = 4 # decimal places\n",
    "    , verbose = True\n",
    ")\n",
    "\n",
    "DoneNotice(2000)"
   ]
  },
  {
   "cell_type": "code",
   "execution_count": 7,
   "metadata": {},
   "outputs": [
    {
     "data": {
      "text/html": [
       "<div>\n",
       "<style scoped>\n",
       "    .dataframe tbody tr th:only-of-type {\n",
       "        vertical-align: middle;\n",
       "    }\n",
       "\n",
       "    .dataframe tbody tr th {\n",
       "        vertical-align: top;\n",
       "    }\n",
       "\n",
       "    .dataframe thead th {\n",
       "        text-align: right;\n",
       "    }\n",
       "</style>\n",
       "<table border=\"1\" class=\"dataframe\">\n",
       "  <thead>\n",
       "    <tr style=\"text-align: right;\">\n",
       "      <th></th>\n",
       "      <th>Accuracy</th>\n",
       "      <th>AUC</th>\n",
       "      <th>Recall</th>\n",
       "      <th>Prec.</th>\n",
       "      <th>F1</th>\n",
       "      <th>Kappa</th>\n",
       "    </tr>\n",
       "  </thead>\n",
       "  <tbody>\n",
       "    <tr>\n",
       "      <th>0</th>\n",
       "      <td>0.9027</td>\n",
       "      <td>0.9682</td>\n",
       "      <td>0.9044</td>\n",
       "      <td>0.9014</td>\n",
       "      <td>0.9029</td>\n",
       "      <td>0.8055</td>\n",
       "    </tr>\n",
       "    <tr>\n",
       "      <th>1</th>\n",
       "      <td>0.9266</td>\n",
       "      <td>0.9798</td>\n",
       "      <td>0.9420</td>\n",
       "      <td>0.9139</td>\n",
       "      <td>0.9277</td>\n",
       "      <td>0.8532</td>\n",
       "    </tr>\n",
       "    <tr>\n",
       "      <th>2</th>\n",
       "      <td>0.9334</td>\n",
       "      <td>0.9811</td>\n",
       "      <td>0.9522</td>\n",
       "      <td>0.9178</td>\n",
       "      <td>0.9347</td>\n",
       "      <td>0.8669</td>\n",
       "    </tr>\n",
       "    <tr>\n",
       "      <th>3</th>\n",
       "      <td>0.9249</td>\n",
       "      <td>0.9742</td>\n",
       "      <td>0.9249</td>\n",
       "      <td>0.9249</td>\n",
       "      <td>0.9249</td>\n",
       "      <td>0.8498</td>\n",
       "    </tr>\n",
       "    <tr>\n",
       "      <th>4</th>\n",
       "      <td>0.9215</td>\n",
       "      <td>0.9716</td>\n",
       "      <td>0.9317</td>\n",
       "      <td>0.9130</td>\n",
       "      <td>0.9223</td>\n",
       "      <td>0.8430</td>\n",
       "    </tr>\n",
       "    <tr>\n",
       "      <th>5</th>\n",
       "      <td>0.9010</td>\n",
       "      <td>0.9696</td>\n",
       "      <td>0.9044</td>\n",
       "      <td>0.8983</td>\n",
       "      <td>0.9014</td>\n",
       "      <td>0.8020</td>\n",
       "    </tr>\n",
       "    <tr>\n",
       "      <th>6</th>\n",
       "      <td>0.9283</td>\n",
       "      <td>0.9827</td>\n",
       "      <td>0.9454</td>\n",
       "      <td>0.9142</td>\n",
       "      <td>0.9295</td>\n",
       "      <td>0.8567</td>\n",
       "    </tr>\n",
       "    <tr>\n",
       "      <th>7</th>\n",
       "      <td>0.9334</td>\n",
       "      <td>0.9843</td>\n",
       "      <td>0.9488</td>\n",
       "      <td>0.9205</td>\n",
       "      <td>0.9345</td>\n",
       "      <td>0.8669</td>\n",
       "    </tr>\n",
       "    <tr>\n",
       "      <th>8</th>\n",
       "      <td>0.9198</td>\n",
       "      <td>0.9767</td>\n",
       "      <td>0.9317</td>\n",
       "      <td>0.9100</td>\n",
       "      <td>0.9207</td>\n",
       "      <td>0.8396</td>\n",
       "    </tr>\n",
       "    <tr>\n",
       "      <th>9</th>\n",
       "      <td>0.9369</td>\n",
       "      <td>0.9763</td>\n",
       "      <td>0.9420</td>\n",
       "      <td>0.9324</td>\n",
       "      <td>0.9372</td>\n",
       "      <td>0.8737</td>\n",
       "    </tr>\n",
       "    <tr>\n",
       "      <th>10</th>\n",
       "      <td>0.9266</td>\n",
       "      <td>0.9757</td>\n",
       "      <td>0.9317</td>\n",
       "      <td>0.9223</td>\n",
       "      <td>0.9270</td>\n",
       "      <td>0.8532</td>\n",
       "    </tr>\n",
       "    <tr>\n",
       "      <th>11</th>\n",
       "      <td>0.9078</td>\n",
       "      <td>0.9603</td>\n",
       "      <td>0.8908</td>\n",
       "      <td>0.9223</td>\n",
       "      <td>0.9062</td>\n",
       "      <td>0.8157</td>\n",
       "    </tr>\n",
       "    <tr>\n",
       "      <th>12</th>\n",
       "      <td>0.9128</td>\n",
       "      <td>0.9726</td>\n",
       "      <td>0.9349</td>\n",
       "      <td>0.8951</td>\n",
       "      <td>0.9146</td>\n",
       "      <td>0.8257</td>\n",
       "    </tr>\n",
       "    <tr>\n",
       "      <th>13</th>\n",
       "      <td>0.9299</td>\n",
       "      <td>0.9790</td>\n",
       "      <td>0.9521</td>\n",
       "      <td>0.9115</td>\n",
       "      <td>0.9313</td>\n",
       "      <td>0.8598</td>\n",
       "    </tr>\n",
       "    <tr>\n",
       "      <th>14</th>\n",
       "      <td>0.9368</td>\n",
       "      <td>0.9851</td>\n",
       "      <td>0.9452</td>\n",
       "      <td>0.9293</td>\n",
       "      <td>0.9372</td>\n",
       "      <td>0.8735</td>\n",
       "    </tr>\n",
       "    <tr>\n",
       "      <th>15</th>\n",
       "      <td>0.9111</td>\n",
       "      <td>0.9626</td>\n",
       "      <td>0.9178</td>\n",
       "      <td>0.9054</td>\n",
       "      <td>0.9116</td>\n",
       "      <td>0.8222</td>\n",
       "    </tr>\n",
       "    <tr>\n",
       "      <th>16</th>\n",
       "      <td>0.9316</td>\n",
       "      <td>0.9835</td>\n",
       "      <td>0.9488</td>\n",
       "      <td>0.9175</td>\n",
       "      <td>0.9329</td>\n",
       "      <td>0.8632</td>\n",
       "    </tr>\n",
       "    <tr>\n",
       "      <th>17</th>\n",
       "      <td>0.9350</td>\n",
       "      <td>0.9816</td>\n",
       "      <td>0.9454</td>\n",
       "      <td>0.9264</td>\n",
       "      <td>0.9358</td>\n",
       "      <td>0.8701</td>\n",
       "    </tr>\n",
       "    <tr>\n",
       "      <th>18</th>\n",
       "      <td>0.9453</td>\n",
       "      <td>0.9884</td>\n",
       "      <td>0.9693</td>\n",
       "      <td>0.9251</td>\n",
       "      <td>0.9467</td>\n",
       "      <td>0.8906</td>\n",
       "    </tr>\n",
       "    <tr>\n",
       "      <th>19</th>\n",
       "      <td>0.9248</td>\n",
       "      <td>0.9750</td>\n",
       "      <td>0.9249</td>\n",
       "      <td>0.9249</td>\n",
       "      <td>0.9249</td>\n",
       "      <td>0.8496</td>\n",
       "    </tr>\n",
       "    <tr>\n",
       "      <th>Mean</th>\n",
       "      <td>0.9245</td>\n",
       "      <td>0.9764</td>\n",
       "      <td>0.9344</td>\n",
       "      <td>0.9163</td>\n",
       "      <td>0.9252</td>\n",
       "      <td>0.8490</td>\n",
       "    </tr>\n",
       "    <tr>\n",
       "      <th>SD</th>\n",
       "      <td>0.0117</td>\n",
       "      <td>0.0072</td>\n",
       "      <td>0.0186</td>\n",
       "      <td>0.0101</td>\n",
       "      <td>0.0121</td>\n",
       "      <td>0.0235</td>\n",
       "    </tr>\n",
       "  </tbody>\n",
       "</table>\n",
       "</div>"
      ],
      "text/plain": [
       "      Accuracy     AUC  Recall   Prec.      F1   Kappa\n",
       "0       0.9027  0.9682  0.9044  0.9014  0.9029  0.8055\n",
       "1       0.9266  0.9798  0.9420  0.9139  0.9277  0.8532\n",
       "2       0.9334  0.9811  0.9522  0.9178  0.9347  0.8669\n",
       "3       0.9249  0.9742  0.9249  0.9249  0.9249  0.8498\n",
       "4       0.9215  0.9716  0.9317  0.9130  0.9223  0.8430\n",
       "5       0.9010  0.9696  0.9044  0.8983  0.9014  0.8020\n",
       "6       0.9283  0.9827  0.9454  0.9142  0.9295  0.8567\n",
       "7       0.9334  0.9843  0.9488  0.9205  0.9345  0.8669\n",
       "8       0.9198  0.9767  0.9317  0.9100  0.9207  0.8396\n",
       "9       0.9369  0.9763  0.9420  0.9324  0.9372  0.8737\n",
       "10      0.9266  0.9757  0.9317  0.9223  0.9270  0.8532\n",
       "11      0.9078  0.9603  0.8908  0.9223  0.9062  0.8157\n",
       "12      0.9128  0.9726  0.9349  0.8951  0.9146  0.8257\n",
       "13      0.9299  0.9790  0.9521  0.9115  0.9313  0.8598\n",
       "14      0.9368  0.9851  0.9452  0.9293  0.9372  0.8735\n",
       "15      0.9111  0.9626  0.9178  0.9054  0.9116  0.8222\n",
       "16      0.9316  0.9835  0.9488  0.9175  0.9329  0.8632\n",
       "17      0.9350  0.9816  0.9454  0.9264  0.9358  0.8701\n",
       "18      0.9453  0.9884  0.9693  0.9251  0.9467  0.8906\n",
       "19      0.9248  0.9750  0.9249  0.9249  0.9249  0.8496\n",
       "Mean    0.9245  0.9764  0.9344  0.9163  0.9252  0.8490\n",
       "SD      0.0117  0.0072  0.0186  0.0101  0.0121  0.0235"
      ]
     },
     "metadata": {},
     "output_type": "display_data"
    },
    {
     "name": "stdout",
     "output_type": "stream",
     "text": [
      "Wall time: 1min 59s\n"
     ]
    }
   ],
   "source": [
    "%%time\n",
    "\n",
    "# Extra Trees Classifier has best balance\n",
    "et20 = create_model(\n",
    "    'et'\n",
    "    , ensemble = False\n",
    "    , method = None # if ensemble, choose 'Bagging' or 'Boosting'\n",
    "    , fold = 20\n",
    "    , round = 4 # decimal places\n",
    "    , verbose = True\n",
    ")\n",
    "\n",
    "DoneNotice(2000)"
   ]
  },
  {
   "cell_type": "code",
   "execution_count": 8,
   "metadata": {},
   "outputs": [
    {
     "data": {
      "text/html": [
       "<div>\n",
       "<style scoped>\n",
       "    .dataframe tbody tr th:only-of-type {\n",
       "        vertical-align: middle;\n",
       "    }\n",
       "\n",
       "    .dataframe tbody tr th {\n",
       "        vertical-align: top;\n",
       "    }\n",
       "\n",
       "    .dataframe thead th {\n",
       "        text-align: right;\n",
       "    }\n",
       "</style>\n",
       "<table border=\"1\" class=\"dataframe\">\n",
       "  <thead>\n",
       "    <tr style=\"text-align: right;\">\n",
       "      <th></th>\n",
       "      <th>Accuracy</th>\n",
       "      <th>AUC</th>\n",
       "      <th>Recall</th>\n",
       "      <th>Prec.</th>\n",
       "      <th>F1</th>\n",
       "      <th>Kappa</th>\n",
       "    </tr>\n",
       "  </thead>\n",
       "  <tbody>\n",
       "    <tr>\n",
       "      <th>0</th>\n",
       "      <td>0.8481</td>\n",
       "      <td>0.9379</td>\n",
       "      <td>0.9352</td>\n",
       "      <td>0.7965</td>\n",
       "      <td>0.8603</td>\n",
       "      <td>0.6962</td>\n",
       "    </tr>\n",
       "    <tr>\n",
       "      <th>1</th>\n",
       "      <td>0.8703</td>\n",
       "      <td>0.9527</td>\n",
       "      <td>0.9420</td>\n",
       "      <td>0.8239</td>\n",
       "      <td>0.8790</td>\n",
       "      <td>0.7406</td>\n",
       "    </tr>\n",
       "    <tr>\n",
       "      <th>2</th>\n",
       "      <td>0.8497</td>\n",
       "      <td>0.9372</td>\n",
       "      <td>0.9179</td>\n",
       "      <td>0.8075</td>\n",
       "      <td>0.8592</td>\n",
       "      <td>0.6994</td>\n",
       "    </tr>\n",
       "    <tr>\n",
       "      <th>3</th>\n",
       "      <td>0.8745</td>\n",
       "      <td>0.9500</td>\n",
       "      <td>0.9350</td>\n",
       "      <td>0.8338</td>\n",
       "      <td>0.8815</td>\n",
       "      <td>0.7490</td>\n",
       "    </tr>\n",
       "    <tr>\n",
       "      <th>4</th>\n",
       "      <td>0.8702</td>\n",
       "      <td>0.9518</td>\n",
       "      <td>0.9265</td>\n",
       "      <td>0.8326</td>\n",
       "      <td>0.8770</td>\n",
       "      <td>0.7404</td>\n",
       "    </tr>\n",
       "    <tr>\n",
       "      <th>5</th>\n",
       "      <td>0.8574</td>\n",
       "      <td>0.9379</td>\n",
       "      <td>0.9128</td>\n",
       "      <td>0.8215</td>\n",
       "      <td>0.8648</td>\n",
       "      <td>0.7148</td>\n",
       "    </tr>\n",
       "    <tr>\n",
       "      <th>6</th>\n",
       "      <td>0.8395</td>\n",
       "      <td>0.9416</td>\n",
       "      <td>0.9420</td>\n",
       "      <td>0.7819</td>\n",
       "      <td>0.8545</td>\n",
       "      <td>0.6789</td>\n",
       "    </tr>\n",
       "    <tr>\n",
       "      <th>7</th>\n",
       "      <td>0.8574</td>\n",
       "      <td>0.9476</td>\n",
       "      <td>0.9300</td>\n",
       "      <td>0.8122</td>\n",
       "      <td>0.8671</td>\n",
       "      <td>0.7147</td>\n",
       "    </tr>\n",
       "    <tr>\n",
       "      <th>8</th>\n",
       "      <td>0.8711</td>\n",
       "      <td>0.9458</td>\n",
       "      <td>0.9369</td>\n",
       "      <td>0.8281</td>\n",
       "      <td>0.8791</td>\n",
       "      <td>0.7421</td>\n",
       "    </tr>\n",
       "    <tr>\n",
       "      <th>9</th>\n",
       "      <td>0.8702</td>\n",
       "      <td>0.9563</td>\n",
       "      <td>0.9522</td>\n",
       "      <td>0.8182</td>\n",
       "      <td>0.8801</td>\n",
       "      <td>0.7404</td>\n",
       "    </tr>\n",
       "    <tr>\n",
       "      <th>Mean</th>\n",
       "      <td>0.8608</td>\n",
       "      <td>0.9459</td>\n",
       "      <td>0.9331</td>\n",
       "      <td>0.8156</td>\n",
       "      <td>0.8703</td>\n",
       "      <td>0.7216</td>\n",
       "    </tr>\n",
       "    <tr>\n",
       "      <th>SD</th>\n",
       "      <td>0.0115</td>\n",
       "      <td>0.0066</td>\n",
       "      <td>0.0111</td>\n",
       "      <td>0.0157</td>\n",
       "      <td>0.0097</td>\n",
       "      <td>0.0230</td>\n",
       "    </tr>\n",
       "  </tbody>\n",
       "</table>\n",
       "</div>"
      ],
      "text/plain": [
       "      Accuracy     AUC  Recall   Prec.      F1   Kappa\n",
       "0       0.8481  0.9379  0.9352  0.7965  0.8603  0.6962\n",
       "1       0.8703  0.9527  0.9420  0.8239  0.8790  0.7406\n",
       "2       0.8497  0.9372  0.9179  0.8075  0.8592  0.6994\n",
       "3       0.8745  0.9500  0.9350  0.8338  0.8815  0.7490\n",
       "4       0.8702  0.9518  0.9265  0.8326  0.8770  0.7404\n",
       "5       0.8574  0.9379  0.9128  0.8215  0.8648  0.7148\n",
       "6       0.8395  0.9416  0.9420  0.7819  0.8545  0.6789\n",
       "7       0.8574  0.9476  0.9300  0.8122  0.8671  0.7147\n",
       "8       0.8711  0.9458  0.9369  0.8281  0.8791  0.7421\n",
       "9       0.8702  0.9563  0.9522  0.8182  0.8801  0.7404\n",
       "Mean    0.8608  0.9459  0.9331  0.8156  0.8703  0.7216\n",
       "SD      0.0115  0.0066  0.0111  0.0157  0.0097  0.0230"
      ]
     },
     "metadata": {},
     "output_type": "display_data"
    },
    {
     "name": "stdout",
     "output_type": "stream",
     "text": [
      "Wall time: 1min 46s\n"
     ]
    }
   ],
   "source": [
    "%%time\n",
    "\n",
    "# Can we get it better?\n",
    "tuned_et = tune_model(\n",
    "    estimator = 'et'\n",
    "    ,  fold = 10\n",
    "    ,  round = 4\n",
    "    ,  n_iter = 10 # Number of iterations within the Random Grid Search. For every iteration, the model randomly selects one value from the pre-defined grid of hyperparameters.\n",
    "    ,  optimize = 'Recall'\n",
    "    , ensemble = False\n",
    "    ,  method = None # if ensemble, choose ‘Bagging’ or ‘Boosting’\n",
    "    , verbose = True\n",
    ")\n",
    "\n",
    "DoneNotice(2000)"
   ]
  },
  {
   "cell_type": "code",
   "execution_count": 9,
   "metadata": {},
   "outputs": [
    {
     "data": {
      "image/png": "[encoded data removed]",
      "text/plain": [
       "<Figure size 576x396 with 1 Axes>"
      ]
     },
     "metadata": {},
     "output_type": "display_data"
    },
    {
     "name": "stdout",
     "output_type": "stream",
     "text": [
      "Wall time: 2.47 s\n"
     ]
    }
   ],
   "source": [
    "%%time\n",
    "\n",
    "# How does it perform?\n",
    "plot_model(estimator = et20, plot = 'confusion_matrix')\n",
    "\n",
    "DoneNotice(2000)"
   ]
  },
  {
   "cell_type": "code",
   "execution_count": 10,
   "metadata": {},
   "outputs": [
    {
     "data": {
      "image/png": "[encoded data removed]",
      "text/plain": [
       "<Figure size 576x396 with 1 Axes>"
      ]
     },
     "metadata": {},
     "output_type": "display_data"
    },
    {
     "name": "stdout",
     "output_type": "stream",
     "text": [
      "Wall time: 2.51 s\n"
     ]
    }
   ],
   "source": [
    "%%time\n",
    "\n",
    "# How does the errors report look?\n",
    "plot_model(estimator = et20, plot = 'error')\n",
    "\n",
    "DoneNotice(2000)"
   ]
  },
  {
   "cell_type": "code",
   "execution_count": 18,
   "metadata": {},
   "outputs": [
    {
     "data": {
      "image/png": "[encoded data removed]",
      "text/plain": [
       "<Figure size 504x432 with 1 Axes>"
      ]
     },
     "metadata": {},
     "output_type": "display_data"
    },
    {
     "name": "stdout",
     "output_type": "stream",
     "text": [
      "Wall time: 2.43 s\n"
     ]
    }
   ],
   "source": [
    "%%time\n",
    "\n",
    "# Does \"calibration\" help? Step 1: plot the calibration:\n",
    "plot_model(estimator = et20, plot = 'calibration')\n",
    "\n",
    "DoneNotice(2000)"
   ]
  },
  {
   "cell_type": "code",
   "execution_count": 12,
   "metadata": {},
   "outputs": [
    {
     "data": {
      "text/html": [
       "<div>\n",
       "<style scoped>\n",
       "    .dataframe tbody tr th:only-of-type {\n",
       "        vertical-align: middle;\n",
       "    }\n",
       "\n",
       "    .dataframe tbody tr th {\n",
       "        vertical-align: top;\n",
       "    }\n",
       "\n",
       "    .dataframe thead th {\n",
       "        text-align: right;\n",
       "    }\n",
       "</style>\n",
       "<table border=\"1\" class=\"dataframe\">\n",
       "  <thead>\n",
       "    <tr style=\"text-align: right;\">\n",
       "      <th></th>\n",
       "      <th>Accuracy</th>\n",
       "      <th>AUC</th>\n",
       "      <th>Recall</th>\n",
       "      <th>Prec.</th>\n",
       "      <th>F1</th>\n",
       "      <th>Kappa</th>\n",
       "    </tr>\n",
       "  </thead>\n",
       "  <tbody>\n",
       "    <tr>\n",
       "      <th>0</th>\n",
       "      <td>0.9206</td>\n",
       "      <td>0.9718</td>\n",
       "      <td>0.9027</td>\n",
       "      <td>0.9363</td>\n",
       "      <td>0.9192</td>\n",
       "      <td>0.8413</td>\n",
       "    </tr>\n",
       "    <tr>\n",
       "      <th>1</th>\n",
       "      <td>0.9488</td>\n",
       "      <td>0.9776</td>\n",
       "      <td>0.9352</td>\n",
       "      <td>0.9614</td>\n",
       "      <td>0.9481</td>\n",
       "      <td>0.8976</td>\n",
       "    </tr>\n",
       "    <tr>\n",
       "      <th>2</th>\n",
       "      <td>0.9223</td>\n",
       "      <td>0.9682</td>\n",
       "      <td>0.9060</td>\n",
       "      <td>0.9364</td>\n",
       "      <td>0.9209</td>\n",
       "      <td>0.8446</td>\n",
       "    </tr>\n",
       "    <tr>\n",
       "      <th>3</th>\n",
       "      <td>0.9308</td>\n",
       "      <td>0.9746</td>\n",
       "      <td>0.9214</td>\n",
       "      <td>0.9390</td>\n",
       "      <td>0.9301</td>\n",
       "      <td>0.8617</td>\n",
       "    </tr>\n",
       "    <tr>\n",
       "      <th>4</th>\n",
       "      <td>0.9291</td>\n",
       "      <td>0.9754</td>\n",
       "      <td>0.9128</td>\n",
       "      <td>0.9435</td>\n",
       "      <td>0.9279</td>\n",
       "      <td>0.8582</td>\n",
       "    </tr>\n",
       "    <tr>\n",
       "      <th>5</th>\n",
       "      <td>0.9291</td>\n",
       "      <td>0.9668</td>\n",
       "      <td>0.8991</td>\n",
       "      <td>0.9564</td>\n",
       "      <td>0.9269</td>\n",
       "      <td>0.8582</td>\n",
       "    </tr>\n",
       "    <tr>\n",
       "      <th>6</th>\n",
       "      <td>0.9368</td>\n",
       "      <td>0.9767</td>\n",
       "      <td>0.9369</td>\n",
       "      <td>0.9369</td>\n",
       "      <td>0.9369</td>\n",
       "      <td>0.8736</td>\n",
       "    </tr>\n",
       "    <tr>\n",
       "      <th>7</th>\n",
       "      <td>0.9368</td>\n",
       "      <td>0.9748</td>\n",
       "      <td>0.9232</td>\n",
       "      <td>0.9491</td>\n",
       "      <td>0.9360</td>\n",
       "      <td>0.8736</td>\n",
       "    </tr>\n",
       "    <tr>\n",
       "      <th>8</th>\n",
       "      <td>0.9436</td>\n",
       "      <td>0.9764</td>\n",
       "      <td>0.9334</td>\n",
       "      <td>0.9530</td>\n",
       "      <td>0.9431</td>\n",
       "      <td>0.8873</td>\n",
       "    </tr>\n",
       "    <tr>\n",
       "      <th>9</th>\n",
       "      <td>0.9436</td>\n",
       "      <td>0.9807</td>\n",
       "      <td>0.9352</td>\n",
       "      <td>0.9514</td>\n",
       "      <td>0.9432</td>\n",
       "      <td>0.8873</td>\n",
       "    </tr>\n",
       "    <tr>\n",
       "      <th>Mean</th>\n",
       "      <td>0.9342</td>\n",
       "      <td>0.9743</td>\n",
       "      <td>0.9206</td>\n",
       "      <td>0.9463</td>\n",
       "      <td>0.9332</td>\n",
       "      <td>0.8683</td>\n",
       "    </tr>\n",
       "    <tr>\n",
       "      <th>SD</th>\n",
       "      <td>0.0089</td>\n",
       "      <td>0.0040</td>\n",
       "      <td>0.0138</td>\n",
       "      <td>0.0087</td>\n",
       "      <td>0.0093</td>\n",
       "      <td>0.0178</td>\n",
       "    </tr>\n",
       "  </tbody>\n",
       "</table>\n",
       "</div>"
      ],
      "text/plain": [
       "      Accuracy     AUC  Recall   Prec.      F1   Kappa\n",
       "0       0.9206  0.9718  0.9027  0.9363  0.9192  0.8413\n",
       "1       0.9488  0.9776  0.9352  0.9614  0.9481  0.8976\n",
       "2       0.9223  0.9682  0.9060  0.9364  0.9209  0.8446\n",
       "3       0.9308  0.9746  0.9214  0.9390  0.9301  0.8617\n",
       "4       0.9291  0.9754  0.9128  0.9435  0.9279  0.8582\n",
       "5       0.9291  0.9668  0.8991  0.9564  0.9269  0.8582\n",
       "6       0.9368  0.9767  0.9369  0.9369  0.9369  0.8736\n",
       "7       0.9368  0.9748  0.9232  0.9491  0.9360  0.8736\n",
       "8       0.9436  0.9764  0.9334  0.9530  0.9431  0.8873\n",
       "9       0.9436  0.9807  0.9352  0.9514  0.9432  0.8873\n",
       "Mean    0.9342  0.9743  0.9206  0.9463  0.9332  0.8683\n",
       "SD      0.0089  0.0040  0.0138  0.0087  0.0093  0.0178"
      ]
     },
     "metadata": {},
     "output_type": "display_data"
    },
    {
     "name": "stdout",
     "output_type": "stream",
     "text": [
      "Wall time: 9min 12s\n"
     ]
    }
   ],
   "source": [
    "%%time\n",
    "\n",
    "# Run calibration:\n",
    "calibrated_et = calibrate_model(et20)\n",
    "\n",
    "DoneNotice(2000)"
   ]
  },
  {
   "cell_type": "code",
   "execution_count": 20,
   "metadata": {},
   "outputs": [
    {
     "data": {
      "image/png": "[encoded data removed]",
      "text/plain": [
       "<Figure size 504x432 with 1 Axes>"
      ]
     },
     "metadata": {},
     "output_type": "display_data"
    },
    {
     "name": "stdout",
     "output_type": "stream",
     "text": [
      "Wall time: 2.35 s\n"
     ]
    }
   ],
   "source": [
    "%%time\n",
    "\n",
    "# Step 2: plot the new calibration and analyze\n",
    "plot_model(estimator = et20, plot = 'calibration')\n",
    "\n",
    "DoneNotice(2000)"
   ]
  },
  {
   "cell_type": "code",
   "execution_count": 21,
   "metadata": {},
   "outputs": [
    {
     "data": {
      "text/html": [
       "        <script type=\"text/javascript\">\n",
       "        window.PlotlyConfig = {MathJaxConfig: 'local'};\n",
       "        if (window.MathJax) {MathJax.Hub.Config({SVG: {font: \"STIX-Web\"}});}\n",
       "        if (typeof require !== 'undefined') {\n",
       "        require.undef(\"plotly\");\n",
       "        requirejs.config({\n",
       "            paths: {\n",
       "                'plotly': ['https://cdn.plot.ly/plotly-latest.min']\n",
       "            }\n",
       "        });\n",
       "        require(['plotly'], function(Plotly) {\n",
       "            window._Plotly = Plotly;\n",
       "        });\n",
       "        }\n",
       "        </script>\n",
       "        "
      ]
     },
     "metadata": {},
     "output_type": "display_data"
    },
    {
     "data": {
      "application/vnd.plotly.v1+json": {
       "config": {
        "plotlyServerURL": "https://plot.ly"
       },
       "data": [
        {
         "hoverlabel": {
          "namelength": 0
         },
         "hovertemplate": "Probability Threshold=%{x}<br>Cost Function=%{y}",
         "legendgroup": "",
         "line": {
          "color": "#636efa",
          "dash": "solid",
          "shape": "linear"
         },
         "mode": "lines",
         "name": "",
         "showlegend": false,
         "type": "scatter",
         "x": [
          0,
          0.01,
          0.02,
          0.03,
          0.04,
          0.05,
          0.06,
          0.07,
          0.08,
          0.09,
          0.1,
          0.11,
          0.12,
          0.13,
          0.14,
          0.15,
          0.16,
          0.17,
          0.18,
          0.19,
          0.2,
          0.21,
          0.22,
          0.23,
          0.24,
          0.25,
          0.26,
          0.27,
          0.28,
          0.29,
          0.3,
          0.31,
          0.32,
          0.33,
          0.34,
          0.35000000000000003,
          0.36,
          0.37,
          0.38,
          0.39,
          0.4,
          0.41000000000000003,
          0.42,
          0.43,
          0.44,
          0.45,
          0.46,
          0.47000000000000003,
          0.48,
          0.49,
          0.5,
          0.51,
          0.52,
          0.53,
          0.54,
          0.55,
          0.56,
          0.5700000000000001,
          0.58,
          0.59,
          0.6,
          0.61,
          0.62,
          0.63,
          0.64,
          0.65,
          0.66,
          0.67,
          0.68,
          0.6900000000000001,
          0.7000000000000001,
          0.71,
          0.72,
          0.73,
          0.74,
          0.75,
          0.76,
          0.77,
          0.78,
          0.79,
          0.8,
          0.81,
          0.8200000000000001,
          0.8300000000000001,
          0.84,
          0.85,
          0.86,
          0.87,
          0.88,
          0.89,
          0.9,
          0.91,
          0.92,
          0.93,
          0.9400000000000001,
          0.9500000000000001,
          0.96,
          0.97,
          0.98,
          0.99
         ],
         "xaxis": "x",
         "y": [
          0,
          0,
          0,
          0,
          0,
          0,
          0,
          0,
          0,
          0,
          0,
          0,
          0,
          0,
          0,
          0,
          0,
          0,
          0,
          0,
          0,
          0,
          0,
          0,
          0,
          0,
          0,
          0,
          0,
          0,
          0,
          0,
          0,
          0,
          0,
          0,
          0,
          0,
          0,
          0,
          0,
          0,
          0,
          0,
          0,
          0,
          0,
          0,
          0,
          0,
          0,
          0,
          0,
          0,
          0,
          0,
          0,
          0,
          0,
          0,
          0,
          0,
          0,
          0,
          0,
          0,
          0,
          0,
          0,
          0,
          0,
          0,
          0,
          0,
          0,
          0,
          0,
          0,
          0,
          0,
          0,
          0,
          0,
          0,
          0,
          0,
          0,
          0,
          0,
          0,
          0,
          0,
          0,
          0,
          0,
          0,
          0,
          0,
          0,
          0
         ],
         "yaxis": "y"
        }
       ],
       "layout": {
        "legend": {
         "tracegroupgap": 0
        },
        "margin": {
         "t": 60
        },
        "plot_bgcolor": "rgb(245,245,245)",
        "shapes": [
         {
          "line": {
           "color": "red",
           "width": 2
          },
          "type": "line",
          "x0": 0,
          "x1": 0,
          "y0": 0,
          "y1": 0
         }
        ],
        "template": {
         "data": {
          "bar": [
           {
            "error_x": {
             "color": "#2a3f5f"
            },
            "error_y": {
             "color": "#2a3f5f"
            },
            "marker": {
             "line": {
              "color": "#E5ECF6",
              "width": 0.5
             }
            },
            "type": "bar"
           }
          ],
          "barpolar": [
           {
            "marker": {
             "line": {
              "color": "#E5ECF6",
              "width": 0.5
             }
            },
            "type": "barpolar"
           }
          ],
          "carpet": [
           {
            "aaxis": {
             "endlinecolor": "#2a3f5f",
             "gridcolor": "white",
             "linecolor": "white",
             "minorgridcolor": "white",
             "startlinecolor": "#2a3f5f"
            },
            "baxis": {
             "endlinecolor": "#2a3f5f",
             "gridcolor": "white",
             "linecolor": "white",
             "minorgridcolor": "white",
             "startlinecolor": "#2a3f5f"
            },
            "type": "carpet"
           }
          ],
          "choropleth": [
           {
            "colorbar": {
             "outlinewidth": 0,
             "ticks": ""
            },
            "type": "choropleth"
           }
          ],
          "contour": [
           {
            "colorbar": {
             "outlinewidth": 0,
             "ticks": ""
            },
            "colorscale": [
             [
              0,
              "#0d0887"
             ],
             [
              0.1111111111111111,
              "#46039f"
             ],
             [
              0.2222222222222222,
              "#7201a8"
             ],
             [
              0.3333333333333333,
              "#9c179e"
             ],
             [
              0.4444444444444444,
              "#bd3786"
             ],
             [
              0.5555555555555556,
              "#d8576b"
             ],
             [
              0.6666666666666666,
              "#ed7953"
             ],
             [
              0.7777777777777778,
              "#fb9f3a"
             ],
             [
              0.8888888888888888,
              "#fdca26"
             ],
             [
              1,
              "#f0f921"
             ]
            ],
            "type": "contour"
           }
          ],
          "contourcarpet": [
           {
            "colorbar": {
             "outlinewidth": 0,
             "ticks": ""
            },
            "type": "contourcarpet"
           }
          ],
          "heatmap": [
           {
            "colorbar": {
             "outlinewidth": 0,
             "ticks": ""
            },
            "colorscale": [
             [
              0,
              "#0d0887"
             ],
             [
              0.1111111111111111,
              "#46039f"
             ],
             [
              0.2222222222222222,
              "#7201a8"
             ],
             [
              0.3333333333333333,
              "#9c179e"
             ],
             [
              0.4444444444444444,
              "#bd3786"
             ],
             [
              0.5555555555555556,
              "#d8576b"
             ],
             [
              0.6666666666666666,
              "#ed7953"
             ],
             [
              0.7777777777777778,
              "#fb9f3a"
             ],
             [
              0.8888888888888888,
              "#fdca26"
             ],
             [
              1,
              "#f0f921"
             ]
            ],
            "type": "heatmap"
           }
          ],
          "heatmapgl": [
           {
            "colorbar": {
             "outlinewidth": 0,
             "ticks": ""
            },
            "colorscale": [
             [
              0,
              "#0d0887"
             ],
             [
              0.1111111111111111,
              "#46039f"
             ],
             [
              0.2222222222222222,
              "#7201a8"
             ],
             [
              0.3333333333333333,
              "#9c179e"
             ],
             [
              0.4444444444444444,
              "#bd3786"
             ],
             [
              0.5555555555555556,
              "#d8576b"
             ],
             [
              0.6666666666666666,
              "#ed7953"
             ],
             [
              0.7777777777777778,
              "#fb9f3a"
             ],
             [
              0.8888888888888888,
              "#fdca26"
             ],
             [
              1,
              "#f0f921"
             ]
            ],
            "type": "heatmapgl"
           }
          ],
          "histogram": [
           {
            "marker": {
             "colorbar": {
              "outlinewidth": 0,
              "ticks": ""
             }
            },
            "type": "histogram"
           }
          ],
          "histogram2d": [
           {
            "colorbar": {
             "outlinewidth": 0,
             "ticks": ""
            },
            "colorscale": [
             [
              0,
              "#0d0887"
             ],
             [
              0.1111111111111111,
              "#46039f"
             ],
             [
              0.2222222222222222,
              "#7201a8"
             ],
             [
              0.3333333333333333,
              "#9c179e"
             ],
             [
              0.4444444444444444,
              "#bd3786"
             ],
             [
              0.5555555555555556,
              "#d8576b"
             ],
             [
              0.6666666666666666,
              "#ed7953"
             ],
             [
              0.7777777777777778,
              "#fb9f3a"
             ],
             [
              0.8888888888888888,
              "#fdca26"
             ],
             [
              1,
              "#f0f921"
             ]
            ],
            "type": "histogram2d"
           }
          ],
          "histogram2dcontour": [
           {
            "colorbar": {
             "outlinewidth": 0,
             "ticks": ""
            },
            "colorscale": [
             [
              0,
              "#0d0887"
             ],
             [
              0.1111111111111111,
              "#46039f"
             ],
             [
              0.2222222222222222,
              "#7201a8"
             ],
             [
              0.3333333333333333,
              "#9c179e"
             ],
             [
              0.4444444444444444,
              "#bd3786"
             ],
             [
              0.5555555555555556,
              "#d8576b"
             ],
             [
              0.6666666666666666,
              "#ed7953"
             ],
             [
              0.7777777777777778,
              "#fb9f3a"
             ],
             [
              0.8888888888888888,
              "#fdca26"
             ],
             [
              1,
              "#f0f921"
             ]
            ],
            "type": "histogram2dcontour"
           }
          ],
          "mesh3d": [
           {
            "colorbar": {
             "outlinewidth": 0,
             "ticks": ""
            },
            "type": "mesh3d"
           }
          ],
          "parcoords": [
           {
            "line": {
             "colorbar": {
              "outlinewidth": 0,
              "ticks": ""
             }
            },
            "type": "parcoords"
           }
          ],
          "pie": [
           {
            "automargin": true,
            "type": "pie"
           }
          ],
          "scatter": [
           {
            "marker": {
             "colorbar": {
              "outlinewidth": 0,
              "ticks": ""
             }
            },
            "type": "scatter"
           }
          ],
          "scatter3d": [
           {
            "line": {
             "colorbar": {
              "outlinewidth": 0,
              "ticks": ""
             }
            },
            "marker": {
             "colorbar": {
              "outlinewidth": 0,
              "ticks": ""
             }
            },
            "type": "scatter3d"
           }
          ],
          "scattercarpet": [
           {
            "marker": {
             "colorbar": {
              "outlinewidth": 0,
              "ticks": ""
             }
            },
            "type": "scattercarpet"
           }
          ],
          "scattergeo": [
           {
            "marker": {
             "colorbar": {
              "outlinewidth": 0,
              "ticks": ""
             }
            },
            "type": "scattergeo"
           }
          ],
          "scattergl": [
           {
            "marker": {
             "colorbar": {
              "outlinewidth": 0,
              "ticks": ""
             }
            },
            "type": "scattergl"
           }
          ],
          "scattermapbox": [
           {
            "marker": {
             "colorbar": {
              "outlinewidth": 0,
              "ticks": ""
             }
            },
            "type": "scattermapbox"
           }
          ],
          "scatterpolar": [
           {
            "marker": {
             "colorbar": {
              "outlinewidth": 0,
              "ticks": ""
             }
            },
            "type": "scatterpolar"
           }
          ],
          "scatterpolargl": [
           {
            "marker": {
             "colorbar": {
              "outlinewidth": 0,
              "ticks": ""
             }
            },
            "type": "scatterpolargl"
           }
          ],
          "scatterternary": [
           {
            "marker": {
             "colorbar": {
              "outlinewidth": 0,
              "ticks": ""
             }
            },
            "type": "scatterternary"
           }
          ],
          "surface": [
           {
            "colorbar": {
             "outlinewidth": 0,
             "ticks": ""
            },
            "colorscale": [
             [
              0,
              "#0d0887"
             ],
             [
              0.1111111111111111,
              "#46039f"
             ],
             [
              0.2222222222222222,
              "#7201a8"
             ],
             [
              0.3333333333333333,
              "#9c179e"
             ],
             [
              0.4444444444444444,
              "#bd3786"
             ],
             [
              0.5555555555555556,
              "#d8576b"
             ],
             [
              0.6666666666666666,
              "#ed7953"
             ],
             [
              0.7777777777777778,
              "#fb9f3a"
             ],
             [
              0.8888888888888888,
              "#fdca26"
             ],
             [
              1,
              "#f0f921"
             ]
            ],
            "type": "surface"
           }
          ],
          "table": [
           {
            "cells": {
             "fill": {
              "color": "#EBF0F8"
             },
             "line": {
              "color": "white"
             }
            },
            "header": {
             "fill": {
              "color": "#C8D4E3"
             },
             "line": {
              "color": "white"
             }
            },
            "type": "table"
           }
          ]
         },
         "layout": {
          "annotationdefaults": {
           "arrowcolor": "#2a3f5f",
           "arrowhead": 0,
           "arrowwidth": 1
          },
          "coloraxis": {
           "colorbar": {
            "outlinewidth": 0,
            "ticks": ""
           }
          },
          "colorscale": {
           "diverging": [
            [
             0,
             "#8e0152"
            ],
            [
             0.1,
             "#c51b7d"
            ],
            [
             0.2,
             "#de77ae"
            ],
            [
             0.3,
             "#f1b6da"
            ],
            [
             0.4,
             "#fde0ef"
            ],
            [
             0.5,
             "#f7f7f7"
            ],
            [
             0.6,
             "#e6f5d0"
            ],
            [
             0.7,
             "#b8e186"
            ],
            [
             0.8,
             "#7fbc41"
            ],
            [
             0.9,
             "#4d9221"
            ],
            [
             1,
             "#276419"
            ]
           ],
           "sequential": [
            [
             0,
             "#0d0887"
            ],
            [
             0.1111111111111111,
             "#46039f"
            ],
            [
             0.2222222222222222,
             "#7201a8"
            ],
            [
             0.3333333333333333,
             "#9c179e"
            ],
            [
             0.4444444444444444,
             "#bd3786"
            ],
            [
             0.5555555555555556,
             "#d8576b"
            ],
            [
             0.6666666666666666,
             "#ed7953"
            ],
            [
             0.7777777777777778,
             "#fb9f3a"
            ],
            [
             0.8888888888888888,
             "#fdca26"
            ],
            [
             1,
             "#f0f921"
            ]
           ],
           "sequentialminus": [
            [
             0,
             "#0d0887"
            ],
            [
             0.1111111111111111,
             "#46039f"
            ],
            [
             0.2222222222222222,
             "#7201a8"
            ],
            [
             0.3333333333333333,
             "#9c179e"
            ],
            [
             0.4444444444444444,
             "#bd3786"
            ],
            [
             0.5555555555555556,
             "#d8576b"
            ],
            [
             0.6666666666666666,
             "#ed7953"
            ],
            [
             0.7777777777777778,
             "#fb9f3a"
            ],
            [
             0.8888888888888888,
             "#fdca26"
            ],
            [
             1,
             "#f0f921"
            ]
           ]
          },
          "colorway": [
           "#636efa",
           "#EF553B",
           "#00cc96",
           "#ab63fa",
           "#FFA15A",
           "#19d3f3",
           "#FF6692",
           "#B6E880",
           "#FF97FF",
           "#FECB52"
          ],
          "font": {
           "color": "#2a3f5f"
          },
          "geo": {
           "bgcolor": "white",
           "lakecolor": "white",
           "landcolor": "#E5ECF6",
           "showlakes": true,
           "showland": true,
           "subunitcolor": "white"
          },
          "hoverlabel": {
           "align": "left"
          },
          "hovermode": "closest",
          "mapbox": {
           "style": "light"
          },
          "paper_bgcolor": "white",
          "plot_bgcolor": "#E5ECF6",
          "polar": {
           "angularaxis": {
            "gridcolor": "white",
            "linecolor": "white",
            "ticks": ""
           },
           "bgcolor": "#E5ECF6",
           "radialaxis": {
            "gridcolor": "white",
            "linecolor": "white",
            "ticks": ""
           }
          },
          "scene": {
           "xaxis": {
            "backgroundcolor": "#E5ECF6",
            "gridcolor": "white",
            "gridwidth": 2,
            "linecolor": "white",
            "showbackground": true,
            "ticks": "",
            "zerolinecolor": "white"
           },
           "yaxis": {
            "backgroundcolor": "#E5ECF6",
            "gridcolor": "white",
            "gridwidth": 2,
            "linecolor": "white",
            "showbackground": true,
            "ticks": "",
            "zerolinecolor": "white"
           },
           "zaxis": {
            "backgroundcolor": "#E5ECF6",
            "gridcolor": "white",
            "gridwidth": 2,
            "linecolor": "white",
            "showbackground": true,
            "ticks": "",
            "zerolinecolor": "white"
           }
          },
          "shapedefaults": {
           "line": {
            "color": "#2a3f5f"
           }
          },
          "ternary": {
           "aaxis": {
            "gridcolor": "white",
            "linecolor": "white",
            "ticks": ""
           },
           "baxis": {
            "gridcolor": "white",
            "linecolor": "white",
            "ticks": ""
           },
           "bgcolor": "#E5ECF6",
           "caxis": {
            "gridcolor": "white",
            "linecolor": "white",
            "ticks": ""
           }
          },
          "title": {
           "x": 0.05
          },
          "xaxis": {
           "automargin": true,
           "gridcolor": "white",
           "linecolor": "white",
           "ticks": "",
           "title": {
            "standoff": 15
           },
           "zerolinecolor": "white",
           "zerolinewidth": 2
          },
          "yaxis": {
           "automargin": true,
           "gridcolor": "white",
           "linecolor": "white",
           "ticks": "",
           "title": {
            "standoff": 15
           },
           "zerolinecolor": "white",
           "zerolinewidth": 2
          }
         }
        },
        "title": {
         "text": "ExtraTreesClassifier Probability Threshold Optimization",
         "x": 0.45,
         "xanchor": "center",
         "y": 0.95,
         "yanchor": "top"
        },
        "xaxis": {
         "anchor": "y",
         "domain": [
          0,
          1
         ],
         "title": {
          "text": "Probability Threshold"
         }
        },
        "yaxis": {
         "anchor": "x",
         "domain": [
          0,
          1
         ],
         "title": {
          "text": "Cost Function"
         }
        }
       }
      },
      "text/html": [
       "<div>\n",
       "        \n",
       "        \n",
       "            <div id=\"9b9e71c7-761a-4bfe-a0a0-6b0cbb9b3cc6\" class=\"plotly-graph-div\" style=\"height:525px; width:100%;\"></div>\n",
       "            <script type=\"text/javascript\">\n",
       "                require([\"plotly\"], function(Plotly) {\n",
       "                    window.PLOTLYENV=window.PLOTLYENV || {};\n",
       "                    \n",
       "                if (document.getElementById(\"9b9e71c7-761a-4bfe-a0a0-6b0cbb9b3cc6\")) {\n",
       "                    Plotly.newPlot(\n",
       "                        '9b9e71c7-761a-4bfe-a0a0-6b0cbb9b3cc6',\n",
       "                        [{\"hoverlabel\": {\"namelength\": 0}, \"hovertemplate\": \"Probability Threshold=%{x}<br>Cost Function=%{y}\", \"legendgroup\": \"\", \"line\": {\"color\": \"#636efa\", \"dash\": \"solid\", \"shape\": \"linear\"}, \"mode\": \"lines\", \"name\": \"\", \"showlegend\": false, \"type\": \"scatter\", \"x\": [0.0, 0.01, 0.02, 0.03, 0.04, 0.05, 0.06, 0.07, 0.08, 0.09, 0.1, 0.11, 0.12, 0.13, 0.14, 0.15, 0.16, 0.17, 0.18, 0.19, 0.2, 0.21, 0.22, 0.23, 0.24, 0.25, 0.26, 0.27, 0.28, 0.29, 0.3, 0.31, 0.32, 0.33, 0.34, 0.35000000000000003, 0.36, 0.37, 0.38, 0.39, 0.4, 0.41000000000000003, 0.42, 0.43, 0.44, 0.45, 0.46, 0.47000000000000003, 0.48, 0.49, 0.5, 0.51, 0.52, 0.53, 0.54, 0.55, 0.56, 0.5700000000000001, 0.58, 0.59, 0.6, 0.61, 0.62, 0.63, 0.64, 0.65, 0.66, 0.67, 0.68, 0.6900000000000001, 0.7000000000000001, 0.71, 0.72, 0.73, 0.74, 0.75, 0.76, 0.77, 0.78, 0.79, 0.8, 0.81, 0.8200000000000001, 0.8300000000000001, 0.84, 0.85, 0.86, 0.87, 0.88, 0.89, 0.9, 0.91, 0.92, 0.93, 0.9400000000000001, 0.9500000000000001, 0.96, 0.97, 0.98, 0.99], \"xaxis\": \"x\", \"y\": [0, 0, 0, 0, 0, 0, 0, 0, 0, 0, 0, 0, 0, 0, 0, 0, 0, 0, 0, 0, 0, 0, 0, 0, 0, 0, 0, 0, 0, 0, 0, 0, 0, 0, 0, 0, 0, 0, 0, 0, 0, 0, 0, 0, 0, 0, 0, 0, 0, 0, 0, 0, 0, 0, 0, 0, 0, 0, 0, 0, 0, 0, 0, 0, 0, 0, 0, 0, 0, 0, 0, 0, 0, 0, 0, 0, 0, 0, 0, 0, 0, 0, 0, 0, 0, 0, 0, 0, 0, 0, 0, 0, 0, 0, 0, 0, 0, 0, 0, 0], \"yaxis\": \"y\"}],\n",
       "                        {\"legend\": {\"tracegroupgap\": 0}, \"margin\": {\"t\": 60}, \"plot_bgcolor\": \"rgb(245,245,245)\", \"shapes\": [{\"line\": {\"color\": \"red\", \"width\": 2}, \"type\": \"line\", \"x0\": 0.0, \"x1\": 0.0, \"y0\": 0, \"y1\": 0}], \"template\": {\"data\": {\"bar\": [{\"error_x\": {\"color\": \"#2a3f5f\"}, \"error_y\": {\"color\": \"#2a3f5f\"}, \"marker\": {\"line\": {\"color\": \"#E5ECF6\", \"width\": 0.5}}, \"type\": \"bar\"}], \"barpolar\": [{\"marker\": {\"line\": {\"color\": \"#E5ECF6\", \"width\": 0.5}}, \"type\": \"barpolar\"}], \"carpet\": [{\"aaxis\": {\"endlinecolor\": \"#2a3f5f\", \"gridcolor\": \"white\", \"linecolor\": \"white\", \"minorgridcolor\": \"white\", \"startlinecolor\": \"#2a3f5f\"}, \"baxis\": {\"endlinecolor\": \"#2a3f5f\", \"gridcolor\": \"white\", \"linecolor\": \"white\", \"minorgridcolor\": \"white\", \"startlinecolor\": \"#2a3f5f\"}, \"type\": \"carpet\"}], \"choropleth\": [{\"colorbar\": {\"outlinewidth\": 0, \"ticks\": \"\"}, \"type\": \"choropleth\"}], \"contour\": [{\"colorbar\": {\"outlinewidth\": 0, \"ticks\": \"\"}, \"colorscale\": [[0.0, \"#0d0887\"], [0.1111111111111111, \"#46039f\"], [0.2222222222222222, \"#7201a8\"], [0.3333333333333333, \"#9c179e\"], [0.4444444444444444, \"#bd3786\"], [0.5555555555555556, \"#d8576b\"], [0.6666666666666666, \"#ed7953\"], [0.7777777777777778, \"#fb9f3a\"], [0.8888888888888888, \"#fdca26\"], [1.0, \"#f0f921\"]], \"type\": \"contour\"}], \"contourcarpet\": [{\"colorbar\": {\"outlinewidth\": 0, \"ticks\": \"\"}, \"type\": \"contourcarpet\"}], \"heatmap\": [{\"colorbar\": {\"outlinewidth\": 0, \"ticks\": \"\"}, \"colorscale\": [[0.0, \"#0d0887\"], [0.1111111111111111, \"#46039f\"], [0.2222222222222222, \"#7201a8\"], [0.3333333333333333, \"#9c179e\"], [0.4444444444444444, \"#bd3786\"], [0.5555555555555556, \"#d8576b\"], [0.6666666666666666, \"#ed7953\"], [0.7777777777777778, \"#fb9f3a\"], [0.8888888888888888, \"#fdca26\"], [1.0, \"#f0f921\"]], \"type\": \"heatmap\"}], \"heatmapgl\": [{\"colorbar\": {\"outlinewidth\": 0, \"ticks\": \"\"}, \"colorscale\": [[0.0, \"#0d0887\"], [0.1111111111111111, \"#46039f\"], [0.2222222222222222, \"#7201a8\"], [0.3333333333333333, \"#9c179e\"], [0.4444444444444444, \"#bd3786\"], [0.5555555555555556, \"#d8576b\"], [0.6666666666666666, \"#ed7953\"], [0.7777777777777778, \"#fb9f3a\"], [0.8888888888888888, \"#fdca26\"], [1.0, \"#f0f921\"]], \"type\": \"heatmapgl\"}], \"histogram\": [{\"marker\": {\"colorbar\": {\"outlinewidth\": 0, \"ticks\": \"\"}}, \"type\": \"histogram\"}], \"histogram2d\": [{\"colorbar\": {\"outlinewidth\": 0, \"ticks\": \"\"}, \"colorscale\": [[0.0, \"#0d0887\"], [0.1111111111111111, \"#46039f\"], [0.2222222222222222, \"#7201a8\"], [0.3333333333333333, \"#9c179e\"], [0.4444444444444444, \"#bd3786\"], [0.5555555555555556, \"#d8576b\"], [0.6666666666666666, \"#ed7953\"], [0.7777777777777778, \"#fb9f3a\"], [0.8888888888888888, \"#fdca26\"], [1.0, \"#f0f921\"]], \"type\": \"histogram2d\"}], \"histogram2dcontour\": [{\"colorbar\": {\"outlinewidth\": 0, \"ticks\": \"\"}, \"colorscale\": [[0.0, \"#0d0887\"], [0.1111111111111111, \"#46039f\"], [0.2222222222222222, \"#7201a8\"], [0.3333333333333333, \"#9c179e\"], [0.4444444444444444, \"#bd3786\"], [0.5555555555555556, \"#d8576b\"], [0.6666666666666666, \"#ed7953\"], [0.7777777777777778, \"#fb9f3a\"], [0.8888888888888888, \"#fdca26\"], [1.0, \"#f0f921\"]], \"type\": \"histogram2dcontour\"}], \"mesh3d\": [{\"colorbar\": {\"outlinewidth\": 0, \"ticks\": \"\"}, \"type\": \"mesh3d\"}], \"parcoords\": [{\"line\": {\"colorbar\": {\"outlinewidth\": 0, \"ticks\": \"\"}}, \"type\": \"parcoords\"}], \"pie\": [{\"automargin\": true, \"type\": \"pie\"}], \"scatter\": [{\"marker\": {\"colorbar\": {\"outlinewidth\": 0, \"ticks\": \"\"}}, \"type\": \"scatter\"}], \"scatter3d\": [{\"line\": {\"colorbar\": {\"outlinewidth\": 0, \"ticks\": \"\"}}, \"marker\": {\"colorbar\": {\"outlinewidth\": 0, \"ticks\": \"\"}}, \"type\": \"scatter3d\"}], \"scattercarpet\": [{\"marker\": {\"colorbar\": {\"outlinewidth\": 0, \"ticks\": \"\"}}, \"type\": \"scattercarpet\"}], \"scattergeo\": [{\"marker\": {\"colorbar\": {\"outlinewidth\": 0, \"ticks\": \"\"}}, \"type\": \"scattergeo\"}], \"scattergl\": [{\"marker\": {\"colorbar\": {\"outlinewidth\": 0, \"ticks\": \"\"}}, \"type\": \"scattergl\"}], \"scattermapbox\": [{\"marker\": {\"colorbar\": {\"outlinewidth\": 0, \"ticks\": \"\"}}, \"type\": \"scattermapbox\"}], \"scatterpolar\": [{\"marker\": {\"colorbar\": {\"outlinewidth\": 0, \"ticks\": \"\"}}, \"type\": \"scatterpolar\"}], \"scatterpolargl\": [{\"marker\": {\"colorbar\": {\"outlinewidth\": 0, \"ticks\": \"\"}}, \"type\": \"scatterpolargl\"}], \"scatterternary\": [{\"marker\": {\"colorbar\": {\"outlinewidth\": 0, \"ticks\": \"\"}}, \"type\": \"scatterternary\"}], \"surface\": [{\"colorbar\": {\"outlinewidth\": 0, \"ticks\": \"\"}, \"colorscale\": [[0.0, \"#0d0887\"], [0.1111111111111111, \"#46039f\"], [0.2222222222222222, \"#7201a8\"], [0.3333333333333333, \"#9c179e\"], [0.4444444444444444, \"#bd3786\"], [0.5555555555555556, \"#d8576b\"], [0.6666666666666666, \"#ed7953\"], [0.7777777777777778, \"#fb9f3a\"], [0.8888888888888888, \"#fdca26\"], [1.0, \"#f0f921\"]], \"type\": \"surface\"}], \"table\": [{\"cells\": {\"fill\": {\"color\": \"#EBF0F8\"}, \"line\": {\"color\": \"white\"}}, \"header\": {\"fill\": {\"color\": \"#C8D4E3\"}, \"line\": {\"color\": \"white\"}}, \"type\": \"table\"}]}, \"layout\": {\"annotationdefaults\": {\"arrowcolor\": \"#2a3f5f\", \"arrowhead\": 0, \"arrowwidth\": 1}, \"coloraxis\": {\"colorbar\": {\"outlinewidth\": 0, \"ticks\": \"\"}}, \"colorscale\": {\"diverging\": [[0, \"#8e0152\"], [0.1, \"#c51b7d\"], [0.2, \"#de77ae\"], [0.3, \"#f1b6da\"], [0.4, \"#fde0ef\"], [0.5, \"#f7f7f7\"], [0.6, \"#e6f5d0\"], [0.7, \"#b8e186\"], [0.8, \"#7fbc41\"], [0.9, \"#4d9221\"], [1, \"#276419\"]], \"sequential\": [[0.0, \"#0d0887\"], [0.1111111111111111, \"#46039f\"], [0.2222222222222222, \"#7201a8\"], [0.3333333333333333, \"#9c179e\"], [0.4444444444444444, \"#bd3786\"], [0.5555555555555556, \"#d8576b\"], [0.6666666666666666, \"#ed7953\"], [0.7777777777777778, \"#fb9f3a\"], [0.8888888888888888, \"#fdca26\"], [1.0, \"#f0f921\"]], \"sequentialminus\": [[0.0, \"#0d0887\"], [0.1111111111111111, \"#46039f\"], [0.2222222222222222, \"#7201a8\"], [0.3333333333333333, \"#9c179e\"], [0.4444444444444444, \"#bd3786\"], [0.5555555555555556, \"#d8576b\"], [0.6666666666666666, \"#ed7953\"], [0.7777777777777778, \"#fb9f3a\"], [0.8888888888888888, \"#fdca26\"], [1.0, \"#f0f921\"]]}, \"colorway\": [\"#636efa\", \"#EF553B\", \"#00cc96\", \"#ab63fa\", \"#FFA15A\", \"#19d3f3\", \"#FF6692\", \"#B6E880\", \"#FF97FF\", \"#FECB52\"], \"font\": {\"color\": \"#2a3f5f\"}, \"geo\": {\"bgcolor\": \"white\", \"lakecolor\": \"white\", \"landcolor\": \"#E5ECF6\", \"showlakes\": true, \"showland\": true, \"subunitcolor\": \"white\"}, \"hoverlabel\": {\"align\": \"left\"}, \"hovermode\": \"closest\", \"mapbox\": {\"style\": \"light\"}, \"paper_bgcolor\": \"white\", \"plot_bgcolor\": \"#E5ECF6\", \"polar\": {\"angularaxis\": {\"gridcolor\": \"white\", \"linecolor\": \"white\", \"ticks\": \"\"}, \"bgcolor\": \"#E5ECF6\", \"radialaxis\": {\"gridcolor\": \"white\", \"linecolor\": \"white\", \"ticks\": \"\"}}, \"scene\": {\"xaxis\": {\"backgroundcolor\": \"#E5ECF6\", \"gridcolor\": \"white\", \"gridwidth\": 2, \"linecolor\": \"white\", \"showbackground\": true, \"ticks\": \"\", \"zerolinecolor\": \"white\"}, \"yaxis\": {\"backgroundcolor\": \"#E5ECF6\", \"gridcolor\": \"white\", \"gridwidth\": 2, \"linecolor\": \"white\", \"showbackground\": true, \"ticks\": \"\", \"zerolinecolor\": \"white\"}, \"zaxis\": {\"backgroundcolor\": \"#E5ECF6\", \"gridcolor\": \"white\", \"gridwidth\": 2, \"linecolor\": \"white\", \"showbackground\": true, \"ticks\": \"\", \"zerolinecolor\": \"white\"}}, \"shapedefaults\": {\"line\": {\"color\": \"#2a3f5f\"}}, \"ternary\": {\"aaxis\": {\"gridcolor\": \"white\", \"linecolor\": \"white\", \"ticks\": \"\"}, \"baxis\": {\"gridcolor\": \"white\", \"linecolor\": \"white\", \"ticks\": \"\"}, \"bgcolor\": \"#E5ECF6\", \"caxis\": {\"gridcolor\": \"white\", \"linecolor\": \"white\", \"ticks\": \"\"}}, \"title\": {\"x\": 0.05}, \"xaxis\": {\"automargin\": true, \"gridcolor\": \"white\", \"linecolor\": \"white\", \"ticks\": \"\", \"title\": {\"standoff\": 15}, \"zerolinecolor\": \"white\", \"zerolinewidth\": 2}, \"yaxis\": {\"automargin\": true, \"gridcolor\": \"white\", \"linecolor\": \"white\", \"ticks\": \"\", \"title\": {\"standoff\": 15}, \"zerolinecolor\": \"white\", \"zerolinewidth\": 2}}}, \"title\": {\"text\": \"ExtraTreesClassifier Probability Threshold Optimization\", \"x\": 0.45, \"xanchor\": \"center\", \"y\": 0.95, \"yanchor\": \"top\"}, \"xaxis\": {\"anchor\": \"y\", \"domain\": [0.0, 1.0], \"title\": {\"text\": \"Probability Threshold\"}}, \"yaxis\": {\"anchor\": \"x\", \"domain\": [0.0, 1.0], \"title\": {\"text\": \"Cost Function\"}}},\n",
       "                        {\"responsive\": true}\n",
       "                    ).then(function(){\n",
       "                            \n",
       "var gd = document.getElementById('9b9e71c7-761a-4bfe-a0a0-6b0cbb9b3cc6');\n",
       "var x = new MutationObserver(function (mutations, observer) {{\n",
       "        var display = window.getComputedStyle(gd).display;\n",
       "        if (!display || display === 'none') {{\n",
       "            console.log([gd, 'removed!']);\n",
       "            Plotly.purge(gd);\n",
       "            observer.disconnect();\n",
       "        }}\n",
       "}});\n",
       "\n",
       "// Listen for the removal of the full notebook cells\n",
       "var notebookContainer = gd.closest('#notebook-container');\n",
       "if (notebookContainer) {{\n",
       "    x.observe(notebookContainer, {childList: true});\n",
       "}}\n",
       "\n",
       "// Listen for the clearing of the current output cell\n",
       "var outputEl = gd.closest('.output');\n",
       "if (outputEl) {{\n",
       "    x.observe(outputEl, {childList: true});\n",
       "}}\n",
       "\n",
       "                        })\n",
       "                };\n",
       "                });\n",
       "            </script>\n",
       "        </div>"
      ]
     },
     "metadata": {},
     "output_type": "display_data"
    },
    {
     "name": "stdout",
     "output_type": "stream",
     "text": [
      "Optimized Probability Threshold: 0.0 | Optimized Cost Function: 0\n",
      "Wall time: 5.68 s\n"
     ]
    }
   ],
   "source": [
    "%%time\n",
    "\n",
    "# This function optimizes probability threshold for a trained model using custom cost function that can be defined using combination of True Positives, True Negatives, False Positives (also known as Type I error), and False Negatives (Type II error). This function returns a plot of optimized cost as a function of probability threshold between 0 to 100.\n",
    "# Returns a plot of optimized cost as a function of probability threshold between 0 to 100.\n",
    "optimize_threshold(\n",
    "    estimator = et20\n",
    "    , true_positive = 0\n",
    "    , true_negative = 0\n",
    "    , false_positive = 0\n",
    "    , false_negative = 0\n",
    ")\n",
    "\n",
    "DoneNotice(2000)"
   ]
  },
  {
   "cell_type": "code",
   "execution_count": 22,
   "metadata": {},
   "outputs": [
    {
     "data": {
      "text/html": [
       "<div>\n",
       "<style scoped>\n",
       "    .dataframe tbody tr th:only-of-type {\n",
       "        vertical-align: middle;\n",
       "    }\n",
       "\n",
       "    .dataframe tbody tr th {\n",
       "        vertical-align: top;\n",
       "    }\n",
       "\n",
       "    .dataframe thead th {\n",
       "        text-align: right;\n",
       "    }\n",
       "</style>\n",
       "<table border=\"1\" class=\"dataframe\">\n",
       "  <thead>\n",
       "    <tr style=\"text-align: right;\">\n",
       "      <th></th>\n",
       "      <th>Model</th>\n",
       "      <th>Accuracy</th>\n",
       "      <th>AUC</th>\n",
       "      <th>Recall</th>\n",
       "      <th>Prec.</th>\n",
       "      <th>F1</th>\n",
       "      <th>Kappa</th>\n",
       "    </tr>\n",
       "  </thead>\n",
       "  <tbody>\n",
       "    <tr>\n",
       "      <th>0</th>\n",
       "      <td>Extra Trees Classifier</td>\n",
       "      <td>0.988</td>\n",
       "      <td>0.9989</td>\n",
       "      <td>0.9957</td>\n",
       "      <td>0.9806</td>\n",
       "      <td>0.9881</td>\n",
       "      <td>0.976</td>\n",
       "    </tr>\n",
       "  </tbody>\n",
       "</table>\n",
       "</div>"
      ],
      "text/plain": [
       "                    Model  Accuracy     AUC  Recall   Prec.      F1  Kappa\n",
       "0  Extra Trees Classifier     0.988  0.9989  0.9957  0.9806  0.9881  0.976"
      ]
     },
     "metadata": {},
     "output_type": "display_data"
    },
    {
     "name": "stdout",
     "output_type": "stream",
     "text": [
      "Wall time: 2.45 s\n"
     ]
    }
   ],
   "source": [
    "%%time\n",
    "\n",
    "predict_model(\n",
    "    estimator = et20\n",
    "    , data=None # All features  used during training must be present in the new dataset.\n",
    "    , probability_threshold=None # by default, 0.5\n",
    "    , platform=None\n",
    "    , authentication=None\n",
    ")\n",
    "\n",
    "DoneNotice(2000)"
   ]
  },
  {
   "cell_type": "code",
   "execution_count": 23,
   "metadata": {},
   "outputs": [
    {
     "name": "stdout",
     "output_type": "stream",
     "text": [
      "Wall time: 2 s\n"
     ]
    }
   ],
   "source": [
    "%%time\n",
    "\n",
    "# Learning Curve takes a long time\n",
    "# Don't run this - run the individual reports instead\n",
    "# evaluate_model(et20)\n",
    "\n",
    "DoneNotice(2000)"
   ]
  },
  {
   "cell_type": "code",
   "execution_count": 13,
   "metadata": {},
   "outputs": [
    {
     "name": "stdout",
     "output_type": "stream",
     "text": [
      "Wall time: 18.3 s\n"
     ]
    }
   ],
   "source": [
    "%%time\n",
    "\n",
    "# Finalize the model for production\n",
    "finalize_model(et20)\n",
    "\n",
    "DoneNotice(2000)"
   ]
  },
  {
   "cell_type": "code",
   "execution_count": 14,
   "metadata": {},
   "outputs": [
    {
     "name": "stdout",
     "output_type": "stream",
     "text": [
      "Transformation Pipeline and Model Succesfully Saved\n",
      "Wall time: 2.08 s\n"
     ]
    }
   ],
   "source": [
    "%%time\n",
    "\n",
    "# Save it!\n",
    "save_model(et20, '../models/et20200526_2010', verbose=True)\n",
    "\n",
    "DoneNotice(2000)"
   ]
  },
  {
   "cell_type": "code",
   "execution_count": null,
   "metadata": {},
   "outputs": [],
   "source": []
  }
 ],
 "metadata": {
  "kernelspec": {
   "display_name": "Python 3",
   "language": "python",
   "name": "python3"
  },
  "language_info": {
   "codemirror_mode": {
    "name": "ipython",
    "version": 3
   },
   "file_extension": ".py",
   "mimetype": "text/x-python",
   "name": "python",
   "nbconvert_exporter": "python",
   "pygments_lexer": "ipython3",
   "version": "3.7.3"
  }
 },
 "nbformat": 4,
 "nbformat_minor": 2
}
