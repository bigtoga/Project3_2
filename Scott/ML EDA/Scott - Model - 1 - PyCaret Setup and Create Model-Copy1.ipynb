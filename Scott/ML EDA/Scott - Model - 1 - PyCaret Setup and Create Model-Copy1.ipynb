{
 "cells": [
  {
   "cell_type": "markdown",
   "metadata": {},
   "source": [
    "# Goal: predict whether a loan will end up with maximum profits or not\n",
    "\n",
    "---\n",
    "#### Target variable: `outcome` \n",
    "* Type: **Categorical** \n",
    "* Model type: Classification \n",
    "* Sourced from: `zeroBalCode`\n",
    "* Data: \n",
    "    - \"0\" means \"Closed\" (i.e. a successful outcome for Fannie Mae)\n",
    "    - \"1\" means \"Default\" (i.e. a negative outcome)\n",
    "\n",
    "---\n",
    "#### This Notebook:\n",
    "* Input required: The output files from \"Scott - Data Pre - 2 - 50 50 split train test\" notebook\n",
    "* Outputs generated: Decision on what model to use\n",
    "\n",
    "#### Expected Workflow\n",
    "1. Scott - Data Pre - 1 - Feature EEE\n",
    "2. Scott - Data Pre - 2 - 50 50 split train test\n",
    "3. Scott - Model - 1- PyCaret Setup and Create Model"
   ]
  },
  {
   "cell_type": "code",
   "execution_count": 1,
   "metadata": {},
   "outputs": [],
   "source": [
    "import pandas as pd\n",
    "import numpy as np\n",
    "import matplotlib.pyplot as plt\n",
    "from pycaret.classification import *\n",
    "#!pip install pycaret\n",
    "\n",
    "from sklearn.feature_selection import VarianceThreshold"
   ]
  },
  {
   "cell_type": "markdown",
   "metadata": {},
   "source": [
    "# Importing the data"
   ]
  },
  {
   "cell_type": "code",
   "execution_count": 2,
   "metadata": {},
   "outputs": [
    {
     "name": "stdout",
     "output_type": "stream",
     "text": [
      "(138412, 19)\n"
     ]
    },
    {
     "data": {
      "text/html": [
       "<div>\n",
       "<style scoped>\n",
       "    .dataframe tbody tr th:only-of-type {\n",
       "        vertical-align: middle;\n",
       "    }\n",
       "\n",
       "    .dataframe tbody tr th {\n",
       "        vertical-align: top;\n",
       "    }\n",
       "\n",
       "    .dataframe thead th {\n",
       "        text-align: right;\n",
       "    }\n",
       "</style>\n",
       "<table border=\"1\" class=\"dataframe\">\n",
       "  <thead>\n",
       "    <tr style=\"text-align: right;\">\n",
       "      <th></th>\n",
       "      <th>origChannel</th>\n",
       "      <th>origIntRate</th>\n",
       "      <th>origUPB</th>\n",
       "      <th>origLTV</th>\n",
       "      <th>numBorrowers</th>\n",
       "      <th>origDebtIncRatio</th>\n",
       "      <th>loanPurp</th>\n",
       "      <th>zipCode</th>\n",
       "      <th>pMIperct</th>\n",
       "      <th>worstCreditScore</th>\n",
       "      <th>bankNumber</th>\n",
       "      <th>stateNumber</th>\n",
       "      <th>mSA</th>\n",
       "      <th>fmacRateMin</th>\n",
       "      <th>fredRate</th>\n",
       "      <th>rateDiffAbovePct</th>\n",
       "      <th>origYear</th>\n",
       "      <th>origMonth</th>\n",
       "      <th>outcome</th>\n",
       "    </tr>\n",
       "  </thead>\n",
       "  <tbody>\n",
       "    <tr>\n",
       "      <th>130979</th>\n",
       "      <td>3</td>\n",
       "      <td>4.625</td>\n",
       "      <td>183000</td>\n",
       "      <td>59</td>\n",
       "      <td>2</td>\n",
       "      <td>40</td>\n",
       "      <td>2</td>\n",
       "      <td>834</td>\n",
       "      <td>0.0</td>\n",
       "      <td>718</td>\n",
       "      <td>4</td>\n",
       "      <td>14</td>\n",
       "      <td>0</td>\n",
       "      <td>4.87</td>\n",
       "      <td>3.21</td>\n",
       "      <td>-0.080517</td>\n",
       "      <td>2009</td>\n",
       "      <td>10</td>\n",
       "      <td>1</td>\n",
       "    </tr>\n",
       "    <tr>\n",
       "      <th>106286</th>\n",
       "      <td>3</td>\n",
       "      <td>4.875</td>\n",
       "      <td>150000</td>\n",
       "      <td>56</td>\n",
       "      <td>2</td>\n",
       "      <td>35</td>\n",
       "      <td>1</td>\n",
       "      <td>734</td>\n",
       "      <td>0.0</td>\n",
       "      <td>683</td>\n",
       "      <td>45</td>\n",
       "      <td>37</td>\n",
       "      <td>0</td>\n",
       "      <td>4.36</td>\n",
       "      <td>2.94</td>\n",
       "      <td>0.085746</td>\n",
       "      <td>2010</td>\n",
       "      <td>8</td>\n",
       "      <td>1</td>\n",
       "    </tr>\n",
       "    <tr>\n",
       "      <th>118964</th>\n",
       "      <td>1</td>\n",
       "      <td>5.125</td>\n",
       "      <td>272000</td>\n",
       "      <td>80</td>\n",
       "      <td>1</td>\n",
       "      <td>38</td>\n",
       "      <td>2</td>\n",
       "      <td>897</td>\n",
       "      <td>0.0</td>\n",
       "      <td>717</td>\n",
       "      <td>45</td>\n",
       "      <td>34</td>\n",
       "      <td>0</td>\n",
       "      <td>4.85</td>\n",
       "      <td>3.02</td>\n",
       "      <td>-0.004854</td>\n",
       "      <td>2009</td>\n",
       "      <td>3</td>\n",
       "      <td>1</td>\n",
       "    </tr>\n",
       "    <tr>\n",
       "      <th>96837</th>\n",
       "      <td>3</td>\n",
       "      <td>5.500</td>\n",
       "      <td>160000</td>\n",
       "      <td>80</td>\n",
       "      <td>1</td>\n",
       "      <td>32</td>\n",
       "      <td>1</td>\n",
       "      <td>834</td>\n",
       "      <td>0.0</td>\n",
       "      <td>736</td>\n",
       "      <td>15</td>\n",
       "      <td>14</td>\n",
       "      <td>26820</td>\n",
       "      <td>4.85</td>\n",
       "      <td>3.02</td>\n",
       "      <td>0.067961</td>\n",
       "      <td>2009</td>\n",
       "      <td>3</td>\n",
       "      <td>1</td>\n",
       "    </tr>\n",
       "    <tr>\n",
       "      <th>38125</th>\n",
       "      <td>1</td>\n",
       "      <td>3.750</td>\n",
       "      <td>79000</td>\n",
       "      <td>65</td>\n",
       "      <td>1</td>\n",
       "      <td>34</td>\n",
       "      <td>1</td>\n",
       "      <td>446</td>\n",
       "      <td>0.0</td>\n",
       "      <td>703</td>\n",
       "      <td>54</td>\n",
       "      <td>36</td>\n",
       "      <td>0</td>\n",
       "      <td>3.88</td>\n",
       "      <td>2.03</td>\n",
       "      <td>-0.080882</td>\n",
       "      <td>2012</td>\n",
       "      <td>3</td>\n",
       "      <td>0</td>\n",
       "    </tr>\n",
       "  </tbody>\n",
       "</table>\n",
       "</div>"
      ],
      "text/plain": [
       "        origChannel  origIntRate  origUPB  origLTV  numBorrowers  \\\n",
       "130979            3        4.625   183000       59             2   \n",
       "106286            3        4.875   150000       56             2   \n",
       "118964            1        5.125   272000       80             1   \n",
       "96837             3        5.500   160000       80             1   \n",
       "38125             1        3.750    79000       65             1   \n",
       "\n",
       "        origDebtIncRatio  loanPurp  zipCode  pMIperct  worstCreditScore  \\\n",
       "130979                40         2      834       0.0               718   \n",
       "106286                35         1      734       0.0               683   \n",
       "118964                38         2      897       0.0               717   \n",
       "96837                 32         1      834       0.0               736   \n",
       "38125                 34         1      446       0.0               703   \n",
       "\n",
       "        bankNumber  stateNumber    mSA  fmacRateMin  fredRate  \\\n",
       "130979           4           14      0         4.87      3.21   \n",
       "106286          45           37      0         4.36      2.94   \n",
       "118964          45           34      0         4.85      3.02   \n",
       "96837           15           14  26820         4.85      3.02   \n",
       "38125           54           36      0         3.88      2.03   \n",
       "\n",
       "        rateDiffAbovePct  origYear  origMonth  outcome  \n",
       "130979         -0.080517      2009         10        1  \n",
       "106286          0.085746      2010          8        1  \n",
       "118964         -0.004854      2009          3        1  \n",
       "96837           0.067961      2009          3        1  \n",
       "38125          -0.080882      2012          3        0  "
      ]
     },
     "execution_count": 2,
     "metadata": {},
     "output_type": "execute_result"
    }
   ],
   "source": [
    "df = pd.read_csv(\"data/20200524/DataPre-2-5050-split.csv\")\n",
    "\n",
    "# Remove the weird unnamed column\n",
    "df.drop(['Unnamed: 0'], 1, inplace=True)\n",
    "\n",
    "print(df.shape)\n",
    "\n",
    "df.sample(5)"
   ]
  },
  {
   "cell_type": "markdown",
   "metadata": {},
   "source": [
    "# Changing this to limited inputs"
   ]
  },
  {
   "cell_type": "code",
   "execution_count": 7,
   "metadata": {},
   "outputs": [
    {
     "data": {
      "text/html": [
       "<div>\n",
       "<style scoped>\n",
       "    .dataframe tbody tr th:only-of-type {\n",
       "        vertical-align: middle;\n",
       "    }\n",
       "\n",
       "    .dataframe tbody tr th {\n",
       "        vertical-align: top;\n",
       "    }\n",
       "\n",
       "    .dataframe thead th {\n",
       "        text-align: right;\n",
       "    }\n",
       "</style>\n",
       "<table border=\"1\" class=\"dataframe\">\n",
       "  <thead>\n",
       "    <tr style=\"text-align: right;\">\n",
       "      <th></th>\n",
       "      <th>origIntRate</th>\n",
       "      <th>origUPB</th>\n",
       "      <th>origLTV</th>\n",
       "      <th>origDebtIncRatio</th>\n",
       "      <th>worstCreditScore</th>\n",
       "      <th>bankNumber</th>\n",
       "      <th>stateNumber</th>\n",
       "      <th>rateDiffAbovePct</th>\n",
       "      <th>mSA</th>\n",
       "      <th>outcome</th>\n",
       "    </tr>\n",
       "  </thead>\n",
       "  <tbody>\n",
       "    <tr>\n",
       "      <th>50671</th>\n",
       "      <td>4.500</td>\n",
       "      <td>272000</td>\n",
       "      <td>75</td>\n",
       "      <td>46</td>\n",
       "      <td>735</td>\n",
       "      <td>54</td>\n",
       "      <td>33</td>\n",
       "      <td>-0.142857</td>\n",
       "      <td>42140</td>\n",
       "      <td>0</td>\n",
       "    </tr>\n",
       "    <tr>\n",
       "      <th>84771</th>\n",
       "      <td>5.375</td>\n",
       "      <td>52000</td>\n",
       "      <td>80</td>\n",
       "      <td>28</td>\n",
       "      <td>668</td>\n",
       "      <td>0</td>\n",
       "      <td>25</td>\n",
       "      <td>0.068588</td>\n",
       "      <td>44180</td>\n",
       "      <td>1</td>\n",
       "    </tr>\n",
       "    <tr>\n",
       "      <th>22492</th>\n",
       "      <td>4.500</td>\n",
       "      <td>408000</td>\n",
       "      <td>80</td>\n",
       "      <td>32</td>\n",
       "      <td>748</td>\n",
       "      <td>54</td>\n",
       "      <td>22</td>\n",
       "      <td>0.053864</td>\n",
       "      <td>38860</td>\n",
       "      <td>0</td>\n",
       "    </tr>\n",
       "    <tr>\n",
       "      <th>3407</th>\n",
       "      <td>5.125</td>\n",
       "      <td>220000</td>\n",
       "      <td>76</td>\n",
       "      <td>53</td>\n",
       "      <td>652</td>\n",
       "      <td>80</td>\n",
       "      <td>9</td>\n",
       "      <td>-0.004854</td>\n",
       "      <td>27260</td>\n",
       "      <td>1</td>\n",
       "    </tr>\n",
       "    <tr>\n",
       "      <th>60296</th>\n",
       "      <td>4.875</td>\n",
       "      <td>174000</td>\n",
       "      <td>47</td>\n",
       "      <td>47</td>\n",
       "      <td>699</td>\n",
       "      <td>4</td>\n",
       "      <td>50</td>\n",
       "      <td>0.001027</td>\n",
       "      <td>42660</td>\n",
       "      <td>0</td>\n",
       "    </tr>\n",
       "  </tbody>\n",
       "</table>\n",
       "</div>"
      ],
      "text/plain": [
       "       origIntRate  origUPB  origLTV  origDebtIncRatio  worstCreditScore  \\\n",
       "50671        4.500   272000       75                46               735   \n",
       "84771        5.375    52000       80                28               668   \n",
       "22492        4.500   408000       80                32               748   \n",
       "3407         5.125   220000       76                53               652   \n",
       "60296        4.875   174000       47                47               699   \n",
       "\n",
       "       bankNumber  stateNumber  rateDiffAbovePct    mSA  outcome  \n",
       "50671          54           33         -0.142857  42140        0  \n",
       "84771           0           25          0.068588  44180        1  \n",
       "22492          54           22          0.053864  38860        0  \n",
       "3407           80            9         -0.004854  27260        1  \n",
       "60296           4           50          0.001027  42660        0  "
      ]
     },
     "execution_count": 7,
     "metadata": {},
     "output_type": "execute_result"
    }
   ],
   "source": [
    "# origIntRate, origUPB, origLTV, origDebtIncRatio, stateNumber, fredRate. The target is outcome\n",
    "#    - 'fredRate' Treasury\n",
    "#    - fmacRate: Freddie Mac releases weekly data. Kip took the lowest avg of the four weeks for this loan\n",
    "#    - fmacRate: Allows us to bin all loans for a given month\n",
    "#    - rateDiffAbovePct - remember Kip saying Tableau showing this was highly predictive\n",
    "#    - msa - if '0' that references US territory (Guam, etc). Maybe lots of defaults here\n",
    "dfTest = df[[\n",
    "    'origIntRate'\n",
    "    , 'origUPB'\n",
    "    , 'origLTV'\n",
    "    , 'origDebtIncRatio'\n",
    "    , 'worstCreditScore'\n",
    "    , 'bankNumber'\n",
    "    , 'stateNumber'\n",
    "    , 'rateDiffAbovePct'\n",
    "    , 'mSA'\n",
    "    , 'outcome'\n",
    "]].copy()\n",
    "\n",
    "dfTest.sample(5)"
   ]
  },
  {
   "cell_type": "code",
   "execution_count": 8,
   "metadata": {
    "scrolled": true
   },
   "outputs": [
    {
     "name": "stdout",
     "output_type": "stream",
     "text": [
      "dfStatesOnly: 114094 rows\n",
      "['origIntRate', 'origUPB', 'origLTV', 'origDebtIncRatio', 'worstCreditScore', 'bankNumber', 'stateNumber', 'rateDiffAbovePct', 'mSA', 'outcome']\n"
     ]
    }
   ],
   "source": [
    "# Two sets: one with all mSAs and another with dropping the \"0\"\n",
    "dfStatesOnly = dfTest[dfTest[\"mSA\"] > 0].copy()\n",
    "\n",
    "rows, cols = dfStatesOnly.shape\n",
    "print(f'dfStatesOnly: {rows} rows')\n",
    "\n",
    "print(dfStatesOnly.columns.to_list())"
   ]
  },
  {
   "cell_type": "markdown",
   "metadata": {},
   "source": [
    "# Pycaret - Setup with categorical definition\n",
    "\n",
    "#### Normalization\n",
    "https://pycaret.org/normalization/\n",
    "\n",
    "> `normalize: bool, default = False` - When set to True, the feature space is transformed using the normalized_method param. **Generally, linear algorithms perform better with normalized data** however, the results may vary and it is advised to run multiple experiments to evaluate the benefit of normalization."
   ]
  },
  {
   "cell_type": "code",
   "execution_count": null,
   "metadata": {
    "scrolled": true
   },
   "outputs": [
    {
     "data": {
      "application/vnd.jupyter.widget-view+json": {
       "model_id": "4dbd2d4e463541648a77f5e4108d66c3",
       "version_major": 2,
       "version_minor": 0
      },
      "text/plain": [
       "IntProgress(value=0, description='Processing: ', max=13)"
      ]
     },
     "metadata": {},
     "output_type": "display_data"
    },
    {
     "data": {
      "text/html": [
       "<div>\n",
       "<style scoped>\n",
       "    .dataframe tbody tr th:only-of-type {\n",
       "        vertical-align: middle;\n",
       "    }\n",
       "\n",
       "    .dataframe tbody tr th {\n",
       "        vertical-align: top;\n",
       "    }\n",
       "\n",
       "    .dataframe thead th {\n",
       "        text-align: right;\n",
       "    }\n",
       "</style>\n",
       "<table border=\"1\" class=\"dataframe\">\n",
       "  <thead>\n",
       "    <tr style=\"text-align: right;\">\n",
       "      <th></th>\n",
       "      <th></th>\n",
       "      <th></th>\n",
       "    </tr>\n",
       "    <tr>\n",
       "      <th></th>\n",
       "      <th></th>\n",
       "      <th></th>\n",
       "    </tr>\n",
       "  </thead>\n",
       "  <tbody>\n",
       "    <tr>\n",
       "      <th>Initiated</th>\n",
       "      <td>. . . . . . . . . . . . . . . . . .</td>\n",
       "      <td>22:00:45</td>\n",
       "    </tr>\n",
       "    <tr>\n",
       "      <th>Status</th>\n",
       "      <td>. . . . . . . . . . . . . . . . . .</td>\n",
       "      <td>Waiting for input</td>\n",
       "    </tr>\n",
       "    <tr>\n",
       "      <th>ETC</th>\n",
       "      <td>. . . . . . . . . . . . . . . . . .</td>\n",
       "      <td>0.0 Seconds Remaining</td>\n",
       "    </tr>\n",
       "  </tbody>\n",
       "</table>\n",
       "</div>"
      ],
      "text/plain": [
       "                                                                     \n",
       "                                                                     \n",
       "Initiated  . . . . . . . . . . . . . . . . . .               22:00:45\n",
       "Status     . . . . . . . . . . . . . . . . . .      Waiting for input\n",
       "ETC        . . . . . . . . . . . . . . . . . .  0.0 Seconds Remaining"
      ]
     },
     "metadata": {},
     "output_type": "display_data"
    },
    {
     "data": {
      "text/html": [
       "        <script type=\"text/javascript\">\n",
       "        window.PlotlyConfig = {MathJaxConfig: 'local'};\n",
       "        if (window.MathJax) {MathJax.Hub.Config({SVG: {font: \"STIX-Web\"}});}\n",
       "        if (typeof require !== 'undefined') {\n",
       "        require.undef(\"plotly\");\n",
       "        requirejs.config({\n",
       "            paths: {\n",
       "                'plotly': ['https://cdn.plot.ly/plotly-latest.min']\n",
       "            }\n",
       "        });\n",
       "        require(['plotly'], function(Plotly) {\n",
       "            window._Plotly = Plotly;\n",
       "        });\n",
       "        }\n",
       "        </script>\n",
       "        "
      ]
     },
     "metadata": {},
     "output_type": "display_data"
    },
    {
     "data": {
      "text/html": [
       "<style type='text/css'>\n",
       ".datatable table.frame { margin-bottom: 0; }\n",
       ".datatable table.frame thead { border-bottom: none; }\n",
       ".datatable table.frame tr.coltypes td {  color: #FFFFFF;  line-height: 6px;  padding: 0 0.5em;}\n",
       ".datatable .boolean { background: #DDDD99; }\n",
       ".datatable .object  { background: #565656; }\n",
       ".datatable .integer { background: #5D9E5D; }\n",
       ".datatable .float   { background: #4040CC; }\n",
       ".datatable .string  { background: #CC4040; }\n",
       ".datatable .row_index {  background: var(--jp-border-color3);  border-right: 1px solid var(--jp-border-color0);  color: var(--jp-ui-font-color3);  font-size: 9px;}\n",
       ".datatable .frame tr.coltypes .row_index {  background: var(--jp-border-color0);}\n",
       ".datatable th:nth-child(2) { padding-left: 12px; }\n",
       ".datatable .hellipsis {  color: var(--jp-cell-editor-border-color);}\n",
       ".datatable .vellipsis {  background: var(--jp-layout-color0);  color: var(--jp-cell-editor-border-color);}\n",
       ".datatable .na {  color: var(--jp-cell-editor-border-color);  font-size: 80%;}\n",
       ".datatable .footer { font-size: 9px; }\n",
       ".datatable .frame_dimensions {  background: var(--jp-border-color3);  border-top: 1px solid var(--jp-border-color0);  color: var(--jp-ui-font-color3);  display: inline-block;  opacity: 0.6;  padding: 1px 10px 1px 5px;}\n",
       "</style>\n"
      ],
      "text/plain": [
       "<IPython.core.display.HTML object>"
      ]
     },
     "metadata": {},
     "output_type": "display_data"
    },
    {
     "data": {
      "application/vnd.plotly.v1+json": {
       "config": {
        "plotlyServerURL": "https://plot.ly"
       },
       "data": [
        {
         "hoverlabel": {
          "namelength": 0
         },
         "hovertemplate": "Metric Name=Accuracy<br>Sample=%{x}<br>Metric=%{y}",
         "legendgroup": "Metric Name=Accuracy",
         "line": {
          "color": "#636efa",
          "dash": "solid",
          "shape": "linear"
         },
         "mode": "lines",
         "name": "Metric Name=Accuracy",
         "showlegend": true,
         "type": "scatter",
         "x": [
          0.1,
          0.2,
          0.3,
          0.4,
          0.5,
          0.6,
          0.7,
          0.8,
          0.9,
          0.99
         ],
         "xaxis": "x",
         "y": [
          0.7195571955719557,
          0.7207872078720787,
          0.7160430548436699,
          0.7212270315983701,
          0.7208930438526354,
          0.7223987698616094,
          0.7227835866795537,
          0.7224186976243561,
          0.7255766273705792,
          0.725118041749503
         ],
         "yaxis": "y"
        },
        {
         "hoverlabel": {
          "namelength": 0
         },
         "hovertemplate": "Metric Name=AUC<br>Sample=%{x}<br>Metric=%{y}",
         "legendgroup": "Metric Name=AUC",
         "line": {
          "color": "#EF553B",
          "dash": "solid",
          "shape": "linear"
         },
         "mode": "lines",
         "name": "Metric Name=AUC",
         "showlegend": true,
         "type": "scatter",
         "x": [
          0.1,
          0.2,
          0.3,
          0.4,
          0.5,
          0.6,
          0.7,
          0.8,
          0.9,
          0.99
         ],
         "xaxis": "x",
         "y": [
          0.7947884652761751,
          0.7934296239166884,
          0.7890182645030787,
          0.793404896307626,
          0.7925318698648741,
          0.7975704978923053,
          0.7949281404640448,
          0.7948336025831275,
          0.794249015603359,
          0.7962811186727492
         ],
         "yaxis": "y"
        },
        {
         "hoverlabel": {
          "namelength": 0
         },
         "hovertemplate": "Metric Name=Recall<br>Sample=%{x}<br>Metric=%{y}",
         "legendgroup": "Metric Name=Recall",
         "line": {
          "color": "#00cc96",
          "dash": "solid",
          "shape": "linear"
         },
         "mode": "lines",
         "name": "Metric Name=Recall",
         "showlegend": true,
         "type": "scatter",
         "x": [
          0.1,
          0.2,
          0.3,
          0.4,
          0.5,
          0.6,
          0.7,
          0.8,
          0.9,
          0.99
         ],
         "xaxis": "x",
         "y": [
          0.731020942408377,
          0.714753025842329,
          0.7162486368593238,
          0.7222313103222641,
          0.7246433712864808,
          0.7221071000109063,
          0.7319125070106562,
          0.7265663340422052,
          0.7336774756434492,
          0.7323198942498348
         ],
         "yaxis": "y"
        },
        {
         "hoverlabel": {
          "namelength": 0
         },
         "hovertemplate": "Metric Name=Precision<br>Sample=%{x}<br>Metric=%{y}",
         "legendgroup": "Metric Name=Precision",
         "line": {
          "color": "#ab63fa",
          "dash": "solid",
          "shape": "linear"
         },
         "mode": "lines",
         "name": "Metric Name=Precision",
         "showlegend": true,
         "type": "scatter",
         "x": [
          0.1,
          0.2,
          0.3,
          0.4,
          0.5,
          0.6,
          0.7,
          0.8,
          0.9,
          0.99
         ],
         "xaxis": "x",
         "y": [
          0.6903584672435105,
          0.6983061681048258,
          0.6909320429202609,
          0.696042881917074,
          0.6946430811692385,
          0.6977552956054379,
          0.6946415897799858,
          0.696105320899616,
          0.6979044193927657,
          0.6977769380943384
         ],
         "yaxis": "y"
        },
        {
         "hoverlabel": {
          "namelength": 0
         },
         "hovertemplate": "Metric Name=F1<br>Sample=%{x}<br>Metric=%{y}",
         "legendgroup": "Metric Name=F1",
         "line": {
          "color": "#FFA15A",
          "dash": "solid",
          "shape": "linear"
         },
         "mode": "lines",
         "name": "Metric Name=F1",
         "showlegend": true,
         "type": "scatter",
         "x": [
          0.1,
          0.2,
          0.3,
          0.4,
          0.5,
          0.6,
          0.7,
          0.8,
          0.9,
          0.99
         ],
         "xaxis": "x",
         "y": [
          0.6903584672435105,
          0.6983061681048258,
          0.6909320429202609,
          0.696042881917074,
          0.6946430811692385,
          0.6977552956054379,
          0.6946415897799858,
          0.696105320899616,
          0.6979044193927657,
          0.6977769380943384
         ],
         "yaxis": "y"
        },
        {
         "hoverlabel": {
          "namelength": 0
         },
         "hovertemplate": "Metric Name=Kappa<br>Sample=%{x}<br>Metric=%{y}",
         "legendgroup": "Metric Name=Kappa",
         "line": {
          "color": "#19d3f3",
          "dash": "solid",
          "shape": "linear"
         },
         "mode": "lines",
         "name": "Metric Name=Kappa",
         "showlegend": true,
         "type": "scatter",
         "x": [
          0.1,
          0.2,
          0.3,
          0.4,
          0.5,
          0.6,
          0.7,
          0.8,
          0.9,
          0.99
         ],
         "xaxis": "x",
         "y": [
          0.43894801997054966,
          0.44030504044014895,
          0.43121544995935357,
          0.4416266423209978,
          0.4411313370794472,
          0.443886603310346,
          0.4452483244190616,
          0.4442062264268858,
          0.45076226573478717,
          0.44979091062420695
         ],
         "yaxis": "y"
        }
       ],
       "layout": {
        "legend": {
         "tracegroupgap": 0
        },
        "margin": {
         "t": 60
        },
        "plot_bgcolor": "rgb(245,245,245)",
        "template": {
         "data": {
          "bar": [
           {
            "error_x": {
             "color": "#2a3f5f"
            },
            "error_y": {
             "color": "#2a3f5f"
            },
            "marker": {
             "line": {
              "color": "#E5ECF6",
              "width": 0.5
             }
            },
            "type": "bar"
           }
          ],
          "barpolar": [
           {
            "marker": {
             "line": {
              "color": "#E5ECF6",
              "width": 0.5
             }
            },
            "type": "barpolar"
           }
          ],
          "carpet": [
           {
            "aaxis": {
             "endlinecolor": "#2a3f5f",
             "gridcolor": "white",
             "linecolor": "white",
             "minorgridcolor": "white",
             "startlinecolor": "#2a3f5f"
            },
            "baxis": {
             "endlinecolor": "#2a3f5f",
             "gridcolor": "white",
             "linecolor": "white",
             "minorgridcolor": "white",
             "startlinecolor": "#2a3f5f"
            },
            "type": "carpet"
           }
          ],
          "choropleth": [
           {
            "colorbar": {
             "outlinewidth": 0,
             "ticks": ""
            },
            "type": "choropleth"
           }
          ],
          "contour": [
           {
            "colorbar": {
             "outlinewidth": 0,
             "ticks": ""
            },
            "colorscale": [
             [
              0,
              "#0d0887"
             ],
             [
              0.1111111111111111,
              "#46039f"
             ],
             [
              0.2222222222222222,
              "#7201a8"
             ],
             [
              0.3333333333333333,
              "#9c179e"
             ],
             [
              0.4444444444444444,
              "#bd3786"
             ],
             [
              0.5555555555555556,
              "#d8576b"
             ],
             [
              0.6666666666666666,
              "#ed7953"
             ],
             [
              0.7777777777777778,
              "#fb9f3a"
             ],
             [
              0.8888888888888888,
              "#fdca26"
             ],
             [
              1,
              "#f0f921"
             ]
            ],
            "type": "contour"
           }
          ],
          "contourcarpet": [
           {
            "colorbar": {
             "outlinewidth": 0,
             "ticks": ""
            },
            "type": "contourcarpet"
           }
          ],
          "heatmap": [
           {
            "colorbar": {
             "outlinewidth": 0,
             "ticks": ""
            },
            "colorscale": [
             [
              0,
              "#0d0887"
             ],
             [
              0.1111111111111111,
              "#46039f"
             ],
             [
              0.2222222222222222,
              "#7201a8"
             ],
             [
              0.3333333333333333,
              "#9c179e"
             ],
             [
              0.4444444444444444,
              "#bd3786"
             ],
             [
              0.5555555555555556,
              "#d8576b"
             ],
             [
              0.6666666666666666,
              "#ed7953"
             ],
             [
              0.7777777777777778,
              "#fb9f3a"
             ],
             [
              0.8888888888888888,
              "#fdca26"
             ],
             [
              1,
              "#f0f921"
             ]
            ],
            "type": "heatmap"
           }
          ],
          "heatmapgl": [
           {
            "colorbar": {
             "outlinewidth": 0,
             "ticks": ""
            },
            "colorscale": [
             [
              0,
              "#0d0887"
             ],
             [
              0.1111111111111111,
              "#46039f"
             ],
             [
              0.2222222222222222,
              "#7201a8"
             ],
             [
              0.3333333333333333,
              "#9c179e"
             ],
             [
              0.4444444444444444,
              "#bd3786"
             ],
             [
              0.5555555555555556,
              "#d8576b"
             ],
             [
              0.6666666666666666,
              "#ed7953"
             ],
             [
              0.7777777777777778,
              "#fb9f3a"
             ],
             [
              0.8888888888888888,
              "#fdca26"
             ],
             [
              1,
              "#f0f921"
             ]
            ],
            "type": "heatmapgl"
           }
          ],
          "histogram": [
           {
            "marker": {
             "colorbar": {
              "outlinewidth": 0,
              "ticks": ""
             }
            },
            "type": "histogram"
           }
          ],
          "histogram2d": [
           {
            "colorbar": {
             "outlinewidth": 0,
             "ticks": ""
            },
            "colorscale": [
             [
              0,
              "#0d0887"
             ],
             [
              0.1111111111111111,
              "#46039f"
             ],
             [
              0.2222222222222222,
              "#7201a8"
             ],
             [
              0.3333333333333333,
              "#9c179e"
             ],
             [
              0.4444444444444444,
              "#bd3786"
             ],
             [
              0.5555555555555556,
              "#d8576b"
             ],
             [
              0.6666666666666666,
              "#ed7953"
             ],
             [
              0.7777777777777778,
              "#fb9f3a"
             ],
             [
              0.8888888888888888,
              "#fdca26"
             ],
             [
              1,
              "#f0f921"
             ]
            ],
            "type": "histogram2d"
           }
          ],
          "histogram2dcontour": [
           {
            "colorbar": {
             "outlinewidth": 0,
             "ticks": ""
            },
            "colorscale": [
             [
              0,
              "#0d0887"
             ],
             [
              0.1111111111111111,
              "#46039f"
             ],
             [
              0.2222222222222222,
              "#7201a8"
             ],
             [
              0.3333333333333333,
              "#9c179e"
             ],
             [
              0.4444444444444444,
              "#bd3786"
             ],
             [
              0.5555555555555556,
              "#d8576b"
             ],
             [
              0.6666666666666666,
              "#ed7953"
             ],
             [
              0.7777777777777778,
              "#fb9f3a"
             ],
             [
              0.8888888888888888,
              "#fdca26"
             ],
             [
              1,
              "#f0f921"
             ]
            ],
            "type": "histogram2dcontour"
           }
          ],
          "mesh3d": [
           {
            "colorbar": {
             "outlinewidth": 0,
             "ticks": ""
            },
            "type": "mesh3d"
           }
          ],
          "parcoords": [
           {
            "line": {
             "colorbar": {
              "outlinewidth": 0,
              "ticks": ""
             }
            },
            "type": "parcoords"
           }
          ],
          "pie": [
           {
            "automargin": true,
            "type": "pie"
           }
          ],
          "scatter": [
           {
            "marker": {
             "colorbar": {
              "outlinewidth": 0,
              "ticks": ""
             }
            },
            "type": "scatter"
           }
          ],
          "scatter3d": [
           {
            "line": {
             "colorbar": {
              "outlinewidth": 0,
              "ticks": ""
             }
            },
            "marker": {
             "colorbar": {
              "outlinewidth": 0,
              "ticks": ""
             }
            },
            "type": "scatter3d"
           }
          ],
          "scattercarpet": [
           {
            "marker": {
             "colorbar": {
              "outlinewidth": 0,
              "ticks": ""
             }
            },
            "type": "scattercarpet"
           }
          ],
          "scattergeo": [
           {
            "marker": {
             "colorbar": {
              "outlinewidth": 0,
              "ticks": ""
             }
            },
            "type": "scattergeo"
           }
          ],
          "scattergl": [
           {
            "marker": {
             "colorbar": {
              "outlinewidth": 0,
              "ticks": ""
             }
            },
            "type": "scattergl"
           }
          ],
          "scattermapbox": [
           {
            "marker": {
             "colorbar": {
              "outlinewidth": 0,
              "ticks": ""
             }
            },
            "type": "scattermapbox"
           }
          ],
          "scatterpolar": [
           {
            "marker": {
             "colorbar": {
              "outlinewidth": 0,
              "ticks": ""
             }
            },
            "type": "scatterpolar"
           }
          ],
          "scatterpolargl": [
           {
            "marker": {
             "colorbar": {
              "outlinewidth": 0,
              "ticks": ""
             }
            },
            "type": "scatterpolargl"
           }
          ],
          "scatterternary": [
           {
            "marker": {
             "colorbar": {
              "outlinewidth": 0,
              "ticks": ""
             }
            },
            "type": "scatterternary"
           }
          ],
          "surface": [
           {
            "colorbar": {
             "outlinewidth": 0,
             "ticks": ""
            },
            "colorscale": [
             [
              0,
              "#0d0887"
             ],
             [
              0.1111111111111111,
              "#46039f"
             ],
             [
              0.2222222222222222,
              "#7201a8"
             ],
             [
              0.3333333333333333,
              "#9c179e"
             ],
             [
              0.4444444444444444,
              "#bd3786"
             ],
             [
              0.5555555555555556,
              "#d8576b"
             ],
             [
              0.6666666666666666,
              "#ed7953"
             ],
             [
              0.7777777777777778,
              "#fb9f3a"
             ],
             [
              0.8888888888888888,
              "#fdca26"
             ],
             [
              1,
              "#f0f921"
             ]
            ],
            "type": "surface"
           }
          ],
          "table": [
           {
            "cells": {
             "fill": {
              "color": "#EBF0F8"
             },
             "line": {
              "color": "white"
             }
            },
            "header": {
             "fill": {
              "color": "#C8D4E3"
             },
             "line": {
              "color": "white"
             }
            },
            "type": "table"
           }
          ]
         },
         "layout": {
          "annotationdefaults": {
           "arrowcolor": "#2a3f5f",
           "arrowhead": 0,
           "arrowwidth": 1
          },
          "coloraxis": {
           "colorbar": {
            "outlinewidth": 0,
            "ticks": ""
           }
          },
          "colorscale": {
           "diverging": [
            [
             0,
             "#8e0152"
            ],
            [
             0.1,
             "#c51b7d"
            ],
            [
             0.2,
             "#de77ae"
            ],
            [
             0.3,
             "#f1b6da"
            ],
            [
             0.4,
             "#fde0ef"
            ],
            [
             0.5,
             "#f7f7f7"
            ],
            [
             0.6,
             "#e6f5d0"
            ],
            [
             0.7,
             "#b8e186"
            ],
            [
             0.8,
             "#7fbc41"
            ],
            [
             0.9,
             "#4d9221"
            ],
            [
             1,
             "#276419"
            ]
           ],
           "sequential": [
            [
             0,
             "#0d0887"
            ],
            [
             0.1111111111111111,
             "#46039f"
            ],
            [
             0.2222222222222222,
             "#7201a8"
            ],
            [
             0.3333333333333333,
             "#9c179e"
            ],
            [
             0.4444444444444444,
             "#bd3786"
            ],
            [
             0.5555555555555556,
             "#d8576b"
            ],
            [
             0.6666666666666666,
             "#ed7953"
            ],
            [
             0.7777777777777778,
             "#fb9f3a"
            ],
            [
             0.8888888888888888,
             "#fdca26"
            ],
            [
             1,
             "#f0f921"
            ]
           ],
           "sequentialminus": [
            [
             0,
             "#0d0887"
            ],
            [
             0.1111111111111111,
             "#46039f"
            ],
            [
             0.2222222222222222,
             "#7201a8"
            ],
            [
             0.3333333333333333,
             "#9c179e"
            ],
            [
             0.4444444444444444,
             "#bd3786"
            ],
            [
             0.5555555555555556,
             "#d8576b"
            ],
            [
             0.6666666666666666,
             "#ed7953"
            ],
            [
             0.7777777777777778,
             "#fb9f3a"
            ],
            [
             0.8888888888888888,
             "#fdca26"
            ],
            [
             1,
             "#f0f921"
            ]
           ]
          },
          "colorway": [
           "#636efa",
           "#EF553B",
           "#00cc96",
           "#ab63fa",
           "#FFA15A",
           "#19d3f3",
           "#FF6692",
           "#B6E880",
           "#FF97FF",
           "#FECB52"
          ],
          "font": {
           "color": "#2a3f5f"
          },
          "geo": {
           "bgcolor": "white",
           "lakecolor": "white",
           "landcolor": "#E5ECF6",
           "showlakes": true,
           "showland": true,
           "subunitcolor": "white"
          },
          "hoverlabel": {
           "align": "left"
          },
          "hovermode": "closest",
          "mapbox": {
           "style": "light"
          },
          "paper_bgcolor": "white",
          "plot_bgcolor": "#E5ECF6",
          "polar": {
           "angularaxis": {
            "gridcolor": "white",
            "linecolor": "white",
            "ticks": ""
           },
           "bgcolor": "#E5ECF6",
           "radialaxis": {
            "gridcolor": "white",
            "linecolor": "white",
            "ticks": ""
           }
          },
          "scene": {
           "xaxis": {
            "backgroundcolor": "#E5ECF6",
            "gridcolor": "white",
            "gridwidth": 2,
            "linecolor": "white",
            "showbackground": true,
            "ticks": "",
            "zerolinecolor": "white"
           },
           "yaxis": {
            "backgroundcolor": "#E5ECF6",
            "gridcolor": "white",
            "gridwidth": 2,
            "linecolor": "white",
            "showbackground": true,
            "ticks": "",
            "zerolinecolor": "white"
           },
           "zaxis": {
            "backgroundcolor": "#E5ECF6",
            "gridcolor": "white",
            "gridwidth": 2,
            "linecolor": "white",
            "showbackground": true,
            "ticks": "",
            "zerolinecolor": "white"
           }
          },
          "shapedefaults": {
           "line": {
            "color": "#2a3f5f"
           }
          },
          "ternary": {
           "aaxis": {
            "gridcolor": "white",
            "linecolor": "white",
            "ticks": ""
           },
           "baxis": {
            "gridcolor": "white",
            "linecolor": "white",
            "ticks": ""
           },
           "bgcolor": "#E5ECF6",
           "caxis": {
            "gridcolor": "white",
            "linecolor": "white",
            "ticks": ""
           }
          },
          "title": {
           "x": 0.05
          },
          "xaxis": {
           "automargin": true,
           "gridcolor": "white",
           "linecolor": "white",
           "ticks": "",
           "title": {
            "standoff": 15
           },
           "zerolinecolor": "white",
           "zerolinewidth": 2
          },
          "yaxis": {
           "automargin": true,
           "gridcolor": "white",
           "linecolor": "white",
           "ticks": "",
           "title": {
            "standoff": 15
           },
           "zerolinecolor": "white",
           "zerolinewidth": 2
          }
         }
        },
        "title": {
         "text": "LogisticRegression Metrics and Sample %",
         "x": 0.45,
         "xanchor": "center",
         "y": 0.95,
         "yanchor": "top"
        },
        "xaxis": {
         "anchor": "y",
         "domain": [
          0,
          1
         ],
         "title": {
          "text": "Sample"
         }
        },
        "yaxis": {
         "anchor": "x",
         "domain": [
          0,
          1
         ],
         "range": [
          0,
          1
         ],
         "title": {
          "text": "Metric"
         }
        }
       }
      },
      "text/html": [
       "<div>\n",
       "        \n",
       "        \n",
       "            <div id=\"218e3ea1-0d16-41c1-8d71-0b745db3c527\" class=\"plotly-graph-div\" style=\"height:525px; width:100%;\"></div>\n",
       "            <script type=\"text/javascript\">\n",
       "                require([\"plotly\"], function(Plotly) {\n",
       "                    window.PLOTLYENV=window.PLOTLYENV || {};\n",
       "                    \n",
       "                if (document.getElementById(\"218e3ea1-0d16-41c1-8d71-0b745db3c527\")) {\n",
       "                    Plotly.newPlot(\n",
       "                        '218e3ea1-0d16-41c1-8d71-0b745db3c527',\n",
       "                        [{\"hoverlabel\": {\"namelength\": 0}, \"hovertemplate\": \"Metric Name=Accuracy<br>Sample=%{x}<br>Metric=%{y}\", \"legendgroup\": \"Metric Name=Accuracy\", \"line\": {\"color\": \"#636efa\", \"dash\": \"solid\", \"shape\": \"linear\"}, \"mode\": \"lines\", \"name\": \"Metric Name=Accuracy\", \"showlegend\": true, \"type\": \"scatter\", \"x\": [0.1, 0.2, 0.3, 0.4, 0.5, 0.6, 0.7, 0.8, 0.9, 0.99], \"xaxis\": \"x\", \"y\": [0.7195571955719557, 0.7207872078720787, 0.7160430548436699, 0.7212270315983701, 0.7208930438526354, 0.7223987698616094, 0.7227835866795537, 0.7224186976243561, 0.7255766273705792, 0.725118041749503], \"yaxis\": \"y\"}, {\"hoverlabel\": {\"namelength\": 0}, \"hovertemplate\": \"Metric Name=AUC<br>Sample=%{x}<br>Metric=%{y}\", \"legendgroup\": \"Metric Name=AUC\", \"line\": {\"color\": \"#EF553B\", \"dash\": \"solid\", \"shape\": \"linear\"}, \"mode\": \"lines\", \"name\": \"Metric Name=AUC\", \"showlegend\": true, \"type\": \"scatter\", \"x\": [0.1, 0.2, 0.3, 0.4, 0.5, 0.6, 0.7, 0.8, 0.9, 0.99], \"xaxis\": \"x\", \"y\": [0.7947884652761751, 0.7934296239166884, 0.7890182645030787, 0.793404896307626, 0.7925318698648741, 0.7975704978923053, 0.7949281404640448, 0.7948336025831275, 0.794249015603359, 0.7962811186727492], \"yaxis\": \"y\"}, {\"hoverlabel\": {\"namelength\": 0}, \"hovertemplate\": \"Metric Name=Recall<br>Sample=%{x}<br>Metric=%{y}\", \"legendgroup\": \"Metric Name=Recall\", \"line\": {\"color\": \"#00cc96\", \"dash\": \"solid\", \"shape\": \"linear\"}, \"mode\": \"lines\", \"name\": \"Metric Name=Recall\", \"showlegend\": true, \"type\": \"scatter\", \"x\": [0.1, 0.2, 0.3, 0.4, 0.5, 0.6, 0.7, 0.8, 0.9, 0.99], \"xaxis\": \"x\", \"y\": [0.731020942408377, 0.714753025842329, 0.7162486368593238, 0.7222313103222641, 0.7246433712864808, 0.7221071000109063, 0.7319125070106562, 0.7265663340422052, 0.7336774756434492, 0.7323198942498348], \"yaxis\": \"y\"}, {\"hoverlabel\": {\"namelength\": 0}, \"hovertemplate\": \"Metric Name=Precision<br>Sample=%{x}<br>Metric=%{y}\", \"legendgroup\": \"Metric Name=Precision\", \"line\": {\"color\": \"#ab63fa\", \"dash\": \"solid\", \"shape\": \"linear\"}, \"mode\": \"lines\", \"name\": \"Metric Name=Precision\", \"showlegend\": true, \"type\": \"scatter\", \"x\": [0.1, 0.2, 0.3, 0.4, 0.5, 0.6, 0.7, 0.8, 0.9, 0.99], \"xaxis\": \"x\", \"y\": [0.6903584672435105, 0.6983061681048258, 0.6909320429202609, 0.696042881917074, 0.6946430811692385, 0.6977552956054379, 0.6946415897799858, 0.696105320899616, 0.6979044193927657, 0.6977769380943384], \"yaxis\": \"y\"}, {\"hoverlabel\": {\"namelength\": 0}, \"hovertemplate\": \"Metric Name=F1<br>Sample=%{x}<br>Metric=%{y}\", \"legendgroup\": \"Metric Name=F1\", \"line\": {\"color\": \"#FFA15A\", \"dash\": \"solid\", \"shape\": \"linear\"}, \"mode\": \"lines\", \"name\": \"Metric Name=F1\", \"showlegend\": true, \"type\": \"scatter\", \"x\": [0.1, 0.2, 0.3, 0.4, 0.5, 0.6, 0.7, 0.8, 0.9, 0.99], \"xaxis\": \"x\", \"y\": [0.6903584672435105, 0.6983061681048258, 0.6909320429202609, 0.696042881917074, 0.6946430811692385, 0.6977552956054379, 0.6946415897799858, 0.696105320899616, 0.6979044193927657, 0.6977769380943384], \"yaxis\": \"y\"}, {\"hoverlabel\": {\"namelength\": 0}, \"hovertemplate\": \"Metric Name=Kappa<br>Sample=%{x}<br>Metric=%{y}\", \"legendgroup\": \"Metric Name=Kappa\", \"line\": {\"color\": \"#19d3f3\", \"dash\": \"solid\", \"shape\": \"linear\"}, \"mode\": \"lines\", \"name\": \"Metric Name=Kappa\", \"showlegend\": true, \"type\": \"scatter\", \"x\": [0.1, 0.2, 0.3, 0.4, 0.5, 0.6, 0.7, 0.8, 0.9, 0.99], \"xaxis\": \"x\", \"y\": [0.43894801997054966, 0.44030504044014895, 0.43121544995935357, 0.4416266423209978, 0.4411313370794472, 0.443886603310346, 0.4452483244190616, 0.4442062264268858, 0.45076226573478717, 0.44979091062420695], \"yaxis\": \"y\"}],\n",
       "                        {\"legend\": {\"tracegroupgap\": 0}, \"margin\": {\"t\": 60}, \"plot_bgcolor\": \"rgb(245,245,245)\", \"template\": {\"data\": {\"bar\": [{\"error_x\": {\"color\": \"#2a3f5f\"}, \"error_y\": {\"color\": \"#2a3f5f\"}, \"marker\": {\"line\": {\"color\": \"#E5ECF6\", \"width\": 0.5}}, \"type\": \"bar\"}], \"barpolar\": [{\"marker\": {\"line\": {\"color\": \"#E5ECF6\", \"width\": 0.5}}, \"type\": \"barpolar\"}], \"carpet\": [{\"aaxis\": {\"endlinecolor\": \"#2a3f5f\", \"gridcolor\": \"white\", \"linecolor\": \"white\", \"minorgridcolor\": \"white\", \"startlinecolor\": \"#2a3f5f\"}, \"baxis\": {\"endlinecolor\": \"#2a3f5f\", \"gridcolor\": \"white\", \"linecolor\": \"white\", \"minorgridcolor\": \"white\", \"startlinecolor\": \"#2a3f5f\"}, \"type\": \"carpet\"}], \"choropleth\": [{\"colorbar\": {\"outlinewidth\": 0, \"ticks\": \"\"}, \"type\": \"choropleth\"}], \"contour\": [{\"colorbar\": {\"outlinewidth\": 0, \"ticks\": \"\"}, \"colorscale\": [[0.0, \"#0d0887\"], [0.1111111111111111, \"#46039f\"], [0.2222222222222222, \"#7201a8\"], [0.3333333333333333, \"#9c179e\"], [0.4444444444444444, \"#bd3786\"], [0.5555555555555556, \"#d8576b\"], [0.6666666666666666, \"#ed7953\"], [0.7777777777777778, \"#fb9f3a\"], [0.8888888888888888, \"#fdca26\"], [1.0, \"#f0f921\"]], \"type\": \"contour\"}], \"contourcarpet\": [{\"colorbar\": {\"outlinewidth\": 0, \"ticks\": \"\"}, \"type\": \"contourcarpet\"}], \"heatmap\": [{\"colorbar\": {\"outlinewidth\": 0, \"ticks\": \"\"}, \"colorscale\": [[0.0, \"#0d0887\"], [0.1111111111111111, \"#46039f\"], [0.2222222222222222, \"#7201a8\"], [0.3333333333333333, \"#9c179e\"], [0.4444444444444444, \"#bd3786\"], [0.5555555555555556, \"#d8576b\"], [0.6666666666666666, \"#ed7953\"], [0.7777777777777778, \"#fb9f3a\"], [0.8888888888888888, \"#fdca26\"], [1.0, \"#f0f921\"]], \"type\": \"heatmap\"}], \"heatmapgl\": [{\"colorbar\": {\"outlinewidth\": 0, \"ticks\": \"\"}, \"colorscale\": [[0.0, \"#0d0887\"], [0.1111111111111111, \"#46039f\"], [0.2222222222222222, \"#7201a8\"], [0.3333333333333333, \"#9c179e\"], [0.4444444444444444, \"#bd3786\"], [0.5555555555555556, \"#d8576b\"], [0.6666666666666666, \"#ed7953\"], [0.7777777777777778, \"#fb9f3a\"], [0.8888888888888888, \"#fdca26\"], [1.0, \"#f0f921\"]], \"type\": \"heatmapgl\"}], \"histogram\": [{\"marker\": {\"colorbar\": {\"outlinewidth\": 0, \"ticks\": \"\"}}, \"type\": \"histogram\"}], \"histogram2d\": [{\"colorbar\": {\"outlinewidth\": 0, \"ticks\": \"\"}, \"colorscale\": [[0.0, \"#0d0887\"], [0.1111111111111111, \"#46039f\"], [0.2222222222222222, \"#7201a8\"], [0.3333333333333333, \"#9c179e\"], [0.4444444444444444, \"#bd3786\"], [0.5555555555555556, \"#d8576b\"], [0.6666666666666666, \"#ed7953\"], [0.7777777777777778, \"#fb9f3a\"], [0.8888888888888888, \"#fdca26\"], [1.0, \"#f0f921\"]], \"type\": \"histogram2d\"}], \"histogram2dcontour\": [{\"colorbar\": {\"outlinewidth\": 0, \"ticks\": \"\"}, \"colorscale\": [[0.0, \"#0d0887\"], [0.1111111111111111, \"#46039f\"], [0.2222222222222222, \"#7201a8\"], [0.3333333333333333, \"#9c179e\"], [0.4444444444444444, \"#bd3786\"], [0.5555555555555556, \"#d8576b\"], [0.6666666666666666, \"#ed7953\"], [0.7777777777777778, \"#fb9f3a\"], [0.8888888888888888, \"#fdca26\"], [1.0, \"#f0f921\"]], \"type\": \"histogram2dcontour\"}], \"mesh3d\": [{\"colorbar\": {\"outlinewidth\": 0, \"ticks\": \"\"}, \"type\": \"mesh3d\"}], \"parcoords\": [{\"line\": {\"colorbar\": {\"outlinewidth\": 0, \"ticks\": \"\"}}, \"type\": \"parcoords\"}], \"pie\": [{\"automargin\": true, \"type\": \"pie\"}], \"scatter\": [{\"marker\": {\"colorbar\": {\"outlinewidth\": 0, \"ticks\": \"\"}}, \"type\": \"scatter\"}], \"scatter3d\": [{\"line\": {\"colorbar\": {\"outlinewidth\": 0, \"ticks\": \"\"}}, \"marker\": {\"colorbar\": {\"outlinewidth\": 0, \"ticks\": \"\"}}, \"type\": \"scatter3d\"}], \"scattercarpet\": [{\"marker\": {\"colorbar\": {\"outlinewidth\": 0, \"ticks\": \"\"}}, \"type\": \"scattercarpet\"}], \"scattergeo\": [{\"marker\": {\"colorbar\": {\"outlinewidth\": 0, \"ticks\": \"\"}}, \"type\": \"scattergeo\"}], \"scattergl\": [{\"marker\": {\"colorbar\": {\"outlinewidth\": 0, \"ticks\": \"\"}}, \"type\": \"scattergl\"}], \"scattermapbox\": [{\"marker\": {\"colorbar\": {\"outlinewidth\": 0, \"ticks\": \"\"}}, \"type\": \"scattermapbox\"}], \"scatterpolar\": [{\"marker\": {\"colorbar\": {\"outlinewidth\": 0, \"ticks\": \"\"}}, \"type\": \"scatterpolar\"}], \"scatterpolargl\": [{\"marker\": {\"colorbar\": {\"outlinewidth\": 0, \"ticks\": \"\"}}, \"type\": \"scatterpolargl\"}], \"scatterternary\": [{\"marker\": {\"colorbar\": {\"outlinewidth\": 0, \"ticks\": \"\"}}, \"type\": \"scatterternary\"}], \"surface\": [{\"colorbar\": {\"outlinewidth\": 0, \"ticks\": \"\"}, \"colorscale\": [[0.0, \"#0d0887\"], [0.1111111111111111, \"#46039f\"], [0.2222222222222222, \"#7201a8\"], [0.3333333333333333, \"#9c179e\"], [0.4444444444444444, \"#bd3786\"], [0.5555555555555556, \"#d8576b\"], [0.6666666666666666, \"#ed7953\"], [0.7777777777777778, \"#fb9f3a\"], [0.8888888888888888, \"#fdca26\"], [1.0, \"#f0f921\"]], \"type\": \"surface\"}], \"table\": [{\"cells\": {\"fill\": {\"color\": \"#EBF0F8\"}, \"line\": {\"color\": \"white\"}}, \"header\": {\"fill\": {\"color\": \"#C8D4E3\"}, \"line\": {\"color\": \"white\"}}, \"type\": \"table\"}]}, \"layout\": {\"annotationdefaults\": {\"arrowcolor\": \"#2a3f5f\", \"arrowhead\": 0, \"arrowwidth\": 1}, \"coloraxis\": {\"colorbar\": {\"outlinewidth\": 0, \"ticks\": \"\"}}, \"colorscale\": {\"diverging\": [[0, \"#8e0152\"], [0.1, \"#c51b7d\"], [0.2, \"#de77ae\"], [0.3, \"#f1b6da\"], [0.4, \"#fde0ef\"], [0.5, \"#f7f7f7\"], [0.6, \"#e6f5d0\"], [0.7, \"#b8e186\"], [0.8, \"#7fbc41\"], [0.9, \"#4d9221\"], [1, \"#276419\"]], \"sequential\": [[0.0, \"#0d0887\"], [0.1111111111111111, \"#46039f\"], [0.2222222222222222, \"#7201a8\"], [0.3333333333333333, \"#9c179e\"], [0.4444444444444444, \"#bd3786\"], [0.5555555555555556, \"#d8576b\"], [0.6666666666666666, \"#ed7953\"], [0.7777777777777778, \"#fb9f3a\"], [0.8888888888888888, \"#fdca26\"], [1.0, \"#f0f921\"]], \"sequentialminus\": [[0.0, \"#0d0887\"], [0.1111111111111111, \"#46039f\"], [0.2222222222222222, \"#7201a8\"], [0.3333333333333333, \"#9c179e\"], [0.4444444444444444, \"#bd3786\"], [0.5555555555555556, \"#d8576b\"], [0.6666666666666666, \"#ed7953\"], [0.7777777777777778, \"#fb9f3a\"], [0.8888888888888888, \"#fdca26\"], [1.0, \"#f0f921\"]]}, \"colorway\": [\"#636efa\", \"#EF553B\", \"#00cc96\", \"#ab63fa\", \"#FFA15A\", \"#19d3f3\", \"#FF6692\", \"#B6E880\", \"#FF97FF\", \"#FECB52\"], \"font\": {\"color\": \"#2a3f5f\"}, \"geo\": {\"bgcolor\": \"white\", \"lakecolor\": \"white\", \"landcolor\": \"#E5ECF6\", \"showlakes\": true, \"showland\": true, \"subunitcolor\": \"white\"}, \"hoverlabel\": {\"align\": \"left\"}, \"hovermode\": \"closest\", \"mapbox\": {\"style\": \"light\"}, \"paper_bgcolor\": \"white\", \"plot_bgcolor\": \"#E5ECF6\", \"polar\": {\"angularaxis\": {\"gridcolor\": \"white\", \"linecolor\": \"white\", \"ticks\": \"\"}, \"bgcolor\": \"#E5ECF6\", \"radialaxis\": {\"gridcolor\": \"white\", \"linecolor\": \"white\", \"ticks\": \"\"}}, \"scene\": {\"xaxis\": {\"backgroundcolor\": \"#E5ECF6\", \"gridcolor\": \"white\", \"gridwidth\": 2, \"linecolor\": \"white\", \"showbackground\": true, \"ticks\": \"\", \"zerolinecolor\": \"white\"}, \"yaxis\": {\"backgroundcolor\": \"#E5ECF6\", \"gridcolor\": \"white\", \"gridwidth\": 2, \"linecolor\": \"white\", \"showbackground\": true, \"ticks\": \"\", \"zerolinecolor\": \"white\"}, \"zaxis\": {\"backgroundcolor\": \"#E5ECF6\", \"gridcolor\": \"white\", \"gridwidth\": 2, \"linecolor\": \"white\", \"showbackground\": true, \"ticks\": \"\", \"zerolinecolor\": \"white\"}}, \"shapedefaults\": {\"line\": {\"color\": \"#2a3f5f\"}}, \"ternary\": {\"aaxis\": {\"gridcolor\": \"white\", \"linecolor\": \"white\", \"ticks\": \"\"}, \"baxis\": {\"gridcolor\": \"white\", \"linecolor\": \"white\", \"ticks\": \"\"}, \"bgcolor\": \"#E5ECF6\", \"caxis\": {\"gridcolor\": \"white\", \"linecolor\": \"white\", \"ticks\": \"\"}}, \"title\": {\"x\": 0.05}, \"xaxis\": {\"automargin\": true, \"gridcolor\": \"white\", \"linecolor\": \"white\", \"ticks\": \"\", \"title\": {\"standoff\": 15}, \"zerolinecolor\": \"white\", \"zerolinewidth\": 2}, \"yaxis\": {\"automargin\": true, \"gridcolor\": \"white\", \"linecolor\": \"white\", \"ticks\": \"\", \"title\": {\"standoff\": 15}, \"zerolinecolor\": \"white\", \"zerolinewidth\": 2}}}, \"title\": {\"text\": \"LogisticRegression Metrics and Sample %\", \"x\": 0.45, \"xanchor\": \"center\", \"y\": 0.95, \"yanchor\": \"top\"}, \"xaxis\": {\"anchor\": \"y\", \"domain\": [0.0, 1.0], \"title\": {\"text\": \"Sample\"}}, \"yaxis\": {\"anchor\": \"x\", \"domain\": [0.0, 1.0], \"range\": [0, 1], \"title\": {\"text\": \"Metric\"}}},\n",
       "                        {\"responsive\": true}\n",
       "                    ).then(function(){\n",
       "                            \n",
       "var gd = document.getElementById('218e3ea1-0d16-41c1-8d71-0b745db3c527');\n",
       "var x = new MutationObserver(function (mutations, observer) {{\n",
       "        var display = window.getComputedStyle(gd).display;\n",
       "        if (!display || display === 'none') {{\n",
       "            console.log([gd, 'removed!']);\n",
       "            Plotly.purge(gd);\n",
       "            observer.disconnect();\n",
       "        }}\n",
       "}});\n",
       "\n",
       "// Listen for the removal of the full notebook cells\n",
       "var notebookContainer = gd.closest('#notebook-container');\n",
       "if (notebookContainer) {{\n",
       "    x.observe(notebookContainer, {childList: true});\n",
       "}}\n",
       "\n",
       "// Listen for the clearing of the current output cell\n",
       "var outputEl = gd.closest('.output');\n",
       "if (outputEl) {{\n",
       "    x.observe(outputEl, {childList: true});\n",
       "}}\n",
       "\n",
       "                        })\n",
       "                };\n",
       "                });\n",
       "            </script>\n",
       "        </div>"
      ]
     },
     "metadata": {},
     "output_type": "display_data"
    },
    {
     "name": "stdout",
     "output_type": "stream",
     "text": [
      "Please Enter the sample % of data you would like to use for modeling. Example: Enter 0.3 for 30%.\n",
      "Press Enter if you would like to use 100% of the data.\n",
      " \n"
     ]
    }
   ],
   "source": [
    "model_setup = setup(\n",
    "    dfStatesOnly\n",
    "    , target = 'outcome' # PyCaret will list this as \"Label\"\n",
    "    , pca = False \n",
    "    , ignore_low_variance = True # Variance is calculated using the ratio of unique values to the number of samples, and the ratio of the most common value to the frequency of the second most common value.\n",
    "    , normalize = True\n",
    "    , ignore_features = None\n",
    "    , remove_outliers = True # outliers from the training data are removed using PCA linear dimensionality reduction using the Singular Value Decomposition technique.\n",
    "    , silent = True\n",
    "    , profile = False\n",
    "    , categorical_features = [\n",
    "            'bankNumber'\n",
    "            , 'stateNumber'\n",
    "            , 'mSA'\n",
    "        ]\n",
    "    , numeric_features = [\n",
    "        'origIntRate'\n",
    "        , 'origUPB'\n",
    "        , 'origLTV'\n",
    "        #, 'pMIperct'\n",
    "        , 'origDebtIncRatio'\n",
    "        , 'worstCreditScore'\n",
    "        , 'rateDiffAbovePct'\n",
    "    ]\n",
    ")\n",
    "\n",
    "# session_id - if you ever want to reprint the results later, pass the session_id to setup()\n",
    "#      and it will run the setup using the same split of test/train"
   ]
  },
  {
   "cell_type": "markdown",
   "metadata": {},
   "source": [
    "# Decide which model to use"
   ]
  },
  {
   "cell_type": "code",
   "execution_count": 15,
   "metadata": {},
   "outputs": [
    {
     "data": {
      "text/html": [
       "<style  type=\"text/css\" >\n",
       "    #T_b34f3eb4_9e05_11ea_8ec5_6c0b84b3712b th {\n",
       "          text-align: left;\n",
       "    }    #T_b34f3eb4_9e05_11ea_8ec5_6c0b84b3712brow0_col0 {\n",
       "            text-align:  left;\n",
       "        }    #T_b34f3eb4_9e05_11ea_8ec5_6c0b84b3712brow0_col1 {\n",
       "            : ;\n",
       "            text-align:  left;\n",
       "        }    #T_b34f3eb4_9e05_11ea_8ec5_6c0b84b3712brow0_col2 {\n",
       "            : ;\n",
       "            text-align:  left;\n",
       "        }    #T_b34f3eb4_9e05_11ea_8ec5_6c0b84b3712brow0_col3 {\n",
       "            background-color:  yellow;\n",
       "            text-align:  left;\n",
       "        }    #T_b34f3eb4_9e05_11ea_8ec5_6c0b84b3712brow0_col4 {\n",
       "            : ;\n",
       "            text-align:  left;\n",
       "        }    #T_b34f3eb4_9e05_11ea_8ec5_6c0b84b3712brow0_col5 {\n",
       "            background-color:  yellow;\n",
       "            text-align:  left;\n",
       "        }    #T_b34f3eb4_9e05_11ea_8ec5_6c0b84b3712brow0_col6 {\n",
       "            : ;\n",
       "            text-align:  left;\n",
       "        }    #T_b34f3eb4_9e05_11ea_8ec5_6c0b84b3712brow1_col0 {\n",
       "            text-align:  left;\n",
       "        }    #T_b34f3eb4_9e05_11ea_8ec5_6c0b84b3712brow1_col1 {\n",
       "            : ;\n",
       "            text-align:  left;\n",
       "        }    #T_b34f3eb4_9e05_11ea_8ec5_6c0b84b3712brow1_col2 {\n",
       "            : ;\n",
       "            text-align:  left;\n",
       "        }    #T_b34f3eb4_9e05_11ea_8ec5_6c0b84b3712brow1_col3 {\n",
       "            : ;\n",
       "            text-align:  left;\n",
       "        }    #T_b34f3eb4_9e05_11ea_8ec5_6c0b84b3712brow1_col4 {\n",
       "            : ;\n",
       "            text-align:  left;\n",
       "        }    #T_b34f3eb4_9e05_11ea_8ec5_6c0b84b3712brow1_col5 {\n",
       "            : ;\n",
       "            text-align:  left;\n",
       "        }    #T_b34f3eb4_9e05_11ea_8ec5_6c0b84b3712brow1_col6 {\n",
       "            : ;\n",
       "            text-align:  left;\n",
       "        }    #T_b34f3eb4_9e05_11ea_8ec5_6c0b84b3712brow2_col0 {\n",
       "            text-align:  left;\n",
       "        }    #T_b34f3eb4_9e05_11ea_8ec5_6c0b84b3712brow2_col1 {\n",
       "            : ;\n",
       "            text-align:  left;\n",
       "        }    #T_b34f3eb4_9e05_11ea_8ec5_6c0b84b3712brow2_col2 {\n",
       "            : ;\n",
       "            text-align:  left;\n",
       "        }    #T_b34f3eb4_9e05_11ea_8ec5_6c0b84b3712brow2_col3 {\n",
       "            : ;\n",
       "            text-align:  left;\n",
       "        }    #T_b34f3eb4_9e05_11ea_8ec5_6c0b84b3712brow2_col4 {\n",
       "            : ;\n",
       "            text-align:  left;\n",
       "        }    #T_b34f3eb4_9e05_11ea_8ec5_6c0b84b3712brow2_col5 {\n",
       "            : ;\n",
       "            text-align:  left;\n",
       "        }    #T_b34f3eb4_9e05_11ea_8ec5_6c0b84b3712brow2_col6 {\n",
       "            : ;\n",
       "            text-align:  left;\n",
       "        }    #T_b34f3eb4_9e05_11ea_8ec5_6c0b84b3712brow3_col0 {\n",
       "            text-align:  left;\n",
       "        }    #T_b34f3eb4_9e05_11ea_8ec5_6c0b84b3712brow3_col1 {\n",
       "            : ;\n",
       "            text-align:  left;\n",
       "        }    #T_b34f3eb4_9e05_11ea_8ec5_6c0b84b3712brow3_col2 {\n",
       "            : ;\n",
       "            text-align:  left;\n",
       "        }    #T_b34f3eb4_9e05_11ea_8ec5_6c0b84b3712brow3_col3 {\n",
       "            : ;\n",
       "            text-align:  left;\n",
       "        }    #T_b34f3eb4_9e05_11ea_8ec5_6c0b84b3712brow3_col4 {\n",
       "            : ;\n",
       "            text-align:  left;\n",
       "        }    #T_b34f3eb4_9e05_11ea_8ec5_6c0b84b3712brow3_col5 {\n",
       "            : ;\n",
       "            text-align:  left;\n",
       "        }    #T_b34f3eb4_9e05_11ea_8ec5_6c0b84b3712brow3_col6 {\n",
       "            : ;\n",
       "            text-align:  left;\n",
       "        }    #T_b34f3eb4_9e05_11ea_8ec5_6c0b84b3712brow4_col0 {\n",
       "            text-align:  left;\n",
       "        }    #T_b34f3eb4_9e05_11ea_8ec5_6c0b84b3712brow4_col1 {\n",
       "            : ;\n",
       "            text-align:  left;\n",
       "        }    #T_b34f3eb4_9e05_11ea_8ec5_6c0b84b3712brow4_col2 {\n",
       "            : ;\n",
       "            text-align:  left;\n",
       "        }    #T_b34f3eb4_9e05_11ea_8ec5_6c0b84b3712brow4_col3 {\n",
       "            : ;\n",
       "            text-align:  left;\n",
       "        }    #T_b34f3eb4_9e05_11ea_8ec5_6c0b84b3712brow4_col4 {\n",
       "            : ;\n",
       "            text-align:  left;\n",
       "        }    #T_b34f3eb4_9e05_11ea_8ec5_6c0b84b3712brow4_col5 {\n",
       "            : ;\n",
       "            text-align:  left;\n",
       "        }    #T_b34f3eb4_9e05_11ea_8ec5_6c0b84b3712brow4_col6 {\n",
       "            : ;\n",
       "            text-align:  left;\n",
       "        }    #T_b34f3eb4_9e05_11ea_8ec5_6c0b84b3712brow5_col0 {\n",
       "            text-align:  left;\n",
       "        }    #T_b34f3eb4_9e05_11ea_8ec5_6c0b84b3712brow5_col1 {\n",
       "            background-color:  yellow;\n",
       "            text-align:  left;\n",
       "        }    #T_b34f3eb4_9e05_11ea_8ec5_6c0b84b3712brow5_col2 {\n",
       "            background-color:  yellow;\n",
       "            text-align:  left;\n",
       "        }    #T_b34f3eb4_9e05_11ea_8ec5_6c0b84b3712brow5_col3 {\n",
       "            : ;\n",
       "            text-align:  left;\n",
       "        }    #T_b34f3eb4_9e05_11ea_8ec5_6c0b84b3712brow5_col4 {\n",
       "            background-color:  yellow;\n",
       "            text-align:  left;\n",
       "        }    #T_b34f3eb4_9e05_11ea_8ec5_6c0b84b3712brow5_col5 {\n",
       "            : ;\n",
       "            text-align:  left;\n",
       "        }    #T_b34f3eb4_9e05_11ea_8ec5_6c0b84b3712brow5_col6 {\n",
       "            background-color:  yellow;\n",
       "            text-align:  left;\n",
       "        }    #T_b34f3eb4_9e05_11ea_8ec5_6c0b84b3712brow6_col0 {\n",
       "            text-align:  left;\n",
       "        }    #T_b34f3eb4_9e05_11ea_8ec5_6c0b84b3712brow6_col1 {\n",
       "            : ;\n",
       "            text-align:  left;\n",
       "        }    #T_b34f3eb4_9e05_11ea_8ec5_6c0b84b3712brow6_col2 {\n",
       "            : ;\n",
       "            text-align:  left;\n",
       "        }    #T_b34f3eb4_9e05_11ea_8ec5_6c0b84b3712brow6_col3 {\n",
       "            : ;\n",
       "            text-align:  left;\n",
       "        }    #T_b34f3eb4_9e05_11ea_8ec5_6c0b84b3712brow6_col4 {\n",
       "            : ;\n",
       "            text-align:  left;\n",
       "        }    #T_b34f3eb4_9e05_11ea_8ec5_6c0b84b3712brow6_col5 {\n",
       "            : ;\n",
       "            text-align:  left;\n",
       "        }    #T_b34f3eb4_9e05_11ea_8ec5_6c0b84b3712brow6_col6 {\n",
       "            : ;\n",
       "            text-align:  left;\n",
       "        }    #T_b34f3eb4_9e05_11ea_8ec5_6c0b84b3712brow7_col0 {\n",
       "            text-align:  left;\n",
       "        }    #T_b34f3eb4_9e05_11ea_8ec5_6c0b84b3712brow7_col1 {\n",
       "            : ;\n",
       "            text-align:  left;\n",
       "        }    #T_b34f3eb4_9e05_11ea_8ec5_6c0b84b3712brow7_col2 {\n",
       "            : ;\n",
       "            text-align:  left;\n",
       "        }    #T_b34f3eb4_9e05_11ea_8ec5_6c0b84b3712brow7_col3 {\n",
       "            : ;\n",
       "            text-align:  left;\n",
       "        }    #T_b34f3eb4_9e05_11ea_8ec5_6c0b84b3712brow7_col4 {\n",
       "            : ;\n",
       "            text-align:  left;\n",
       "        }    #T_b34f3eb4_9e05_11ea_8ec5_6c0b84b3712brow7_col5 {\n",
       "            : ;\n",
       "            text-align:  left;\n",
       "        }    #T_b34f3eb4_9e05_11ea_8ec5_6c0b84b3712brow7_col6 {\n",
       "            : ;\n",
       "            text-align:  left;\n",
       "        }    #T_b34f3eb4_9e05_11ea_8ec5_6c0b84b3712brow8_col0 {\n",
       "            text-align:  left;\n",
       "        }    #T_b34f3eb4_9e05_11ea_8ec5_6c0b84b3712brow8_col1 {\n",
       "            : ;\n",
       "            text-align:  left;\n",
       "        }    #T_b34f3eb4_9e05_11ea_8ec5_6c0b84b3712brow8_col2 {\n",
       "            : ;\n",
       "            text-align:  left;\n",
       "        }    #T_b34f3eb4_9e05_11ea_8ec5_6c0b84b3712brow8_col3 {\n",
       "            : ;\n",
       "            text-align:  left;\n",
       "        }    #T_b34f3eb4_9e05_11ea_8ec5_6c0b84b3712brow8_col4 {\n",
       "            : ;\n",
       "            text-align:  left;\n",
       "        }    #T_b34f3eb4_9e05_11ea_8ec5_6c0b84b3712brow8_col5 {\n",
       "            : ;\n",
       "            text-align:  left;\n",
       "        }    #T_b34f3eb4_9e05_11ea_8ec5_6c0b84b3712brow8_col6 {\n",
       "            : ;\n",
       "            text-align:  left;\n",
       "        }    #T_b34f3eb4_9e05_11ea_8ec5_6c0b84b3712brow9_col0 {\n",
       "            text-align:  left;\n",
       "        }    #T_b34f3eb4_9e05_11ea_8ec5_6c0b84b3712brow9_col1 {\n",
       "            : ;\n",
       "            text-align:  left;\n",
       "        }    #T_b34f3eb4_9e05_11ea_8ec5_6c0b84b3712brow9_col2 {\n",
       "            : ;\n",
       "            text-align:  left;\n",
       "        }    #T_b34f3eb4_9e05_11ea_8ec5_6c0b84b3712brow9_col3 {\n",
       "            : ;\n",
       "            text-align:  left;\n",
       "        }    #T_b34f3eb4_9e05_11ea_8ec5_6c0b84b3712brow9_col4 {\n",
       "            : ;\n",
       "            text-align:  left;\n",
       "        }    #T_b34f3eb4_9e05_11ea_8ec5_6c0b84b3712brow9_col5 {\n",
       "            : ;\n",
       "            text-align:  left;\n",
       "        }    #T_b34f3eb4_9e05_11ea_8ec5_6c0b84b3712brow9_col6 {\n",
       "            : ;\n",
       "            text-align:  left;\n",
       "        }    #T_b34f3eb4_9e05_11ea_8ec5_6c0b84b3712brow10_col0 {\n",
       "            text-align:  left;\n",
       "        }    #T_b34f3eb4_9e05_11ea_8ec5_6c0b84b3712brow10_col1 {\n",
       "            : ;\n",
       "            text-align:  left;\n",
       "        }    #T_b34f3eb4_9e05_11ea_8ec5_6c0b84b3712brow10_col2 {\n",
       "            : ;\n",
       "            text-align:  left;\n",
       "        }    #T_b34f3eb4_9e05_11ea_8ec5_6c0b84b3712brow10_col3 {\n",
       "            : ;\n",
       "            text-align:  left;\n",
       "        }    #T_b34f3eb4_9e05_11ea_8ec5_6c0b84b3712brow10_col4 {\n",
       "            : ;\n",
       "            text-align:  left;\n",
       "        }    #T_b34f3eb4_9e05_11ea_8ec5_6c0b84b3712brow10_col5 {\n",
       "            : ;\n",
       "            text-align:  left;\n",
       "        }    #T_b34f3eb4_9e05_11ea_8ec5_6c0b84b3712brow10_col6 {\n",
       "            : ;\n",
       "            text-align:  left;\n",
       "        }    #T_b34f3eb4_9e05_11ea_8ec5_6c0b84b3712brow11_col0 {\n",
       "            text-align:  left;\n",
       "        }    #T_b34f3eb4_9e05_11ea_8ec5_6c0b84b3712brow11_col1 {\n",
       "            : ;\n",
       "            text-align:  left;\n",
       "        }    #T_b34f3eb4_9e05_11ea_8ec5_6c0b84b3712brow11_col2 {\n",
       "            : ;\n",
       "            text-align:  left;\n",
       "        }    #T_b34f3eb4_9e05_11ea_8ec5_6c0b84b3712brow11_col3 {\n",
       "            : ;\n",
       "            text-align:  left;\n",
       "        }    #T_b34f3eb4_9e05_11ea_8ec5_6c0b84b3712brow11_col4 {\n",
       "            : ;\n",
       "            text-align:  left;\n",
       "        }    #T_b34f3eb4_9e05_11ea_8ec5_6c0b84b3712brow11_col5 {\n",
       "            : ;\n",
       "            text-align:  left;\n",
       "        }    #T_b34f3eb4_9e05_11ea_8ec5_6c0b84b3712brow11_col6 {\n",
       "            : ;\n",
       "            text-align:  left;\n",
       "        }    #T_b34f3eb4_9e05_11ea_8ec5_6c0b84b3712brow12_col0 {\n",
       "            text-align:  left;\n",
       "        }    #T_b34f3eb4_9e05_11ea_8ec5_6c0b84b3712brow12_col1 {\n",
       "            : ;\n",
       "            text-align:  left;\n",
       "        }    #T_b34f3eb4_9e05_11ea_8ec5_6c0b84b3712brow12_col2 {\n",
       "            : ;\n",
       "            text-align:  left;\n",
       "        }    #T_b34f3eb4_9e05_11ea_8ec5_6c0b84b3712brow12_col3 {\n",
       "            : ;\n",
       "            text-align:  left;\n",
       "        }    #T_b34f3eb4_9e05_11ea_8ec5_6c0b84b3712brow12_col4 {\n",
       "            : ;\n",
       "            text-align:  left;\n",
       "        }    #T_b34f3eb4_9e05_11ea_8ec5_6c0b84b3712brow12_col5 {\n",
       "            : ;\n",
       "            text-align:  left;\n",
       "        }    #T_b34f3eb4_9e05_11ea_8ec5_6c0b84b3712brow12_col6 {\n",
       "            : ;\n",
       "            text-align:  left;\n",
       "        }    #T_b34f3eb4_9e05_11ea_8ec5_6c0b84b3712brow13_col0 {\n",
       "            text-align:  left;\n",
       "        }    #T_b34f3eb4_9e05_11ea_8ec5_6c0b84b3712brow13_col1 {\n",
       "            : ;\n",
       "            text-align:  left;\n",
       "        }    #T_b34f3eb4_9e05_11ea_8ec5_6c0b84b3712brow13_col2 {\n",
       "            : ;\n",
       "            text-align:  left;\n",
       "        }    #T_b34f3eb4_9e05_11ea_8ec5_6c0b84b3712brow13_col3 {\n",
       "            : ;\n",
       "            text-align:  left;\n",
       "        }    #T_b34f3eb4_9e05_11ea_8ec5_6c0b84b3712brow13_col4 {\n",
       "            : ;\n",
       "            text-align:  left;\n",
       "        }    #T_b34f3eb4_9e05_11ea_8ec5_6c0b84b3712brow13_col5 {\n",
       "            : ;\n",
       "            text-align:  left;\n",
       "        }    #T_b34f3eb4_9e05_11ea_8ec5_6c0b84b3712brow13_col6 {\n",
       "            : ;\n",
       "            text-align:  left;\n",
       "        }    #T_b34f3eb4_9e05_11ea_8ec5_6c0b84b3712brow14_col0 {\n",
       "            text-align:  left;\n",
       "        }    #T_b34f3eb4_9e05_11ea_8ec5_6c0b84b3712brow14_col1 {\n",
       "            : ;\n",
       "            text-align:  left;\n",
       "        }    #T_b34f3eb4_9e05_11ea_8ec5_6c0b84b3712brow14_col2 {\n",
       "            : ;\n",
       "            text-align:  left;\n",
       "        }    #T_b34f3eb4_9e05_11ea_8ec5_6c0b84b3712brow14_col3 {\n",
       "            : ;\n",
       "            text-align:  left;\n",
       "        }    #T_b34f3eb4_9e05_11ea_8ec5_6c0b84b3712brow14_col4 {\n",
       "            : ;\n",
       "            text-align:  left;\n",
       "        }    #T_b34f3eb4_9e05_11ea_8ec5_6c0b84b3712brow14_col5 {\n",
       "            : ;\n",
       "            text-align:  left;\n",
       "        }    #T_b34f3eb4_9e05_11ea_8ec5_6c0b84b3712brow14_col6 {\n",
       "            : ;\n",
       "            text-align:  left;\n",
       "        }    #T_b34f3eb4_9e05_11ea_8ec5_6c0b84b3712brow15_col0 {\n",
       "            text-align:  left;\n",
       "        }    #T_b34f3eb4_9e05_11ea_8ec5_6c0b84b3712brow15_col1 {\n",
       "            : ;\n",
       "            text-align:  left;\n",
       "        }    #T_b34f3eb4_9e05_11ea_8ec5_6c0b84b3712brow15_col2 {\n",
       "            : ;\n",
       "            text-align:  left;\n",
       "        }    #T_b34f3eb4_9e05_11ea_8ec5_6c0b84b3712brow15_col3 {\n",
       "            : ;\n",
       "            text-align:  left;\n",
       "        }    #T_b34f3eb4_9e05_11ea_8ec5_6c0b84b3712brow15_col4 {\n",
       "            : ;\n",
       "            text-align:  left;\n",
       "        }    #T_b34f3eb4_9e05_11ea_8ec5_6c0b84b3712brow15_col5 {\n",
       "            : ;\n",
       "            text-align:  left;\n",
       "        }    #T_b34f3eb4_9e05_11ea_8ec5_6c0b84b3712brow15_col6 {\n",
       "            : ;\n",
       "            text-align:  left;\n",
       "        }    #T_b34f3eb4_9e05_11ea_8ec5_6c0b84b3712brow16_col0 {\n",
       "            text-align:  left;\n",
       "        }    #T_b34f3eb4_9e05_11ea_8ec5_6c0b84b3712brow16_col1 {\n",
       "            : ;\n",
       "            text-align:  left;\n",
       "        }    #T_b34f3eb4_9e05_11ea_8ec5_6c0b84b3712brow16_col2 {\n",
       "            : ;\n",
       "            text-align:  left;\n",
       "        }    #T_b34f3eb4_9e05_11ea_8ec5_6c0b84b3712brow16_col3 {\n",
       "            : ;\n",
       "            text-align:  left;\n",
       "        }    #T_b34f3eb4_9e05_11ea_8ec5_6c0b84b3712brow16_col4 {\n",
       "            : ;\n",
       "            text-align:  left;\n",
       "        }    #T_b34f3eb4_9e05_11ea_8ec5_6c0b84b3712brow16_col5 {\n",
       "            : ;\n",
       "            text-align:  left;\n",
       "        }    #T_b34f3eb4_9e05_11ea_8ec5_6c0b84b3712brow16_col6 {\n",
       "            : ;\n",
       "            text-align:  left;\n",
       "        }    #T_b34f3eb4_9e05_11ea_8ec5_6c0b84b3712brow17_col0 {\n",
       "            text-align:  left;\n",
       "        }    #T_b34f3eb4_9e05_11ea_8ec5_6c0b84b3712brow17_col1 {\n",
       "            : ;\n",
       "            text-align:  left;\n",
       "        }    #T_b34f3eb4_9e05_11ea_8ec5_6c0b84b3712brow17_col2 {\n",
       "            : ;\n",
       "            text-align:  left;\n",
       "        }    #T_b34f3eb4_9e05_11ea_8ec5_6c0b84b3712brow17_col3 {\n",
       "            : ;\n",
       "            text-align:  left;\n",
       "        }    #T_b34f3eb4_9e05_11ea_8ec5_6c0b84b3712brow17_col4 {\n",
       "            : ;\n",
       "            text-align:  left;\n",
       "        }    #T_b34f3eb4_9e05_11ea_8ec5_6c0b84b3712brow17_col5 {\n",
       "            : ;\n",
       "            text-align:  left;\n",
       "        }    #T_b34f3eb4_9e05_11ea_8ec5_6c0b84b3712brow17_col6 {\n",
       "            : ;\n",
       "            text-align:  left;\n",
       "        }</style><table id=\"T_b34f3eb4_9e05_11ea_8ec5_6c0b84b3712b\" ><thead>    <tr>        <th class=\"blank level0\" ></th>        <th class=\"col_heading level0 col0\" >Model</th>        <th class=\"col_heading level0 col1\" >Accuracy</th>        <th class=\"col_heading level0 col2\" >AUC</th>        <th class=\"col_heading level0 col3\" >Recall</th>        <th class=\"col_heading level0 col4\" >Prec.</th>        <th class=\"col_heading level0 col5\" >F1</th>        <th class=\"col_heading level0 col6\" >Kappa</th>    </tr></thead><tbody>\n",
       "                <tr>\n",
       "                        <th id=\"T_b34f3eb4_9e05_11ea_8ec5_6c0b84b3712blevel0_row0\" class=\"row_heading level0 row0\" >0</th>\n",
       "                        <td id=\"T_b34f3eb4_9e05_11ea_8ec5_6c0b84b3712brow0_col0\" class=\"data row0 col0\" >Gaussian Process Classifier</td>\n",
       "                        <td id=\"T_b34f3eb4_9e05_11ea_8ec5_6c0b84b3712brow0_col1\" class=\"data row0 col1\" >0.7437</td>\n",
       "                        <td id=\"T_b34f3eb4_9e05_11ea_8ec5_6c0b84b3712brow0_col2\" class=\"data row0 col2\" >0.8117</td>\n",
       "                        <td id=\"T_b34f3eb4_9e05_11ea_8ec5_6c0b84b3712brow0_col3\" class=\"data row0 col3\" >0.769</td>\n",
       "                        <td id=\"T_b34f3eb4_9e05_11ea_8ec5_6c0b84b3712brow0_col4\" class=\"data row0 col4\" >0.7098</td>\n",
       "                        <td id=\"T_b34f3eb4_9e05_11ea_8ec5_6c0b84b3712brow0_col5\" class=\"data row0 col5\" >0.7382</td>\n",
       "                        <td id=\"T_b34f3eb4_9e05_11ea_8ec5_6c0b84b3712brow0_col6\" class=\"data row0 col6\" >0.4879</td>\n",
       "            </tr>\n",
       "            <tr>\n",
       "                        <th id=\"T_b34f3eb4_9e05_11ea_8ec5_6c0b84b3712blevel0_row1\" class=\"row_heading level0 row1\" >1</th>\n",
       "                        <td id=\"T_b34f3eb4_9e05_11ea_8ec5_6c0b84b3712brow1_col0\" class=\"data row1 col0\" >CatBoost Classifier</td>\n",
       "                        <td id=\"T_b34f3eb4_9e05_11ea_8ec5_6c0b84b3712brow1_col1\" class=\"data row1 col1\" >0.7409</td>\n",
       "                        <td id=\"T_b34f3eb4_9e05_11ea_8ec5_6c0b84b3712brow1_col2\" class=\"data row1 col2\" >0.816</td>\n",
       "                        <td id=\"T_b34f3eb4_9e05_11ea_8ec5_6c0b84b3712brow1_col3\" class=\"data row1 col3\" >0.7602</td>\n",
       "                        <td id=\"T_b34f3eb4_9e05_11ea_8ec5_6c0b84b3712brow1_col4\" class=\"data row1 col4\" >0.7093</td>\n",
       "                        <td id=\"T_b34f3eb4_9e05_11ea_8ec5_6c0b84b3712brow1_col5\" class=\"data row1 col5\" >0.7338</td>\n",
       "                        <td id=\"T_b34f3eb4_9e05_11ea_8ec5_6c0b84b3712brow1_col6\" class=\"data row1 col6\" >0.4819</td>\n",
       "            </tr>\n",
       "            <tr>\n",
       "                        <th id=\"T_b34f3eb4_9e05_11ea_8ec5_6c0b84b3712blevel0_row2\" class=\"row_heading level0 row2\" >2</th>\n",
       "                        <td id=\"T_b34f3eb4_9e05_11ea_8ec5_6c0b84b3712brow2_col0\" class=\"data row2 col0\" >Light Gradient Boosting Machine</td>\n",
       "                        <td id=\"T_b34f3eb4_9e05_11ea_8ec5_6c0b84b3712brow2_col1\" class=\"data row2 col1\" >0.7337</td>\n",
       "                        <td id=\"T_b34f3eb4_9e05_11ea_8ec5_6c0b84b3712brow2_col2\" class=\"data row2 col2\" >0.8107</td>\n",
       "                        <td id=\"T_b34f3eb4_9e05_11ea_8ec5_6c0b84b3712brow2_col3\" class=\"data row2 col3\" >0.7494</td>\n",
       "                        <td id=\"T_b34f3eb4_9e05_11ea_8ec5_6c0b84b3712brow2_col4\" class=\"data row2 col4\" >0.7035</td>\n",
       "                        <td id=\"T_b34f3eb4_9e05_11ea_8ec5_6c0b84b3712brow2_col5\" class=\"data row2 col5\" >0.7256</td>\n",
       "                        <td id=\"T_b34f3eb4_9e05_11ea_8ec5_6c0b84b3712brow2_col6\" class=\"data row2 col6\" >0.4675</td>\n",
       "            </tr>\n",
       "            <tr>\n",
       "                        <th id=\"T_b34f3eb4_9e05_11ea_8ec5_6c0b84b3712blevel0_row3\" class=\"row_heading level0 row3\" >3</th>\n",
       "                        <td id=\"T_b34f3eb4_9e05_11ea_8ec5_6c0b84b3712brow3_col0\" class=\"data row3 col0\" >Extreme Gradient Boosting</td>\n",
       "                        <td id=\"T_b34f3eb4_9e05_11ea_8ec5_6c0b84b3712brow3_col1\" class=\"data row3 col1\" >0.7194</td>\n",
       "                        <td id=\"T_b34f3eb4_9e05_11ea_8ec5_6c0b84b3712brow3_col2\" class=\"data row3 col2\" >0.7922</td>\n",
       "                        <td id=\"T_b34f3eb4_9e05_11ea_8ec5_6c0b84b3712brow3_col3\" class=\"data row3 col3\" >0.739</td>\n",
       "                        <td id=\"T_b34f3eb4_9e05_11ea_8ec5_6c0b84b3712brow3_col4\" class=\"data row3 col4\" >0.6875</td>\n",
       "                        <td id=\"T_b34f3eb4_9e05_11ea_8ec5_6c0b84b3712brow3_col5\" class=\"data row3 col5\" >0.7123</td>\n",
       "                        <td id=\"T_b34f3eb4_9e05_11ea_8ec5_6c0b84b3712brow3_col6\" class=\"data row3 col6\" >0.4392</td>\n",
       "            </tr>\n",
       "            <tr>\n",
       "                        <th id=\"T_b34f3eb4_9e05_11ea_8ec5_6c0b84b3712blevel0_row4\" class=\"row_heading level0 row4\" >4</th>\n",
       "                        <td id=\"T_b34f3eb4_9e05_11ea_8ec5_6c0b84b3712brow4_col0\" class=\"data row4 col0\" >SVM - Radial Kernel</td>\n",
       "                        <td id=\"T_b34f3eb4_9e05_11ea_8ec5_6c0b84b3712brow4_col1\" class=\"data row4 col1\" >0.6998</td>\n",
       "                        <td id=\"T_b34f3eb4_9e05_11ea_8ec5_6c0b84b3712brow4_col2\" class=\"data row4 col2\" >0.7754</td>\n",
       "                        <td id=\"T_b34f3eb4_9e05_11ea_8ec5_6c0b84b3712brow4_col3\" class=\"data row4 col3\" >0.7386</td>\n",
       "                        <td id=\"T_b34f3eb4_9e05_11ea_8ec5_6c0b84b3712brow4_col4\" class=\"data row4 col4\" >0.6619</td>\n",
       "                        <td id=\"T_b34f3eb4_9e05_11ea_8ec5_6c0b84b3712brow4_col5\" class=\"data row4 col5\" >0.698</td>\n",
       "                        <td id=\"T_b34f3eb4_9e05_11ea_8ec5_6c0b84b3712brow4_col6\" class=\"data row4 col6\" >0.4013</td>\n",
       "            </tr>\n",
       "            <tr>\n",
       "                        <th id=\"T_b34f3eb4_9e05_11ea_8ec5_6c0b84b3712blevel0_row5\" class=\"row_heading level0 row5\" >5</th>\n",
       "                        <td id=\"T_b34f3eb4_9e05_11ea_8ec5_6c0b84b3712brow5_col0\" class=\"data row5 col0\" >Extra Trees Classifier</td>\n",
       "                        <td id=\"T_b34f3eb4_9e05_11ea_8ec5_6c0b84b3712brow5_col1\" class=\"data row5 col1\" >0.7555</td>\n",
       "                        <td id=\"T_b34f3eb4_9e05_11ea_8ec5_6c0b84b3712brow5_col2\" class=\"data row5 col2\" >0.8458</td>\n",
       "                        <td id=\"T_b34f3eb4_9e05_11ea_8ec5_6c0b84b3712brow5_col3\" class=\"data row5 col3\" >0.7285</td>\n",
       "                        <td id=\"T_b34f3eb4_9e05_11ea_8ec5_6c0b84b3712brow5_col4\" class=\"data row5 col4\" >0.7455</td>\n",
       "                        <td id=\"T_b34f3eb4_9e05_11ea_8ec5_6c0b84b3712brow5_col5\" class=\"data row5 col5\" >0.7369</td>\n",
       "                        <td id=\"T_b34f3eb4_9e05_11ea_8ec5_6c0b84b3712brow5_col6\" class=\"data row5 col6\" >0.5086</td>\n",
       "            </tr>\n",
       "            <tr>\n",
       "                        <th id=\"T_b34f3eb4_9e05_11ea_8ec5_6c0b84b3712blevel0_row6\" class=\"row_heading level0 row6\" >6</th>\n",
       "                        <td id=\"T_b34f3eb4_9e05_11ea_8ec5_6c0b84b3712brow6_col0\" class=\"data row6 col0\" >Gradient Boosting Classifier</td>\n",
       "                        <td id=\"T_b34f3eb4_9e05_11ea_8ec5_6c0b84b3712brow6_col1\" class=\"data row6 col1\" >0.7174</td>\n",
       "                        <td id=\"T_b34f3eb4_9e05_11ea_8ec5_6c0b84b3712brow6_col2\" class=\"data row6 col2\" >0.7924</td>\n",
       "                        <td id=\"T_b34f3eb4_9e05_11ea_8ec5_6c0b84b3712brow6_col3\" class=\"data row6 col3\" >0.7275</td>\n",
       "                        <td id=\"T_b34f3eb4_9e05_11ea_8ec5_6c0b84b3712brow6_col4\" class=\"data row6 col4\" >0.6887</td>\n",
       "                        <td id=\"T_b34f3eb4_9e05_11ea_8ec5_6c0b84b3712brow6_col5\" class=\"data row6 col5\" >0.7075</td>\n",
       "                        <td id=\"T_b34f3eb4_9e05_11ea_8ec5_6c0b84b3712brow6_col6\" class=\"data row6 col6\" >0.4345</td>\n",
       "            </tr>\n",
       "            <tr>\n",
       "                        <th id=\"T_b34f3eb4_9e05_11ea_8ec5_6c0b84b3712blevel0_row7\" class=\"row_heading level0 row7\" >7</th>\n",
       "                        <td id=\"T_b34f3eb4_9e05_11ea_8ec5_6c0b84b3712brow7_col0\" class=\"data row7 col0\" >MLP Classifier</td>\n",
       "                        <td id=\"T_b34f3eb4_9e05_11ea_8ec5_6c0b84b3712brow7_col1\" class=\"data row7 col1\" >0.7208</td>\n",
       "                        <td id=\"T_b34f3eb4_9e05_11ea_8ec5_6c0b84b3712brow7_col2\" class=\"data row7 col2\" >0.7769</td>\n",
       "                        <td id=\"T_b34f3eb4_9e05_11ea_8ec5_6c0b84b3712brow7_col3\" class=\"data row7 col3\" >0.7226</td>\n",
       "                        <td id=\"T_b34f3eb4_9e05_11ea_8ec5_6c0b84b3712brow7_col4\" class=\"data row7 col4\" >0.6956</td>\n",
       "                        <td id=\"T_b34f3eb4_9e05_11ea_8ec5_6c0b84b3712brow7_col5\" class=\"data row7 col5\" >0.7087</td>\n",
       "                        <td id=\"T_b34f3eb4_9e05_11ea_8ec5_6c0b84b3712brow7_col6\" class=\"data row7 col6\" >0.4408</td>\n",
       "            </tr>\n",
       "            <tr>\n",
       "                        <th id=\"T_b34f3eb4_9e05_11ea_8ec5_6c0b84b3712blevel0_row8\" class=\"row_heading level0 row8\" >8</th>\n",
       "                        <td id=\"T_b34f3eb4_9e05_11ea_8ec5_6c0b84b3712brow8_col0\" class=\"data row8 col0\" >Decision Tree Classifier</td>\n",
       "                        <td id=\"T_b34f3eb4_9e05_11ea_8ec5_6c0b84b3712brow8_col1\" class=\"data row8 col1\" >0.6991</td>\n",
       "                        <td id=\"T_b34f3eb4_9e05_11ea_8ec5_6c0b84b3712brow8_col2\" class=\"data row8 col2\" >0.7</td>\n",
       "                        <td id=\"T_b34f3eb4_9e05_11ea_8ec5_6c0b84b3712brow8_col3\" class=\"data row8 col3\" >0.7156</td>\n",
       "                        <td id=\"T_b34f3eb4_9e05_11ea_8ec5_6c0b84b3712brow8_col4\" class=\"data row8 col4\" >0.6679</td>\n",
       "                        <td id=\"T_b34f3eb4_9e05_11ea_8ec5_6c0b84b3712brow8_col5\" class=\"data row8 col5\" >0.6909</td>\n",
       "                        <td id=\"T_b34f3eb4_9e05_11ea_8ec5_6c0b84b3712brow8_col6\" class=\"data row8 col6\" >0.3984</td>\n",
       "            </tr>\n",
       "            <tr>\n",
       "                        <th id=\"T_b34f3eb4_9e05_11ea_8ec5_6c0b84b3712blevel0_row9\" class=\"row_heading level0 row9\" >9</th>\n",
       "                        <td id=\"T_b34f3eb4_9e05_11ea_8ec5_6c0b84b3712brow9_col0\" class=\"data row9 col0\" >Ada Boost Classifier</td>\n",
       "                        <td id=\"T_b34f3eb4_9e05_11ea_8ec5_6c0b84b3712brow9_col1\" class=\"data row9 col1\" >0.7088</td>\n",
       "                        <td id=\"T_b34f3eb4_9e05_11ea_8ec5_6c0b84b3712brow9_col2\" class=\"data row9 col2\" >0.7775</td>\n",
       "                        <td id=\"T_b34f3eb4_9e05_11ea_8ec5_6c0b84b3712brow9_col3\" class=\"data row9 col3\" >0.7132</td>\n",
       "                        <td id=\"T_b34f3eb4_9e05_11ea_8ec5_6c0b84b3712brow9_col4\" class=\"data row9 col4\" >0.6819</td>\n",
       "                        <td id=\"T_b34f3eb4_9e05_11ea_8ec5_6c0b84b3712brow9_col5\" class=\"data row9 col5\" >0.6972</td>\n",
       "                        <td id=\"T_b34f3eb4_9e05_11ea_8ec5_6c0b84b3712brow9_col6\" class=\"data row9 col6\" >0.4171</td>\n",
       "            </tr>\n",
       "            <tr>\n",
       "                        <th id=\"T_b34f3eb4_9e05_11ea_8ec5_6c0b84b3712blevel0_row10\" class=\"row_heading level0 row10\" >10</th>\n",
       "                        <td id=\"T_b34f3eb4_9e05_11ea_8ec5_6c0b84b3712brow10_col0\" class=\"data row10 col0\" >Logistic Regression</td>\n",
       "                        <td id=\"T_b34f3eb4_9e05_11ea_8ec5_6c0b84b3712brow10_col1\" class=\"data row10 col1\" >0.7105</td>\n",
       "                        <td id=\"T_b34f3eb4_9e05_11ea_8ec5_6c0b84b3712brow10_col2\" class=\"data row10 col2\" >0.7828</td>\n",
       "                        <td id=\"T_b34f3eb4_9e05_11ea_8ec5_6c0b84b3712brow10_col3\" class=\"data row10 col3\" >0.7027</td>\n",
       "                        <td id=\"T_b34f3eb4_9e05_11ea_8ec5_6c0b84b3712brow10_col4\" class=\"data row10 col4\" >0.6881</td>\n",
       "                        <td id=\"T_b34f3eb4_9e05_11ea_8ec5_6c0b84b3712brow10_col5\" class=\"data row10 col5\" >0.6953</td>\n",
       "                        <td id=\"T_b34f3eb4_9e05_11ea_8ec5_6c0b84b3712brow10_col6\" class=\"data row10 col6\" >0.4197</td>\n",
       "            </tr>\n",
       "            <tr>\n",
       "                        <th id=\"T_b34f3eb4_9e05_11ea_8ec5_6c0b84b3712blevel0_row11\" class=\"row_heading level0 row11\" >11</th>\n",
       "                        <td id=\"T_b34f3eb4_9e05_11ea_8ec5_6c0b84b3712brow11_col0\" class=\"data row11 col0\" >Ridge Classifier</td>\n",
       "                        <td id=\"T_b34f3eb4_9e05_11ea_8ec5_6c0b84b3712brow11_col1\" class=\"data row11 col1\" >0.7079</td>\n",
       "                        <td id=\"T_b34f3eb4_9e05_11ea_8ec5_6c0b84b3712brow11_col2\" class=\"data row11 col2\" >0</td>\n",
       "                        <td id=\"T_b34f3eb4_9e05_11ea_8ec5_6c0b84b3712brow11_col3\" class=\"data row11 col3\" >0.7027</td>\n",
       "                        <td id=\"T_b34f3eb4_9e05_11ea_8ec5_6c0b84b3712brow11_col4\" class=\"data row11 col4\" >0.6843</td>\n",
       "                        <td id=\"T_b34f3eb4_9e05_11ea_8ec5_6c0b84b3712brow11_col5\" class=\"data row11 col5\" >0.6934</td>\n",
       "                        <td id=\"T_b34f3eb4_9e05_11ea_8ec5_6c0b84b3712brow11_col6\" class=\"data row11 col6\" >0.4146</td>\n",
       "            </tr>\n",
       "            <tr>\n",
       "                        <th id=\"T_b34f3eb4_9e05_11ea_8ec5_6c0b84b3712blevel0_row12\" class=\"row_heading level0 row12\" >12</th>\n",
       "                        <td id=\"T_b34f3eb4_9e05_11ea_8ec5_6c0b84b3712brow12_col0\" class=\"data row12 col0\" >Linear Discriminant Analysis</td>\n",
       "                        <td id=\"T_b34f3eb4_9e05_11ea_8ec5_6c0b84b3712brow12_col1\" class=\"data row12 col1\" >0.7076</td>\n",
       "                        <td id=\"T_b34f3eb4_9e05_11ea_8ec5_6c0b84b3712brow12_col2\" class=\"data row12 col2\" >0.7746</td>\n",
       "                        <td id=\"T_b34f3eb4_9e05_11ea_8ec5_6c0b84b3712brow12_col3\" class=\"data row12 col3\" >0.7017</td>\n",
       "                        <td id=\"T_b34f3eb4_9e05_11ea_8ec5_6c0b84b3712brow12_col4\" class=\"data row12 col4\" >0.6842</td>\n",
       "                        <td id=\"T_b34f3eb4_9e05_11ea_8ec5_6c0b84b3712brow12_col5\" class=\"data row12 col5\" >0.6928</td>\n",
       "                        <td id=\"T_b34f3eb4_9e05_11ea_8ec5_6c0b84b3712brow12_col6\" class=\"data row12 col6\" >0.4139</td>\n",
       "            </tr>\n",
       "            <tr>\n",
       "                        <th id=\"T_b34f3eb4_9e05_11ea_8ec5_6c0b84b3712blevel0_row13\" class=\"row_heading level0 row13\" >13</th>\n",
       "                        <td id=\"T_b34f3eb4_9e05_11ea_8ec5_6c0b84b3712brow13_col0\" class=\"data row13 col0\" >Random Forest Classifier</td>\n",
       "                        <td id=\"T_b34f3eb4_9e05_11ea_8ec5_6c0b84b3712brow13_col1\" class=\"data row13 col1\" >0.7401</td>\n",
       "                        <td id=\"T_b34f3eb4_9e05_11ea_8ec5_6c0b84b3712brow13_col2\" class=\"data row13 col2\" >0.8147</td>\n",
       "                        <td id=\"T_b34f3eb4_9e05_11ea_8ec5_6c0b84b3712brow13_col3\" class=\"data row13 col3\" >0.6898</td>\n",
       "                        <td id=\"T_b34f3eb4_9e05_11ea_8ec5_6c0b84b3712brow13_col4\" class=\"data row13 col4\" >0.7397</td>\n",
       "                        <td id=\"T_b34f3eb4_9e05_11ea_8ec5_6c0b84b3712brow13_col5\" class=\"data row13 col5\" >0.7138</td>\n",
       "                        <td id=\"T_b34f3eb4_9e05_11ea_8ec5_6c0b84b3712brow13_col6\" class=\"data row13 col6\" >0.4762</td>\n",
       "            </tr>\n",
       "            <tr>\n",
       "                        <th id=\"T_b34f3eb4_9e05_11ea_8ec5_6c0b84b3712blevel0_row14\" class=\"row_heading level0 row14\" >14</th>\n",
       "                        <td id=\"T_b34f3eb4_9e05_11ea_8ec5_6c0b84b3712brow14_col0\" class=\"data row14 col0\" >K Neighbors Classifier</td>\n",
       "                        <td id=\"T_b34f3eb4_9e05_11ea_8ec5_6c0b84b3712brow14_col1\" class=\"data row14 col1\" >0.6779</td>\n",
       "                        <td id=\"T_b34f3eb4_9e05_11ea_8ec5_6c0b84b3712brow14_col2\" class=\"data row14 col2\" >0.7386</td>\n",
       "                        <td id=\"T_b34f3eb4_9e05_11ea_8ec5_6c0b84b3712brow14_col3\" class=\"data row14 col3\" >0.6867</td>\n",
       "                        <td id=\"T_b34f3eb4_9e05_11ea_8ec5_6c0b84b3712brow14_col4\" class=\"data row14 col4\" >0.6487</td>\n",
       "                        <td id=\"T_b34f3eb4_9e05_11ea_8ec5_6c0b84b3712brow14_col5\" class=\"data row14 col5\" >0.6671</td>\n",
       "                        <td id=\"T_b34f3eb4_9e05_11ea_8ec5_6c0b84b3712brow14_col6\" class=\"data row14 col6\" >0.3557</td>\n",
       "            </tr>\n",
       "            <tr>\n",
       "                        <th id=\"T_b34f3eb4_9e05_11ea_8ec5_6c0b84b3712blevel0_row15\" class=\"row_heading level0 row15\" >15</th>\n",
       "                        <td id=\"T_b34f3eb4_9e05_11ea_8ec5_6c0b84b3712brow15_col0\" class=\"data row15 col0\" >SVM - Linear Kernel</td>\n",
       "                        <td id=\"T_b34f3eb4_9e05_11ea_8ec5_6c0b84b3712brow15_col1\" class=\"data row15 col1\" >0.6945</td>\n",
       "                        <td id=\"T_b34f3eb4_9e05_11ea_8ec5_6c0b84b3712brow15_col2\" class=\"data row15 col2\" >0</td>\n",
       "                        <td id=\"T_b34f3eb4_9e05_11ea_8ec5_6c0b84b3712brow15_col3\" class=\"data row15 col3\" >0.6454</td>\n",
       "                        <td id=\"T_b34f3eb4_9e05_11ea_8ec5_6c0b84b3712brow15_col4\" class=\"data row15 col4\" >0.6858</td>\n",
       "                        <td id=\"T_b34f3eb4_9e05_11ea_8ec5_6c0b84b3712brow15_col5\" class=\"data row15 col5\" >0.6648</td>\n",
       "                        <td id=\"T_b34f3eb4_9e05_11ea_8ec5_6c0b84b3712brow15_col6\" class=\"data row15 col6\" >0.3846</td>\n",
       "            </tr>\n",
       "            <tr>\n",
       "                        <th id=\"T_b34f3eb4_9e05_11ea_8ec5_6c0b84b3712blevel0_row16\" class=\"row_heading level0 row16\" >16</th>\n",
       "                        <td id=\"T_b34f3eb4_9e05_11ea_8ec5_6c0b84b3712brow16_col0\" class=\"data row16 col0\" >Naive Bayes</td>\n",
       "                        <td id=\"T_b34f3eb4_9e05_11ea_8ec5_6c0b84b3712brow16_col1\" class=\"data row16 col1\" >0.6054</td>\n",
       "                        <td id=\"T_b34f3eb4_9e05_11ea_8ec5_6c0b84b3712brow16_col2\" class=\"data row16 col2\" >0.667</td>\n",
       "                        <td id=\"T_b34f3eb4_9e05_11ea_8ec5_6c0b84b3712brow16_col3\" class=\"data row16 col3\" >0.3758</td>\n",
       "                        <td id=\"T_b34f3eb4_9e05_11ea_8ec5_6c0b84b3712brow16_col4\" class=\"data row16 col4\" >0.636</td>\n",
       "                        <td id=\"T_b34f3eb4_9e05_11ea_8ec5_6c0b84b3712brow16_col5\" class=\"data row16 col5\" >0.4703</td>\n",
       "                        <td id=\"T_b34f3eb4_9e05_11ea_8ec5_6c0b84b3712brow16_col6\" class=\"data row16 col6\" >0.1891</td>\n",
       "            </tr>\n",
       "            <tr>\n",
       "                        <th id=\"T_b34f3eb4_9e05_11ea_8ec5_6c0b84b3712blevel0_row17\" class=\"row_heading level0 row17\" >17</th>\n",
       "                        <td id=\"T_b34f3eb4_9e05_11ea_8ec5_6c0b84b3712brow17_col0\" class=\"data row17 col0\" >Quadratic Discriminant Analysis</td>\n",
       "                        <td id=\"T_b34f3eb4_9e05_11ea_8ec5_6c0b84b3712brow17_col1\" class=\"data row17 col1\" >0.5748</td>\n",
       "                        <td id=\"T_b34f3eb4_9e05_11ea_8ec5_6c0b84b3712brow17_col2\" class=\"data row17 col2\" >0.6516</td>\n",
       "                        <td id=\"T_b34f3eb4_9e05_11ea_8ec5_6c0b84b3712brow17_col3\" class=\"data row17 col3\" >0.1899</td>\n",
       "                        <td id=\"T_b34f3eb4_9e05_11ea_8ec5_6c0b84b3712brow17_col4\" class=\"data row17 col4\" >0.6673</td>\n",
       "                        <td id=\"T_b34f3eb4_9e05_11ea_8ec5_6c0b84b3712brow17_col5\" class=\"data row17 col5\" >0.2956</td>\n",
       "                        <td id=\"T_b34f3eb4_9e05_11ea_8ec5_6c0b84b3712brow17_col6\" class=\"data row17 col6\" >0.1104</td>\n",
       "            </tr>\n",
       "    </tbody></table>"
      ],
      "text/plain": [
       "<pandas.io.formats.style.Styler at 0x2758b157d30>"
      ]
     },
     "execution_count": 15,
     "metadata": {},
     "output_type": "execute_result"
    }
   ],
   "source": [
    "# Can influence performance by reducing # of folds (10 is def.) or adding blacklists/exclusions\n",
    "# Regression has about 21 models\n",
    "# Classification has about 15 models\n",
    "# Logistic Regression - ‘lr’\n",
    "# K Nearest Neighbour - ‘knn’\n",
    "# Naives Bayes - ‘nb’\n",
    "# Decision Tree - ‘dt’\n",
    "# SVM (Linear) - ‘svm’\n",
    "# Gaussian Process - ‘gpc’\n",
    "# Ridge Classifier - ‘ridge’\n",
    "# Random Forest - ‘rf’\n",
    "# Quadratic Disc. Analysis - ‘qda’\n",
    "# AdaBoost - ‘ada’\n",
    "# Linear Disc. Analysis - ‘lda’\n",
    "# Extra Trees Classifier - ‘et’\n",
    "# Extreme Gradient Boosting - ‘xgboost’\n",
    "# Light Gradient Boosting - ‘lightgbm’\n",
    "# Cat Boost Classifier - ‘catboost’\n",
    "####### Off by default (enable w \"turbo = False\")\n",
    "# Multi Level Perceptron - ‘mlp’\n",
    "# Gradient Boosting Classifier - ‘gbc’\n",
    "# SVM (RBF) - ‘rbfsvm’\n",
    "# \n",
    "# compare_models(blacklist=['catboost', 'xgboost', 'lightgbm'])\n",
    "# \n",
    "# Slow: \n",
    "#    - Gaussian Process Classifier\n",
    "#    - \n",
    "%%time\n",
    "\n",
    "model_results=compare_models(\n",
    "    fold=2\n",
    "    , blacklist = None\n",
    "    ,  round = 4 # number of decimal places to round to. 4 is default\n",
    "    ,  sort = 'Recall'\n",
    "    , turbo = True # True by default. Auto blacklists models that have longer training times. When True, rbfsvm, gpc and mlp are excluded due to longer training times. If you set to False, could take a long time\n",
    ")\n",
    "model_results"
   ]
  },
  {
   "cell_type": "markdown",
   "metadata": {},
   "source": [
    "# Results\n",
    "Full test set: Extra Trees Classifier"
   ]
  },
  {
   "cell_type": "code",
   "execution_count": 16,
   "metadata": {},
   "outputs": [
    {
     "name": "stdout",
     "output_type": "stream",
     "text": [
      "Wall time: 2h 40min 26s\n"
     ]
    },
    {
     "data": {
      "text/html": [
       "<style  type=\"text/css\" >\n",
       "    #T_b2b5c34a_9e1c_11ea_8140_6c0b84b3712b th {\n",
       "          text-align: left;\n",
       "    }    #T_b2b5c34a_9e1c_11ea_8140_6c0b84b3712brow0_col0 {\n",
       "            text-align:  left;\n",
       "        }    #T_b2b5c34a_9e1c_11ea_8140_6c0b84b3712brow0_col1 {\n",
       "            : ;\n",
       "            text-align:  left;\n",
       "        }    #T_b2b5c34a_9e1c_11ea_8140_6c0b84b3712brow0_col2 {\n",
       "            : ;\n",
       "            text-align:  left;\n",
       "        }    #T_b2b5c34a_9e1c_11ea_8140_6c0b84b3712brow0_col3 {\n",
       "            background-color:  yellow;\n",
       "            text-align:  left;\n",
       "        }    #T_b2b5c34a_9e1c_11ea_8140_6c0b84b3712brow0_col4 {\n",
       "            : ;\n",
       "            text-align:  left;\n",
       "        }    #T_b2b5c34a_9e1c_11ea_8140_6c0b84b3712brow0_col5 {\n",
       "            : ;\n",
       "            text-align:  left;\n",
       "        }    #T_b2b5c34a_9e1c_11ea_8140_6c0b84b3712brow0_col6 {\n",
       "            : ;\n",
       "            text-align:  left;\n",
       "        }    #T_b2b5c34a_9e1c_11ea_8140_6c0b84b3712brow1_col0 {\n",
       "            text-align:  left;\n",
       "        }    #T_b2b5c34a_9e1c_11ea_8140_6c0b84b3712brow1_col1 {\n",
       "            : ;\n",
       "            text-align:  left;\n",
       "        }    #T_b2b5c34a_9e1c_11ea_8140_6c0b84b3712brow1_col2 {\n",
       "            : ;\n",
       "            text-align:  left;\n",
       "        }    #T_b2b5c34a_9e1c_11ea_8140_6c0b84b3712brow1_col3 {\n",
       "            : ;\n",
       "            text-align:  left;\n",
       "        }    #T_b2b5c34a_9e1c_11ea_8140_6c0b84b3712brow1_col4 {\n",
       "            : ;\n",
       "            text-align:  left;\n",
       "        }    #T_b2b5c34a_9e1c_11ea_8140_6c0b84b3712brow1_col5 {\n",
       "            : ;\n",
       "            text-align:  left;\n",
       "        }    #T_b2b5c34a_9e1c_11ea_8140_6c0b84b3712brow1_col6 {\n",
       "            : ;\n",
       "            text-align:  left;\n",
       "        }    #T_b2b5c34a_9e1c_11ea_8140_6c0b84b3712brow2_col0 {\n",
       "            text-align:  left;\n",
       "        }    #T_b2b5c34a_9e1c_11ea_8140_6c0b84b3712brow2_col1 {\n",
       "            : ;\n",
       "            text-align:  left;\n",
       "        }    #T_b2b5c34a_9e1c_11ea_8140_6c0b84b3712brow2_col2 {\n",
       "            : ;\n",
       "            text-align:  left;\n",
       "        }    #T_b2b5c34a_9e1c_11ea_8140_6c0b84b3712brow2_col3 {\n",
       "            : ;\n",
       "            text-align:  left;\n",
       "        }    #T_b2b5c34a_9e1c_11ea_8140_6c0b84b3712brow2_col4 {\n",
       "            : ;\n",
       "            text-align:  left;\n",
       "        }    #T_b2b5c34a_9e1c_11ea_8140_6c0b84b3712brow2_col5 {\n",
       "            : ;\n",
       "            text-align:  left;\n",
       "        }    #T_b2b5c34a_9e1c_11ea_8140_6c0b84b3712brow2_col6 {\n",
       "            : ;\n",
       "            text-align:  left;\n",
       "        }    #T_b2b5c34a_9e1c_11ea_8140_6c0b84b3712brow3_col0 {\n",
       "            text-align:  left;\n",
       "        }    #T_b2b5c34a_9e1c_11ea_8140_6c0b84b3712brow3_col1 {\n",
       "            background-color:  yellow;\n",
       "            text-align:  left;\n",
       "        }    #T_b2b5c34a_9e1c_11ea_8140_6c0b84b3712brow3_col2 {\n",
       "            background-color:  yellow;\n",
       "            text-align:  left;\n",
       "        }    #T_b2b5c34a_9e1c_11ea_8140_6c0b84b3712brow3_col3 {\n",
       "            : ;\n",
       "            text-align:  left;\n",
       "        }    #T_b2b5c34a_9e1c_11ea_8140_6c0b84b3712brow3_col4 {\n",
       "            background-color:  yellow;\n",
       "            text-align:  left;\n",
       "        }    #T_b2b5c34a_9e1c_11ea_8140_6c0b84b3712brow3_col5 {\n",
       "            background-color:  yellow;\n",
       "            text-align:  left;\n",
       "        }    #T_b2b5c34a_9e1c_11ea_8140_6c0b84b3712brow3_col6 {\n",
       "            background-color:  yellow;\n",
       "            text-align:  left;\n",
       "        }    #T_b2b5c34a_9e1c_11ea_8140_6c0b84b3712brow4_col0 {\n",
       "            text-align:  left;\n",
       "        }    #T_b2b5c34a_9e1c_11ea_8140_6c0b84b3712brow4_col1 {\n",
       "            : ;\n",
       "            text-align:  left;\n",
       "        }    #T_b2b5c34a_9e1c_11ea_8140_6c0b84b3712brow4_col2 {\n",
       "            : ;\n",
       "            text-align:  left;\n",
       "        }    #T_b2b5c34a_9e1c_11ea_8140_6c0b84b3712brow4_col3 {\n",
       "            : ;\n",
       "            text-align:  left;\n",
       "        }    #T_b2b5c34a_9e1c_11ea_8140_6c0b84b3712brow4_col4 {\n",
       "            : ;\n",
       "            text-align:  left;\n",
       "        }    #T_b2b5c34a_9e1c_11ea_8140_6c0b84b3712brow4_col5 {\n",
       "            : ;\n",
       "            text-align:  left;\n",
       "        }    #T_b2b5c34a_9e1c_11ea_8140_6c0b84b3712brow4_col6 {\n",
       "            : ;\n",
       "            text-align:  left;\n",
       "        }    #T_b2b5c34a_9e1c_11ea_8140_6c0b84b3712brow5_col0 {\n",
       "            text-align:  left;\n",
       "        }    #T_b2b5c34a_9e1c_11ea_8140_6c0b84b3712brow5_col1 {\n",
       "            : ;\n",
       "            text-align:  left;\n",
       "        }    #T_b2b5c34a_9e1c_11ea_8140_6c0b84b3712brow5_col2 {\n",
       "            : ;\n",
       "            text-align:  left;\n",
       "        }    #T_b2b5c34a_9e1c_11ea_8140_6c0b84b3712brow5_col3 {\n",
       "            : ;\n",
       "            text-align:  left;\n",
       "        }    #T_b2b5c34a_9e1c_11ea_8140_6c0b84b3712brow5_col4 {\n",
       "            : ;\n",
       "            text-align:  left;\n",
       "        }    #T_b2b5c34a_9e1c_11ea_8140_6c0b84b3712brow5_col5 {\n",
       "            : ;\n",
       "            text-align:  left;\n",
       "        }    #T_b2b5c34a_9e1c_11ea_8140_6c0b84b3712brow5_col6 {\n",
       "            : ;\n",
       "            text-align:  left;\n",
       "        }    #T_b2b5c34a_9e1c_11ea_8140_6c0b84b3712brow6_col0 {\n",
       "            text-align:  left;\n",
       "        }    #T_b2b5c34a_9e1c_11ea_8140_6c0b84b3712brow6_col1 {\n",
       "            : ;\n",
       "            text-align:  left;\n",
       "        }    #T_b2b5c34a_9e1c_11ea_8140_6c0b84b3712brow6_col2 {\n",
       "            : ;\n",
       "            text-align:  left;\n",
       "        }    #T_b2b5c34a_9e1c_11ea_8140_6c0b84b3712brow6_col3 {\n",
       "            : ;\n",
       "            text-align:  left;\n",
       "        }    #T_b2b5c34a_9e1c_11ea_8140_6c0b84b3712brow6_col4 {\n",
       "            : ;\n",
       "            text-align:  left;\n",
       "        }    #T_b2b5c34a_9e1c_11ea_8140_6c0b84b3712brow6_col5 {\n",
       "            : ;\n",
       "            text-align:  left;\n",
       "        }    #T_b2b5c34a_9e1c_11ea_8140_6c0b84b3712brow6_col6 {\n",
       "            : ;\n",
       "            text-align:  left;\n",
       "        }    #T_b2b5c34a_9e1c_11ea_8140_6c0b84b3712brow7_col0 {\n",
       "            text-align:  left;\n",
       "        }    #T_b2b5c34a_9e1c_11ea_8140_6c0b84b3712brow7_col1 {\n",
       "            : ;\n",
       "            text-align:  left;\n",
       "        }    #T_b2b5c34a_9e1c_11ea_8140_6c0b84b3712brow7_col2 {\n",
       "            : ;\n",
       "            text-align:  left;\n",
       "        }    #T_b2b5c34a_9e1c_11ea_8140_6c0b84b3712brow7_col3 {\n",
       "            : ;\n",
       "            text-align:  left;\n",
       "        }    #T_b2b5c34a_9e1c_11ea_8140_6c0b84b3712brow7_col4 {\n",
       "            : ;\n",
       "            text-align:  left;\n",
       "        }    #T_b2b5c34a_9e1c_11ea_8140_6c0b84b3712brow7_col5 {\n",
       "            : ;\n",
       "            text-align:  left;\n",
       "        }    #T_b2b5c34a_9e1c_11ea_8140_6c0b84b3712brow7_col6 {\n",
       "            : ;\n",
       "            text-align:  left;\n",
       "        }    #T_b2b5c34a_9e1c_11ea_8140_6c0b84b3712brow8_col0 {\n",
       "            text-align:  left;\n",
       "        }    #T_b2b5c34a_9e1c_11ea_8140_6c0b84b3712brow8_col1 {\n",
       "            : ;\n",
       "            text-align:  left;\n",
       "        }    #T_b2b5c34a_9e1c_11ea_8140_6c0b84b3712brow8_col2 {\n",
       "            : ;\n",
       "            text-align:  left;\n",
       "        }    #T_b2b5c34a_9e1c_11ea_8140_6c0b84b3712brow8_col3 {\n",
       "            : ;\n",
       "            text-align:  left;\n",
       "        }    #T_b2b5c34a_9e1c_11ea_8140_6c0b84b3712brow8_col4 {\n",
       "            : ;\n",
       "            text-align:  left;\n",
       "        }    #T_b2b5c34a_9e1c_11ea_8140_6c0b84b3712brow8_col5 {\n",
       "            : ;\n",
       "            text-align:  left;\n",
       "        }    #T_b2b5c34a_9e1c_11ea_8140_6c0b84b3712brow8_col6 {\n",
       "            : ;\n",
       "            text-align:  left;\n",
       "        }    #T_b2b5c34a_9e1c_11ea_8140_6c0b84b3712brow9_col0 {\n",
       "            text-align:  left;\n",
       "        }    #T_b2b5c34a_9e1c_11ea_8140_6c0b84b3712brow9_col1 {\n",
       "            : ;\n",
       "            text-align:  left;\n",
       "        }    #T_b2b5c34a_9e1c_11ea_8140_6c0b84b3712brow9_col2 {\n",
       "            : ;\n",
       "            text-align:  left;\n",
       "        }    #T_b2b5c34a_9e1c_11ea_8140_6c0b84b3712brow9_col3 {\n",
       "            : ;\n",
       "            text-align:  left;\n",
       "        }    #T_b2b5c34a_9e1c_11ea_8140_6c0b84b3712brow9_col4 {\n",
       "            : ;\n",
       "            text-align:  left;\n",
       "        }    #T_b2b5c34a_9e1c_11ea_8140_6c0b84b3712brow9_col5 {\n",
       "            : ;\n",
       "            text-align:  left;\n",
       "        }    #T_b2b5c34a_9e1c_11ea_8140_6c0b84b3712brow9_col6 {\n",
       "            : ;\n",
       "            text-align:  left;\n",
       "        }    #T_b2b5c34a_9e1c_11ea_8140_6c0b84b3712brow10_col0 {\n",
       "            text-align:  left;\n",
       "        }    #T_b2b5c34a_9e1c_11ea_8140_6c0b84b3712brow10_col1 {\n",
       "            : ;\n",
       "            text-align:  left;\n",
       "        }    #T_b2b5c34a_9e1c_11ea_8140_6c0b84b3712brow10_col2 {\n",
       "            : ;\n",
       "            text-align:  left;\n",
       "        }    #T_b2b5c34a_9e1c_11ea_8140_6c0b84b3712brow10_col3 {\n",
       "            : ;\n",
       "            text-align:  left;\n",
       "        }    #T_b2b5c34a_9e1c_11ea_8140_6c0b84b3712brow10_col4 {\n",
       "            : ;\n",
       "            text-align:  left;\n",
       "        }    #T_b2b5c34a_9e1c_11ea_8140_6c0b84b3712brow10_col5 {\n",
       "            : ;\n",
       "            text-align:  left;\n",
       "        }    #T_b2b5c34a_9e1c_11ea_8140_6c0b84b3712brow10_col6 {\n",
       "            : ;\n",
       "            text-align:  left;\n",
       "        }</style><table id=\"T_b2b5c34a_9e1c_11ea_8140_6c0b84b3712b\" ><thead>    <tr>        <th class=\"blank level0\" ></th>        <th class=\"col_heading level0 col0\" >Model</th>        <th class=\"col_heading level0 col1\" >Accuracy</th>        <th class=\"col_heading level0 col2\" >AUC</th>        <th class=\"col_heading level0 col3\" >Recall</th>        <th class=\"col_heading level0 col4\" >Prec.</th>        <th class=\"col_heading level0 col5\" >F1</th>        <th class=\"col_heading level0 col6\" >Kappa</th>    </tr></thead><tbody>\n",
       "                <tr>\n",
       "                        <th id=\"T_b2b5c34a_9e1c_11ea_8140_6c0b84b3712blevel0_row0\" class=\"row_heading level0 row0\" >0</th>\n",
       "                        <td id=\"T_b2b5c34a_9e1c_11ea_8140_6c0b84b3712brow0_col0\" class=\"data row0 col0\" >Gaussian Process Classifier</td>\n",
       "                        <td id=\"T_b2b5c34a_9e1c_11ea_8140_6c0b84b3712brow0_col1\" class=\"data row0 col1\" >0.7664</td>\n",
       "                        <td id=\"T_b2b5c34a_9e1c_11ea_8140_6c0b84b3712brow0_col2\" class=\"data row0 col2\" >0.8409</td>\n",
       "                        <td id=\"T_b2b5c34a_9e1c_11ea_8140_6c0b84b3712brow0_col3\" class=\"data row0 col3\" >0.7971</td>\n",
       "                        <td id=\"T_b2b5c34a_9e1c_11ea_8140_6c0b84b3712brow0_col4\" class=\"data row0 col4\" >0.7304</td>\n",
       "                        <td id=\"T_b2b5c34a_9e1c_11ea_8140_6c0b84b3712brow0_col5\" class=\"data row0 col5\" >0.7622</td>\n",
       "                        <td id=\"T_b2b5c34a_9e1c_11ea_8140_6c0b84b3712brow0_col6\" class=\"data row0 col6\" >0.5334</td>\n",
       "            </tr>\n",
       "            <tr>\n",
       "                        <th id=\"T_b2b5c34a_9e1c_11ea_8140_6c0b84b3712blevel0_row1\" class=\"row_heading level0 row1\" >1</th>\n",
       "                        <td id=\"T_b2b5c34a_9e1c_11ea_8140_6c0b84b3712brow1_col0\" class=\"data row1 col0\" >Decision Tree Classifier</td>\n",
       "                        <td id=\"T_b2b5c34a_9e1c_11ea_8140_6c0b84b3712brow1_col1\" class=\"data row1 col1\" >0.7583</td>\n",
       "                        <td id=\"T_b2b5c34a_9e1c_11ea_8140_6c0b84b3712brow1_col2\" class=\"data row1 col2\" >0.7604</td>\n",
       "                        <td id=\"T_b2b5c34a_9e1c_11ea_8140_6c0b84b3712brow1_col3\" class=\"data row1 col3\" >0.7969</td>\n",
       "                        <td id=\"T_b2b5c34a_9e1c_11ea_8140_6c0b84b3712brow1_col4\" class=\"data row1 col4\" >0.7193</td>\n",
       "                        <td id=\"T_b2b5c34a_9e1c_11ea_8140_6c0b84b3712brow1_col5\" class=\"data row1 col5\" >0.756</td>\n",
       "                        <td id=\"T_b2b5c34a_9e1c_11ea_8140_6c0b84b3712brow1_col6\" class=\"data row1 col6\" >0.5177</td>\n",
       "            </tr>\n",
       "            <tr>\n",
       "                        <th id=\"T_b2b5c34a_9e1c_11ea_8140_6c0b84b3712blevel0_row2\" class=\"row_heading level0 row2\" >2</th>\n",
       "                        <td id=\"T_b2b5c34a_9e1c_11ea_8140_6c0b84b3712brow2_col0\" class=\"data row2 col0\" >MLP Classifier</td>\n",
       "                        <td id=\"T_b2b5c34a_9e1c_11ea_8140_6c0b84b3712brow2_col1\" class=\"data row2 col1\" >0.7674</td>\n",
       "                        <td id=\"T_b2b5c34a_9e1c_11ea_8140_6c0b84b3712brow2_col2\" class=\"data row2 col2\" >0.8232</td>\n",
       "                        <td id=\"T_b2b5c34a_9e1c_11ea_8140_6c0b84b3712brow2_col3\" class=\"data row2 col3\" >0.7965</td>\n",
       "                        <td id=\"T_b2b5c34a_9e1c_11ea_8140_6c0b84b3712brow2_col4\" class=\"data row2 col4\" >0.7325</td>\n",
       "                        <td id=\"T_b2b5c34a_9e1c_11ea_8140_6c0b84b3712brow2_col5\" class=\"data row2 col5\" >0.7631</td>\n",
       "                        <td id=\"T_b2b5c34a_9e1c_11ea_8140_6c0b84b3712brow2_col6\" class=\"data row2 col6\" >0.5355</td>\n",
       "            </tr>\n",
       "            <tr>\n",
       "                        <th id=\"T_b2b5c34a_9e1c_11ea_8140_6c0b84b3712blevel0_row3\" class=\"row_heading level0 row3\" >3</th>\n",
       "                        <td id=\"T_b2b5c34a_9e1c_11ea_8140_6c0b84b3712brow3_col0\" class=\"data row3 col0\" >Extra Trees Classifier</td>\n",
       "                        <td id=\"T_b2b5c34a_9e1c_11ea_8140_6c0b84b3712brow3_col1\" class=\"data row3 col1\" >0.8061</td>\n",
       "                        <td id=\"T_b2b5c34a_9e1c_11ea_8140_6c0b84b3712brow3_col2\" class=\"data row3 col2\" >0.899</td>\n",
       "                        <td id=\"T_b2b5c34a_9e1c_11ea_8140_6c0b84b3712brow3_col3\" class=\"data row3 col3\" >0.7916</td>\n",
       "                        <td id=\"T_b2b5c34a_9e1c_11ea_8140_6c0b84b3712brow3_col4\" class=\"data row3 col4\" >0.7951</td>\n",
       "                        <td id=\"T_b2b5c34a_9e1c_11ea_8140_6c0b84b3712brow3_col5\" class=\"data row3 col5\" >0.7932</td>\n",
       "                        <td id=\"T_b2b5c34a_9e1c_11ea_8140_6c0b84b3712brow3_col6\" class=\"data row3 col6\" >0.6107</td>\n",
       "            </tr>\n",
       "            <tr>\n",
       "                        <th id=\"T_b2b5c34a_9e1c_11ea_8140_6c0b84b3712blevel0_row4\" class=\"row_heading level0 row4\" >4</th>\n",
       "                        <td id=\"T_b2b5c34a_9e1c_11ea_8140_6c0b84b3712brow4_col0\" class=\"data row4 col0\" >CatBoost Classifier</td>\n",
       "                        <td id=\"T_b2b5c34a_9e1c_11ea_8140_6c0b84b3712brow4_col1\" class=\"data row4 col1\" >0.7497</td>\n",
       "                        <td id=\"T_b2b5c34a_9e1c_11ea_8140_6c0b84b3712brow4_col2\" class=\"data row4 col2\" >0.829</td>\n",
       "                        <td id=\"T_b2b5c34a_9e1c_11ea_8140_6c0b84b3712brow4_col3\" class=\"data row4 col3\" >0.7672</td>\n",
       "                        <td id=\"T_b2b5c34a_9e1c_11ea_8140_6c0b84b3712brow4_col4\" class=\"data row4 col4\" >0.7191</td>\n",
       "                        <td id=\"T_b2b5c34a_9e1c_11ea_8140_6c0b84b3712brow4_col5\" class=\"data row4 col5\" >0.7423</td>\n",
       "                        <td id=\"T_b2b5c34a_9e1c_11ea_8140_6c0b84b3712brow4_col6\" class=\"data row4 col6\" >0.4995</td>\n",
       "            </tr>\n",
       "            <tr>\n",
       "                        <th id=\"T_b2b5c34a_9e1c_11ea_8140_6c0b84b3712blevel0_row5\" class=\"row_heading level0 row5\" >5</th>\n",
       "                        <td id=\"T_b2b5c34a_9e1c_11ea_8140_6c0b84b3712brow5_col0\" class=\"data row5 col0\" >Light Gradient Boosting Machine</td>\n",
       "                        <td id=\"T_b2b5c34a_9e1c_11ea_8140_6c0b84b3712brow5_col1\" class=\"data row5 col1\" >0.7397</td>\n",
       "                        <td id=\"T_b2b5c34a_9e1c_11ea_8140_6c0b84b3712brow5_col2\" class=\"data row5 col2\" >0.8194</td>\n",
       "                        <td id=\"T_b2b5c34a_9e1c_11ea_8140_6c0b84b3712brow5_col3\" class=\"data row5 col3\" >0.7594</td>\n",
       "                        <td id=\"T_b2b5c34a_9e1c_11ea_8140_6c0b84b3712brow5_col4\" class=\"data row5 col4\" >0.7081</td>\n",
       "                        <td id=\"T_b2b5c34a_9e1c_11ea_8140_6c0b84b3712brow5_col5\" class=\"data row5 col5\" >0.7327</td>\n",
       "                        <td id=\"T_b2b5c34a_9e1c_11ea_8140_6c0b84b3712brow5_col6\" class=\"data row5 col6\" >0.4797</td>\n",
       "            </tr>\n",
       "            <tr>\n",
       "                        <th id=\"T_b2b5c34a_9e1c_11ea_8140_6c0b84b3712blevel0_row6\" class=\"row_heading level0 row6\" >6</th>\n",
       "                        <td id=\"T_b2b5c34a_9e1c_11ea_8140_6c0b84b3712brow6_col0\" class=\"data row6 col0\" >SVM - Radial Kernel</td>\n",
       "                        <td id=\"T_b2b5c34a_9e1c_11ea_8140_6c0b84b3712brow6_col1\" class=\"data row6 col1\" >0.7078</td>\n",
       "                        <td id=\"T_b2b5c34a_9e1c_11ea_8140_6c0b84b3712brow6_col2\" class=\"data row6 col2\" >0.7815</td>\n",
       "                        <td id=\"T_b2b5c34a_9e1c_11ea_8140_6c0b84b3712brow6_col3\" class=\"data row6 col3\" >0.747</td>\n",
       "                        <td id=\"T_b2b5c34a_9e1c_11ea_8140_6c0b84b3712brow6_col4\" class=\"data row6 col4\" >0.6695</td>\n",
       "                        <td id=\"T_b2b5c34a_9e1c_11ea_8140_6c0b84b3712brow6_col5\" class=\"data row6 col5\" >0.706</td>\n",
       "                        <td id=\"T_b2b5c34a_9e1c_11ea_8140_6c0b84b3712brow6_col6\" class=\"data row6 col6\" >0.4172</td>\n",
       "            </tr>\n",
       "            <tr>\n",
       "                        <th id=\"T_b2b5c34a_9e1c_11ea_8140_6c0b84b3712blevel0_row7\" class=\"row_heading level0 row7\" >7</th>\n",
       "                        <td id=\"T_b2b5c34a_9e1c_11ea_8140_6c0b84b3712brow7_col0\" class=\"data row7 col0\" >Extreme Gradient Boosting</td>\n",
       "                        <td id=\"T_b2b5c34a_9e1c_11ea_8140_6c0b84b3712brow7_col1\" class=\"data row7 col1\" >0.7201</td>\n",
       "                        <td id=\"T_b2b5c34a_9e1c_11ea_8140_6c0b84b3712brow7_col2\" class=\"data row7 col2\" >0.7948</td>\n",
       "                        <td id=\"T_b2b5c34a_9e1c_11ea_8140_6c0b84b3712brow7_col3\" class=\"data row7 col3\" >0.741</td>\n",
       "                        <td id=\"T_b2b5c34a_9e1c_11ea_8140_6c0b84b3712brow7_col4\" class=\"data row7 col4\" >0.6876</td>\n",
       "                        <td id=\"T_b2b5c34a_9e1c_11ea_8140_6c0b84b3712brow7_col5\" class=\"data row7 col5\" >0.7132</td>\n",
       "                        <td id=\"T_b2b5c34a_9e1c_11ea_8140_6c0b84b3712brow7_col6\" class=\"data row7 col6\" >0.4406</td>\n",
       "            </tr>\n",
       "            <tr>\n",
       "                        <th id=\"T_b2b5c34a_9e1c_11ea_8140_6c0b84b3712blevel0_row8\" class=\"row_heading level0 row8\" >8</th>\n",
       "                        <td id=\"T_b2b5c34a_9e1c_11ea_8140_6c0b84b3712brow8_col0\" class=\"data row8 col0\" >Gradient Boosting Classifier</td>\n",
       "                        <td id=\"T_b2b5c34a_9e1c_11ea_8140_6c0b84b3712brow8_col1\" class=\"data row8 col1\" >0.7227</td>\n",
       "                        <td id=\"T_b2b5c34a_9e1c_11ea_8140_6c0b84b3712brow8_col2\" class=\"data row8 col2\" >0.797</td>\n",
       "                        <td id=\"T_b2b5c34a_9e1c_11ea_8140_6c0b84b3712brow8_col3\" class=\"data row8 col3\" >0.7392</td>\n",
       "                        <td id=\"T_b2b5c34a_9e1c_11ea_8140_6c0b84b3712brow8_col4\" class=\"data row8 col4\" >0.6919</td>\n",
       "                        <td id=\"T_b2b5c34a_9e1c_11ea_8140_6c0b84b3712brow8_col5\" class=\"data row8 col5\" >0.7146</td>\n",
       "                        <td id=\"T_b2b5c34a_9e1c_11ea_8140_6c0b84b3712brow8_col6\" class=\"data row8 col6\" >0.4455</td>\n",
       "            </tr>\n",
       "            <tr>\n",
       "                        <th id=\"T_b2b5c34a_9e1c_11ea_8140_6c0b84b3712blevel0_row9\" class=\"row_heading level0 row9\" >9</th>\n",
       "                        <td id=\"T_b2b5c34a_9e1c_11ea_8140_6c0b84b3712brow9_col0\" class=\"data row9 col0\" >Logistic Regression</td>\n",
       "                        <td id=\"T_b2b5c34a_9e1c_11ea_8140_6c0b84b3712brow9_col1\" class=\"data row9 col1\" >0.7174</td>\n",
       "                        <td id=\"T_b2b5c34a_9e1c_11ea_8140_6c0b84b3712brow9_col2\" class=\"data row9 col2\" >0.7881</td>\n",
       "                        <td id=\"T_b2b5c34a_9e1c_11ea_8140_6c0b84b3712brow9_col3\" class=\"data row9 col3\" >0.7176</td>\n",
       "                        <td id=\"T_b2b5c34a_9e1c_11ea_8140_6c0b84b3712brow9_col4\" class=\"data row9 col4\" >0.6923</td>\n",
       "                        <td id=\"T_b2b5c34a_9e1c_11ea_8140_6c0b84b3712brow9_col5\" class=\"data row9 col5\" >0.7046</td>\n",
       "                        <td id=\"T_b2b5c34a_9e1c_11ea_8140_6c0b84b3712brow9_col6\" class=\"data row9 col6\" >0.4339</td>\n",
       "            </tr>\n",
       "            <tr>\n",
       "                        <th id=\"T_b2b5c34a_9e1c_11ea_8140_6c0b84b3712blevel0_row10\" class=\"row_heading level0 row10\" >10</th>\n",
       "                        <td id=\"T_b2b5c34a_9e1c_11ea_8140_6c0b84b3712brow10_col0\" class=\"data row10 col0\" >Ada Boost Classifier</td>\n",
       "                        <td id=\"T_b2b5c34a_9e1c_11ea_8140_6c0b84b3712brow10_col1\" class=\"data row10 col1\" >0.7089</td>\n",
       "                        <td id=\"T_b2b5c34a_9e1c_11ea_8140_6c0b84b3712brow10_col2\" class=\"data row10 col2\" >0.7803</td>\n",
       "                        <td id=\"T_b2b5c34a_9e1c_11ea_8140_6c0b84b3712brow10_col3\" class=\"data row10 col3\" >0.7075</td>\n",
       "                        <td id=\"T_b2b5c34a_9e1c_11ea_8140_6c0b84b3712brow10_col4\" class=\"data row10 col4\" >0.6841</td>\n",
       "                        <td id=\"T_b2b5c34a_9e1c_11ea_8140_6c0b84b3712brow10_col5\" class=\"data row10 col5\" >0.6955</td>\n",
       "                        <td id=\"T_b2b5c34a_9e1c_11ea_8140_6c0b84b3712brow10_col6\" class=\"data row10 col6\" >0.4168</td>\n",
       "            </tr>\n",
       "    </tbody></table>"
      ],
      "text/plain": [
       "<pandas.io.formats.style.Styler at 0x2758b8bd470>"
      ]
     },
     "execution_count": 16,
     "metadata": {},
     "output_type": "execute_result"
    }
   ],
   "source": [
    "%%time\n",
    "\n",
    "model_results=compare_models(\n",
    "    fold=10\n",
    "    , blacklist = [\n",
    "            'nb'\n",
    "            , 'knn'\n",
    "            , 'svm'\n",
    "            , 'qda'\n",
    "            , 'rf'\n",
    "            , 'lda'\n",
    "            , 'ridge'\n",
    "        ] \n",
    "    ,  round = 4 # number of decimal places to round to. 4 is default\n",
    "    ,  sort = 'Recall'\n",
    "    , turbo = False # True by default. Auto blacklists models that have longer training times. When True, rbfsvm, gpc and mlp are excluded due to longer training times. If you set to False, could take a long time\n",
    ")\n",
    "model_results"
   ]
  },
  {
   "cell_type": "code",
   "execution_count": 9,
   "metadata": {},
   "outputs": [
    {
     "data": {
      "application/vnd.jupyter.widget-view+json": {
       "model_id": "9fe8c8db78344ceebe4ec3a968ed55f1",
       "version_major": 2,
       "version_minor": 0
      },
      "text/plain": [
       "IntProgress(value=0, description='Processing: ', max=14)"
      ]
     },
     "metadata": {},
     "output_type": "display_data"
    },
    {
     "data": {
      "text/html": [
       "<div>\n",
       "<style scoped>\n",
       "    .dataframe tbody tr th:only-of-type {\n",
       "        vertical-align: middle;\n",
       "    }\n",
       "\n",
       "    .dataframe tbody tr th {\n",
       "        vertical-align: top;\n",
       "    }\n",
       "\n",
       "    .dataframe thead th {\n",
       "        text-align: right;\n",
       "    }\n",
       "</style>\n",
       "<table border=\"1\" class=\"dataframe\">\n",
       "  <thead>\n",
       "    <tr style=\"text-align: right;\">\n",
       "      <th></th>\n",
       "      <th></th>\n",
       "      <th></th>\n",
       "    </tr>\n",
       "    <tr>\n",
       "      <th></th>\n",
       "      <th></th>\n",
       "      <th></th>\n",
       "    </tr>\n",
       "  </thead>\n",
       "  <tbody>\n",
       "    <tr>\n",
       "      <th>Initiated</th>\n",
       "      <td>. . . . . . . . . . . . . . . . . .</td>\n",
       "      <td>22:00:45</td>\n",
       "    </tr>\n",
       "    <tr>\n",
       "      <th>Status</th>\n",
       "      <td>. . . . . . . . . . . . . . . . . .</td>\n",
       "      <td>Waiting for input</td>\n",
       "    </tr>\n",
       "    <tr>\n",
       "      <th>ETC</th>\n",
       "      <td>. . . . . . . . . . . . . . . . . .</td>\n",
       "      <td>0.0 Seconds Remaining</td>\n",
       "    </tr>\n",
       "  </tbody>\n",
       "</table>\n",
       "</div>"
      ],
      "text/plain": [
       "                                                                     \n",
       "                                                                     \n",
       "Initiated  . . . . . . . . . . . . . . . . . .               22:00:45\n",
       "Status     . . . . . . . . . . . . . . . . . .      Waiting for input\n",
       "ETC        . . . . . . . . . . . . . . . . . .  0.0 Seconds Remaining"
      ]
     },
     "metadata": {},
     "output_type": "display_data"
    },
    {
     "data": {
      "text/html": [
       "<div>\n",
       "<style scoped>\n",
       "    .dataframe tbody tr th:only-of-type {\n",
       "        vertical-align: middle;\n",
       "    }\n",
       "\n",
       "    .dataframe tbody tr th {\n",
       "        vertical-align: top;\n",
       "    }\n",
       "\n",
       "    .dataframe thead th {\n",
       "        text-align: right;\n",
       "    }\n",
       "</style>\n",
       "<table border=\"1\" class=\"dataframe\">\n",
       "  <thead>\n",
       "    <tr style=\"text-align: right;\">\n",
       "      <th></th>\n",
       "      <th>Accuracy</th>\n",
       "      <th>AUC</th>\n",
       "      <th>Recall</th>\n",
       "      <th>Prec.</th>\n",
       "      <th>F1</th>\n",
       "      <th>Kappa</th>\n",
       "    </tr>\n",
       "  </thead>\n",
       "  <tbody>\n",
       "  </tbody>\n",
       "</table>\n",
       "</div>"
      ],
      "text/plain": [
       "Empty DataFrame\n",
       "Columns: [Accuracy, AUC, Recall, Prec., F1, Kappa]\n",
       "Index: []"
      ]
     },
     "metadata": {},
     "output_type": "display_data"
    },
    {
     "ename": "NameError",
     "evalue": "name 'X_train' is not defined",
     "output_type": "error",
     "traceback": [
      "\u001b[1;31m---------------------------------------------------------------------------\u001b[0m",
      "\u001b[1;31mNameError\u001b[0m                                 Traceback (most recent call last)",
      "\u001b[1;32m<ipython-input-9-2ee598ef8d63>\u001b[0m in \u001b[0;36m<module>\u001b[1;34m\u001b[0m\n\u001b[0;32m      6\u001b[0m     \u001b[1;34m'et'\u001b[0m\u001b[1;33m\u001b[0m\u001b[1;33m\u001b[0m\u001b[0m\n\u001b[0;32m      7\u001b[0m     \u001b[1;33m,\u001b[0m \u001b[0mensemble\u001b[0m \u001b[1;33m=\u001b[0m \u001b[1;32mTrue\u001b[0m\u001b[1;33m\u001b[0m\u001b[1;33m\u001b[0m\u001b[0m\n\u001b[1;32m----> 8\u001b[1;33m     \u001b[1;33m,\u001b[0m \u001b[0mmethod\u001b[0m \u001b[1;33m=\u001b[0m \u001b[1;34m'Boosting'\u001b[0m\u001b[1;33m\u001b[0m\u001b[1;33m\u001b[0m\u001b[0m\n\u001b[0m\u001b[0;32m      9\u001b[0m )\n",
      "\u001b[1;32mD:\\Anaconda3\\lib\\site-packages\\pycaret\\classification.py\u001b[0m in \u001b[0;36mcreate_model\u001b[1;34m(estimator, ensemble, method, fold, round, verbose)\u001b[0m\n\u001b[0;32m   1716\u001b[0m \u001b[1;33m\u001b[0m\u001b[0m\n\u001b[0;32m   1717\u001b[0m     \u001b[1;31m#Storing X_train and y_train in data_X and data_y parameter\u001b[0m\u001b[1;33m\u001b[0m\u001b[1;33m\u001b[0m\u001b[1;33m\u001b[0m\u001b[0m\n\u001b[1;32m-> 1718\u001b[1;33m     \u001b[0mdata_X\u001b[0m \u001b[1;33m=\u001b[0m \u001b[0mX_train\u001b[0m\u001b[1;33m.\u001b[0m\u001b[0mcopy\u001b[0m\u001b[1;33m(\u001b[0m\u001b[1;33m)\u001b[0m\u001b[1;33m\u001b[0m\u001b[1;33m\u001b[0m\u001b[0m\n\u001b[0m\u001b[0;32m   1719\u001b[0m     \u001b[0mdata_y\u001b[0m \u001b[1;33m=\u001b[0m \u001b[0my_train\u001b[0m\u001b[1;33m.\u001b[0m\u001b[0mcopy\u001b[0m\u001b[1;33m(\u001b[0m\u001b[1;33m)\u001b[0m\u001b[1;33m\u001b[0m\u001b[1;33m\u001b[0m\u001b[0m\n\u001b[0;32m   1720\u001b[0m \u001b[1;33m\u001b[0m\u001b[0m\n",
      "\u001b[1;31mNameError\u001b[0m: name 'X_train' is not defined"
     ]
    }
   ],
   "source": [
    "# First, let's split our data into X and y:\n",
    "X_train = dfStatesOnly.loc[:, dfStatesOnly.columns != 'outcome']\n",
    "y_train = dfStatesOnly['outcome']\n",
    "\n",
    "et = create_model(\n",
    "    'et'\n",
    "    , ensemble = True\n",
    "    , method = 'Boosting'\n",
    ")"
   ]
  },
  {
   "cell_type": "markdown",
   "metadata": {},
   "source": [
    "# F1 score\n",
    "F1 score is ((Precision * Recall) / (Precision + Recall))<sup>2</sup>"
   ]
  },
  {
   "cell_type": "code",
   "execution_count": null,
   "metadata": {},
   "outputs": [],
   "source": [
    "%%time\n",
    "\n",
    "et = create_model(\n",
    "    'et'\n",
    "    , ensemble = True\n",
    "    , method = 'Boosting'\n",
    ")"
   ]
  }
 ],
 "metadata": {
  "kernelspec": {
   "display_name": "Python 3",
   "language": "python",
   "name": "python3"
  },
  "language_info": {
   "codemirror_mode": {
    "name": "ipython",
    "version": 3
   },
   "file_extension": ".py",
   "mimetype": "text/x-python",
   "name": "python",
   "nbconvert_exporter": "python",
   "pygments_lexer": "ipython3",
   "version": "3.7.3"
  }
 },
 "nbformat": 4,
 "nbformat_minor": 2
}
