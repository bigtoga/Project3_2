{
 "cells": [
  {
   "cell_type": "code",
   "execution_count": 1,
   "metadata": {
    "_cell_guid": "79c7e3d0-c299-4dcb-8224-4455121ee9b0",
    "_kg_hide-output": true,
    "_uuid": "d629ff2d2480ee46fbb7e2d37f6b5fab8052498a"
   },
   "outputs": [],
   "source": [
    "import pandas as pd\n",
    "import numpy as np\n",
    "import matplotlib.pyplot as plt\n",
    "#!pip install pycaret\n",
    "from pycaret.classification import *\n",
    "#from pycaret.regression import *"
   ]
  },
  {
   "cell_type": "markdown",
   "metadata": {},
   "source": [
    "# Importing the data - only use *.MLReady.csv files!!!"
   ]
  },
  {
   "cell_type": "code",
   "execution_count": 2,
   "metadata": {
    "scrolled": true
   },
   "outputs": [
    {
     "data": {
      "text/html": [
       "<div>\n",
       "<style scoped>\n",
       "    .dataframe tbody tr th:only-of-type {\n",
       "        vertical-align: middle;\n",
       "    }\n",
       "\n",
       "    .dataframe tbody tr th {\n",
       "        vertical-align: top;\n",
       "    }\n",
       "\n",
       "    .dataframe thead th {\n",
       "        text-align: right;\n",
       "    }\n",
       "</style>\n",
       "<table border=\"1\" class=\"dataframe\">\n",
       "  <thead>\n",
       "    <tr style=\"text-align: right;\">\n",
       "      <th></th>\n",
       "      <th>Unnamed: 0</th>\n",
       "      <th>origChannel</th>\n",
       "      <th>origIntRate</th>\n",
       "      <th>origUPB</th>\n",
       "      <th>origLTV</th>\n",
       "      <th>numBorrowers</th>\n",
       "      <th>origDebtIncRatio</th>\n",
       "      <th>borrCreditScore</th>\n",
       "      <th>loanPurp</th>\n",
       "      <th>zipCode</th>\n",
       "      <th>...</th>\n",
       "      <th>fmacRateVolatility</th>\n",
       "      <th>fredRate</th>\n",
       "      <th>rateDiffAbove</th>\n",
       "      <th>rateDiffBelow</th>\n",
       "      <th>rateDiffAvg</th>\n",
       "      <th>rateDiffAbovePct</th>\n",
       "      <th>rateDiffBelowPct</th>\n",
       "      <th>rateDiffAvgPct</th>\n",
       "      <th>origYear</th>\n",
       "      <th>origMonth</th>\n",
       "    </tr>\n",
       "  </thead>\n",
       "  <tbody>\n",
       "    <tr>\n",
       "      <th>0</th>\n",
       "      <td>0</td>\n",
       "      <td>2</td>\n",
       "      <td>5.125</td>\n",
       "      <td>348000</td>\n",
       "      <td>87</td>\n",
       "      <td>1</td>\n",
       "      <td>50</td>\n",
       "      <td>689</td>\n",
       "      <td>2</td>\n",
       "      <td>51</td>\n",
       "      <td>...</td>\n",
       "      <td>0.041667</td>\n",
       "      <td>2.87</td>\n",
       "      <td>-0.125</td>\n",
       "      <td>-0.085</td>\n",
       "      <td>-0.005</td>\n",
       "      <td>-0.023810</td>\n",
       "      <td>-0.016865</td>\n",
       "      <td>-0.000975</td>\n",
       "      <td>2009</td>\n",
       "      <td>2</td>\n",
       "    </tr>\n",
       "    <tr>\n",
       "      <th>1</th>\n",
       "      <td>1</td>\n",
       "      <td>3</td>\n",
       "      <td>4.625</td>\n",
       "      <td>195000</td>\n",
       "      <td>52</td>\n",
       "      <td>2</td>\n",
       "      <td>54</td>\n",
       "      <td>703</td>\n",
       "      <td>1</td>\n",
       "      <td>82</td>\n",
       "      <td>...</td>\n",
       "      <td>0.041667</td>\n",
       "      <td>2.87</td>\n",
       "      <td>-0.625</td>\n",
       "      <td>0.415</td>\n",
       "      <td>-0.505</td>\n",
       "      <td>-0.119048</td>\n",
       "      <td>0.082341</td>\n",
       "      <td>-0.098441</td>\n",
       "      <td>2009</td>\n",
       "      <td>2</td>\n",
       "    </tr>\n",
       "    <tr>\n",
       "      <th>2</th>\n",
       "      <td>2</td>\n",
       "      <td>2</td>\n",
       "      <td>4.875</td>\n",
       "      <td>342000</td>\n",
       "      <td>80</td>\n",
       "      <td>1</td>\n",
       "      <td>54</td>\n",
       "      <td>746</td>\n",
       "      <td>1</td>\n",
       "      <td>981</td>\n",
       "      <td>...</td>\n",
       "      <td>0.041667</td>\n",
       "      <td>2.87</td>\n",
       "      <td>-0.375</td>\n",
       "      <td>0.165</td>\n",
       "      <td>-0.255</td>\n",
       "      <td>-0.071429</td>\n",
       "      <td>0.032738</td>\n",
       "      <td>-0.049708</td>\n",
       "      <td>2009</td>\n",
       "      <td>2</td>\n",
       "    </tr>\n",
       "    <tr>\n",
       "      <th>3</th>\n",
       "      <td>3</td>\n",
       "      <td>1</td>\n",
       "      <td>5.375</td>\n",
       "      <td>93000</td>\n",
       "      <td>70</td>\n",
       "      <td>1</td>\n",
       "      <td>50</td>\n",
       "      <td>780</td>\n",
       "      <td>1</td>\n",
       "      <td>496</td>\n",
       "      <td>...</td>\n",
       "      <td>0.041667</td>\n",
       "      <td>2.87</td>\n",
       "      <td>0.125</td>\n",
       "      <td>-0.335</td>\n",
       "      <td>0.245</td>\n",
       "      <td>0.023810</td>\n",
       "      <td>-0.066468</td>\n",
       "      <td>0.047758</td>\n",
       "      <td>2009</td>\n",
       "      <td>2</td>\n",
       "    </tr>\n",
       "    <tr>\n",
       "      <th>4</th>\n",
       "      <td>4</td>\n",
       "      <td>1</td>\n",
       "      <td>4.875</td>\n",
       "      <td>182000</td>\n",
       "      <td>76</td>\n",
       "      <td>2</td>\n",
       "      <td>22</td>\n",
       "      <td>802</td>\n",
       "      <td>1</td>\n",
       "      <td>18</td>\n",
       "      <td>...</td>\n",
       "      <td>0.041667</td>\n",
       "      <td>2.87</td>\n",
       "      <td>-0.375</td>\n",
       "      <td>0.165</td>\n",
       "      <td>-0.255</td>\n",
       "      <td>-0.071429</td>\n",
       "      <td>0.032738</td>\n",
       "      <td>-0.049708</td>\n",
       "      <td>2009</td>\n",
       "      <td>2</td>\n",
       "    </tr>\n",
       "  </tbody>\n",
       "</table>\n",
       "<p>5 rows × 32 columns</p>\n",
       "</div>"
      ],
      "text/plain": [
       "   Unnamed: 0  origChannel  origIntRate  origUPB  origLTV  numBorrowers  \\\n",
       "0           0            2        5.125   348000       87             1   \n",
       "1           1            3        4.625   195000       52             2   \n",
       "2           2            2        4.875   342000       80             1   \n",
       "3           3            1        5.375    93000       70             1   \n",
       "4           4            1        4.875   182000       76             2   \n",
       "\n",
       "   origDebtIncRatio  borrCreditScore  loanPurp  zipCode  ...  \\\n",
       "0                50              689         2       51  ...   \n",
       "1                54              703         1       82  ...   \n",
       "2                54              746         1      981  ...   \n",
       "3                50              780         1      496  ...   \n",
       "4                22              802         1       18  ...   \n",
       "\n",
       "   fmacRateVolatility  fredRate  rateDiffAbove  rateDiffBelow  rateDiffAvg  \\\n",
       "0            0.041667      2.87         -0.125         -0.085       -0.005   \n",
       "1            0.041667      2.87         -0.625          0.415       -0.505   \n",
       "2            0.041667      2.87         -0.375          0.165       -0.255   \n",
       "3            0.041667      2.87          0.125         -0.335        0.245   \n",
       "4            0.041667      2.87         -0.375          0.165       -0.255   \n",
       "\n",
       "   rateDiffAbovePct  rateDiffBelowPct  rateDiffAvgPct  origYear  origMonth  \n",
       "0         -0.023810         -0.016865       -0.000975      2009          2  \n",
       "1         -0.119048          0.082341       -0.098441      2009          2  \n",
       "2         -0.071429          0.032738       -0.049708      2009          2  \n",
       "3          0.023810         -0.066468        0.047758      2009          2  \n",
       "4         -0.071429          0.032738       -0.049708      2009          2  \n",
       "\n",
       "[5 rows x 32 columns]"
      ]
     },
     "execution_count": 2,
     "metadata": {},
     "output_type": "execute_result"
    }
   ],
   "source": [
    "df=pd.read_csv(\"../../data/FM_FULL_EPOCH2_MLReady.csv\")\n",
    "df.head()"
   ]
  },
  {
   "cell_type": "code",
   "execution_count": 3,
   "metadata": {},
   "outputs": [
    {
     "name": "stdout",
     "output_type": "stream",
     "text": [
      "<class 'pandas.core.frame.DataFrame'>\n",
      "RangeIndex: 119696 entries, 0 to 119695\n",
      "Data columns (total 32 columns):\n",
      "Unnamed: 0            119696 non-null int64\n",
      "origChannel           119696 non-null int64\n",
      "origIntRate           119696 non-null float64\n",
      "origUPB               119696 non-null int64\n",
      "origLTV               119696 non-null int64\n",
      "numBorrowers          119696 non-null int64\n",
      "origDebtIncRatio      119696 non-null int64\n",
      "borrCreditScore       119696 non-null int64\n",
      "loanPurp              119696 non-null int64\n",
      "zipCode               119696 non-null int64\n",
      "pMIperct              119696 non-null float64\n",
      "mortInsType           119696 non-null int64\n",
      "bestCreditScore       119696 non-null int64\n",
      "worstCreditScore      119696 non-null int64\n",
      "avgCreditScore        119696 non-null int64\n",
      "bankNumber            119696 non-null int64\n",
      "stateNumber           119696 non-null int64\n",
      "mSA                   119696 non-null int64\n",
      "zeroBalCode           119696 non-null int64\n",
      "fmacRateMax           119696 non-null float64\n",
      "fmacRateMin           119696 non-null float64\n",
      "fmacRateAvg           119696 non-null float64\n",
      "fmacRateVolatility    119696 non-null float64\n",
      "fredRate              119696 non-null float64\n",
      "rateDiffAbove         119696 non-null float64\n",
      "rateDiffBelow         119696 non-null float64\n",
      "rateDiffAvg           119696 non-null float64\n",
      "rateDiffAbovePct      119696 non-null float64\n",
      "rateDiffBelowPct      119696 non-null float64\n",
      "rateDiffAvgPct        119696 non-null float64\n",
      "origYear              119696 non-null int64\n",
      "origMonth             119696 non-null int64\n",
      "dtypes: float64(13), int64(19)\n",
      "memory usage: 29.2 MB\n"
     ]
    }
   ],
   "source": [
    "df.info()"
   ]
  },
  {
   "cell_type": "markdown",
   "metadata": {},
   "source": [
    "## Remove columns not involved in 'Foreclosure or Not' query"
   ]
  },
  {
   "cell_type": "code",
   "execution_count": 4,
   "metadata": {},
   "outputs": [],
   "source": [
    "df.drop(['Unnamed: 0'],1,inplace=True)"
   ]
  },
  {
   "cell_type": "code",
   "execution_count": 5,
   "metadata": {},
   "outputs": [
    {
     "name": "stdout",
     "output_type": "stream",
     "text": [
      "<class 'pandas.core.frame.DataFrame'>\n",
      "RangeIndex: 119696 entries, 0 to 119695\n",
      "Data columns (total 31 columns):\n",
      "origChannel           119696 non-null int64\n",
      "origIntRate           119696 non-null float64\n",
      "origUPB               119696 non-null int64\n",
      "origLTV               119696 non-null int64\n",
      "numBorrowers          119696 non-null int64\n",
      "origDebtIncRatio      119696 non-null int64\n",
      "borrCreditScore       119696 non-null int64\n",
      "loanPurp              119696 non-null int64\n",
      "zipCode               119696 non-null int64\n",
      "pMIperct              119696 non-null float64\n",
      "mortInsType           119696 non-null int64\n",
      "bestCreditScore       119696 non-null int64\n",
      "worstCreditScore      119696 non-null int64\n",
      "avgCreditScore        119696 non-null int64\n",
      "bankNumber            119696 non-null int64\n",
      "stateNumber           119696 non-null int64\n",
      "mSA                   119696 non-null int64\n",
      "zeroBalCode           119696 non-null int64\n",
      "fmacRateMax           119696 non-null float64\n",
      "fmacRateMin           119696 non-null float64\n",
      "fmacRateAvg           119696 non-null float64\n",
      "fmacRateVolatility    119696 non-null float64\n",
      "fredRate              119696 non-null float64\n",
      "rateDiffAbove         119696 non-null float64\n",
      "rateDiffBelow         119696 non-null float64\n",
      "rateDiffAvg           119696 non-null float64\n",
      "rateDiffAbovePct      119696 non-null float64\n",
      "rateDiffBelowPct      119696 non-null float64\n",
      "rateDiffAvgPct        119696 non-null float64\n",
      "origYear              119696 non-null int64\n",
      "origMonth             119696 non-null int64\n",
      "dtypes: float64(13), int64(18)\n",
      "memory usage: 28.3 MB\n"
     ]
    }
   ],
   "source": [
    "df.info()"
   ]
  },
  {
   "cell_type": "markdown",
   "metadata": {},
   "source": [
    "# Turn zero Balance Code Into binary \"0\" GOOD and \"1\" BAD"
   ]
  },
  {
   "cell_type": "code",
   "execution_count": 6,
   "metadata": {},
   "outputs": [
    {
     "data": {
      "text/plain": [
       "array([1, 0], dtype=int64)"
      ]
     },
     "execution_count": 6,
     "metadata": {},
     "output_type": "execute_result"
    }
   ],
   "source": [
    "df.zeroBalCode.unique()"
   ]
  },
  {
   "cell_type": "code",
   "execution_count": 7,
   "metadata": {},
   "outputs": [],
   "source": [
    "df['zeroBalCode'] = df.zeroBalCode.replace(1,0)\n",
    "df['zeroBalCode'] = df.zeroBalCode.replace([9,3,16,6,2,15],1)"
   ]
  },
  {
   "cell_type": "code",
   "execution_count": 8,
   "metadata": {},
   "outputs": [
    {
     "data": {
      "text/plain": [
       "array([0], dtype=int64)"
      ]
     },
     "execution_count": 8,
     "metadata": {},
     "output_type": "execute_result"
    }
   ],
   "source": [
    "df.zeroBalCode.unique()"
   ]
  },
  {
   "cell_type": "code",
   "execution_count": 9,
   "metadata": {
    "scrolled": false
   },
   "outputs": [
    {
     "name": "stdout",
     "output_type": "stream",
     "text": [
      "<class 'pandas.core.frame.DataFrame'>\n",
      "RangeIndex: 119696 entries, 0 to 119695\n",
      "Data columns (total 31 columns):\n",
      "origChannel           119696 non-null int64\n",
      "origIntRate           119696 non-null float64\n",
      "origUPB               119696 non-null int64\n",
      "origLTV               119696 non-null int64\n",
      "numBorrowers          119696 non-null int64\n",
      "origDebtIncRatio      119696 non-null int64\n",
      "borrCreditScore       119696 non-null int64\n",
      "loanPurp              119696 non-null int64\n",
      "zipCode               119696 non-null int64\n",
      "pMIperct              119696 non-null float64\n",
      "mortInsType           119696 non-null int64\n",
      "bestCreditScore       119696 non-null int64\n",
      "worstCreditScore      119696 non-null int64\n",
      "avgCreditScore        119696 non-null int64\n",
      "bankNumber            119696 non-null int64\n",
      "stateNumber           119696 non-null int64\n",
      "mSA                   119696 non-null int64\n",
      "zeroBalCode           119696 non-null int64\n",
      "fmacRateMax           119696 non-null float64\n",
      "fmacRateMin           119696 non-null float64\n",
      "fmacRateAvg           119696 non-null float64\n",
      "fmacRateVolatility    119696 non-null float64\n",
      "fredRate              119696 non-null float64\n",
      "rateDiffAbove         119696 non-null float64\n",
      "rateDiffBelow         119696 non-null float64\n",
      "rateDiffAvg           119696 non-null float64\n",
      "rateDiffAbovePct      119696 non-null float64\n",
      "rateDiffBelowPct      119696 non-null float64\n",
      "rateDiffAvgPct        119696 non-null float64\n",
      "origYear              119696 non-null int64\n",
      "origMonth             119696 non-null int64\n",
      "dtypes: float64(13), int64(18)\n",
      "memory usage: 28.3 MB\n"
     ]
    }
   ],
   "source": [
    "#Checking datatypes of individual feature\n",
    "df.info()"
   ]
  },
  {
   "cell_type": "markdown",
   "metadata": {},
   "source": [
    "# Review values for dates and slice (if needed) the timeframe you want"
   ]
  },
  {
   "cell_type": "code",
   "execution_count": 10,
   "metadata": {},
   "outputs": [
    {
     "data": {
      "text/plain": [
       "array([2009, 2010, 2011, 2012, 2013], dtype=int64)"
      ]
     },
     "execution_count": 10,
     "metadata": {},
     "output_type": "execute_result"
    }
   ],
   "source": [
    "df.origYear.unique()"
   ]
  },
  {
   "cell_type": "code",
   "execution_count": 11,
   "metadata": {},
   "outputs": [
    {
     "data": {
      "text/plain": [
       "array([ 2,  3,  5,  4,  6,  7,  8,  9, 10, 11, 12,  1], dtype=int64)"
      ]
     },
     "execution_count": 11,
     "metadata": {},
     "output_type": "execute_result"
    }
   ],
   "source": [
    "df['origMonth'].unique()"
   ]
  },
  {
   "cell_type": "markdown",
   "metadata": {},
   "source": [
    "# Coerce the column dtype (int in this case)"
   ]
  },
  {
   "cell_type": "code",
   "execution_count": 12,
   "metadata": {},
   "outputs": [],
   "source": [
    "df = df.astype({'origLTV':'int','numBorrowers':'int','origDebtIncRatio':'int',\\\n",
    "               'borrCreditScore':'int','mortInsType':'int','bestCreditScore':'int',\\\n",
    "               'worstCreditScore':'int','avgCreditScore':'int','zeroBalCode':'object'})\n",
    "#,'zeroBalCode':'int'"
   ]
  },
  {
   "cell_type": "code",
   "execution_count": 13,
   "metadata": {},
   "outputs": [
    {
     "name": "stdout",
     "output_type": "stream",
     "text": [
      "<class 'pandas.core.frame.DataFrame'>\n",
      "RangeIndex: 119696 entries, 0 to 119695\n",
      "Data columns (total 31 columns):\n",
      "origChannel           119696 non-null int64\n",
      "origIntRate           119696 non-null float64\n",
      "origUPB               119696 non-null int64\n",
      "origLTV               119696 non-null int32\n",
      "numBorrowers          119696 non-null int32\n",
      "origDebtIncRatio      119696 non-null int32\n",
      "borrCreditScore       119696 non-null int32\n",
      "loanPurp              119696 non-null int64\n",
      "zipCode               119696 non-null int64\n",
      "pMIperct              119696 non-null float64\n",
      "mortInsType           119696 non-null int32\n",
      "bestCreditScore       119696 non-null int32\n",
      "worstCreditScore      119696 non-null int32\n",
      "avgCreditScore        119696 non-null int32\n",
      "bankNumber            119696 non-null int64\n",
      "stateNumber           119696 non-null int64\n",
      "mSA                   119696 non-null int64\n",
      "zeroBalCode           119696 non-null object\n",
      "fmacRateMax           119696 non-null float64\n",
      "fmacRateMin           119696 non-null float64\n",
      "fmacRateAvg           119696 non-null float64\n",
      "fmacRateVolatility    119696 non-null float64\n",
      "fredRate              119696 non-null float64\n",
      "rateDiffAbove         119696 non-null float64\n",
      "rateDiffBelow         119696 non-null float64\n",
      "rateDiffAvg           119696 non-null float64\n",
      "rateDiffAbovePct      119696 non-null float64\n",
      "rateDiffBelowPct      119696 non-null float64\n",
      "rateDiffAvgPct        119696 non-null float64\n",
      "origYear              119696 non-null int64\n",
      "origMonth             119696 non-null int64\n",
      "dtypes: float64(13), int32(8), int64(9), object(1)\n",
      "memory usage: 24.7+ MB\n"
     ]
    }
   ],
   "source": [
    "df.info()"
   ]
  },
  {
   "cell_type": "code",
   "execution_count": 14,
   "metadata": {},
   "outputs": [],
   "source": [
    "#df.to_csv('D:\\FM_FULL_EPOCH2_MLReady.csv')"
   ]
  },
  {
   "cell_type": "markdown",
   "metadata": {},
   "source": [
    "# Review metrics last time before run (to have record of starting values)"
   ]
  },
  {
   "cell_type": "code",
   "execution_count": 15,
   "metadata": {},
   "outputs": [
    {
     "name": "stdout",
     "output_type": "stream",
     "text": [
      "<class 'pandas.core.frame.DataFrame'>\n",
      "RangeIndex: 119696 entries, 0 to 119695\n",
      "Data columns (total 31 columns):\n",
      "origChannel           119696 non-null int64\n",
      "origIntRate           119696 non-null float64\n",
      "origUPB               119696 non-null int64\n",
      "origLTV               119696 non-null int32\n",
      "numBorrowers          119696 non-null int32\n",
      "origDebtIncRatio      119696 non-null int32\n",
      "borrCreditScore       119696 non-null int32\n",
      "loanPurp              119696 non-null int64\n",
      "zipCode               119696 non-null int64\n",
      "pMIperct              119696 non-null float64\n",
      "mortInsType           119696 non-null int32\n",
      "bestCreditScore       119696 non-null int32\n",
      "worstCreditScore      119696 non-null int32\n",
      "avgCreditScore        119696 non-null int32\n",
      "bankNumber            119696 non-null int64\n",
      "stateNumber           119696 non-null int64\n",
      "mSA                   119696 non-null int64\n",
      "zeroBalCode           119696 non-null object\n",
      "fmacRateMax           119696 non-null float64\n",
      "fmacRateMin           119696 non-null float64\n",
      "fmacRateAvg           119696 non-null float64\n",
      "fmacRateVolatility    119696 non-null float64\n",
      "fredRate              119696 non-null float64\n",
      "rateDiffAbove         119696 non-null float64\n",
      "rateDiffBelow         119696 non-null float64\n",
      "rateDiffAvg           119696 non-null float64\n",
      "rateDiffAbovePct      119696 non-null float64\n",
      "rateDiffBelowPct      119696 non-null float64\n",
      "rateDiffAvgPct        119696 non-null float64\n",
      "origYear              119696 non-null int64\n",
      "origMonth             119696 non-null int64\n",
      "dtypes: float64(13), int32(8), int64(9), object(1)\n",
      "memory usage: 24.7+ MB\n"
     ]
    }
   ],
   "source": [
    "df.info()"
   ]
  },
  {
   "cell_type": "code",
   "execution_count": 16,
   "metadata": {},
   "outputs": [
    {
     "data": {
      "text/html": [
       "<div>\n",
       "<style scoped>\n",
       "    .dataframe tbody tr th:only-of-type {\n",
       "        vertical-align: middle;\n",
       "    }\n",
       "\n",
       "    .dataframe tbody tr th {\n",
       "        vertical-align: top;\n",
       "    }\n",
       "\n",
       "    .dataframe thead th {\n",
       "        text-align: right;\n",
       "    }\n",
       "</style>\n",
       "<table border=\"1\" class=\"dataframe\">\n",
       "  <thead>\n",
       "    <tr style=\"text-align: right;\">\n",
       "      <th></th>\n",
       "      <th>origChannel</th>\n",
       "      <th>origIntRate</th>\n",
       "      <th>origUPB</th>\n",
       "      <th>origLTV</th>\n",
       "      <th>numBorrowers</th>\n",
       "      <th>origDebtIncRatio</th>\n",
       "      <th>borrCreditScore</th>\n",
       "      <th>loanPurp</th>\n",
       "      <th>zipCode</th>\n",
       "      <th>pMIperct</th>\n",
       "      <th>...</th>\n",
       "      <th>fmacRateVolatility</th>\n",
       "      <th>fredRate</th>\n",
       "      <th>rateDiffAbove</th>\n",
       "      <th>rateDiffBelow</th>\n",
       "      <th>rateDiffAvg</th>\n",
       "      <th>rateDiffAbovePct</th>\n",
       "      <th>rateDiffBelowPct</th>\n",
       "      <th>rateDiffAvgPct</th>\n",
       "      <th>origYear</th>\n",
       "      <th>origMonth</th>\n",
       "    </tr>\n",
       "  </thead>\n",
       "  <tbody>\n",
       "    <tr>\n",
       "      <th>0</th>\n",
       "      <td>2</td>\n",
       "      <td>5.125</td>\n",
       "      <td>348000</td>\n",
       "      <td>87</td>\n",
       "      <td>1</td>\n",
       "      <td>50</td>\n",
       "      <td>689</td>\n",
       "      <td>2</td>\n",
       "      <td>51</td>\n",
       "      <td>25.0</td>\n",
       "      <td>...</td>\n",
       "      <td>0.041667</td>\n",
       "      <td>2.87</td>\n",
       "      <td>-0.125</td>\n",
       "      <td>-0.085</td>\n",
       "      <td>-0.005</td>\n",
       "      <td>-0.023810</td>\n",
       "      <td>-0.016865</td>\n",
       "      <td>-0.000975</td>\n",
       "      <td>2009</td>\n",
       "      <td>2</td>\n",
       "    </tr>\n",
       "    <tr>\n",
       "      <th>1</th>\n",
       "      <td>3</td>\n",
       "      <td>4.625</td>\n",
       "      <td>195000</td>\n",
       "      <td>52</td>\n",
       "      <td>2</td>\n",
       "      <td>54</td>\n",
       "      <td>703</td>\n",
       "      <td>1</td>\n",
       "      <td>82</td>\n",
       "      <td>0.0</td>\n",
       "      <td>...</td>\n",
       "      <td>0.041667</td>\n",
       "      <td>2.87</td>\n",
       "      <td>-0.625</td>\n",
       "      <td>0.415</td>\n",
       "      <td>-0.505</td>\n",
       "      <td>-0.119048</td>\n",
       "      <td>0.082341</td>\n",
       "      <td>-0.098441</td>\n",
       "      <td>2009</td>\n",
       "      <td>2</td>\n",
       "    </tr>\n",
       "    <tr>\n",
       "      <th>2</th>\n",
       "      <td>2</td>\n",
       "      <td>4.875</td>\n",
       "      <td>342000</td>\n",
       "      <td>80</td>\n",
       "      <td>1</td>\n",
       "      <td>54</td>\n",
       "      <td>746</td>\n",
       "      <td>1</td>\n",
       "      <td>981</td>\n",
       "      <td>0.0</td>\n",
       "      <td>...</td>\n",
       "      <td>0.041667</td>\n",
       "      <td>2.87</td>\n",
       "      <td>-0.375</td>\n",
       "      <td>0.165</td>\n",
       "      <td>-0.255</td>\n",
       "      <td>-0.071429</td>\n",
       "      <td>0.032738</td>\n",
       "      <td>-0.049708</td>\n",
       "      <td>2009</td>\n",
       "      <td>2</td>\n",
       "    </tr>\n",
       "    <tr>\n",
       "      <th>3</th>\n",
       "      <td>1</td>\n",
       "      <td>5.375</td>\n",
       "      <td>93000</td>\n",
       "      <td>70</td>\n",
       "      <td>1</td>\n",
       "      <td>50</td>\n",
       "      <td>780</td>\n",
       "      <td>1</td>\n",
       "      <td>496</td>\n",
       "      <td>0.0</td>\n",
       "      <td>...</td>\n",
       "      <td>0.041667</td>\n",
       "      <td>2.87</td>\n",
       "      <td>0.125</td>\n",
       "      <td>-0.335</td>\n",
       "      <td>0.245</td>\n",
       "      <td>0.023810</td>\n",
       "      <td>-0.066468</td>\n",
       "      <td>0.047758</td>\n",
       "      <td>2009</td>\n",
       "      <td>2</td>\n",
       "    </tr>\n",
       "    <tr>\n",
       "      <th>4</th>\n",
       "      <td>1</td>\n",
       "      <td>4.875</td>\n",
       "      <td>182000</td>\n",
       "      <td>76</td>\n",
       "      <td>2</td>\n",
       "      <td>22</td>\n",
       "      <td>802</td>\n",
       "      <td>1</td>\n",
       "      <td>18</td>\n",
       "      <td>0.0</td>\n",
       "      <td>...</td>\n",
       "      <td>0.041667</td>\n",
       "      <td>2.87</td>\n",
       "      <td>-0.375</td>\n",
       "      <td>0.165</td>\n",
       "      <td>-0.255</td>\n",
       "      <td>-0.071429</td>\n",
       "      <td>0.032738</td>\n",
       "      <td>-0.049708</td>\n",
       "      <td>2009</td>\n",
       "      <td>2</td>\n",
       "    </tr>\n",
       "  </tbody>\n",
       "</table>\n",
       "<p>5 rows × 31 columns</p>\n",
       "</div>"
      ],
      "text/plain": [
       "   origChannel  origIntRate  origUPB  origLTV  numBorrowers  origDebtIncRatio  \\\n",
       "0            2        5.125   348000       87             1                50   \n",
       "1            3        4.625   195000       52             2                54   \n",
       "2            2        4.875   342000       80             1                54   \n",
       "3            1        5.375    93000       70             1                50   \n",
       "4            1        4.875   182000       76             2                22   \n",
       "\n",
       "   borrCreditScore  loanPurp  zipCode  pMIperct  ...  fmacRateVolatility  \\\n",
       "0              689         2       51      25.0  ...            0.041667   \n",
       "1              703         1       82       0.0  ...            0.041667   \n",
       "2              746         1      981       0.0  ...            0.041667   \n",
       "3              780         1      496       0.0  ...            0.041667   \n",
       "4              802         1       18       0.0  ...            0.041667   \n",
       "\n",
       "   fredRate  rateDiffAbove  rateDiffBelow  rateDiffAvg  rateDiffAbovePct  \\\n",
       "0      2.87         -0.125         -0.085       -0.005         -0.023810   \n",
       "1      2.87         -0.625          0.415       -0.505         -0.119048   \n",
       "2      2.87         -0.375          0.165       -0.255         -0.071429   \n",
       "3      2.87          0.125         -0.335        0.245          0.023810   \n",
       "4      2.87         -0.375          0.165       -0.255         -0.071429   \n",
       "\n",
       "   rateDiffBelowPct rateDiffAvgPct  origYear  origMonth  \n",
       "0         -0.016865      -0.000975      2009          2  \n",
       "1          0.082341      -0.098441      2009          2  \n",
       "2          0.032738      -0.049708      2009          2  \n",
       "3         -0.066468       0.047758      2009          2  \n",
       "4          0.032738      -0.049708      2009          2  \n",
       "\n",
       "[5 rows x 31 columns]"
      ]
     },
     "execution_count": 16,
     "metadata": {},
     "output_type": "execute_result"
    }
   ],
   "source": [
    "df.head()"
   ]
  },
  {
   "cell_type": "code",
   "execution_count": 17,
   "metadata": {},
   "outputs": [
    {
     "data": {
      "application/vnd.jupyter.widget-view+json": {
       "model_id": "9dc8d811ee2541ddaea90ab5e5447604",
       "version_major": 2,
       "version_minor": 0
      },
      "text/plain": [
       "IntProgress(value=0, description='Processing: ', max=13)"
      ]
     },
     "metadata": {},
     "output_type": "display_data"
    },
    {
     "data": {
      "text/html": [
       "<div>\n",
       "<style scoped>\n",
       "    .dataframe tbody tr th:only-of-type {\n",
       "        vertical-align: middle;\n",
       "    }\n",
       "\n",
       "    .dataframe tbody tr th {\n",
       "        vertical-align: top;\n",
       "    }\n",
       "\n",
       "    .dataframe thead th {\n",
       "        text-align: right;\n",
       "    }\n",
       "</style>\n",
       "<table border=\"1\" class=\"dataframe\">\n",
       "  <thead>\n",
       "    <tr style=\"text-align: right;\">\n",
       "      <th></th>\n",
       "      <th></th>\n",
       "      <th></th>\n",
       "    </tr>\n",
       "    <tr>\n",
       "      <th></th>\n",
       "      <th></th>\n",
       "      <th></th>\n",
       "    </tr>\n",
       "  </thead>\n",
       "  <tbody>\n",
       "    <tr>\n",
       "      <th>Initiated</th>\n",
       "      <td>. . . . . . . . . . . . . . . . . .</td>\n",
       "      <td>10:52:45</td>\n",
       "    </tr>\n",
       "    <tr>\n",
       "      <th>Status</th>\n",
       "      <td>. . . . . . . . . . . . . . . . . .</td>\n",
       "      <td>Fitting Model on 10% sample</td>\n",
       "    </tr>\n",
       "    <tr>\n",
       "      <th>ETC</th>\n",
       "      <td>. . . . . . . . . . . . . . . . . .</td>\n",
       "      <td>Calculating ETC</td>\n",
       "    </tr>\n",
       "  </tbody>\n",
       "</table>\n",
       "</div>"
      ],
      "text/plain": [
       "                                                                           \n",
       "                                                                           \n",
       "Initiated  . . . . . . . . . . . . . . . . . .                     10:52:45\n",
       "Status     . . . . . . . . . . . . . . . . . .  Fitting Model on 10% sample\n",
       "ETC        . . . . . . . . . . . . . . . . . .              Calculating ETC"
      ]
     },
     "metadata": {},
     "output_type": "display_data"
    },
    {
     "data": {
      "text/html": [
       "        <script type=\"text/javascript\">\n",
       "        window.PlotlyConfig = {MathJaxConfig: 'local'};\n",
       "        if (window.MathJax) {MathJax.Hub.Config({SVG: {font: \"STIX-Web\"}});}\n",
       "        if (typeof require !== 'undefined') {\n",
       "        require.undef(\"plotly\");\n",
       "        requirejs.config({\n",
       "            paths: {\n",
       "                'plotly': ['https://cdn.plot.ly/plotly-latest.min']\n",
       "            }\n",
       "        });\n",
       "        require(['plotly'], function(Plotly) {\n",
       "            window._Plotly = Plotly;\n",
       "        });\n",
       "        }\n",
       "        </script>\n",
       "        "
      ]
     },
     "metadata": {},
     "output_type": "display_data"
    },
    {
     "data": {
      "application/vnd.jupyter.widget-view+json": {
       "model_id": "9dae0118353949e99896972170978ab3",
       "version_major": 2,
       "version_minor": 0
      },
      "text/plain": [
       "Text(value=\"Following data types have been inferred automatically, if they are correct press enter to continue…"
      ]
     },
     "metadata": {},
     "output_type": "display_data"
    },
    {
     "data": {
      "text/html": [
       "<div>\n",
       "<style scoped>\n",
       "    .dataframe tbody tr th:only-of-type {\n",
       "        vertical-align: middle;\n",
       "    }\n",
       "\n",
       "    .dataframe tbody tr th {\n",
       "        vertical-align: top;\n",
       "    }\n",
       "\n",
       "    .dataframe thead th {\n",
       "        text-align: right;\n",
       "    }\n",
       "</style>\n",
       "<table border=\"1\" class=\"dataframe\">\n",
       "  <thead>\n",
       "    <tr style=\"text-align: right;\">\n",
       "      <th></th>\n",
       "      <th>Data Type</th>\n",
       "    </tr>\n",
       "  </thead>\n",
       "  <tbody>\n",
       "    <tr>\n",
       "      <th>origChannel</th>\n",
       "      <td>Categorical</td>\n",
       "    </tr>\n",
       "    <tr>\n",
       "      <th>origIntRate</th>\n",
       "      <td>Numeric</td>\n",
       "    </tr>\n",
       "    <tr>\n",
       "      <th>origUPB</th>\n",
       "      <td>Numeric</td>\n",
       "    </tr>\n",
       "    <tr>\n",
       "      <th>origLTV</th>\n",
       "      <td>Numeric</td>\n",
       "    </tr>\n",
       "    <tr>\n",
       "      <th>numBorrowers</th>\n",
       "      <td>Categorical</td>\n",
       "    </tr>\n",
       "    <tr>\n",
       "      <th>origDebtIncRatio</th>\n",
       "      <td>Numeric</td>\n",
       "    </tr>\n",
       "    <tr>\n",
       "      <th>borrCreditScore</th>\n",
       "      <td>Numeric</td>\n",
       "    </tr>\n",
       "    <tr>\n",
       "      <th>loanPurp</th>\n",
       "      <td>Categorical</td>\n",
       "    </tr>\n",
       "    <tr>\n",
       "      <th>zipCode</th>\n",
       "      <td>Categorical</td>\n",
       "    </tr>\n",
       "    <tr>\n",
       "      <th>pMIperct</th>\n",
       "      <td>Numeric</td>\n",
       "    </tr>\n",
       "    <tr>\n",
       "      <th>mortInsType</th>\n",
       "      <td>Categorical</td>\n",
       "    </tr>\n",
       "    <tr>\n",
       "      <th>bestCreditScore</th>\n",
       "      <td>Numeric</td>\n",
       "    </tr>\n",
       "    <tr>\n",
       "      <th>worstCreditScore</th>\n",
       "      <td>Numeric</td>\n",
       "    </tr>\n",
       "    <tr>\n",
       "      <th>avgCreditScore</th>\n",
       "      <td>Numeric</td>\n",
       "    </tr>\n",
       "    <tr>\n",
       "      <th>bankNumber</th>\n",
       "      <td>Categorical</td>\n",
       "    </tr>\n",
       "    <tr>\n",
       "      <th>stateNumber</th>\n",
       "      <td>Categorical</td>\n",
       "    </tr>\n",
       "    <tr>\n",
       "      <th>mSA</th>\n",
       "      <td>Numeric</td>\n",
       "    </tr>\n",
       "    <tr>\n",
       "      <th>zeroBalCode</th>\n",
       "      <td>Label</td>\n",
       "    </tr>\n",
       "    <tr>\n",
       "      <th>fmacRateMax</th>\n",
       "      <td>Numeric</td>\n",
       "    </tr>\n",
       "    <tr>\n",
       "      <th>fmacRateMin</th>\n",
       "      <td>Numeric</td>\n",
       "    </tr>\n",
       "    <tr>\n",
       "      <th>fmacRateAvg</th>\n",
       "      <td>Numeric</td>\n",
       "    </tr>\n",
       "    <tr>\n",
       "      <th>fmacRateVolatility</th>\n",
       "      <td>Numeric</td>\n",
       "    </tr>\n",
       "    <tr>\n",
       "      <th>fredRate</th>\n",
       "      <td>Numeric</td>\n",
       "    </tr>\n",
       "    <tr>\n",
       "      <th>rateDiffAbove</th>\n",
       "      <td>Numeric</td>\n",
       "    </tr>\n",
       "    <tr>\n",
       "      <th>rateDiffBelow</th>\n",
       "      <td>Numeric</td>\n",
       "    </tr>\n",
       "    <tr>\n",
       "      <th>rateDiffAvg</th>\n",
       "      <td>Numeric</td>\n",
       "    </tr>\n",
       "    <tr>\n",
       "      <th>rateDiffAbovePct</th>\n",
       "      <td>Numeric</td>\n",
       "    </tr>\n",
       "    <tr>\n",
       "      <th>rateDiffBelowPct</th>\n",
       "      <td>Numeric</td>\n",
       "    </tr>\n",
       "    <tr>\n",
       "      <th>rateDiffAvgPct</th>\n",
       "      <td>Numeric</td>\n",
       "    </tr>\n",
       "    <tr>\n",
       "      <th>origYear</th>\n",
       "      <td>Date</td>\n",
       "    </tr>\n",
       "    <tr>\n",
       "      <th>origMonth</th>\n",
       "      <td>Categorical</td>\n",
       "    </tr>\n",
       "  </tbody>\n",
       "</table>\n",
       "</div>"
      ],
      "text/plain": [
       "                      Data Type\n",
       "origChannel         Categorical\n",
       "origIntRate             Numeric\n",
       "origUPB                 Numeric\n",
       "origLTV                 Numeric\n",
       "numBorrowers        Categorical\n",
       "origDebtIncRatio        Numeric\n",
       "borrCreditScore         Numeric\n",
       "loanPurp            Categorical\n",
       "zipCode             Categorical\n",
       "pMIperct                Numeric\n",
       "mortInsType         Categorical\n",
       "bestCreditScore         Numeric\n",
       "worstCreditScore        Numeric\n",
       "avgCreditScore          Numeric\n",
       "bankNumber          Categorical\n",
       "stateNumber         Categorical\n",
       "mSA                     Numeric\n",
       "zeroBalCode               Label\n",
       "fmacRateMax             Numeric\n",
       "fmacRateMin             Numeric\n",
       "fmacRateAvg             Numeric\n",
       "fmacRateVolatility      Numeric\n",
       "fredRate                Numeric\n",
       "rateDiffAbove           Numeric\n",
       "rateDiffBelow           Numeric\n",
       "rateDiffAvg             Numeric\n",
       "rateDiffAbovePct        Numeric\n",
       "rateDiffBelowPct        Numeric\n",
       "rateDiffAvgPct          Numeric\n",
       "origYear                   Date\n",
       "origMonth           Categorical"
      ]
     },
     "metadata": {},
     "output_type": "display_data"
    },
    {
     "name": "stdout",
     "output_type": "stream",
     "text": [
      "\n"
     ]
    },
    {
     "ename": "ValueError",
     "evalue": "This solver needs samples of at least 2 classes in the data, but the data contains only one class: 0",
     "output_type": "error",
     "traceback": [
      "\u001b[1;31m---------------------------------------------------------------------------\u001b[0m",
      "\u001b[1;31mValueError\u001b[0m                                Traceback (most recent call last)",
      "\u001b[1;32m<ipython-input-17-48a2d98a67f3>\u001b[0m in \u001b[0;36m<module>\u001b[1;34m\u001b[0m\n\u001b[0;32m      3\u001b[0m                                     'stateNumber'],\n\u001b[0;32m      4\u001b[0m             numeric_features = ['origLTV', 'origDebtIncRatio', 'borrCreditScore', 'bestCreditScore', 'worstCreditScore',\n\u001b[1;32m----> 5\u001b[1;33m                                'avgCreditScore'])\n\u001b[0m",
      "\u001b[1;32m~\\Anaconda3\\lib\\site-packages\\pycaret\\classification.py\u001b[0m in \u001b[0;36msetup\u001b[1;34m(data, target, train_size, sampling, sample_estimator, categorical_features, categorical_imputation, ordinal_features, high_cardinality_features, high_cardinality_method, numeric_features, numeric_imputation, date_features, ignore_features, normalize, normalize_method, transformation, transformation_method, handle_unknown_categorical, unknown_categorical_method, pca, pca_method, pca_components, ignore_low_variance, combine_rare_levels, rare_level_threshold, bin_numeric_features, remove_outliers, outliers_threshold, remove_multicollinearity, multicollinearity_threshold, create_clusters, cluster_iter, polynomial_features, polynomial_degree, trigonometry_features, polynomial_threshold, group_features, group_names, feature_selection, feature_selection_threshold, feature_interaction, feature_ratio, interaction_threshold, session_id, silent, profile)\u001b[0m\n\u001b[0;32m   1133\u001b[0m             \u001b[0mX_\u001b[0m\u001b[1;33m,\u001b[0m \u001b[0mX__\u001b[0m\u001b[1;33m,\u001b[0m \u001b[0my_\u001b[0m\u001b[1;33m,\u001b[0m \u001b[0my__\u001b[0m \u001b[1;33m=\u001b[0m \u001b[0mtrain_test_split\u001b[0m\u001b[1;33m(\u001b[0m\u001b[0mX\u001b[0m\u001b[1;33m,\u001b[0m \u001b[0my\u001b[0m\u001b[1;33m,\u001b[0m \u001b[0mtest_size\u001b[0m\u001b[1;33m=\u001b[0m\u001b[1;36m1\u001b[0m\u001b[1;33m-\u001b[0m\u001b[0mi\u001b[0m\u001b[1;33m,\u001b[0m \u001b[0mstratify\u001b[0m\u001b[1;33m=\u001b[0m\u001b[0my\u001b[0m\u001b[1;33m,\u001b[0m \u001b[0mrandom_state\u001b[0m\u001b[1;33m=\u001b[0m\u001b[0mseed\u001b[0m\u001b[1;33m)\u001b[0m\u001b[1;33m\u001b[0m\u001b[1;33m\u001b[0m\u001b[0m\n\u001b[0;32m   1134\u001b[0m             \u001b[0mX_train\u001b[0m\u001b[1;33m,\u001b[0m \u001b[0mX_test\u001b[0m\u001b[1;33m,\u001b[0m \u001b[0my_train\u001b[0m\u001b[1;33m,\u001b[0m \u001b[0my_test\u001b[0m \u001b[1;33m=\u001b[0m \u001b[0mtrain_test_split\u001b[0m\u001b[1;33m(\u001b[0m\u001b[0mX_\u001b[0m\u001b[1;33m,\u001b[0m \u001b[0my_\u001b[0m\u001b[1;33m,\u001b[0m \u001b[0mtest_size\u001b[0m\u001b[1;33m=\u001b[0m\u001b[1;36m0.3\u001b[0m\u001b[1;33m,\u001b[0m \u001b[0mstratify\u001b[0m\u001b[1;33m=\u001b[0m\u001b[0my_\u001b[0m\u001b[1;33m,\u001b[0m \u001b[0mrandom_state\u001b[0m\u001b[1;33m=\u001b[0m\u001b[0mseed\u001b[0m\u001b[1;33m)\u001b[0m\u001b[1;33m\u001b[0m\u001b[1;33m\u001b[0m\u001b[0m\n\u001b[1;32m-> 1135\u001b[1;33m             \u001b[0mmodel\u001b[0m\u001b[1;33m.\u001b[0m\u001b[0mfit\u001b[0m\u001b[1;33m(\u001b[0m\u001b[0mX_train\u001b[0m\u001b[1;33m,\u001b[0m\u001b[0my_train\u001b[0m\u001b[1;33m)\u001b[0m\u001b[1;33m\u001b[0m\u001b[1;33m\u001b[0m\u001b[0m\n\u001b[0m\u001b[0;32m   1136\u001b[0m             \u001b[0mpred_\u001b[0m \u001b[1;33m=\u001b[0m \u001b[0mmodel\u001b[0m\u001b[1;33m.\u001b[0m\u001b[0mpredict\u001b[0m\u001b[1;33m(\u001b[0m\u001b[0mX_test\u001b[0m\u001b[1;33m)\u001b[0m\u001b[1;33m\u001b[0m\u001b[1;33m\u001b[0m\u001b[0m\n\u001b[0;32m   1137\u001b[0m             \u001b[1;32mtry\u001b[0m\u001b[1;33m:\u001b[0m\u001b[1;33m\u001b[0m\u001b[1;33m\u001b[0m\u001b[0m\n",
      "\u001b[1;32m~\\Anaconda3\\lib\\site-packages\\sklearn\\linear_model\\_logistic.py\u001b[0m in \u001b[0;36mfit\u001b[1;34m(self, X, y, sample_weight)\u001b[0m\n\u001b[0;32m   1554\u001b[0m             raise ValueError(\"This solver needs samples of at least 2 classes\"\n\u001b[0;32m   1555\u001b[0m                              \u001b[1;34m\" in the data, but the data contains only one\"\u001b[0m\u001b[1;33m\u001b[0m\u001b[1;33m\u001b[0m\u001b[0m\n\u001b[1;32m-> 1556\u001b[1;33m                              \" class: %r\" % classes_[0])\n\u001b[0m\u001b[0;32m   1557\u001b[0m \u001b[1;33m\u001b[0m\u001b[0m\n\u001b[0;32m   1558\u001b[0m         \u001b[1;32mif\u001b[0m \u001b[0mlen\u001b[0m\u001b[1;33m(\u001b[0m\u001b[0mself\u001b[0m\u001b[1;33m.\u001b[0m\u001b[0mclasses_\u001b[0m\u001b[1;33m)\u001b[0m \u001b[1;33m==\u001b[0m \u001b[1;36m2\u001b[0m\u001b[1;33m:\u001b[0m\u001b[1;33m\u001b[0m\u001b[1;33m\u001b[0m\u001b[0m\n",
      "\u001b[1;31mValueError\u001b[0m: This solver needs samples of at least 2 classes in the data, but the data contains only one class: 0"
     ]
    }
   ],
   "source": [
    "model_setup = setup(df, target = 'zeroBalCode', pca = True, pca_components = 5, ignore_low_variance = True, \n",
    "            categorical_features = ['numBorrowers', 'mortInsType', 'zipCode', 'bankNumber',\n",
    "                                    'stateNumber'],\n",
    "            numeric_features = ['origLTV', 'origDebtIncRatio', 'borrCreditScore', 'bestCreditScore', 'worstCreditScore',\n",
    "                               'avgCreditScore'])"
   ]
  },
  {
   "cell_type": "markdown",
   "metadata": {},
   "source": [
    "# Pycaret - Setup with categorical definition"
   ]
  },
  {
   "cell_type": "markdown",
   "metadata": {},
   "source": [
    "### Use feature engineering, polynomial features, trig feats, PCA"
   ]
  },
  {
   "cell_type": "markdown",
   "metadata": {},
   "source": [
    "### Use feature engineering, polynomial features, trig feats"
   ]
  },
  {
   "cell_type": "markdown",
   "metadata": {},
   "source": [
    "## Compare Models with blacklist exclusions"
   ]
  },
  {
   "cell_type": "code",
   "execution_count": null,
   "metadata": {
    "scrolled": false
   },
   "outputs": [],
   "source": [
    "model_results=compare_models()\n",
    "model_results"
   ]
  },
  {
   "cell_type": "markdown",
   "metadata": {},
   "source": [
    "## Create models - store in variable"
   ]
  },
  {
   "cell_type": "code",
   "execution_count": null,
   "metadata": {},
   "outputs": [],
   "source": [
    "cat = create_model('catboost', fold = 10)"
   ]
  },
  {
   "cell_type": "markdown",
   "metadata": {},
   "source": [
    "## Tune Models"
   ]
  },
  {
   "cell_type": "code",
   "execution_count": null,
   "metadata": {},
   "outputs": [],
   "source": [
    "tuned_cat = tune_model('catboost')"
   ]
  },
  {
   "cell_type": "markdown",
   "metadata": {},
   "source": [
    "## Ensemble models"
   ]
  },
  {
   "cell_type": "code",
   "execution_count": null,
   "metadata": {},
   "outputs": [],
   "source": [
    "cat_bagged = ensemble_model(cat)"
   ]
  },
  {
   "cell_type": "markdown",
   "metadata": {},
   "source": [
    "## Evaluate Models"
   ]
  },
  {
   "cell_type": "code",
   "execution_count": null,
   "metadata": {},
   "outputs": [],
   "source": [
    "interpret_model(estimator=cat, plot='correlation')"
   ]
  },
  {
   "cell_type": "code",
   "execution_count": null,
   "metadata": {},
   "outputs": [],
   "source": [
    "interpret_model(estimator=cat, plot='summary')"
   ]
  },
  {
   "cell_type": "code",
   "execution_count": null,
   "metadata": {},
   "outputs": [],
   "source": []
  },
  {
   "cell_type": "code",
   "execution_count": null,
   "metadata": {},
   "outputs": [],
   "source": []
  },
  {
   "cell_type": "code",
   "execution_count": null,
   "metadata": {},
   "outputs": [],
   "source": []
  },
  {
   "cell_type": "code",
   "execution_count": null,
   "metadata": {},
   "outputs": [],
   "source": []
  },
  {
   "cell_type": "code",
   "execution_count": null,
   "metadata": {},
   "outputs": [],
   "source": []
  },
  {
   "cell_type": "code",
   "execution_count": null,
   "metadata": {
    "scrolled": true
   },
   "outputs": [],
   "source": []
  },
  {
   "cell_type": "code",
   "execution_count": null,
   "metadata": {
    "scrolled": false
   },
   "outputs": [],
   "source": []
  },
  {
   "cell_type": "code",
   "execution_count": null,
   "metadata": {},
   "outputs": [],
   "source": [
    "\n"
   ]
  }
 ],
 "metadata": {
  "kernelspec": {
   "display_name": "Python 3",
   "language": "python",
   "name": "python3"
  },
  "language_info": {
   "codemirror_mode": {
    "name": "ipython",
    "version": 3
   },
   "file_extension": ".py",
   "mimetype": "text/x-python",
   "name": "python",
   "nbconvert_exporter": "python",
   "pygments_lexer": "ipython3",
   "version": "3.7.3"
  }
 },
 "nbformat": 4,
 "nbformat_minor": 4
}
